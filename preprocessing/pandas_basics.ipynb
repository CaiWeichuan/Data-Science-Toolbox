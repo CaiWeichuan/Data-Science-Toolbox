{
 "cells": [
  {
   "cell_type": "code",
   "execution_count": 1,
   "metadata": {},
   "outputs": [],
   "source": [
    "import numpy as np\n",
    "import pandas as pd"
   ]
  },
  {
   "cell_type": "markdown",
   "metadata": {},
   "source": [
    "### Read Data"
   ]
  },
  {
   "cell_type": "code",
   "execution_count": 2,
   "metadata": {},
   "outputs": [
    {
     "data": {
      "text/html": [
       "<div>\n",
       "<table border=\"1\" class=\"dataframe\">\n",
       "  <thead>\n",
       "    <tr style=\"text-align: right;\">\n",
       "      <th></th>\n",
       "      <th>date</th>\n",
       "      <th>maxpressurem</th>\n",
       "      <th>maxdewptm</th>\n",
       "      <th>maxpressurei</th>\n",
       "      <th>maxdewpti</th>\n",
       "      <th>since1julheatingdegreedaysnormal</th>\n",
       "      <th>heatingdegreedaysnormal</th>\n",
       "      <th>since1sepcoolingdegreedaysnormal</th>\n",
       "      <th>hail</th>\n",
       "      <th>since1julsnowfallm</th>\n",
       "      <th>...</th>\n",
       "      <th>precipi</th>\n",
       "      <th>snowfalli</th>\n",
       "      <th>since1jancoolingdegreedaysnormal</th>\n",
       "      <th>precipm</th>\n",
       "      <th>snowfallm</th>\n",
       "      <th>thunder</th>\n",
       "      <th>monthtodateheatingdegreedays</th>\n",
       "      <th>meantempi</th>\n",
       "      <th>maxvism</th>\n",
       "      <th>meantempm</th>\n",
       "    </tr>\n",
       "  </thead>\n",
       "  <tbody>\n",
       "    <tr>\n",
       "      <th>0</th>\n",
       "      <td>2011-05-01</td>\n",
       "      <td>1026</td>\n",
       "      <td>6</td>\n",
       "      <td>30.31</td>\n",
       "      <td>42</td>\n",
       "      <td>4646</td>\n",
       "      <td>8</td>\n",
       "      <td>NaN</td>\n",
       "      <td>0</td>\n",
       "      <td>157.23</td>\n",
       "      <td>...</td>\n",
       "      <td>0.0</td>\n",
       "      <td>0.0</td>\n",
       "      <td>13</td>\n",
       "      <td>0.0</td>\n",
       "      <td>0.0</td>\n",
       "      <td>0</td>\n",
       "      <td>5</td>\n",
       "      <td>60</td>\n",
       "      <td>16</td>\n",
       "      <td>16</td>\n",
       "    </tr>\n",
       "    <tr>\n",
       "      <th>1</th>\n",
       "      <td>2011-05-02</td>\n",
       "      <td>1026</td>\n",
       "      <td>10</td>\n",
       "      <td>30.31</td>\n",
       "      <td>50</td>\n",
       "      <td>4653</td>\n",
       "      <td>7</td>\n",
       "      <td>NaN</td>\n",
       "      <td>0</td>\n",
       "      <td>157.23</td>\n",
       "      <td>...</td>\n",
       "      <td>0.0</td>\n",
       "      <td>0.0</td>\n",
       "      <td>14</td>\n",
       "      <td>0.0</td>\n",
       "      <td>0.0</td>\n",
       "      <td>0</td>\n",
       "      <td>13</td>\n",
       "      <td>57</td>\n",
       "      <td>16</td>\n",
       "      <td>14</td>\n",
       "    </tr>\n",
       "  </tbody>\n",
       "</table>\n",
       "<p>2 rows × 70 columns</p>\n",
       "</div>"
      ],
      "text/plain": [
       "         date  maxpressurem  maxdewptm  maxpressurei  maxdewpti  \\\n",
       "0  2011-05-01          1026          6         30.31         42   \n",
       "1  2011-05-02          1026         10         30.31         50   \n",
       "\n",
       "   since1julheatingdegreedaysnormal  heatingdegreedaysnormal  \\\n",
       "0                              4646                        8   \n",
       "1                              4653                        7   \n",
       "\n",
       "   since1sepcoolingdegreedaysnormal  hail  since1julsnowfallm    ...      \\\n",
       "0                               NaN     0              157.23    ...       \n",
       "1                               NaN     0              157.23    ...       \n",
       "\n",
       "   precipi  snowfalli  since1jancoolingdegreedaysnormal  precipm  snowfallm  \\\n",
       "0      0.0        0.0                                13      0.0        0.0   \n",
       "1      0.0        0.0                                14      0.0        0.0   \n",
       "\n",
       "   thunder  monthtodateheatingdegreedays  meantempi  maxvism  meantempm  \n",
       "0        0                             5         60       16         16  \n",
       "1        0                            13         57       16         14  \n",
       "\n",
       "[2 rows x 70 columns]"
      ]
     },
     "execution_count": 2,
     "metadata": {},
     "output_type": "execute_result"
    }
   ],
   "source": [
    "# read a small number of rows\n",
    "df = pd.read_csv(\"datasets/weather_underground.csv\", nrows=2)\n",
    "df"
   ]
  },
  {
   "cell_type": "code",
   "execution_count": 3,
   "metadata": {},
   "outputs": [
    {
     "data": {
      "text/plain": [
       "['date', 'maxpressurem', 'maxdewptm', 'maxpressurei']"
      ]
     },
     "execution_count": 3,
     "metadata": {},
     "output_type": "execute_result"
    }
   ],
   "source": [
    "# take a subset of columns\n",
    "cols = df.columns.tolist()\n",
    "cols[:4]"
   ]
  },
  {
   "cell_type": "code",
   "execution_count": 4,
   "metadata": {},
   "outputs": [
    {
     "data": {
      "text/html": [
       "<div>\n",
       "<table border=\"1\" class=\"dataframe\">\n",
       "  <thead>\n",
       "    <tr style=\"text-align: right;\">\n",
       "      <th></th>\n",
       "      <th>date</th>\n",
       "      <th>maxpressurem</th>\n",
       "      <th>maxdewptm</th>\n",
       "      <th>maxpressurei</th>\n",
       "    </tr>\n",
       "  </thead>\n",
       "  <tbody>\n",
       "    <tr>\n",
       "      <th>0</th>\n",
       "      <td>2011-05-01</td>\n",
       "      <td>1026</td>\n",
       "      <td>6.0</td>\n",
       "      <td>30.31</td>\n",
       "    </tr>\n",
       "    <tr>\n",
       "      <th>1</th>\n",
       "      <td>2011-05-02</td>\n",
       "      <td>1026</td>\n",
       "      <td>10.0</td>\n",
       "      <td>30.31</td>\n",
       "    </tr>\n",
       "  </tbody>\n",
       "</table>\n",
       "</div>"
      ],
      "text/plain": [
       "         date  maxpressurem  maxdewptm  maxpressurei\n",
       "0  2011-05-01          1026        6.0         30.31\n",
       "1  2011-05-02          1026       10.0         30.31"
      ]
     },
     "execution_count": 4,
     "metadata": {},
     "output_type": "execute_result"
    }
   ],
   "source": [
    "# read selected columns, limited rows, and cast data types\n",
    "dtype = {'date' : str, 'maxpressurem': int, 'maxdewptm': float, 'maxpressurei': float}\n",
    "df = pd.read_csv(\"datasets/weather_underground.csv\", nrows=2, usecols=cols[:4], dtype=dtype)\n",
    "df"
   ]
  },
  {
   "cell_type": "code",
   "execution_count": 5,
   "metadata": {},
   "outputs": [
    {
     "data": {
      "text/plain": [
       "0     6.0\n",
       "1    10.0\n",
       "Name: maxdewptm, dtype: float64"
      ]
     },
     "execution_count": 5,
     "metadata": {},
     "output_type": "execute_result"
    }
   ],
   "source": [
    "# check data type has been properly casted\n",
    "df.maxdewptm"
   ]
  },
  {
   "cell_type": "markdown",
   "metadata": {},
   "source": [
    "### Data Wrangling"
   ]
  },
  {
   "cell_type": "code",
   "execution_count": 6,
   "metadata": {},
   "outputs": [
    {
     "data": {
      "text/html": [
       "<div>\n",
       "<table border=\"1\" class=\"dataframe\">\n",
       "  <thead>\n",
       "    <tr style=\"text-align: right;\">\n",
       "      <th></th>\n",
       "      <th>date</th>\n",
       "      <th>maxpressurem</th>\n",
       "    </tr>\n",
       "  </thead>\n",
       "  <tbody>\n",
       "    <tr>\n",
       "      <th>0</th>\n",
       "      <td>2011-05-01</td>\n",
       "      <td>1026</td>\n",
       "    </tr>\n",
       "    <tr>\n",
       "      <th>1</th>\n",
       "      <td>2011-05-02</td>\n",
       "      <td>1026</td>\n",
       "    </tr>\n",
       "  </tbody>\n",
       "</table>\n",
       "</div>"
      ],
      "text/plain": [
       "         date  maxpressurem\n",
       "0  2011-05-01          1026\n",
       "1  2011-05-02          1026"
      ]
     },
     "execution_count": 6,
     "metadata": {},
     "output_type": "execute_result"
    }
   ],
   "source": [
    "# select subset of columns by data types\n",
    "df.select_dtypes(include=['object', 'int'])"
   ]
  },
  {
   "cell_type": "code",
   "execution_count": 7,
   "metadata": {},
   "outputs": [
    {
     "data": {
      "text/html": [
       "<div>\n",
       "<table border=\"1\" class=\"dataframe\">\n",
       "  <thead>\n",
       "    <tr style=\"text-align: right;\">\n",
       "      <th></th>\n",
       "      <th>date</th>\n",
       "      <th>maxpressurem</th>\n",
       "      <th>maxdewptm</th>\n",
       "      <th>maxpressurei</th>\n",
       "      <th>cat_level</th>\n",
       "    </tr>\n",
       "  </thead>\n",
       "  <tbody>\n",
       "    <tr>\n",
       "      <th>0</th>\n",
       "      <td>2011-05-01</td>\n",
       "      <td>1026</td>\n",
       "      <td>6.0</td>\n",
       "      <td>30.31</td>\n",
       "      <td>day 1</td>\n",
       "    </tr>\n",
       "    <tr>\n",
       "      <th>1</th>\n",
       "      <td>2011-05-02</td>\n",
       "      <td>1026</td>\n",
       "      <td>10.0</td>\n",
       "      <td>30.31</td>\n",
       "      <td>day 2</td>\n",
       "    </tr>\n",
       "  </tbody>\n",
       "</table>\n",
       "</div>"
      ],
      "text/plain": [
       "         date  maxpressurem  maxdewptm  maxpressurei cat_level\n",
       "0  2011-05-01          1026        6.0         30.31     day 1\n",
       "1  2011-05-02          1026       10.0         30.31     day 2"
      ]
     },
     "execution_count": 7,
     "metadata": {},
     "output_type": "execute_result"
    }
   ],
   "source": [
    "# map categorical variables\n",
    "level_map = {'2011-05-01': 'day 1', '2011-05-02': 'day 2'}\n",
    "df['cat_level'] = df['date'].map(level_map)\n",
    "df"
   ]
  },
  {
   "cell_type": "code",
   "execution_count": 8,
   "metadata": {},
   "outputs": [
    {
     "data": {
      "text/html": [
       "<div>\n",
       "<table border=\"1\" class=\"dataframe\">\n",
       "  <thead>\n",
       "    <tr style=\"text-align: right;\">\n",
       "      <th></th>\n",
       "      <th>date</th>\n",
       "      <th>maxpressurem</th>\n",
       "      <th>maxdewptm</th>\n",
       "      <th>maxpressurei</th>\n",
       "      <th>cat_level</th>\n",
       "      <th>cut_level</th>\n",
       "    </tr>\n",
       "  </thead>\n",
       "  <tbody>\n",
       "    <tr>\n",
       "      <th>0</th>\n",
       "      <td>2011-05-01</td>\n",
       "      <td>1026</td>\n",
       "      <td>6.0</td>\n",
       "      <td>30.31</td>\n",
       "      <td>day 1</td>\n",
       "      <td>low</td>\n",
       "    </tr>\n",
       "    <tr>\n",
       "      <th>1</th>\n",
       "      <td>2011-05-02</td>\n",
       "      <td>1026</td>\n",
       "      <td>10.0</td>\n",
       "      <td>30.31</td>\n",
       "      <td>day 2</td>\n",
       "      <td>high</td>\n",
       "    </tr>\n",
       "  </tbody>\n",
       "</table>\n",
       "</div>"
      ],
      "text/plain": [
       "         date  maxpressurem  maxdewptm  maxpressurei cat_level cut_level\n",
       "0  2011-05-01          1026        6.0         30.31     day 1       low\n",
       "1  2011-05-02          1026       10.0         30.31     day 2      high"
      ]
     },
     "execution_count": 8,
     "metadata": {},
     "output_type": "execute_result"
    }
   ],
   "source": [
    "# map numeric variables\n",
    "def rule(x):\n",
    "    if x < 7: return 'low'\n",
    "    return 'high'\n",
    "\n",
    "df['cut_level'] = df.apply(lambda x: rule(x['maxdewptm']), axis =  1)\n",
    "df"
   ]
  },
  {
   "cell_type": "code",
   "execution_count": 9,
   "metadata": {},
   "outputs": [
    {
     "data": {
      "text/html": [
       "<div>\n",
       "<table border=\"1\" class=\"dataframe\">\n",
       "  <thead>\n",
       "    <tr style=\"text-align: right;\">\n",
       "      <th></th>\n",
       "      <th>date</th>\n",
       "      <th>maxpressurem</th>\n",
       "      <th>maxdewptm</th>\n",
       "      <th>maxpressurei</th>\n",
       "      <th>cat_level</th>\n",
       "      <th>cut_level</th>\n",
       "      <th>maximum</th>\n",
       "    </tr>\n",
       "  </thead>\n",
       "  <tbody>\n",
       "    <tr>\n",
       "      <th>0</th>\n",
       "      <td>2011-05-01</td>\n",
       "      <td>1026</td>\n",
       "      <td>6.0</td>\n",
       "      <td>30.31</td>\n",
       "      <td>day 1</td>\n",
       "      <td>low</td>\n",
       "      <td>30.31</td>\n",
       "    </tr>\n",
       "    <tr>\n",
       "      <th>1</th>\n",
       "      <td>2011-05-02</td>\n",
       "      <td>1026</td>\n",
       "      <td>10.0</td>\n",
       "      <td>30.31</td>\n",
       "      <td>day 2</td>\n",
       "      <td>high</td>\n",
       "      <td>30.31</td>\n",
       "    </tr>\n",
       "  </tbody>\n",
       "</table>\n",
       "</div>"
      ],
      "text/plain": [
       "         date  maxpressurem  maxdewptm  maxpressurei cat_level cut_level  \\\n",
       "0  2011-05-01          1026        6.0         30.31     day 1       low   \n",
       "1  2011-05-02          1026       10.0         30.31     day 2      high   \n",
       "\n",
       "   maximum  \n",
       "0    30.31  \n",
       "1    30.31  "
      ]
     },
     "execution_count": 9,
     "metadata": {},
     "output_type": "execute_result"
    }
   ],
   "source": [
    "# aggregate columns\n",
    "df['maximum'] = df[['maxdewptm','maxpressurei']].max(axis =1)\n",
    "df"
   ]
  },
  {
   "cell_type": "code",
   "execution_count": 10,
   "metadata": {},
   "outputs": [
    {
     "data": {
      "text/html": [
       "<div>\n",
       "<table border=\"1\" class=\"dataframe\">\n",
       "  <thead>\n",
       "    <tr style=\"text-align: right;\">\n",
       "      <th></th>\n",
       "      <th>date</th>\n",
       "      <th>maxpressurem</th>\n",
       "      <th>maxdewptm</th>\n",
       "      <th>maxpressurei</th>\n",
       "    </tr>\n",
       "  </thead>\n",
       "  <tbody>\n",
       "    <tr>\n",
       "      <th>0</th>\n",
       "      <td>2011-05-01</td>\n",
       "      <td>1026</td>\n",
       "      <td>6</td>\n",
       "      <td>30.31</td>\n",
       "    </tr>\n",
       "    <tr>\n",
       "      <th>1</th>\n",
       "      <td>2011-05-02</td>\n",
       "      <td>1026</td>\n",
       "      <td>10</td>\n",
       "      <td>30.31</td>\n",
       "    </tr>\n",
       "    <tr>\n",
       "      <th>2</th>\n",
       "      <td>2011-05-03</td>\n",
       "      <td>1021</td>\n",
       "      <td>15</td>\n",
       "      <td>30.14</td>\n",
       "    </tr>\n",
       "    <tr>\n",
       "      <th>3</th>\n",
       "      <td>2011-05-04</td>\n",
       "      <td>1017</td>\n",
       "      <td>14</td>\n",
       "      <td>30.03</td>\n",
       "    </tr>\n",
       "    <tr>\n",
       "      <th>4</th>\n",
       "      <td>2011-05-05</td>\n",
       "      <td>1016</td>\n",
       "      <td>4</td>\n",
       "      <td>30.01</td>\n",
       "    </tr>\n",
       "  </tbody>\n",
       "</table>\n",
       "</div>"
      ],
      "text/plain": [
       "         date  maxpressurem  maxdewptm  maxpressurei\n",
       "0  2011-05-01          1026          6         30.31\n",
       "1  2011-05-02          1026         10         30.31\n",
       "2  2011-05-03          1021         15         30.14\n",
       "3  2011-05-04          1017         14         30.03\n",
       "4  2011-05-05          1016          4         30.01"
      ]
     },
     "execution_count": 10,
     "metadata": {},
     "output_type": "execute_result"
    }
   ],
   "source": [
    "df = pd.read_csv(\"datasets/weather_underground.csv\", usecols=cols[:4])\n",
    "df.head()"
   ]
  },
  {
   "cell_type": "code",
   "execution_count": 11,
   "metadata": {},
   "outputs": [
    {
     "data": {
      "text/html": [
       "<div>\n",
       "<table border=\"1\" class=\"dataframe\">\n",
       "  <thead>\n",
       "    <tr style=\"text-align: right;\">\n",
       "      <th></th>\n",
       "      <th>date</th>\n",
       "      <th>maxpressurem</th>\n",
       "      <th>maxdewptm</th>\n",
       "      <th>maxpressurei</th>\n",
       "    </tr>\n",
       "  </thead>\n",
       "  <tbody>\n",
       "    <tr>\n",
       "      <th>3</th>\n",
       "      <td>2011-05-04</td>\n",
       "      <td>1017</td>\n",
       "      <td>14</td>\n",
       "      <td>30.03</td>\n",
       "    </tr>\n",
       "    <tr>\n",
       "      <th>4</th>\n",
       "      <td>2011-05-05</td>\n",
       "      <td>1016</td>\n",
       "      <td>4</td>\n",
       "      <td>30.01</td>\n",
       "    </tr>\n",
       "  </tbody>\n",
       "</table>\n",
       "</div>"
      ],
      "text/plain": [
       "         date  maxpressurem  maxdewptm  maxpressurei\n",
       "3  2011-05-04          1017         14         30.03\n",
       "4  2011-05-05          1016          4         30.01"
      ]
     },
     "execution_count": 11,
     "metadata": {},
     "output_type": "execute_result"
    }
   ],
   "source": [
    "# select certain rows\n",
    "# df_filter is a boolean mask\n",
    "df_filter = df['date'].isin(['2011-05-04','2011-05-05'])\n",
    "df[df_filter]"
   ]
  },
  {
   "cell_type": "code",
   "execution_count": 12,
   "metadata": {},
   "outputs": [
    {
     "name": "stdout",
     "output_type": "stream",
     "text": [
      "[10.0, 14.5, 17.75]\n"
     ]
    },
    {
     "data": {
      "text/html": [
       "<div>\n",
       "<table border=\"1\" class=\"dataframe\">\n",
       "  <thead>\n",
       "    <tr style=\"text-align: right;\">\n",
       "      <th></th>\n",
       "      <th>date</th>\n",
       "      <th>maxpressurem</th>\n",
       "      <th>maxdewptm</th>\n",
       "      <th>maxpressurei</th>\n",
       "      <th>group</th>\n",
       "    </tr>\n",
       "  </thead>\n",
       "  <tbody>\n",
       "    <tr>\n",
       "      <th>0</th>\n",
       "      <td>2011-05-01</td>\n",
       "      <td>1026</td>\n",
       "      <td>6</td>\n",
       "      <td>30.31</td>\n",
       "      <td>4</td>\n",
       "    </tr>\n",
       "    <tr>\n",
       "      <th>1</th>\n",
       "      <td>2011-05-02</td>\n",
       "      <td>1026</td>\n",
       "      <td>10</td>\n",
       "      <td>30.31</td>\n",
       "      <td>3</td>\n",
       "    </tr>\n",
       "    <tr>\n",
       "      <th>2</th>\n",
       "      <td>2011-05-03</td>\n",
       "      <td>1021</td>\n",
       "      <td>15</td>\n",
       "      <td>30.14</td>\n",
       "      <td>2</td>\n",
       "    </tr>\n",
       "    <tr>\n",
       "      <th>3</th>\n",
       "      <td>2011-05-04</td>\n",
       "      <td>1017</td>\n",
       "      <td>14</td>\n",
       "      <td>30.03</td>\n",
       "      <td>3</td>\n",
       "    </tr>\n",
       "    <tr>\n",
       "      <th>4</th>\n",
       "      <td>2011-05-05</td>\n",
       "      <td>1016</td>\n",
       "      <td>4</td>\n",
       "      <td>30.01</td>\n",
       "      <td>4</td>\n",
       "    </tr>\n",
       "  </tbody>\n",
       "</table>\n",
       "</div>"
      ],
      "text/plain": [
       "         date  maxpressurem  maxdewptm  maxpressurei  group\n",
       "0  2011-05-01          1026          6         30.31      4\n",
       "1  2011-05-02          1026         10         30.31      3\n",
       "2  2011-05-03          1021         15         30.14      2\n",
       "3  2011-05-04          1017         14         30.03      3\n",
       "4  2011-05-05          1016          4         30.01      4"
      ]
     },
     "execution_count": 12,
     "metadata": {},
     "output_type": "execute_result"
    }
   ],
   "source": [
    "# smallest partition is numbered highest\n",
    "cut_points = [np.percentile(df['maxdewptm'], i) for i in [25, 50, 75]]\n",
    "print(cut_points)\n",
    "\n",
    "df['group'] = 1\n",
    "for i in range(3):\n",
    "    df['group'] = df['group'] + (df['maxdewptm'] < cut_points[i])\n",
    "df.head()"
   ]
  },
  {
   "cell_type": "code",
   "execution_count": 13,
   "metadata": {},
   "outputs": [],
   "source": [
    "# save without storing numeric index\n",
    "df.to_csv(\"datasets/weather_underground_subset.csv\", index=None)"
   ]
  },
  {
   "cell_type": "markdown",
   "metadata": {},
   "source": [
    "#### NULL Handling"
   ]
  },
  {
   "cell_type": "code",
   "execution_count": 14,
   "metadata": {},
   "outputs": [
    {
     "data": {
      "text/html": [
       "<div>\n",
       "<table border=\"1\" class=\"dataframe\">\n",
       "  <thead>\n",
       "    <tr style=\"text-align: right;\">\n",
       "      <th></th>\n",
       "      <th>id</th>\n",
       "      <th>c1</th>\n",
       "      <th>c2</th>\n",
       "      <th>num_nulls</th>\n",
       "    </tr>\n",
       "  </thead>\n",
       "  <tbody>\n",
       "    <tr>\n",
       "      <th>0</th>\n",
       "      <td>1</td>\n",
       "      <td>0.0</td>\n",
       "      <td>NaN</td>\n",
       "      <td>1</td>\n",
       "    </tr>\n",
       "    <tr>\n",
       "      <th>1</th>\n",
       "      <td>2</td>\n",
       "      <td>0.0</td>\n",
       "      <td>1.0</td>\n",
       "      <td>0</td>\n",
       "    </tr>\n",
       "    <tr>\n",
       "      <th>2</th>\n",
       "      <td>3</td>\n",
       "      <td>NaN</td>\n",
       "      <td>1.0</td>\n",
       "      <td>1</td>\n",
       "    </tr>\n",
       "  </tbody>\n",
       "</table>\n",
       "</div>"
      ],
      "text/plain": [
       "   id   c1   c2  num_nulls\n",
       "0   1  0.0  NaN          1\n",
       "1   2  0.0  1.0          0\n",
       "2   3  NaN  1.0          1"
      ]
     },
     "execution_count": 14,
     "metadata": {},
     "output_type": "execute_result"
    }
   ],
   "source": [
    "# count nulls in each rows\n",
    "df = pd.DataFrame({ 'id': [1,2,3], 'c1':[0,0,np.nan], 'c2': [np.nan,1,1]})\n",
    "df = df[['id', 'c1', 'c2']]\n",
    "df['num_nulls'] = df[['c1', 'c2']].isnull().sum(axis=1)\n",
    "df.head()"
   ]
  },
  {
   "cell_type": "code",
   "execution_count": 15,
   "metadata": {},
   "outputs": [
    {
     "data": {
      "text/plain": [
       "(3, 4)"
      ]
     },
     "execution_count": 15,
     "metadata": {},
     "output_type": "execute_result"
    }
   ],
   "source": [
    "df.shape"
   ]
  },
  {
   "cell_type": "code",
   "execution_count": 16,
   "metadata": {},
   "outputs": [
    {
     "data": {
      "text/plain": [
       "(1, 4)"
      ]
     },
     "execution_count": 16,
     "metadata": {},
     "output_type": "execute_result"
    }
   ],
   "source": [
    "# drop rows that contains any null\n",
    "df.dropna().shape"
   ]
  },
  {
   "cell_type": "code",
   "execution_count": 17,
   "metadata": {},
   "outputs": [
    {
     "data": {
      "text/plain": [
       "(2, 4)"
      ]
     },
     "execution_count": 17,
     "metadata": {},
     "output_type": "execute_result"
    }
   ],
   "source": [
    "# drop rows that have nulls in specific columns\n",
    "df.dropna(subset=['c2']).shape"
   ]
  }
 ],
 "metadata": {
  "kernelspec": {
   "display_name": "Python 3",
   "language": "python",
   "name": "python3"
  },
  "language_info": {
   "codemirror_mode": {
    "name": "ipython",
    "version": 3
   },
   "file_extension": ".py",
   "mimetype": "text/x-python",
   "name": "python",
   "nbconvert_exporter": "python",
   "pygments_lexer": "ipython3",
   "version": "3.5.5"
  }
 },
 "nbformat": 4,
 "nbformat_minor": 2
}
