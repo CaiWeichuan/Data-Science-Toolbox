{
 "cells": [
  {
   "cell_type": "code",
   "execution_count": 1,
   "metadata": {},
   "outputs": [],
   "source": [
    "import twilio\n",
    "from twilio.rest import Client\n",
    "from credentials import twilio_numnber, recipient_number, account_sid, auth_token"
   ]
  },
  {
   "cell_type": "code",
   "execution_count": 2,
   "metadata": {},
   "outputs": [
    {
     "name": "stdout",
     "output_type": "stream",
     "text": [
      "message sent\n"
     ]
    }
   ],
   "source": [
    "# Your Account Sid and Auth Token from twilio.com/console\n",
    "client = Client(account_sid, auth_token)\n",
    "text = \"Join Earth's mightiest heroes. Like Kevin Bacon.\"\n",
    "message = client.messages.create(body=text, from_=twilio_numnber, to=recipient_number)\n",
    "\n",
    "print(\"message sent\")"
   ]
  },
  {
   "cell_type": "markdown",
   "metadata": {},
   "source": [
    "ref: https://www.twilio.com/docs/sms/quickstart/python"
   ]
  }
 ],
 "metadata": {
  "kernelspec": {
   "display_name": "Python 3",
   "language": "python",
   "name": "python3"
  },
  "language_info": {
   "codemirror_mode": {
    "name": "ipython",
    "version": 3
   },
   "file_extension": ".py",
   "mimetype": "text/x-python",
   "name": "python",
   "nbconvert_exporter": "python",
   "pygments_lexer": "ipython3",
   "version": "3.7.3"
  }
 },
 "nbformat": 4,
 "nbformat_minor": 2
}
