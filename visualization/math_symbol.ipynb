{
 "cells": [
  {
   "cell_type": "markdown",
   "metadata": {},
   "source": [
    "#### Engineering symbols"
   ]
  },
  {
   "cell_type": "code",
   "execution_count": 1,
   "metadata": {},
   "outputs": [
    {
     "name": "stdout",
     "output_type": "stream",
     "text": [
      "Δ\n"
     ]
    }
   ],
   "source": [
    "# GREEK CAPITAL LETTER DELTA\n",
    "print(\"\\u0394\")"
   ]
  },
  {
   "cell_type": "code",
   "execution_count": 2,
   "metadata": {},
   "outputs": [
    {
     "name": "stdout",
     "output_type": "stream",
     "text": [
      "Ω\n"
     ]
    }
   ],
   "source": [
    "# GREEK CAPITAL LETTER OMEGA\n",
    "print(\"\\u03A9\")"
   ]
  },
  {
   "cell_type": "code",
   "execution_count": 3,
   "metadata": {},
   "outputs": [
    {
     "name": "stdout",
     "output_type": "stream",
     "text": [
      "π\n"
     ]
    }
   ],
   "source": [
    "# GREEK SMALL LETTER PI\n",
    "print(\"\\u03C0\")"
   ]
  },
  {
   "cell_type": "code",
   "execution_count": 4,
   "metadata": {},
   "outputs": [
    {
     "name": "stdout",
     "output_type": "stream",
     "text": [
      "ϴ\n"
     ]
    }
   ],
   "source": [
    "# GREEK CAPITAL THETA SYMBOL\n",
    "print(\"\\u03F4\")"
   ]
  },
  {
   "cell_type": "code",
   "execution_count": 5,
   "metadata": {},
   "outputs": [
    {
     "name": "stdout",
     "output_type": "stream",
     "text": [
      "λ\n"
     ]
    }
   ],
   "source": [
    "# GREEK SMALL LETTER LAMDA\n",
    "print(\"\\u03BB\")"
   ]
  },
  {
   "cell_type": "code",
   "execution_count": 6,
   "metadata": {},
   "outputs": [
    {
     "name": "stdout",
     "output_type": "stream",
     "text": [
      "θ\n"
     ]
    }
   ],
   "source": [
    "# GREEK SMALL LETTER THETA\n",
    "print(\"\\u03B8\")"
   ]
  },
  {
   "cell_type": "code",
   "execution_count": 7,
   "metadata": {},
   "outputs": [
    {
     "name": "stdout",
     "output_type": "stream",
     "text": [
      "α\n"
     ]
    }
   ],
   "source": [
    "# DEGREE SYMBOL\n",
    "print(\"\\u03B1\")"
   ]
  },
  {
   "cell_type": "code",
   "execution_count": 8,
   "metadata": {},
   "outputs": [
    {
     "name": "stdout",
     "output_type": "stream",
     "text": [
      "î\n"
     ]
    }
   ],
   "source": [
    "# i HAT\n",
    "print(\"i\\u0302\")"
   ]
  },
  {
   "cell_type": "code",
   "execution_count": 9,
   "metadata": {},
   "outputs": [
    {
     "name": "stdout",
     "output_type": "stream",
     "text": [
      "ĵ\n"
     ]
    }
   ],
   "source": [
    "# j HAT\n",
    "print(\"j\\u0302\")"
   ]
  },
  {
   "cell_type": "code",
   "execution_count": 10,
   "metadata": {},
   "outputs": [
    {
     "name": "stdout",
     "output_type": "stream",
     "text": [
      "k̂\n"
     ]
    }
   ],
   "source": [
    "# k HAT\n",
    "print(\"k\\u0302\")"
   ]
  },
  {
   "cell_type": "code",
   "execution_count": 11,
   "metadata": {},
   "outputs": [
    {
     "name": "stdout",
     "output_type": "stream",
     "text": [
      "û\n"
     ]
    }
   ],
   "source": [
    "# u HAT\n",
    "print(\"u\\u0302\")"
   ]
  },
  {
   "cell_type": "markdown",
   "metadata": {},
   "source": [
    "#### Lowercase"
   ]
  },
  {
   "cell_type": "code",
   "execution_count": 12,
   "metadata": {},
   "outputs": [
    {
     "name": "stdout",
     "output_type": "stream",
     "text": [
      "α\n"
     ]
    }
   ],
   "source": [
    "# GREEK SMALL LETTER ALPHA\n",
    "print(\"\\u03B1\")"
   ]
  },
  {
   "cell_type": "code",
   "execution_count": 13,
   "metadata": {},
   "outputs": [
    {
     "name": "stdout",
     "output_type": "stream",
     "text": [
      "β\n"
     ]
    }
   ],
   "source": [
    "# GREEK SMALL LETTER BETA\n",
    "print(\"\\u03B2\")"
   ]
  },
  {
   "cell_type": "code",
   "execution_count": 14,
   "metadata": {},
   "outputs": [
    {
     "name": "stdout",
     "output_type": "stream",
     "text": [
      "γ\n"
     ]
    }
   ],
   "source": [
    "# GREEK SMALL LETTER GAMMA\n",
    "print(\"\\u03B3\")"
   ]
  },
  {
   "cell_type": "code",
   "execution_count": 15,
   "metadata": {},
   "outputs": [
    {
     "name": "stdout",
     "output_type": "stream",
     "text": [
      "δ\n"
     ]
    }
   ],
   "source": [
    "# GREEK SMALL LETTER DELTA\n",
    "print(\"\\u03B4\")"
   ]
  },
  {
   "cell_type": "code",
   "execution_count": 16,
   "metadata": {},
   "outputs": [
    {
     "name": "stdout",
     "output_type": "stream",
     "text": [
      "ε\n"
     ]
    }
   ],
   "source": [
    "# GREEK SMALL LETTER EPSILON\n",
    "print(\"\\u03B5\")"
   ]
  },
  {
   "cell_type": "code",
   "execution_count": 17,
   "metadata": {},
   "outputs": [
    {
     "name": "stdout",
     "output_type": "stream",
     "text": [
      "ζ\n"
     ]
    }
   ],
   "source": [
    "# GREEK SMALL LETTER ZETA\n",
    "print(\"\\u03B6\")"
   ]
  },
  {
   "cell_type": "code",
   "execution_count": 18,
   "metadata": {},
   "outputs": [
    {
     "name": "stdout",
     "output_type": "stream",
     "text": [
      "η\n"
     ]
    }
   ],
   "source": [
    "# GREEK SMALL LETTER ETA\n",
    "print(\"\\u03B7\")"
   ]
  },
  {
   "cell_type": "code",
   "execution_count": 19,
   "metadata": {},
   "outputs": [
    {
     "name": "stdout",
     "output_type": "stream",
     "text": [
      "θ\n"
     ]
    }
   ],
   "source": [
    "# GREEK SMALL LETTER THETA\n",
    "print(\"\\u03B8\")"
   ]
  },
  {
   "cell_type": "code",
   "execution_count": 20,
   "metadata": {},
   "outputs": [
    {
     "name": "stdout",
     "output_type": "stream",
     "text": [
      "ι\n"
     ]
    }
   ],
   "source": [
    "# GREEK SMALL LETTER IOTA\n",
    "print(\"\\u03B9\")"
   ]
  },
  {
   "cell_type": "code",
   "execution_count": 21,
   "metadata": {},
   "outputs": [
    {
     "name": "stdout",
     "output_type": "stream",
     "text": [
      "κ\n"
     ]
    }
   ],
   "source": [
    "# GREEK SMALL LETTER KAPPA\n",
    "print(\"\\u03BA\")"
   ]
  },
  {
   "cell_type": "code",
   "execution_count": 22,
   "metadata": {},
   "outputs": [
    {
     "name": "stdout",
     "output_type": "stream",
     "text": [
      "λ\n"
     ]
    }
   ],
   "source": [
    "# GREEK SMALL LETTER LAMDA\n",
    "print(\"\\u03BB\")"
   ]
  },
  {
   "cell_type": "code",
   "execution_count": 23,
   "metadata": {},
   "outputs": [
    {
     "name": "stdout",
     "output_type": "stream",
     "text": [
      "μ\n"
     ]
    }
   ],
   "source": [
    "# GREEK SMALL LETTER MU\n",
    "print(\"\\u03BC\")"
   ]
  },
  {
   "cell_type": "code",
   "execution_count": 24,
   "metadata": {},
   "outputs": [
    {
     "name": "stdout",
     "output_type": "stream",
     "text": [
      "ν\n"
     ]
    }
   ],
   "source": [
    "# GREEK SMALL LETTER NU\n",
    "print(\"\\u03BD\")"
   ]
  },
  {
   "cell_type": "code",
   "execution_count": 25,
   "metadata": {},
   "outputs": [
    {
     "name": "stdout",
     "output_type": "stream",
     "text": [
      "ξ\n"
     ]
    }
   ],
   "source": [
    "# GREEK SMALL LETTER XI\n",
    "print(\"\\u03BE\")"
   ]
  },
  {
   "cell_type": "code",
   "execution_count": 26,
   "metadata": {},
   "outputs": [
    {
     "name": "stdout",
     "output_type": "stream",
     "text": [
      "ο\n"
     ]
    }
   ],
   "source": [
    "# GREEK SMALL LETTER OMICRON\n",
    "print(\"\\u03BF\")"
   ]
  },
  {
   "cell_type": "code",
   "execution_count": 27,
   "metadata": {},
   "outputs": [
    {
     "name": "stdout",
     "output_type": "stream",
     "text": [
      "π\n"
     ]
    }
   ],
   "source": [
    "# GREEK SMALL LETTER PI\n",
    "print(\"\\u03C0\")"
   ]
  },
  {
   "cell_type": "code",
   "execution_count": 28,
   "metadata": {},
   "outputs": [
    {
     "name": "stdout",
     "output_type": "stream",
     "text": [
      "ρ\n"
     ]
    }
   ],
   "source": [
    "# GREEK SMALL LETTER RHO\n",
    "print(\"\\u03C1\")"
   ]
  },
  {
   "cell_type": "code",
   "execution_count": 29,
   "metadata": {},
   "outputs": [
    {
     "name": "stdout",
     "output_type": "stream",
     "text": [
      "ς\n"
     ]
    }
   ],
   "source": [
    "# GREEK SMALL LETTER FINAL SIGMA\n",
    "print(\"\\u03C2\")"
   ]
  },
  {
   "cell_type": "code",
   "execution_count": 30,
   "metadata": {},
   "outputs": [
    {
     "name": "stdout",
     "output_type": "stream",
     "text": [
      "σ\n"
     ]
    }
   ],
   "source": [
    "# GREEK SMALL LETTER SIGMA\n",
    "print(\"\\u03C3\")"
   ]
  },
  {
   "cell_type": "code",
   "execution_count": 31,
   "metadata": {},
   "outputs": [
    {
     "name": "stdout",
     "output_type": "stream",
     "text": [
      "τ\n"
     ]
    }
   ],
   "source": [
    "# GREEK SMALL LETTER TAU\n",
    "print(\"\\u03C4\")"
   ]
  },
  {
   "cell_type": "code",
   "execution_count": 32,
   "metadata": {},
   "outputs": [
    {
     "name": "stdout",
     "output_type": "stream",
     "text": [
      "υ\n"
     ]
    }
   ],
   "source": [
    "# GREEK SMALL LETTER UPSILON\n",
    "print(\"\\u03C5\")"
   ]
  },
  {
   "cell_type": "code",
   "execution_count": 33,
   "metadata": {},
   "outputs": [
    {
     "name": "stdout",
     "output_type": "stream",
     "text": [
      "φ\n"
     ]
    }
   ],
   "source": [
    "# GREEK SMALL LETTER PHI\n",
    "print(\"\\u03C6\")"
   ]
  },
  {
   "cell_type": "code",
   "execution_count": 34,
   "metadata": {},
   "outputs": [
    {
     "name": "stdout",
     "output_type": "stream",
     "text": [
      "χ\n"
     ]
    }
   ],
   "source": [
    "# GREEK SMALL LETTER CHI\n",
    "print(\"\\u03C7\")"
   ]
  },
  {
   "cell_type": "code",
   "execution_count": 35,
   "metadata": {},
   "outputs": [
    {
     "name": "stdout",
     "output_type": "stream",
     "text": [
      "ψ\n"
     ]
    }
   ],
   "source": [
    "# GREEK SMALL LETTER PSI\n",
    "print(\"\\u03C8\")"
   ]
  },
  {
   "cell_type": "code",
   "execution_count": 36,
   "metadata": {},
   "outputs": [
    {
     "name": "stdout",
     "output_type": "stream",
     "text": [
      "ω\n"
     ]
    }
   ],
   "source": [
    "# GREEK SMALL LETTER OMEGA\n",
    "print(\"\\u03C9\")"
   ]
  },
  {
   "cell_type": "markdown",
   "metadata": {},
   "source": [
    "#### Uppercase"
   ]
  },
  {
   "cell_type": "code",
   "execution_count": 37,
   "metadata": {},
   "outputs": [
    {
     "name": "stdout",
     "output_type": "stream",
     "text": [
      "Α\n"
     ]
    }
   ],
   "source": [
    "# GREEK CAPITAL LETTER ALPHA\n",
    "print(\"\\u0391\")"
   ]
  },
  {
   "cell_type": "code",
   "execution_count": 38,
   "metadata": {},
   "outputs": [
    {
     "name": "stdout",
     "output_type": "stream",
     "text": [
      "Β\n"
     ]
    }
   ],
   "source": [
    "# GREEK CAPITAL LETTER BETA\n",
    "print(\"\\u0392\")"
   ]
  },
  {
   "cell_type": "code",
   "execution_count": 39,
   "metadata": {},
   "outputs": [
    {
     "name": "stdout",
     "output_type": "stream",
     "text": [
      "Γ\n"
     ]
    }
   ],
   "source": [
    "# GREEK CAPITAL LETTER GAMMA\n",
    "print(\"\\u0393\")"
   ]
  },
  {
   "cell_type": "code",
   "execution_count": 40,
   "metadata": {},
   "outputs": [
    {
     "name": "stdout",
     "output_type": "stream",
     "text": [
      "Δ\n"
     ]
    }
   ],
   "source": [
    "# GREEK CAPITAL LETTER DELTA\n",
    "print(\"\\u0394\")"
   ]
  },
  {
   "cell_type": "code",
   "execution_count": 41,
   "metadata": {},
   "outputs": [
    {
     "name": "stdout",
     "output_type": "stream",
     "text": [
      "Ε\n"
     ]
    }
   ],
   "source": [
    "# GREEK CAPITAL LETTER EPSILON\n",
    "print(\"\\u0395\")"
   ]
  },
  {
   "cell_type": "code",
   "execution_count": 42,
   "metadata": {},
   "outputs": [
    {
     "name": "stdout",
     "output_type": "stream",
     "text": [
      "Ζ\n"
     ]
    }
   ],
   "source": [
    "# GREEK CAPITAL LETTER ZETA\n",
    "print(\"\\u0396\")"
   ]
  },
  {
   "cell_type": "code",
   "execution_count": 43,
   "metadata": {},
   "outputs": [
    {
     "name": "stdout",
     "output_type": "stream",
     "text": [
      "Η\n"
     ]
    }
   ],
   "source": [
    "# GREEK CAPITAL LETTER ETA\n",
    "print(\"\\u0397\")"
   ]
  },
  {
   "cell_type": "code",
   "execution_count": 44,
   "metadata": {},
   "outputs": [
    {
     "name": "stdout",
     "output_type": "stream",
     "text": [
      "Θ\n"
     ]
    }
   ],
   "source": [
    "# GREEK CAPITAL LETTER THETA\n",
    "print(\"\\u0398\")"
   ]
  },
  {
   "cell_type": "code",
   "execution_count": 45,
   "metadata": {},
   "outputs": [
    {
     "name": "stdout",
     "output_type": "stream",
     "text": [
      "Ι\n"
     ]
    }
   ],
   "source": [
    "# GREEK CAPITAL LETTER IOTA\n",
    "print(\"\\u0399\")"
   ]
  },
  {
   "cell_type": "code",
   "execution_count": 46,
   "metadata": {},
   "outputs": [
    {
     "name": "stdout",
     "output_type": "stream",
     "text": [
      "Κ\n"
     ]
    }
   ],
   "source": [
    "# GREEK CAPITAL LETTER KAPPA\n",
    "print(\"\\u039a\")"
   ]
  },
  {
   "cell_type": "code",
   "execution_count": 47,
   "metadata": {},
   "outputs": [
    {
     "name": "stdout",
     "output_type": "stream",
     "text": [
      "Λ\n"
     ]
    }
   ],
   "source": [
    "# GREEK CAPITAL LETTER LAMDA\n",
    "print(\"\\u039b\")"
   ]
  },
  {
   "cell_type": "code",
   "execution_count": 48,
   "metadata": {},
   "outputs": [
    {
     "name": "stdout",
     "output_type": "stream",
     "text": [
      "Μ\n"
     ]
    }
   ],
   "source": [
    "# GREEK CAPITAL LETTER MU\n",
    "print(\"\\u039c\")"
   ]
  },
  {
   "cell_type": "code",
   "execution_count": 49,
   "metadata": {},
   "outputs": [
    {
     "name": "stdout",
     "output_type": "stream",
     "text": [
      "Ν\n"
     ]
    }
   ],
   "source": [
    "# GREEK CAPITAL LETTER NU\n",
    "print(\"\\u039d\")"
   ]
  },
  {
   "cell_type": "code",
   "execution_count": 50,
   "metadata": {},
   "outputs": [
    {
     "name": "stdout",
     "output_type": "stream",
     "text": [
      "Ξ\n"
     ]
    }
   ],
   "source": [
    "# GREEK CAPITAL LETTER XI\n",
    "print(\"\\u039e\")"
   ]
  },
  {
   "cell_type": "code",
   "execution_count": 51,
   "metadata": {},
   "outputs": [
    {
     "name": "stdout",
     "output_type": "stream",
     "text": [
      "Ο\n"
     ]
    }
   ],
   "source": [
    "# GREEK CAPITAL LETTER OMICRON\n",
    "print(\"\\u039f\")"
   ]
  },
  {
   "cell_type": "code",
   "execution_count": 52,
   "metadata": {},
   "outputs": [
    {
     "name": "stdout",
     "output_type": "stream",
     "text": [
      "Π\n"
     ]
    }
   ],
   "source": [
    "# GREEK CAPITAL LETTER PI\n",
    "print(\"\\u03a0\")"
   ]
  },
  {
   "cell_type": "code",
   "execution_count": 53,
   "metadata": {},
   "outputs": [
    {
     "name": "stdout",
     "output_type": "stream",
     "text": [
      "Ρ\n"
     ]
    }
   ],
   "source": [
    "# GREEK CAPITAL LETTER RHO\n",
    "print(\"\\u03a1\")"
   ]
  },
  {
   "cell_type": "code",
   "execution_count": 54,
   "metadata": {},
   "outputs": [
    {
     "name": "stdout",
     "output_type": "stream",
     "text": [
      "Σ\n"
     ]
    }
   ],
   "source": [
    "# GREEK CAPITAL LETTER SIGMA\n",
    "print(\"\\u03a3\")"
   ]
  },
  {
   "cell_type": "code",
   "execution_count": 55,
   "metadata": {},
   "outputs": [
    {
     "name": "stdout",
     "output_type": "stream",
     "text": [
      "Τ\n"
     ]
    }
   ],
   "source": [
    "# GREEK CAPITAL LETTER TAU\n",
    "print(\"\\u03a4\")"
   ]
  },
  {
   "cell_type": "code",
   "execution_count": 56,
   "metadata": {},
   "outputs": [
    {
     "name": "stdout",
     "output_type": "stream",
     "text": [
      "Υ\n"
     ]
    }
   ],
   "source": [
    "# GREEK CAPITAL LETTER UPSILON\n",
    "print(\"\\u03a5\")"
   ]
  },
  {
   "cell_type": "code",
   "execution_count": 57,
   "metadata": {},
   "outputs": [
    {
     "name": "stdout",
     "output_type": "stream",
     "text": [
      "Φ\n"
     ]
    }
   ],
   "source": [
    "# GREEK CAPITAL LETTER PHI\n",
    "print(\"\\u03a6\")"
   ]
  },
  {
   "cell_type": "code",
   "execution_count": 58,
   "metadata": {},
   "outputs": [
    {
     "name": "stdout",
     "output_type": "stream",
     "text": [
      "Χ\n"
     ]
    }
   ],
   "source": [
    "# GREEK CAPITAL LETTER CHI\n",
    "print(\"\\u03a7\")"
   ]
  },
  {
   "cell_type": "code",
   "execution_count": 59,
   "metadata": {},
   "outputs": [
    {
     "name": "stdout",
     "output_type": "stream",
     "text": [
      "Ψ\n"
     ]
    }
   ],
   "source": [
    "# GREEK CAPITAL LETTER PSI\n",
    "print(\"\\u03a8\")"
   ]
  },
  {
   "cell_type": "code",
   "execution_count": 60,
   "metadata": {},
   "outputs": [
    {
     "name": "stdout",
     "output_type": "stream",
     "text": [
      "Ω\n"
     ]
    }
   ],
   "source": [
    "# GREEK CAPITAL LETTER OMEGA\n",
    "print(\"\\u03a9\")"
   ]
  },
  {
   "cell_type": "code",
   "execution_count": 61,
   "metadata": {},
   "outputs": [
    {
     "name": "stdout",
     "output_type": "stream",
     "text": [
      "ϴ\n"
     ]
    }
   ],
   "source": [
    "# GREEK CAPITAL THETA SYMBOL\n",
    "print(\"\\u03f4\")"
   ]
  }
 ],
 "metadata": {
  "kernelspec": {
   "display_name": "Python 3",
   "language": "python",
   "name": "python3"
  },
  "language_info": {
   "codemirror_mode": {
    "name": "ipython",
    "version": 3
   },
   "file_extension": ".py",
   "mimetype": "text/x-python",
   "name": "python",
   "nbconvert_exporter": "python",
   "pygments_lexer": "ipython3",
   "version": "3.7.3"
  }
 },
 "nbformat": 4,
 "nbformat_minor": 2
}
