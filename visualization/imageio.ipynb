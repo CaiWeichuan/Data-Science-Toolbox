{
 "cells": [
  {
   "cell_type": "code",
   "execution_count": 2,
   "metadata": {},
   "outputs": [],
   "source": [
    "import matplotlib\n",
    "import matplotlib.pyplot as plt\n",
    "import numpy as np\n",
    "import imageio\n",
    "\n",
    "def plot_for_offset(power, y_max):\n",
    "    # Data for plotting\n",
    "    t = np.arange(0.0, 100, 1)\n",
    "    s = t**power\n",
    "\n",
    "    fig, ax = plt.subplots(figsize=(10,5))\n",
    "    ax.plot(t, s)\n",
    "    ax.grid()\n",
    "    ax.set(xlabel='X', ylabel='x^{}'.format(power),\n",
    "           title='Powers of x')\n",
    "\n",
    "    # IMPORTANT ANIMATION CODE HERE\n",
    "    # Used to keep the limits constant\n",
    "    ax.set_ylim(0, y_max)\n",
    "\n",
    "    # Used to return the plot as an image rray\n",
    "    fig.canvas.draw()       # draw the canvas, cache the renderer\n",
    "    image = np.frombuffer(fig.canvas.tostring_rgb(), dtype='uint8')\n",
    "    image  = image.reshape(fig.canvas.get_width_height()[::-1] + (3,))\n",
    "    plt.close()\n",
    "    return image\n",
    "\n",
    "kwargs_write = {'fps':1.0, 'quantizer':'nq'}\n",
    "imageio.mimsave('outputs/powers.gif', [plot_for_offset(i/4, 100) for i in range(10)], fps=10)"
   ]
  },
  {
   "cell_type": "markdown",
   "metadata": {},
   "source": [
    "[reference](https://ndres.me/post/matplotlib-animated-gifs-easily/)"
   ]
  }
 ],
 "metadata": {
  "kernelspec": {
   "display_name": "Python 3",
   "language": "python",
   "name": "python3"
  },
  "language_info": {
   "codemirror_mode": {
    "name": "ipython",
    "version": 3
   },
   "file_extension": ".py",
   "mimetype": "text/x-python",
   "name": "python",
   "nbconvert_exporter": "python",
   "pygments_lexer": "ipython3",
   "version": "3.5.5"
  }
 },
 "nbformat": 4,
 "nbformat_minor": 2
}
