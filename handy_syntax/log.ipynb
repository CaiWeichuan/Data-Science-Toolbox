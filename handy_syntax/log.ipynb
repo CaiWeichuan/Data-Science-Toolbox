{
 "cells": [
  {
   "cell_type": "code",
   "execution_count": 1,
   "metadata": {},
   "outputs": [],
   "source": [
    "import os\n",
    "import time\n",
    "from datetime import datetime"
   ]
  },
  {
   "cell_type": "markdown",
   "metadata": {},
   "source": [
    "#### Log Setup"
   ]
  },
  {
   "cell_type": "code",
   "execution_count": 2,
   "metadata": {},
   "outputs": [
    {
     "name": "stdout",
     "output_type": "stream",
     "text": [
      "txt file: outputs/run_20190420194650/log.txt\n"
     ]
    }
   ],
   "source": [
    "root_logdir = \"outputs\"\n",
    "if not os.path.exists(root_logdir):\n",
    "    os.makedirs(root_logdir)\n",
    "\n",
    "# create a unique directory for each run\n",
    "now = datetime.utcnow().strftime(\"%Y%m%d%H%M%S\")\n",
    "logdir = \"%s/run_%s\"%(root_logdir, now)\n",
    "os.makedirs(logdir)\n",
    "\n",
    "fname = os.path.join(logdir, \"log.txt\")\n",
    "print(\"txt file:\", fname)"
   ]
  },
  {
   "cell_type": "markdown",
   "metadata": {},
   "source": [
    "#### Test Run"
   ]
  },
  {
   "cell_type": "code",
   "execution_count": 3,
   "metadata": {},
   "outputs": [
    {
     "name": "stdout",
     "output_type": "stream",
     "text": [
      "iter 0: 20190420194651\n",
      "iter 1: 20190420194651\n",
      "iter 2: 20190420194652\n",
      "iter 3: 20190420194652\n",
      "iter 4: 20190420194653\n",
      "iter 5: 20190420194653\n",
      "iter 6: 20190420194654\n",
      "iter 7: 20190420194654\n",
      "iter 8: 20190420194655\n",
      "iter 9: 20190420194655\n"
     ]
    }
   ],
   "source": [
    "# use 'a' mode, create file if not exists\n",
    "with open(fname,\"a\") as file:\n",
    "    for i in range(10):\n",
    "        time.sleep(0.5)\n",
    "        message = \"iter %i: %s\"%(i, datetime.utcnow().strftime(\"%Y%m%d%H%M%S\"))\n",
    "        print(message)\n",
    "        file.write(message + \"\\n\")"
   ]
  },
  {
   "cell_type": "markdown",
   "metadata": {},
   "source": [
    "#### Log by Function"
   ]
  },
  {
   "cell_type": "code",
   "execution_count": 4,
   "metadata": {},
   "outputs": [],
   "source": [
    "def log_message(message, fname):\n",
    "    with open(fname,\"a\") as file:\n",
    "        file.write(\"%s\\n\"%message)"
   ]
  },
  {
   "cell_type": "code",
   "execution_count": 5,
   "metadata": {},
   "outputs": [],
   "source": [
    "log_message(\"hello\", fname)"
   ]
  }
 ],
 "metadata": {
  "kernelspec": {
   "display_name": "Python 3",
   "language": "python",
   "name": "python3"
  },
  "language_info": {
   "codemirror_mode": {
    "name": "ipython",
    "version": 3
   },
   "file_extension": ".py",
   "mimetype": "text/x-python",
   "name": "python",
   "nbconvert_exporter": "python",
   "pygments_lexer": "ipython3",
   "version": "3.7.3"
  }
 },
 "nbformat": 4,
 "nbformat_minor": 2
}
