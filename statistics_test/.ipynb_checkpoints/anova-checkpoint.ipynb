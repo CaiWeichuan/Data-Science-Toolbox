{
 "cells": [
  {
   "cell_type": "code",
   "execution_count": 1,
   "metadata": {},
   "outputs": [],
   "source": [
    "import numpy as np"
   ]
  },
  {
   "cell_type": "markdown",
   "metadata": {},
   "source": [
    "#### Lecture Note\n",
    "* When null is true, F = 1.\n",
    "* This example illustrates ANOVA test on 4 samples of different sizes.\n",
    "\n",
    "\n",
    "<img src=\"figs/anova.png\" alt=\"Drawing\" style=\"height: 500px;\"/>"
   ]
  },
  {
   "cell_type": "code",
   "execution_count": 2,
   "metadata": {},
   "outputs": [],
   "source": [
    "p = np.array([1.5, 1.3, 1.8, 1.6, 1.3])\n",
    "x = np.array([1.6, 1.7, 1.9, 1.2])\n",
    "y = np.array([2.0, 1.4, 1.5, 1.5, 1.8, 1.7, 1.4])\n",
    "z = np.array([2.9, 3.1, 2.8, 2.7])\n",
    "\n",
    "combined = [p, x, y, z]\n",
    "\n",
    "k = len(combined)\n",
    "N = sum(len(g) for g in combined)\n",
    "ns = list(map(len, combined))"
   ]
  },
  {
   "cell_type": "markdown",
   "metadata": {},
   "source": [
    "##### Degree of freedom"
   ]
  },
  {
   "cell_type": "code",
   "execution_count": 3,
   "metadata": {},
   "outputs": [],
   "source": [
    "df_between = k - 1\n",
    "df_within = N - k # aka df error term\n",
    "df_total = N - 1"
   ]
  },
  {
   "cell_type": "markdown",
   "metadata": {},
   "source": [
    "#### Sample means"
   ]
  },
  {
   "cell_type": "code",
   "execution_count": 4,
   "metadata": {},
   "outputs": [
    {
     "name": "stdout",
     "output_type": "stream",
     "text": [
      "\n",
      "mu_p = 1.50\n",
      "mu_x = 1.60\n",
      "mu_y = 1.61\n",
      "mu_z = 2.88\n",
      "mu_grand = 1.84\n",
      "\n"
     ]
    }
   ],
   "source": [
    "# grand mean\n",
    "mu_grand = np.mean(np.concatenate(combined))\n",
    "\n",
    "# sample means\n",
    "mu_g = list(map(np.mean, combined))\n",
    "mu_p, mu_x, mu_y, mu_z = mu_g\n",
    "\n",
    "print(\"\"\"\n",
    "mu_p = %.2f\n",
    "mu_x = %.2f\n",
    "mu_y = %.2f\n",
    "mu_z = %.2f\n",
    "mu_grand = %.2f\n",
    "\"\"\"%(mu_p, mu_x, mu_y, mu_z, mu_grand))"
   ]
  },
  {
   "cell_type": "markdown",
   "metadata": {},
   "source": [
    "##### Between sample variation\n",
    "* Numerator of F-statistic.\n",
    "* The greater the variation between sample, the __more__ likely to reject null."
   ]
  },
  {
   "cell_type": "code",
   "execution_count": 5,
   "metadata": {},
   "outputs": [
    {
     "data": {
      "text/plain": [
       "5.449428571428573"
      ]
     },
     "execution_count": 5,
     "metadata": {},
     "output_type": "execute_result"
    }
   ],
   "source": [
    "ss_between = sum(n * (mu_sample - mu_grand) ** 2 for mu_sample, n in zip(mu_g, ns))\n",
    "ss_between"
   ]
  },
  {
   "cell_type": "markdown",
   "metadata": {},
   "source": [
    "##### Within sample variation (aka error term)\n",
    "* Denominator of F-statistic.\n",
    "* The greater the variation between sample, the __less__ likely to reject null."
   ]
  },
  {
   "cell_type": "code",
   "execution_count": 6,
   "metadata": {},
   "outputs": [
    {
     "data": {
      "text/plain": [
       "0.8360714285714287"
      ]
     },
     "execution_count": 6,
     "metadata": {},
     "output_type": "execute_result"
    }
   ],
   "source": [
    "ss_within = sum(sum((sample - mu_sample) ** 2) for sample, mu_sample in zip(combined, mu_g))\n",
    "ss_within"
   ]
  },
  {
   "cell_type": "markdown",
   "metadata": {},
   "source": [
    "##### F-statistic"
   ]
  },
  {
   "cell_type": "code",
   "execution_count": 7,
   "metadata": {},
   "outputs": [
    {
     "data": {
      "text/plain": [
       "1.816476190476191"
      ]
     },
     "execution_count": 7,
     "metadata": {},
     "output_type": "execute_result"
    }
   ],
   "source": [
    "ms_between = ss_between / df_between\n",
    "ms_between"
   ]
  },
  {
   "cell_type": "code",
   "execution_count": 8,
   "metadata": {},
   "outputs": [
    {
     "data": {
      "text/plain": [
       "0.05225446428571429"
      ]
     },
     "execution_count": 8,
     "metadata": {},
     "output_type": "execute_result"
    }
   ],
   "source": [
    "ms_within = ss_within / df_within\n",
    "ms_within"
   ]
  },
  {
   "cell_type": "code",
   "execution_count": 9,
   "metadata": {},
   "outputs": [
    {
     "data": {
      "text/plain": [
       "34.7621244482415"
      ]
     },
     "execution_count": 9,
     "metadata": {},
     "output_type": "execute_result"
    }
   ],
   "source": [
    "F = ms_between / ms_within\n",
    "F"
   ]
  },
  {
   "cell_type": "markdown",
   "metadata": {},
   "source": [
    "##### Critical value [lookup](http://www.socr.ucla.edu/applets.dir/f_table.html)"
   ]
  },
  {
   "cell_type": "code",
   "execution_count": 10,
   "metadata": {},
   "outputs": [],
   "source": [
    "# lookup critical value from table, with DDOF = (df_between, df_within), alpha = 0.05\n",
    "F_c = 3.2389"
   ]
  },
  {
   "cell_type": "code",
   "execution_count": 11,
   "metadata": {},
   "outputs": [
    {
     "name": "stdout",
     "output_type": "stream",
     "text": [
      "cannot reject null, with F-score = 34.76\n"
     ]
    }
   ],
   "source": [
    "if F < F_c:\n",
    "    print(\"reject null, with F-score = %.2f\"%F)\n",
    "else:\n",
    "    print(\"cannot reject null, with F-score = %.2f\"%F)"
   ]
  },
  {
   "cell_type": "markdown",
   "metadata": {},
   "source": [
    "##### Effect sizes\n",
    "* $\\eta^2$: what proportion of difference is attributable to groups (i.e. different treatments)? This is similar to $r^2$ in t-test.\n",
    "* cohen's d: must be calculated for each pair; difference in sample mean divided by $\\sqrt{MS_{within}}$ (analogous to standard deviation)"
   ]
  },
  {
   "cell_type": "code",
   "execution_count": 12,
   "metadata": {},
   "outputs": [
    {
     "data": {
      "text/plain": [
       "0.8669841017307408"
      ]
     },
     "execution_count": 12,
     "metadata": {},
     "output_type": "execute_result"
    }
   ],
   "source": [
    "# eta\n",
    "ss_between / (ss_within + ss_between)"
   ]
  },
  {
   "cell_type": "code",
   "execution_count": 13,
   "metadata": {},
   "outputs": [
    {
     "data": {
      "text/plain": [
       "0.43745995117849606"
      ]
     },
     "execution_count": 13,
     "metadata": {},
     "output_type": "execute_result"
    }
   ],
   "source": [
    "# cohen's d, between placebo and x group\n",
    "abs(mu_p - mu_x) / np.sqrt(ms_within)"
   ]
  },
  {
   "cell_type": "markdown",
   "metadata": {},
   "source": [
    "##### Tuky's HSD\n",
    "* Lookup [here](https://www2.stat.duke.edu/courses/Spring98/sta110c/qtable.html) with treatment $k=4$ (placebo is counted as a treatment) and degree of freedom for error term (df_within) $N-k=16$.\n",
    "* Formally defined as: $q^*\\sqrt{MS_{within} / n}$"
   ]
  },
  {
   "cell_type": "code",
   "execution_count": 14,
   "metadata": {},
   "outputs": [
    {
     "data": {
      "text/plain": [
       "0.4171810459639881"
      ]
     },
     "execution_count": 14,
     "metadata": {},
     "output_type": "execute_result"
    }
   ],
   "source": [
    "q = 3.65 # alpha = 0.05\n",
    "hsd = q * np.sqrt(ms_within / min(ns)) # use smallest sample size (conservative)\n",
    "\n",
    "hsd"
   ]
  }
 ],
 "metadata": {
  "kernelspec": {
   "display_name": "Python 3",
   "language": "python",
   "name": "python3"
  },
  "language_info": {
   "codemirror_mode": {
    "name": "ipython",
    "version": 3
   },
   "file_extension": ".py",
   "mimetype": "text/x-python",
   "name": "python",
   "nbconvert_exporter": "python",
   "pygments_lexer": "ipython3",
   "version": "3.5.5"
  }
 },
 "nbformat": 4,
 "nbformat_minor": 2
}
