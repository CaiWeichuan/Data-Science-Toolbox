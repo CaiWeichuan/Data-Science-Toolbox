{
 "cells": [
  {
   "cell_type": "code",
   "execution_count": 1,
   "metadata": {},
   "outputs": [],
   "source": [
    "import numpy as np\n",
    "from scipy import stats as st"
   ]
  },
  {
   "cell_type": "code",
   "execution_count": 2,
   "metadata": {},
   "outputs": [],
   "source": [
    "# null hypothesis\n",
    "mu_0 = 151\n",
    "\n",
    "# h_a: sample_mean < mu_0\n",
    "# we want h_a to be in \"desirable direction\"\n",
    "sample_mean = 126\n",
    "sample_std = 50\n",
    "sample_size = 25"
   ]
  },
  {
   "cell_type": "code",
   "execution_count": 3,
   "metadata": {},
   "outputs": [],
   "source": [
    "# standard error\n",
    "se = sample_std / np.sqrt(sample_size)\n",
    "\n",
    "# t-score\n",
    "t = (sample_mean - mu_0) / se"
   ]
  },
  {
   "cell_type": "markdown",
   "metadata": {},
   "source": [
    "##### Using t-value"
   ]
  },
  {
   "cell_type": "code",
   "execution_count": 4,
   "metadata": {},
   "outputs": [],
   "source": [
    "# lookup critical val from table, 5% significance level at d0f = 24\n",
    "t_c = -1.711"
   ]
  },
  {
   "cell_type": "code",
   "execution_count": 5,
   "metadata": {},
   "outputs": [
    {
     "name": "stdout",
     "output_type": "stream",
     "text": [
      "reject null, with t-score = -2.50\n"
     ]
    }
   ],
   "source": [
    "if t < t_c:\n",
    "    print(\"reject null, with t-score = %.2f\"%t)\n",
    "else:\n",
    "    print(\"cannot reject null, with t-score = %.2f\"%t)"
   ]
  },
  {
   "cell_type": "markdown",
   "metadata": {},
   "source": [
    "##### Using p-value"
   ]
  },
  {
   "cell_type": "code",
   "execution_count": 6,
   "metadata": {},
   "outputs": [],
   "source": [
    "# significance level\n",
    "alpha = 0.05\n",
    "\n",
    "# lookup p-value using sample t-score\n",
    "# note that this is left-tailed, and t < 0\n",
    "p = st.t.cdf(t, df=sample_size - 1)"
   ]
  },
  {
   "cell_type": "code",
   "execution_count": 7,
   "metadata": {},
   "outputs": [
    {
     "name": "stdout",
     "output_type": "stream",
     "text": [
      "reject null, with p-val = 0.00983\n"
     ]
    }
   ],
   "source": [
    "if p < alpha:\n",
    "    print(\"reject null, with p-val = %.5f\"%(p))\n",
    "else:\n",
    "    print(\"cannot reject null, with p-val = %.5f\"%(p))"
   ]
  },
  {
   "cell_type": "markdown",
   "metadata": {},
   "source": [
    "##### effect size statistics"
   ]
  },
  {
   "cell_type": "code",
   "execution_count": 8,
   "metadata": {},
   "outputs": [
    {
     "data": {
      "text/plain": [
       "-0.5"
      ]
     },
     "execution_count": 8,
     "metadata": {},
     "output_type": "execute_result"
    }
   ],
   "source": [
    "# cohen's d\n",
    "(sample_mean - mu_0) / sample_std"
   ]
  },
  {
   "cell_type": "code",
   "execution_count": 9,
   "metadata": {},
   "outputs": [
    {
     "data": {
      "text/plain": [
       "0.2066115702479339"
      ]
     },
     "execution_count": 9,
     "metadata": {},
     "output_type": "execute_result"
    }
   ],
   "source": [
    "# r-square\n",
    "ddof = sample_size - 1\n",
    "t ** 2 / (t ** 2 + ddof)"
   ]
  },
  {
   "cell_type": "markdown",
   "metadata": {},
   "source": [
    "##### Confidence interval\n",
    "* for 95% confidence level, 2-tailed.\n",
    "* notice we __cannot__ use t-score from sample, which is 1-tailed."
   ]
  },
  {
   "cell_type": "code",
   "execution_count": 10,
   "metadata": {},
   "outputs": [],
   "source": [
    "# margin of error,\n",
    "z_2t = 2.064\n",
    "me = z_2t * se"
   ]
  },
  {
   "cell_type": "code",
   "execution_count": 11,
   "metadata": {},
   "outputs": [
    {
     "data": {
      "text/plain": [
       "146.64"
      ]
     },
     "execution_count": 11,
     "metadata": {},
     "output_type": "execute_result"
    }
   ],
   "source": [
    "# upper bound\n",
    "sample_mean + me"
   ]
  },
  {
   "cell_type": "code",
   "execution_count": 12,
   "metadata": {},
   "outputs": [
    {
     "data": {
      "text/plain": [
       "105.36"
      ]
     },
     "execution_count": 12,
     "metadata": {},
     "output_type": "execute_result"
    }
   ],
   "source": [
    "# lower bound\n",
    "sample_mean - me"
   ]
  }
 ],
 "metadata": {
  "kernelspec": {
   "display_name": "Python 3",
   "language": "python",
   "name": "python3"
  },
  "language_info": {
   "codemirror_mode": {
    "name": "ipython",
    "version": 3
   },
   "file_extension": ".py",
   "mimetype": "text/x-python",
   "name": "python",
   "nbconvert_exporter": "python",
   "pygments_lexer": "ipython3",
   "version": "3.5.5"
  }
 },
 "nbformat": 4,
 "nbformat_minor": 2
}
