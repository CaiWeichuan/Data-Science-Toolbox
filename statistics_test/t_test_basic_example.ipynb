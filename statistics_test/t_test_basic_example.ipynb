{
 "cells": [
  {
   "cell_type": "code",
   "execution_count": 1,
   "metadata": {},
   "outputs": [],
   "source": [
    "import numpy as np\n",
    "from scipy import stats"
   ]
  },
  {
   "cell_type": "code",
   "execution_count": 2,
   "metadata": {},
   "outputs": [],
   "source": [
    "# null hypothesis: mean <= 10\n",
    "mean_null = 10\n",
    "alpha = 0.05\n",
    "\n",
    "sample = [5, 19, 11, 23, 12, 10, 14, 21]"
   ]
  },
  {
   "cell_type": "code",
   "execution_count": 3,
   "metadata": {},
   "outputs": [
    {
     "name": "stdout",
     "output_type": "stream",
     "text": [
      "\n",
      "sample_mean: 14.375\n",
      "sample_std: 6.140\n",
      "standard error: 2.171\n",
      "t-score: 2.01545\n",
      "\n"
     ]
    }
   ],
   "source": [
    "sample_size = len(sample)\n",
    "\n",
    "sample_mean = np.mean(sample)\n",
    "sample_std = np.std(sample, ddof=1)\n",
    "se = sample_std / np.sqrt(len(sample))\n",
    "t = (sample_mean - mean_null) / se\n",
    "\n",
    "print(\"\"\"\n",
    "sample_mean: %.3f\n",
    "sample_std: %.3f\n",
    "standard error: %.3f\n",
    "t-score: %.5f\n",
    "\"\"\"%(sample_mean, sample_std, se, t))"
   ]
  },
  {
   "cell_type": "markdown",
   "metadata": {},
   "source": [
    "##### Right-tailed\n",
    "* $H_0: \\mu <= 10$ \n",
    "* $H_a: \\mu > 10$ "
   ]
  },
  {
   "cell_type": "code",
   "execution_count": 4,
   "metadata": {},
   "outputs": [
    {
     "name": "stdout",
     "output_type": "stream",
     "text": [
      "reject null: p-val = 0.042\n"
     ]
    }
   ],
   "source": [
    "p_gt = 1 - stats.t.cdf(t, df=sample_size-1)\n",
    "p = p_gt\n",
    "if p < alpha: \n",
    "    print(\"reject null: p-val = %.3f\"%p)\n",
    "else:\n",
    "    print(\"cannot reject null: p-val = %.3f\"%p)"
   ]
  },
  {
   "cell_type": "markdown",
   "metadata": {},
   "source": [
    "#### Left-tailed\n",
    "* $H_0: \\mu >= 10$ \n",
    "* $H_a: \\mu < 10$ \n",
    "* Not very helpful, because sample mean is already bigger than hypothesized mean. We know for sure that testing $\\mu < 10$ will not give statistical significance. Only test direction that may produce significant result."
   ]
  },
  {
   "cell_type": "code",
   "execution_count": 5,
   "metadata": {},
   "outputs": [
    {
     "name": "stdout",
     "output_type": "stream",
     "text": [
      "cannot reject null: p-val = 0.958\n"
     ]
    }
   ],
   "source": [
    "p_lt = stats.t.cdf(t, df=sample_size-1)\n",
    "p = p_lt\n",
    "if p < alpha: \n",
    "    print(\"reject null: p-val = %.3f\"%p)\n",
    "else:\n",
    "    print(\"cannot reject null: p-val = %.3f\"%p)"
   ]
  },
  {
   "cell_type": "markdown",
   "metadata": {},
   "source": [
    "##### Two-tailed\n",
    "* More conservative than one-tailed, i.e. less likely to reject null."
   ]
  },
  {
   "cell_type": "code",
   "execution_count": 6,
   "metadata": {},
   "outputs": [],
   "source": [
    "p_gt = 1 - stats.t.cdf(t, df=sample_size-1)\n",
    "p_lt = stats.t.cdf(-t, df=sample_size-1)"
   ]
  },
  {
   "cell_type": "code",
   "execution_count": 7,
   "metadata": {},
   "outputs": [
    {
     "name": "stdout",
     "output_type": "stream",
     "text": [
      "cannot reject null: p-val = 0.084\n"
     ]
    }
   ],
   "source": [
    "p = p_gt + p_lt\n",
    "if p < alpha: \n",
    "    print(\"reject null: p-val = %.3f\"%p)\n",
    "else:\n",
    "    print(\"cannot reject null: p-val = %.3f\"%p)"
   ]
  }
 ],
 "metadata": {
  "kernelspec": {
   "display_name": "Python 3",
   "language": "python",
   "name": "python3"
  },
  "language_info": {
   "codemirror_mode": {
    "name": "ipython",
    "version": 3
   },
   "file_extension": ".py",
   "mimetype": "text/x-python",
   "name": "python",
   "nbconvert_exporter": "python",
   "pygments_lexer": "ipython3",
   "version": "3.5.5"
  }
 },
 "nbformat": 4,
 "nbformat_minor": 2
}
