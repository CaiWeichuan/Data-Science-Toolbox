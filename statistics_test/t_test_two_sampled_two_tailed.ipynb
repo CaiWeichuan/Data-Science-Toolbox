{
 "cells": [
  {
   "cell_type": "code",
   "execution_count": 1,
   "metadata": {},
   "outputs": [],
   "source": [
    "import pandas as pd\n",
    "import numpy as np\n",
    "from scipy import stats as st"
   ]
  },
  {
   "cell_type": "code",
   "execution_count": 2,
   "metadata": {},
   "outputs": [
    {
     "data": {
      "text/html": [
       "<div>\n",
       "<table border=\"1\" class=\"dataframe\">\n",
       "  <thead>\n",
       "    <tr style=\"text-align: right;\">\n",
       "      <th></th>\n",
       "      <th>Average meal prices at restaurants in Gettysburg ($)</th>\n",
       "      <th>Average meal prices at restaurants in Wilma ($)</th>\n",
       "    </tr>\n",
       "  </thead>\n",
       "  <tbody>\n",
       "    <tr>\n",
       "      <th>0</th>\n",
       "      <td>9</td>\n",
       "      <td>11.0</td>\n",
       "    </tr>\n",
       "    <tr>\n",
       "      <th>1</th>\n",
       "      <td>5</td>\n",
       "      <td>10.0</td>\n",
       "    </tr>\n",
       "    <tr>\n",
       "      <th>2</th>\n",
       "      <td>6</td>\n",
       "      <td>12.0</td>\n",
       "    </tr>\n",
       "    <tr>\n",
       "      <th>3</th>\n",
       "      <td>11</td>\n",
       "      <td>9.0</td>\n",
       "    </tr>\n",
       "    <tr>\n",
       "      <th>4</th>\n",
       "      <td>8</td>\n",
       "      <td>8.0</td>\n",
       "    </tr>\n",
       "  </tbody>\n",
       "</table>\n",
       "</div>"
      ],
      "text/plain": [
       "   Average meal prices at restaurants in Gettysburg ($)  \\\n",
       "0                                                  9      \n",
       "1                                                  5      \n",
       "2                                                  6      \n",
       "3                                                 11      \n",
       "4                                                  8      \n",
       "\n",
       "   Average meal prices at restaurants in Wilma ($)  \n",
       "0                                             11.0  \n",
       "1                                             10.0  \n",
       "2                                             12.0  \n",
       "3                                              9.0  \n",
       "4                                              8.0  "
      ]
     },
     "execution_count": 2,
     "metadata": {},
     "output_type": "execute_result"
    }
   ],
   "source": [
    "df = pd.read_csv(\"data/prices.csv\")\n",
    "sample_size = len(df)\n",
    "df.head()"
   ]
  },
  {
   "cell_type": "code",
   "execution_count": 3,
   "metadata": {},
   "outputs": [],
   "source": [
    "cols = df.columns.values"
   ]
  },
  {
   "cell_type": "code",
   "execution_count": 4,
   "metadata": {},
   "outputs": [],
   "source": [
    "gt = df[cols[0]].dropna()\n",
    "wm = df[cols[1]].dropna()\n",
    "\n",
    "ddof = len(gt) + len(wm) - 2"
   ]
  },
  {
   "cell_type": "code",
   "execution_count": 5,
   "metadata": {},
   "outputs": [],
   "source": [
    "mu_gt = gt.mean()\n",
    "mu_wm = wm.mean()\n",
    "\n",
    "std_gt = gt.std(ddof=1)\n",
    "std_wm = wm.std(ddof=1)"
   ]
  },
  {
   "cell_type": "code",
   "execution_count": 6,
   "metadata": {},
   "outputs": [],
   "source": [
    "se = np.sqrt(std_gt ** 2 / len(gt) + std_wm ** 2 / len(wm))"
   ]
  },
  {
   "cell_type": "markdown",
   "metadata": {},
   "source": [
    "##### Using t-score"
   ]
  },
  {
   "cell_type": "code",
   "execution_count": 7,
   "metadata": {},
   "outputs": [],
   "source": [
    "# for two-tailed test, can go in either positive or negative direction\n",
    "t = (mu_gt - mu_wm) / se"
   ]
  },
  {
   "cell_type": "code",
   "execution_count": 8,
   "metadata": {},
   "outputs": [],
   "source": [
    "# lookup critical val from table, 5% significance level at dof = 30\n",
    "t_c = 2.042"
   ]
  },
  {
   "cell_type": "code",
   "execution_count": 9,
   "metadata": {},
   "outputs": [
    {
     "name": "stdout",
     "output_type": "stream",
     "text": [
      "reject null, with t-score = -2.58\n"
     ]
    }
   ],
   "source": [
    "if t < t_c:\n",
    "    print(\"reject null, with t-score = %.2f\"%t)\n",
    "else:\n",
    "    print(\"cannot reject null, with t-score = %.2f\"%t)"
   ]
  },
  {
   "cell_type": "markdown",
   "metadata": {},
   "source": [
    "##### Using p-value"
   ]
  },
  {
   "cell_type": "code",
   "execution_count": 13,
   "metadata": {},
   "outputs": [],
   "source": [
    "# significance level\n",
    "alpha = 0.05\n",
    "\n",
    "# lookup p-value using sample t-score\n",
    "# note that this is two-tailed, and t < 0\n",
    "p = st.t.cdf(t, df=ddof) * 2"
   ]
  },
  {
   "cell_type": "code",
   "execution_count": 14,
   "metadata": {},
   "outputs": [
    {
     "name": "stdout",
     "output_type": "stream",
     "text": [
      "reject null, with p-val = 0.01513\n"
     ]
    }
   ],
   "source": [
    "if p < alpha:\n",
    "    print(\"reject null, with p-val = %.5f\"%(p))\n",
    "else:\n",
    "    print(\"cannot reject null, with p-val = %.5f\"%(p))"
   ]
  }
 ],
 "metadata": {
  "kernelspec": {
   "display_name": "Python 3",
   "language": "python",
   "name": "python3"
  },
  "language_info": {
   "codemirror_mode": {
    "name": "ipython",
    "version": 3
   },
   "file_extension": ".py",
   "mimetype": "text/x-python",
   "name": "python",
   "nbconvert_exporter": "python",
   "pygments_lexer": "ipython3",
   "version": "3.5.5"
  }
 },
 "nbformat": 4,
 "nbformat_minor": 2
}
