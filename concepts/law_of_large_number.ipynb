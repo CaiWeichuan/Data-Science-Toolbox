{
 "cells": [
  {
   "cell_type": "code",
   "execution_count": 1,
   "metadata": {},
   "outputs": [],
   "source": [
    "import numpy as np\n",
    "import pandas as pd\n",
    "import matplotlib.pyplot as plt"
   ]
  },
  {
   "cell_type": "markdown",
   "metadata": {},
   "source": [
    "#### LLN ensures convergence\n",
    "<img src=\"figs/law_of_large_number_1.png\" alt=\"Drawing\" style=\"height: 250px;\"/>\n",
    "\n",
    "#### Example\n",
    "<img src=\"figs/law_of_large_number_2.png\" alt=\"Drawing\" style=\"height: 100px;\"/>\n",
    "\n",
    "#### Analytical result: 1.75"
   ]
  },
  {
   "cell_type": "code",
   "execution_count": 2,
   "metadata": {},
   "outputs": [],
   "source": [
    "df = pd.DataFrame({\"n\" : np.linspace(100, 50000, 100).astype(int)}).set_index(\"n\")\n",
    "\n",
    "for n in df.index:\n",
    "    df_tmp = pd.DataFrame({\"u\" : np.random.rand(n)})\n",
    "    df_tmp[\"0.5\"] = (df_tmp.u <= 0.5)\n",
    "    df_tmp[\"1\"] = ((df_tmp.u > 0.5) & (df_tmp.u <= 3 / 4))\n",
    "    df_tmp[\"5\"] = (df_tmp.u > 3 / 4)\n",
    "    e = 0\n",
    "    for val in [0.5, 1, 5]:\n",
    "        e += sum(df_tmp[str(val)].astype(int) * val)\n",
    "    df.ix[n, \"EX\"] = e / n"
   ]
  },
  {
   "cell_type": "code",
   "execution_count": 3,
   "metadata": {},
   "outputs": [
    {
     "data": {
      "text/plain": [
       "[<matplotlib.lines.Line2D at 0x109f4b2b0>]"
      ]
     },
     "execution_count": 3,
     "metadata": {},
     "output_type": "execute_result"
    },
    {
     "data": {
      "image/png": "[encoded data removed]",
      "text/plain": [
       "<Figure size 432x288 with 1 Axes>"
      ]
     },
     "metadata": {
      "needs_background": "light"
     },
     "output_type": "display_data"
    }
   ],
   "source": [
    "plt.plot(df.index, df.EX)"
   ]
  },
  {
   "cell_type": "markdown",
   "metadata": {},
   "source": [
    "#### Speed up\n",
    "* Sort probability from high to low.\n",
    "* More likely events get found first (saving for loop time)."
   ]
  },
  {
   "cell_type": "code",
   "execution_count": 4,
   "metadata": {},
   "outputs": [
    {
     "name": "stdout",
     "output_type": "stream",
     "text": [
      "E[X] = 1.757\n"
     ]
    }
   ],
   "source": [
    "p = [[0.5, 0.5],\n",
    "     [0.25, 1],\n",
    "     [0.25, 5]]\n",
    "p = sorted(p, key = lambda x : -x[0])\n",
    "c = np.cumsum([v[0] for v in p])\n",
    "m = {c[i] : p[i][1] for i in range(len(c))}\n",
    "\n",
    "x = []\n",
    "n = 100000\n",
    "for _ in range(n):\n",
    "    u = np.random.rand()\n",
    "    for t in c:\n",
    "        if u < t:\n",
    "            x.append(m[t])\n",
    "            break\n",
    "print(\"E[X] = %.3f\"%(sum(x)/n))"
   ]
  }
 ],
 "metadata": {
  "kernelspec": {
   "display_name": "Python 3",
   "language": "python",
   "name": "python3"
  },
  "language_info": {
   "codemirror_mode": {
    "name": "ipython",
    "version": 3
   },
   "file_extension": ".py",
   "mimetype": "text/x-python",
   "name": "python",
   "nbconvert_exporter": "python",
   "pygments_lexer": "ipython3",
   "version": "3.5.5"
  }
 },
 "nbformat": 4,
 "nbformat_minor": 2
}
