{
 "cells": [
  {
   "cell_type": "code",
   "execution_count": 1,
   "metadata": {},
   "outputs": [],
   "source": [
    "import numpy as np\n",
    "import pandas as pd\n",
    "from matplotlib import pyplot as plt"
   ]
  },
  {
   "cell_type": "markdown",
   "metadata": {},
   "source": [
    "* Monte Carlo integration uses random sampling of a function to numeri- cally compute an estimate of its integral.\n",
    "* \"Area\" between an interval is estimated by by averaging samples of the function f at uniform random points within the interval.\n",
    "* Must quadruple the number of samples in order to reduce the error by half.\n",
    "* Convergence rate for Monte Carlo is independent of the number of dimensions $O(\\sqrt{N})$.\n",
    "\n",
    "<img src=\"figs/monte_carlo_integration.png\" alt=\"Drawing\" style=\"height: 350px;\"/>\n",
    "\n",
    "Ref: https://cs.dartmouth.edu/wjarosz/publications/dissertation/appendixA.pdf"
   ]
  },
  {
   "cell_type": "markdown",
   "metadata": {},
   "source": [
    "#### Example\n",
    "Integrate $f(x) = x^2$ from 0 to 3."
   ]
  },
  {
   "cell_type": "code",
   "execution_count": 5,
   "metadata": {},
   "outputs": [
    {
     "data": {
      "text/plain": [
       "9.003484954041575"
      ]
     },
     "execution_count": 5,
     "metadata": {},
     "output_type": "execute_result"
    }
   ],
   "source": [
    "# number of sample\n",
    "n = 100000\n",
    "uni = np.random.rand(n)\n",
    "\n",
    "# x is sampled at uniformly random from the interval\n",
    "x = uni * (3 - 0)\n",
    "\n",
    "# monte carlo estimator\n",
    "(3 - 0) / n * sum(x ** 2)"
   ]
  },
  {
   "cell_type": "code",
   "execution_count": 4,
   "metadata": {},
   "outputs": [
    {
     "data": {
      "text/plain": [
       "9.0"
      ]
     },
     "execution_count": 4,
     "metadata": {},
     "output_type": "execute_result"
    }
   ],
   "source": [
    "# analytical solution\n",
    "3 ** 3 / 3"
   ]
  },
  {
   "cell_type": "markdown",
   "metadata": {},
   "source": [
    "#### Convergence"
   ]
  },
  {
   "cell_type": "code",
   "execution_count": 15,
   "metadata": {},
   "outputs": [
    {
     "data": {
      "text/plain": [
       "[<matplotlib.lines.Line2D at 0x106765668>]"
      ]
     },
     "execution_count": 15,
     "metadata": {},
     "output_type": "execute_result"
    },
    {
     "data": {
      "image/png": "[encoded data removed]",
      "text/plain": [
       "<Figure size 432x288 with 1 Axes>"
      ]
     },
     "metadata": {
      "needs_background": "light"
     },
     "output_type": "display_data"
    }
   ],
   "source": [
    "err = []\n",
    "# convergence rate\n",
    "for n in range(100, 100000, 100):\n",
    "    uni = np.random.rand(n)\n",
    "    x = uni * (3 - 0)\n",
    "    err.append((3 - 0) / n * sum(x ** 2) - 9)\n",
    "plt.plot(err)"
   ]
  }
 ],
 "metadata": {
  "kernelspec": {
   "display_name": "Python 3",
   "language": "python",
   "name": "python3"
  },
  "language_info": {
   "codemirror_mode": {
    "name": "ipython",
    "version": 3
   },
   "file_extension": ".py",
   "mimetype": "text/x-python",
   "name": "python",
   "nbconvert_exporter": "python",
   "pygments_lexer": "ipython3",
   "version": "3.5.5"
  }
 },
 "nbformat": 4,
 "nbformat_minor": 2
}
