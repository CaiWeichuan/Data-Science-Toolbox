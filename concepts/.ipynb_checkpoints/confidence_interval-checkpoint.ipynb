{
 "cells": [
  {
   "cell_type": "code",
   "execution_count": 1,
   "metadata": {},
   "outputs": [],
   "source": [
    "import numpy as np\n",
    "from matplotlib import pyplot as plt\n",
    "import random as r"
   ]
  },
  {
   "cell_type": "code",
   "execution_count": 2,
   "metadata": {},
   "outputs": [
    {
     "data": {
      "image/png": "[encoded data removed]",
      "text/plain": [
       "<Figure size 432x288 with 1 Axes>"
      ]
     },
     "metadata": {
      "needs_background": "light"
     },
     "output_type": "display_data"
    }
   ],
   "source": [
    "engagement = np.loadtxt('data/engagement.csv')\n",
    "plt.hist(engagement, bins=100)\n",
    "plt.show()"
   ]
  },
  {
   "cell_type": "code",
   "execution_count": 3,
   "metadata": {},
   "outputs": [
    {
     "name": "stdout",
     "output_type": "stream",
     "text": [
      "\n",
      "Population mean: 0.07727\n",
      "Population std: 0.10721\n",
      "Population size: 8702\n",
      "\n"
     ]
    }
   ],
   "source": [
    "mean = np.mean(engagement)\n",
    "std = np.std(engagement)\n",
    "\n",
    "print(\"\"\"\n",
    "Population mean: %.5f\n",
    "Population std: %.5f\n",
    "Population size: %i\n",
    "\"\"\"%(mean, std, len(engagement)))"
   ]
  },
  {
   "cell_type": "markdown",
   "metadata": {},
   "source": [
    "#### Sampling distribution"
   ]
  },
  {
   "cell_type": "code",
   "execution_count": 4,
   "metadata": {},
   "outputs": [],
   "source": [
    "sample_size = 1000\n",
    "n_trials = 1000\n",
    "samples = [[r.choice(engagement) for _ in range(sample_size)] for _ in range(n_trials)]"
   ]
  },
  {
   "cell_type": "code",
   "execution_count": 5,
   "metadata": {},
   "outputs": [
    {
     "name": "stdout",
     "output_type": "stream",
     "text": [
      "\n",
      "sampling distribution mean: 0.07705\n",
      "sampling distribution std: 0.00330\n",
      "analytical std: 0.00339\n",
      "\n"
     ]
    }
   ],
   "source": [
    "means = [np.mean(sample) for sample in samples]\n",
    "\n",
    "# mean of sampling distribution\n",
    "sample_mean = np.mean(means)\n",
    "\n",
    "# empirical standard error\n",
    "sample_std = np.std(means)\n",
    "\n",
    "analytical_std = std / np.sqrt(sample_size)\n",
    "\n",
    "print(\"\"\"\n",
    "sampling distribution mean: %.5f\n",
    "sampling distribution std: %.5f\n",
    "analytical std: %.5f\n",
    "\"\"\"%(sample_mean, sample_std, analytical_std))"
   ]
  },
  {
   "cell_type": "code",
   "execution_count": 6,
   "metadata": {},
   "outputs": [
    {
     "data": {
      "image/png": "[encoded data removed]",
      "text/plain": [
       "<Figure size 432x288 with 1 Axes>"
      ]
     },
     "metadata": {
      "needs_background": "light"
     },
     "output_type": "display_data"
    }
   ],
   "source": [
    "# sampling distribution\n",
    "z = 1.96\n",
    "plt.hist(means, bins=20)\n",
    "plt.axvline(sample_mean - 1.96 * sample_std)\n",
    "plt.axvline(sample_mean + 1.96 * sample_std)\n",
    "plt.show()"
   ]
  },
  {
   "cell_type": "markdown",
   "metadata": {},
   "source": [
    "#### Confidence Interval\n",
    "* in this example, null hypothesis is true.\n",
    "* we get 0.05 false positive rate, under the 95% confidence interval"
   ]
  },
  {
   "cell_type": "code",
   "execution_count": 7,
   "metadata": {},
   "outputs": [],
   "source": [
    "# make 95% confidence interval\n",
    "z = 1.96"
   ]
  },
  {
   "cell_type": "code",
   "execution_count": 8,
   "metadata": {},
   "outputs": [
    {
     "name": "stdout",
     "output_type": "stream",
     "text": [
      "False positive rate: 0.042\n"
     ]
    }
   ],
   "source": [
    "success = 0\n",
    "for sample in samples:\n",
    "    x = np.mean(sample)\n",
    "    s = np.std(sample)\n",
    "    up = x + z * s / np.sqrt(sample_size)\n",
    "    lo = x - z * s / np.sqrt(sample_size)\n",
    "    \n",
    "    if lo <= mean and mean <= up:\n",
    "        success += 1\n",
    "print(\"False positive rate: %.3f\"%(1 - success / len(samples)))"
   ]
  }
 ],
 "metadata": {
  "kernelspec": {
   "display_name": "Python 3",
   "language": "python",
   "name": "python3"
  },
  "language_info": {
   "codemirror_mode": {
    "name": "ipython",
    "version": 3
   },
   "file_extension": ".py",
   "mimetype": "text/x-python",
   "name": "python",
   "nbconvert_exporter": "python",
   "pygments_lexer": "ipython3",
   "version": "3.5.5"
  }
 },
 "nbformat": 4,
 "nbformat_minor": 2
}
