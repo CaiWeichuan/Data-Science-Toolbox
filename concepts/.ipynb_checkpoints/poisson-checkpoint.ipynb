{
 "cells": [
  {
   "cell_type": "code",
   "execution_count": 5,
   "metadata": {},
   "outputs": [],
   "source": [
    "import numpy as np\n",
    "import matplotlib.pyplot as plt"
   ]
  },
  {
   "cell_type": "markdown",
   "metadata": {},
   "source": [
    "#### Simulate with exponential interarrival time\n",
    "* Counting processs N(1) follows poisson distribution.\n",
    "* Let $Y = N(t) + 1$.\n",
    "* Let $t_n$ denotes the occurance time of the n-th event\n",
    "* Number of events that occurs befor time 1 follows poisson distribution: $Y = min(n\\ge1; t_n>1)$ \n",
    "* Get poisson as $N (1) = Y − 1$\n",
    "* Recall that exponential distribution can be simulated as $-(1/\\alpha)*log(1 - U_i)$ or $-(1/\\alpha)*log(U_i)$\n",
    "\n",
    "<img src=\"figs/poisson.png\" alt=\"Drawing\" style=\"height: 110px;\"/>\n",
    "\n",
    "ref: http://www.columbia.edu/~ks20/4404-Sigman/4404-Notes-ITM.pdf"
   ]
  },
  {
   "cell_type": "code",
   "execution_count": 18,
   "metadata": {},
   "outputs": [],
   "source": [
    "def poisson(alpha = 5):\n",
    "    uni = np.random.rand(100)\n",
    "    expo = - (1 / alpha) * np.log(uni)\n",
    "    s = 0\n",
    "    N = 0\n",
    "    while s < 1:\n",
    "        s += expo[N]\n",
    "        N += 1\n",
    "    return N - 1"
   ]
  },
  {
   "cell_type": "code",
   "execution_count": 21,
   "metadata": {},
   "outputs": [
    {
     "data": {
      "image/png": "[encoded data removed]",
      "text/plain": [
       "<Figure size 432x288 with 1 Axes>"
      ]
     },
     "metadata": {
      "needs_background": "light"
     },
     "output_type": "display_data"
    }
   ],
   "source": [
    "alpha = 10\n",
    "m = [poisson(alpha) for _ in range(10000)]\n",
    "plt.hist(m, density=True)\n",
    "plt.show()"
   ]
  }
 ],
 "metadata": {
  "kernelspec": {
   "display_name": "Python 3",
   "language": "python",
   "name": "python3"
  },
  "language_info": {
   "codemirror_mode": {
    "name": "ipython",
    "version": 3
   },
   "file_extension": ".py",
   "mimetype": "text/x-python",
   "name": "python",
   "nbconvert_exporter": "python",
   "pygments_lexer": "ipython3",
   "version": "3.5.5"
  }
 },
 "nbformat": 4,
 "nbformat_minor": 2
}
