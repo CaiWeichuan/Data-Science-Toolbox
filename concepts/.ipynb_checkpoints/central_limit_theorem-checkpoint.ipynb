{
 "cells": [
  {
   "cell_type": "code",
   "execution_count": 1,
   "metadata": {},
   "outputs": [],
   "source": [
    "import random as r\n",
    "import numpy as np\n",
    "from matplotlib import pyplot as plt"
   ]
  },
  {
   "cell_type": "markdown",
   "metadata": {},
   "source": [
    "### Sampling from Exponential Distribution\n",
    "* Use inversion method to simulate esponential distribution.\n",
    "* Check that empirical standard deviation and mean converge to that of analytical."
   ]
  },
  {
   "cell_type": "code",
   "execution_count": 2,
   "metadata": {},
   "outputs": [
    {
     "data": {
      "image/png": "[encoded data removed]",
      "text/plain": [
       "<Figure size 432x288 with 1 Axes>"
      ]
     },
     "metadata": {
      "needs_background": "light"
     },
     "output_type": "display_data"
    }
   ],
   "source": [
    "uni = np.random.rand(10000)\n",
    "\n",
    "# the exponential has mean 1 / lamb, std 1 / lamb\n",
    "lamb = 3\n",
    "expo = - (1 / lamb) * np.log(1 - uni)\n",
    "plt.hist(expo, bins = 100, density=True)\n",
    "plt.show()"
   ]
  },
  {
   "cell_type": "code",
   "execution_count": 3,
   "metadata": {},
   "outputs": [],
   "source": [
    "def draw_sample_with_size(sample_size, silent=True):\n",
    "    sample = [r.choice(expo) for _ in range(sample_size)]\n",
    "    if not silent:\n",
    "        print(\"\"\"\n",
    "        sample mean: %.2f\n",
    "        analytical mean: %.2f\n",
    "        empirical std: %.2f\n",
    "        analytical std: %.2f\n",
    "        \"\"\" % (np.mean(sample), 1 / lamb, np.std(sample), 1 / lamb))\n",
    "    return sample"
   ]
  },
  {
   "cell_type": "code",
   "execution_count": 4,
   "metadata": {},
   "outputs": [
    {
     "name": "stdout",
     "output_type": "stream",
     "text": [
      "\n",
      "        sample mean: 0.37\n",
      "        analytical mean: 0.33\n",
      "        empirical std: 0.22\n",
      "        analytical std: 0.33\n",
      "        \n"
     ]
    }
   ],
   "source": [
    "_ = draw_sample_with_size(sample_size=10, silent=False)"
   ]
  },
  {
   "cell_type": "code",
   "execution_count": 5,
   "metadata": {},
   "outputs": [
    {
     "name": "stdout",
     "output_type": "stream",
     "text": [
      "\n",
      "        sample mean: 0.34\n",
      "        analytical mean: 0.33\n",
      "        empirical std: 0.33\n",
      "        analytical std: 0.33\n",
      "        \n"
     ]
    }
   ],
   "source": [
    "# good convergence to analytical values\n",
    "_ = draw_sample_with_size(sample_size=1000, silent=False)"
   ]
  },
  {
   "cell_type": "markdown",
   "metadata": {},
   "source": [
    "#### Sampling distribution of exponential distribution\n",
    "* Sampling statistic follows normal distribution (when sample size is large).\n",
    "* Standard error decreases as sample size increases."
   ]
  },
  {
   "cell_type": "code",
   "execution_count": 6,
   "metadata": {},
   "outputs": [],
   "source": [
    "def sampling_distribution(sample_size=100, n_trial=100, silent=True):\n",
    "    sample_means = [np.mean(draw_sample_with_size(sample_size=sample_size)) for _ in range(n_trial)]\n",
    "\n",
    "    analytical_mean = (1 / lamb)\n",
    "    empirical_mean = np.mean(sample_means)\n",
    "\n",
    "    analytical_se = (1 / lamb) / np.sqrt(sample_size)\n",
    "    empirical_se = np.std(sample_means)\n",
    "    \n",
    "    if not silent:\n",
    "        print(\"\"\"\n",
    "        sampling distribution\n",
    "        analytical mean: %.2f\n",
    "        empirical mean: %.2f\n",
    "        analytical se: %.2f\n",
    "        empirical se: %.2f\n",
    "        \"\"\"%(analytical_mean, empirical_mean, analytical_se, empirical_se))\n",
    "    \n",
    "    normal = np.random.normal(analytical_mean, analytical_se, n_trial)\n",
    "    plt.hist(sample_means, bins=100, density=True, alpha=0.5)\n",
    "    plt.hist(normal, bins=100, density=True, alpha=0.5)\n",
    "    plt.legend([\"sampling dist\", \"normal dist\"])\n",
    "    plt.show()"
   ]
  },
  {
   "cell_type": "code",
   "execution_count": 7,
   "metadata": {},
   "outputs": [
    {
     "name": "stdout",
     "output_type": "stream",
     "text": [
      "\n",
      "        sampling distribution\n",
      "        analytical mean: 0.33\n",
      "        empirical mean: 0.33\n",
      "        analytical se: 0.24\n",
      "        empirical se: 0.23\n",
      "        \n"
     ]
    },
    {
     "data": {
      "image/png": "[encoded data removed]",
      "text/plain": [
       "<Figure size 432x288 with 1 Axes>"
      ]
     },
     "metadata": {
      "needs_background": "light"
     },
     "output_type": "display_data"
    }
   ],
   "source": [
    "sampling_distribution(sample_size=2, n_trial=10000, silent=False)"
   ]
  },
  {
   "cell_type": "code",
   "execution_count": 8,
   "metadata": {},
   "outputs": [
    {
     "name": "stdout",
     "output_type": "stream",
     "text": [
      "\n",
      "        sampling distribution\n",
      "        analytical mean: 0.33\n",
      "        empirical mean: 0.33\n",
      "        analytical se: 0.15\n",
      "        empirical se: 0.14\n",
      "        \n"
     ]
    },
    {
     "data": {
      "image/png": "[encoded data removed]",
      "text/plain": [
       "<Figure size 432x288 with 1 Axes>"
      ]
     },
     "metadata": {
      "needs_background": "light"
     },
     "output_type": "display_data"
    }
   ],
   "source": [
    "sampling_distribution(sample_size=5, n_trial=10000, silent=False)"
   ]
  },
  {
   "cell_type": "code",
   "execution_count": 9,
   "metadata": {},
   "outputs": [
    {
     "name": "stdout",
     "output_type": "stream",
     "text": [
      "\n",
      "        sampling distribution\n",
      "        analytical mean: 0.33\n",
      "        empirical mean: 0.33\n",
      "        analytical se: 0.11\n",
      "        empirical se: 0.10\n",
      "        \n"
     ]
    },
    {
     "data": {
      "image/png": "[encoded data removed]",
      "text/plain": [
       "<Figure size 432x288 with 1 Axes>"
      ]
     },
     "metadata": {
      "needs_background": "light"
     },
     "output_type": "display_data"
    }
   ],
   "source": [
    "sampling_distribution(sample_size=10, n_trial=10000, silent=False)"
   ]
  },
  {
   "cell_type": "code",
   "execution_count": 10,
   "metadata": {},
   "outputs": [
    {
     "name": "stdout",
     "output_type": "stream",
     "text": [
      "\n",
      "        sampling distribution\n",
      "        analytical mean: 0.33\n",
      "        empirical mean: 0.33\n",
      "        analytical se: 0.03\n",
      "        empirical se: 0.03\n",
      "        \n"
     ]
    },
    {
     "data": {
      "image/png": "[encoded data removed]",
      "text/plain": [
       "<Figure size 432x288 with 1 Axes>"
      ]
     },
     "metadata": {
      "needs_background": "light"
     },
     "output_type": "display_data"
    }
   ],
   "source": [
    "sampling_distribution(sample_size=100, n_trial=10000, silent=False)"
   ]
  }
 ],
 "metadata": {
  "kernelspec": {
   "display_name": "Python 3",
   "language": "python",
   "name": "python3"
  },
  "language_info": {
   "codemirror_mode": {
    "name": "ipython",
    "version": 3
   },
   "file_extension": ".py",
   "mimetype": "text/x-python",
   "name": "python",
   "nbconvert_exporter": "python",
   "pygments_lexer": "ipython3",
   "version": "3.5.5"
  }
 },
 "nbformat": 4,
 "nbformat_minor": 2
}
