{
 "cells": [
  {
   "cell_type": "code",
   "execution_count": 1,
   "metadata": {},
   "outputs": [],
   "source": [
    "import numpy as np\n",
    "from scipy import stats"
   ]
  },
  {
   "cell_type": "markdown",
   "metadata": {},
   "source": [
    "#### Example from Udacity's [inference](https://classroom.udacity.com/courses/ud201/lessons/1333678604/concepts/1479057520923) course\n",
    "\n",
    "<img src=\"figs/finches.png\" alt=\"Drawing\" style=\"height: 300px;\"/>"
   ]
  },
  {
   "cell_type": "code",
   "execution_count": 2,
   "metadata": {},
   "outputs": [],
   "source": [
    "sample = np.loadtxt('data/finches.csv')\n",
    "\n",
    "# null hypothesis\n",
    "mu = 6.07"
   ]
  },
  {
   "cell_type": "code",
   "execution_count": 3,
   "metadata": {},
   "outputs": [
    {
     "data": {
      "text/plain": [
       "6.469600000000001"
      ]
     },
     "execution_count": 3,
     "metadata": {},
     "output_type": "execute_result"
    }
   ],
   "source": [
    "np.mean(sample)"
   ]
  },
  {
   "cell_type": "code",
   "execution_count": 4,
   "metadata": {},
   "outputs": [
    {
     "name": "stdout",
     "output_type": "stream",
     "text": [
      "\n",
      "sample_mean: 6.470\n",
      "sample_std: 0.396\n",
      "np_std:  0.396\n",
      "standard error: 0.018\n",
      "\n"
     ]
    }
   ],
   "source": [
    "sample_size = len(sample)\n",
    "sample_mean = np.mean(sample)\n",
    "\n",
    "sample_std = np.sqrt(sum((x - sample_mean)**2 for x in sample) / (sample_size - 1))\n",
    "\n",
    "# alternatively, set ddof variable in np.std\n",
    "np_std = np.std(sample, ddof=1)\n",
    "\n",
    "se = sample_std / np.sqrt(sample_size)\n",
    "\n",
    "print(\"\"\"\n",
    "sample_mean: %.3f\n",
    "sample_std: %.3f\n",
    "np_std:  %.3f\n",
    "standard error: %.3f\n",
    "\"\"\"%(sample_mean, sample_std, np_std, se))"
   ]
  },
  {
   "cell_type": "code",
   "execution_count": 5,
   "metadata": {},
   "outputs": [
    {
     "name": "stdout",
     "output_type": "stream",
     "text": [
      "t-score: 22.557\n"
     ]
    }
   ],
   "source": [
    "# t-score\n",
    "t = (sample_mean - mu) / se\n",
    "print(\"t-score: %.3f\"%t)"
   ]
  },
  {
   "cell_type": "code",
   "execution_count": 6,
   "metadata": {},
   "outputs": [
    {
     "name": "stdout",
     "output_type": "stream",
     "text": [
      "p-val: 0.0000000000\n"
     ]
    }
   ],
   "source": [
    "p = (1 - stats.t.cdf(t, df=sample_size - 1)) * 2\n",
    "print(\"p-val: %.10f\"%p)"
   ]
  }
 ],
 "metadata": {
  "kernelspec": {
   "display_name": "Python 3",
   "language": "python",
   "name": "python3"
  },
  "language_info": {
   "codemirror_mode": {
    "name": "ipython",
    "version": 3
   },
   "file_extension": ".py",
   "mimetype": "text/x-python",
   "name": "python",
   "nbconvert_exporter": "python",
   "pygments_lexer": "ipython3",
   "version": "3.5.5"
  }
 },
 "nbformat": 4,
 "nbformat_minor": 2
}
