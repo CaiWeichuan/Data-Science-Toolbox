{
 "cells": [
  {
   "cell_type": "code",
   "execution_count": 1,
   "metadata": {},
   "outputs": [],
   "source": [
    "import numpy as np\n",
    "from scipy.stats import beta, t, norm\n",
    "from scipy.special import btdtri\n",
    "import matplotlib.pyplot as plt"
   ]
  },
  {
   "cell_type": "code",
   "execution_count": 2,
   "metadata": {},
   "outputs": [
    {
     "name": "stdout",
     "output_type": "stream",
     "text": [
      "success = 7, failure = 3\n"
     ]
    }
   ],
   "source": [
    "p = 0.61\n",
    "n = 10\n",
    "\n",
    "prior_a = 6\n",
    "prior_b = 10\n",
    "\n",
    "success = np.random.binomial(p=p, n=n)\n",
    "failure = n - success\n",
    "print(\"success = %i, failure = %i\"%(success, failure))"
   ]
  },
  {
   "cell_type": "code",
   "execution_count": 3,
   "metadata": {},
   "outputs": [
    {
     "name": "stdout",
     "output_type": "stream",
     "text": [
      "95% credible interval: [0.313, 0.687]\n"
     ]
    }
   ],
   "source": [
    "a = prior_a + success\n",
    "b = prior_b + failure\n",
    "rv = beta(a, b)\n",
    "\n",
    "b_up = btdtri(a, b, 0.975)\n",
    "b_lo = btdtri(a, b, 0.025)\n",
    "\n",
    "print(\"95%% credible interval: [%.3f, %.3f]\"%(b_lo, b_up))"
   ]
  },
  {
   "cell_type": "code",
   "execution_count": 4,
   "metadata": {},
   "outputs": [
    {
     "name": "stdout",
     "output_type": "stream",
     "text": [
      "95% confidence interval: [0.416, 0.984]\n"
     ]
    }
   ],
   "source": [
    "p_hat = success / n\n",
    "se = np.sqrt(p_hat * (1 - p_hat) / n)\n",
    "\n",
    "f_up = p_hat + 1.96 * se\n",
    "f_lo = p_hat - 1.96 * se\n",
    "\n",
    "print(\"95%% confidence interval: [%.3f, %.3f]\"%(f_lo, f_up))"
   ]
  },
  {
   "cell_type": "code",
   "execution_count": 5,
   "metadata": {},
   "outputs": [
    {
     "data": {
      "text/plain": [
       "<matplotlib.legend.Legend at 0x1115b2ba8>"
      ]
     },
     "execution_count": 5,
     "metadata": {},
     "output_type": "execute_result"
    },
    {
     "data": {
      "image/png": "[encoded data removed]",
      "text/plain": [
       "<Figure size 432x288 with 1 Axes>"
      ]
     },
     "metadata": {
      "needs_background": "light"
     },
     "output_type": "display_data"
    }
   ],
   "source": [
    "x = np.linspace(-1, 2, 1000)\n",
    "\n",
    "fig, ax = plt.subplots()\n",
    "\n",
    "ax.plot(x, rv.pdf(x), color='blue')\n",
    "ax.plot(x, norm.pdf(x, loc=p_hat, scale=se), color='r')\n",
    "\n",
    "# bayesian credible interval\n",
    "right_line = ax.axvline(b_up, lw=2, color='blue')\n",
    "left_line = ax.axvline(b_lo, lw=2, color='blue')\n",
    "fill = ax.axvspan(b_lo, b_up, alpha=0.2, color='blue')\n",
    "\n",
    "# frequentist confidence interval\n",
    "right_line = ax.axvline(f_up, lw=2, color='r')\n",
    "left_line = ax.axvline(f_lo, lw=2, color='r')\n",
    "fill = ax.axvspan(f_lo, f_up, alpha=0.2, color='r')\n",
    "\n",
    "ax.legend([\"beta\", \"normal\"])"
   ]
  }
 ],
 "metadata": {
  "kernelspec": {
   "display_name": "Python 3",
   "language": "python",
   "name": "python3"
  },
  "language_info": {
   "codemirror_mode": {
    "name": "ipython",
    "version": 3
   },
   "file_extension": ".py",
   "mimetype": "text/x-python",
   "name": "python",
   "nbconvert_exporter": "python",
   "pygments_lexer": "ipython3",
   "version": "3.5.5"
  }
 },
 "nbformat": 4,
 "nbformat_minor": 2
}
