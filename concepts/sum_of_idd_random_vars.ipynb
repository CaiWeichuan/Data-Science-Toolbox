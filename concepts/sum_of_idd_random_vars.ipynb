{
 "cells": [
  {
   "cell_type": "code",
   "execution_count": 1,
   "metadata": {},
   "outputs": [],
   "source": [
    "import random as r\n",
    "import numpy as np\n",
    "from math import ceil\n",
    "from matplotlib import pyplot as plt"
   ]
  },
  {
   "cell_type": "markdown",
   "metadata": {},
   "source": [
    "### Dice Throw\n",
    "* Six outcome are uniformly likely.\n",
    "* Throw n dice and add them, the sum follows uniform distribution."
   ]
  },
  {
   "cell_type": "code",
   "execution_count": 2,
   "metadata": {},
   "outputs": [
    {
     "name": "stdout",
     "output_type": "stream",
     "text": [
      "Single draw has mean 3.50, std 1.71\n"
     ]
    }
   ],
   "source": [
    "outcome_space = [1, 2, 3, 4, 5, 6]\n",
    "mean = np.mean(outcome_space)\n",
    "std = np.std(outcome_space)\n",
    "print(\"Single draw has mean %.2f, std %.2f\"%(mean, std))"
   ]
  },
  {
   "cell_type": "code",
   "execution_count": 3,
   "metadata": {},
   "outputs": [],
   "source": [
    "def throw_n_dice(n):\n",
    "    \"\"\"\n",
    "    Return the results on n dice throws in a list.\n",
    "    \"\"\"\n",
    "    return [ceil(r.random() / (1 / 6)) for _ in range(n)]"
   ]
  },
  {
   "cell_type": "code",
   "execution_count": 4,
   "metadata": {},
   "outputs": [],
   "source": [
    "def throw_dice(n_dice, n_trial, silent=True):\n",
    "    \"\"\"\n",
    "    Throw n dices for n trials, plot histogram of sum of n dices\n",
    "    \"\"\"\n",
    "    res = [sum(throw_n_dice(n_dice)) for _ in range(n_trial)]\n",
    "    analytical_mean = mean * n_dice\n",
    "    analytical_std = std * np.sqrt(n_dice) # independent draw\n",
    "    if not silent:\n",
    "        print(\"\"\"\n",
    "        distribution of sum of i.d.d. random vars\n",
    "        mean: %.2f\n",
    "        analytical mean: %.2f\n",
    "        std: %.2f\n",
    "        analytical std: %.2f\n",
    "        \"\"\"%(np.mean(res), analytical_mean, np.std(res), analytical_std))\n",
    "    plt.hist(res)"
   ]
  },
  {
   "cell_type": "code",
   "execution_count": 5,
   "metadata": {},
   "outputs": [
    {
     "name": "stdout",
     "output_type": "stream",
     "text": [
      "\n",
      "        distribution of sum of i.d.d. random vars\n",
      "        mean: 3.49\n",
      "        analytical mean: 3.50\n",
      "        std: 1.70\n",
      "        analytical std: 1.71\n",
      "        \n"
     ]
    },
    {
     "data": {
      "image/png": "[encoded data removed]",
      "text/plain": [
       "<Figure size 432x288 with 1 Axes>"
      ]
     },
     "metadata": {
      "needs_background": "light"
     },
     "output_type": "display_data"
    }
   ],
   "source": [
    "throw_dice(n_dice=1, n_trial=10000, silent=False)"
   ]
  },
  {
   "cell_type": "code",
   "execution_count": 6,
   "metadata": {},
   "outputs": [
    {
     "name": "stdout",
     "output_type": "stream",
     "text": [
      "\n",
      "        distribution of sum of i.d.d. random vars\n",
      "        mean: 6.98\n",
      "        analytical mean: 7.00\n",
      "        std: 2.44\n",
      "        analytical std: 2.42\n",
      "        \n"
     ]
    },
    {
     "data": {
      "image/png": "[encoded data removed]",
      "text/plain": [
       "<Figure size 432x288 with 1 Axes>"
      ]
     },
     "metadata": {
      "needs_background": "light"
     },
     "output_type": "display_data"
    }
   ],
   "source": [
    "throw_dice(n_dice=2, n_trial=10000, silent=False)"
   ]
  },
  {
   "cell_type": "code",
   "execution_count": 7,
   "metadata": {},
   "outputs": [
    {
     "name": "stdout",
     "output_type": "stream",
     "text": [
      "\n",
      "        distribution of sum of i.d.d. random vars\n",
      "        mean: 349.65\n",
      "        analytical mean: 350.00\n",
      "        std: 17.07\n",
      "        analytical std: 17.08\n",
      "        \n"
     ]
    },
    {
     "data": {
      "image/png": "[encoded data removed]",
      "text/plain": [
       "<Figure size 432x288 with 1 Axes>"
      ]
     },
     "metadata": {
      "needs_background": "light"
     },
     "output_type": "display_data"
    }
   ],
   "source": [
    "throw_dice(n_dice=100, n_trial=10000, silent=False)"
   ]
  }
 ],
 "metadata": {
  "kernelspec": {
   "display_name": "Python 3",
   "language": "python",
   "name": "python3"
  },
  "language_info": {
   "codemirror_mode": {
    "name": "ipython",
    "version": 3
   },
   "file_extension": ".py",
   "mimetype": "text/x-python",
   "name": "python",
   "nbconvert_exporter": "python",
   "pygments_lexer": "ipython3",
   "version": "3.5.5"
  }
 },
 "nbformat": 4,
 "nbformat_minor": 2
}
