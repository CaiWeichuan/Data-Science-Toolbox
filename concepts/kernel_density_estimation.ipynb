{
 "cells": [
  {
   "cell_type": "code",
   "execution_count": 1,
   "metadata": {},
   "outputs": [],
   "source": [
    "import numpy as np\n",
    "import pandas as pd\n",
    "from matplotlib import pyplot as plt"
   ]
  },
  {
   "cell_type": "code",
   "execution_count": 2,
   "metadata": {},
   "outputs": [],
   "source": [
    "def kde(z, w, xv):\n",
    "    \"\"\"\n",
    "    @param z: center of gaussian kernel\n",
    "    @param w: standard deviation of gaussian kernel\n",
    "    @param xv: survey point\n",
    "    \"\"\"\n",
    "    return sum(np.exp(-0.5 * ((z - xv) / (2 * w)) ** 2) / np.sqrt(2 * np.pi * w ** 2))"
   ]
  },
  {
   "cell_type": "code",
   "execution_count": 4,
   "metadata": {},
   "outputs": [],
   "source": [
    "def density_estimate(y, w=0.1):\n",
    "    \"\"\"\n",
    "    @param y: array of points\n",
    "    @param w: bandwidth (standard deviation of gaussian kernel)\n",
    "    \"\"\"\n",
    "    df = pd.DataFrame(columns=[\"x\", \"y\"])\n",
    "    for x in np.linspace(min(y) - w, max(y) + w, 1000):\n",
    "        df = df.append({\"x\": x, \"y\" : kde(x, w, y)}, ignore_index=True)\n",
    "    df.y = df.y\n",
    "    return df"
   ]
  },
  {
   "cell_type": "markdown",
   "metadata": {},
   "source": [
    "\n",
    "<img src=\"figs/kernel_density_estimation_2.png\" alt=\"Drawing\" style=\"height: 200px;\"/>\n",
    "\n",
    "* To form a KDE, we place a kernel—that is, a smooth, strongly peaked function—at the position of each data point. \n",
    "* We then add up the contributions from all kernels to obtain a smooth curve, which we can evaluate at any point along the x axis.\n",
    "* The curve resulting from the KDE does not depend strongly on the particular choice of kernel function.\n",
    "\n",
    "<img src=\"figs/kernel_density_estimation_1.png\" alt=\"Drawing\" style=\"height: 500px;\"/>"
   ]
  },
  {
   "cell_type": "code",
   "execution_count": 3,
   "metadata": {},
   "outputs": [
    {
     "data": {
      "text/plain": [
       "array([ 94,  48,  96,  96,  96,  48,  96,  48,   1,  47,  48,  16,  32,\n",
       "        48,  48,  49,  47,  96,  48,   7,  41,  48,  48,  48,  54,  90,\n",
       "        48,  96,  29,  67,  48, 146,  92,  96,  34,  62,  67,  29,  48,\n",
       "        96,  48,  96,  96])"
      ]
     },
     "execution_count": 3,
     "metadata": {},
     "output_type": "execute_result"
    }
   ],
   "source": [
    "d = pd.read_csv(\"data/presidents.csv\", header=None)[2].values\n",
    "d"
   ]
  },
  {
   "cell_type": "code",
   "execution_count": 5,
   "metadata": {},
   "outputs": [],
   "source": [
    "df = density_estimate(d, w=1)"
   ]
  },
  {
   "cell_type": "code",
   "execution_count": 7,
   "metadata": {},
   "outputs": [
    {
     "data": {
      "text/plain": [
       "Text(0.5, 1.0, 'Kernel Density Estimates')"
      ]
     },
     "execution_count": 7,
     "metadata": {},
     "output_type": "execute_result"
    },
    {
     "data": {
      "image/png": "[encoded data removed]",
      "text/plain": [
       "<Figure size 864x576 with 1 Axes>"
      ]
     },
     "metadata": {
      "needs_background": "light"
     },
     "output_type": "display_data"
    }
   ],
   "source": [
    "plt.figure(figsize=(12, 8))\n",
    "plt.plot(df.x, df.y)\n",
    "plt.hist(d, bins=20, alpha=0.3)\n",
    "plt.title(\"Kernel Density Estimates\")"
   ]
  },
  {
   "cell_type": "markdown",
   "metadata": {},
   "source": [
    "__using library__: https://jakevdp.github.io/blog/2013/12/01/kernel-density-estimation/"
   ]
  }
 ],
 "metadata": {
  "kernelspec": {
   "display_name": "Python 3",
   "language": "python",
   "name": "python3"
  },
  "language_info": {
   "codemirror_mode": {
    "name": "ipython",
    "version": 3
   },
   "file_extension": ".py",
   "mimetype": "text/x-python",
   "name": "python",
   "nbconvert_exporter": "python",
   "pygments_lexer": "ipython3",
   "version": "3.5.5"
  }
 },
 "nbformat": 4,
 "nbformat_minor": 2
}
