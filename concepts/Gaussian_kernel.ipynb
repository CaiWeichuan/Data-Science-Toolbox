{
 "cells": [
  {
   "cell_type": "code",
   "execution_count": 47,
   "metadata": {},
   "outputs": [],
   "source": [
    "from matplotlib import pyplot as plt\n",
    "from random import random,randint\n",
    "import math\n",
    "import numpy sv as np\n",
    "\n",
    "def wineprice(rating,age):\n",
    "    peak_age=rating-50\n",
    "    # Calculate price based on rating\n",
    "    price=rating/2\n",
    "    if age>peak_age:\n",
    "        # Past its peak, goes bad in 5 years\n",
    "        price=price*(5-(age-peak_age))\n",
    "    else:\n",
    "        # Increases to 5x original value as it\n",
    "        # approaches its peak\n",
    "        price=price*(5*((age+1)/peak_age))\n",
    "    if price<0: price=0\n",
    "    return price\n",
    "\n",
    "\n",
    "def wineset1(): \n",
    "    rows=[]\n",
    "    for i in range(300):\n",
    "        # Create a random age and rating \n",
    "        rating=random( )*50+50 \n",
    "        age=random( )*50\n",
    "        # Get reference price\n",
    "        price=wineprice(rating,age)\n",
    "\n",
    "        # Add some noise \n",
    "        price*=(random( )*0.4+0.8)\n",
    "\n",
    "        # Add to the dataset\n",
    "        rows.append({'input':(rating,age),\n",
    "                          'result':price})\n",
    "    return rows\n",
    "\n",
    "def wineset3(): \n",
    "    rows=wineset1( ) \n",
    "    for row in rows:\n",
    "        if random()<0.5:\n",
    "        # Wine was bought at a discount store \n",
    "            row['result']*=0.6\n",
    "    return rows\n",
    "\n",
    "def gaussian(dist,sigma=10.0):\n",
    "    return math.e**(-dist**2/(2*sigma**2))\n",
    "\n",
    "def probguess(data,vec1,low,high,k=5,weightf=gaussian):\n",
    "    dlist=getdistances(data,vec1)\n",
    "    nweight=0.0\n",
    "    tweight=0.0\n",
    "    for i in range(k):\n",
    "        dist=dlist[i][0]\n",
    "        idx=dlist[i][1]\n",
    "        weight=weightf(dist)\n",
    "        v=data[idx]['result']\n",
    "        # Is this point in the range?\n",
    "        if v>=low and v<=high:\n",
    "            nweight+=weight\n",
    "        tweight+=weight\n",
    "    if tweight==0: \n",
    "        return 0\n",
    "    # The probability is the weights in the range\n",
    "    # divided by all the weights\n",
    "    return nweight/tweight\n",
    "\n",
    "def euclidean(v1,v2):\n",
    "    d=0.0\n",
    "    for i in range(len(v1)):\n",
    "        d+=(v1[i]-v2[i])**2\n",
    "    return math.sqrt(d)\n",
    "\n",
    "def getdistances(data,vec1):\n",
    "    distancelist=[]\n",
    "    for i in range(len(data)):\n",
    "        vec2=data[i]['input']\n",
    "        distancelist.append((euclidean(vec1,vec2),i)) \n",
    "    distancelist.sort( )\n",
    "    return distancelist\n",
    "\n",
    "def probabilitygraph(data,vec1,high,k=5,weightf=gaussian,ss=5.0):\n",
    "    # Make a range for the prices\n",
    "    t1=np.linspace(0.0,high,high/0.1)\n",
    "    print(t1)\n",
    "    # Get the probabilities for the entire range\n",
    "    probs=[probguess(data,vec1,v,v+0.1,k,weightf) for v in t1]\n",
    "    # Smooth them by adding the gaussian of the nearby probabilites\n",
    "    smoothed=[]\n",
    "    for i in range(len(probs)):\n",
    "        sv=0.0\n",
    "        for j in range(0,len(probs)):\n",
    "            dist=abs(i-j)*0.1\n",
    "            weight=gaussian(dist,sigma=ss)\n",
    "            sv+=weight*probs[j]\n",
    "        smoothed.append(sv)\n",
    "    smoothed=list(smoothed)\n",
    "    print(len(smoothed))\n",
    "    plt.plot(t1,smoothed) \n",
    "    plt.show( )"
   ]
  },
  {
   "cell_type": "code",
   "execution_count": 48,
   "metadata": {},
   "outputs": [],
   "source": [
    "data = wineset3()"
   ]
  },
  {
   "cell_type": "code",
   "execution_count": 49,
   "metadata": {},
   "outputs": [
    {
     "name": "stdout",
     "output_type": "stream",
     "text": [
      "[0.         0.10169492 0.20338983 0.30508475 0.40677966 0.50847458\n",
      " 0.61016949 0.71186441 0.81355932 0.91525424 1.01694915 1.11864407\n",
      " 1.22033898 1.3220339  1.42372881 1.52542373 1.62711864 1.72881356\n",
      " 1.83050847 1.93220339 2.03389831 2.13559322 2.23728814 2.33898305\n",
      " 2.44067797 2.54237288 2.6440678  2.74576271 2.84745763 2.94915254\n",
      " 3.05084746 3.15254237 3.25423729 3.3559322  3.45762712 3.55932203\n",
      " 3.66101695 3.76271186 3.86440678 3.96610169 4.06779661 4.16949153\n",
      " 4.27118644 4.37288136 4.47457627 4.57627119 4.6779661  4.77966102\n",
      " 4.88135593 4.98305085 5.08474576 5.18644068 5.28813559 5.38983051\n",
      " 5.49152542 5.59322034 5.69491525 5.79661017 5.89830508 6.        ]\n",
      "60\n"
     ]
    },
    {
     "name": "stderr",
     "output_type": "stream",
     "text": [
      "/Users/shawlu/anaconda3/lib/python3.6/site-packages/ipykernel_launcher.py:84: DeprecationWarning: object of type <class 'float'> cannot be safely interpreted as an integer.\n"
     ]
    },
    {
     "data": {
      "image/png": "[encoded data removed]",
      "text/plain": [
       "<matplotlib.figure.Figure at 0x10f17f400>"
      ]
     },
     "metadata": {},
     "output_type": "display_data"
    }
   ],
   "source": [
    "probabilitygraph(data,(1,1),6)"
   ]
  }
 ],
 "metadata": {
  "kernelspec": {
   "display_name": "Python 3",
   "language": "python",
   "name": "python3"
  },
  "language_info": {
   "codemirror_mode": {
    "name": "ipython",
    "version": 3
   },
   "file_extension": ".py",
   "mimetype": "text/x-python",
   "name": "python",
   "nbconvert_exporter": "python",
   "pygments_lexer": "ipython3",
   "version": "3.5.5"
  }
 },
 "nbformat": 4,
 "nbformat_minor": 2
}
