{
 "cells": [
  {
   "cell_type": "code",
   "execution_count": 1,
   "metadata": {},
   "outputs": [],
   "source": [
    "import random as r\n",
    "import matplotlib.pyplot as plt\n",
    "import numpy as np"
   ]
  },
  {
   "cell_type": "markdown",
   "metadata": {},
   "source": [
    "#### Define simulaiton parameters"
   ]
  },
  {
   "cell_type": "code",
   "execution_count": 2,
   "metadata": {},
   "outputs": [],
   "source": [
    "N = 100 # population size\n",
    "k = 10 # sample size\n",
    "n_sample = 100 # number of samples in each estimate of success prob"
   ]
  },
  {
   "cell_type": "code",
   "execution_count": 3,
   "metadata": {},
   "outputs": [],
   "source": [
    "population = [False] * N\n",
    "\n",
    "idx = r.randint(0, N - 1)\n",
    "population[idx] = True"
   ]
  },
  {
   "cell_type": "code",
   "execution_count": 4,
   "metadata": {},
   "outputs": [],
   "source": [
    "def reservior_sampling():\n",
    "    \"\"\"\n",
    "    One pass through the stream.\n",
    "    With probability k / N, True will be in the sample.\n",
    "    \"\"\"\n",
    "    N = len(population)\n",
    "    sample = []\n",
    "    for n, flag in enumerate(population):\n",
    "        if len(sample) < k:\n",
    "            # keep the first k elements\n",
    "            sample.append(flag)\n",
    "        else:\n",
    "            # with probability k / (n + 1), replace an existing element uniformly at random\n",
    "            if r.random() <= k / (n + 1):\n",
    "                sample[r.randint(0, k - 1)] = flag\n",
    "    assert(len(sample) == k)\n",
    "    return any(sample) is True"
   ]
  },
  {
   "cell_type": "code",
   "execution_count": 5,
   "metadata": {},
   "outputs": [
    {
     "name": "stdout",
     "output_type": "stream",
     "text": [
      "probability: 18.00% (expect: 10.00%)\n"
     ]
    }
   ],
   "source": [
    "def success_prob():\n",
    "    \"\"\"\n",
    "    Success probability is empirically estimated as the\n",
    "    number od trial that ended up with True in sample.\n",
    "    \"\"\"\n",
    "    success = 0\n",
    "    for _ in range(n_sample):\n",
    "        if reservior_sampling():\n",
    "            success += 1\n",
    "    prob = success / n_sample\n",
    "    return prob\n",
    "\n",
    "print(\"probability: %.2f%% (expect: %.2f%%)\"%(100 * success_prob(), 100 * k / N))"
   ]
  },
  {
   "cell_type": "markdown",
   "metadata": {},
   "source": [
    "#### Central Limit Theorem\n",
    "* Sampling distirbution of success_prob has mean *k/N*, and follows normal distribution.\n",
    "* Thanks to reservior sampling, the number of samples in each trial that contains True follows binomial distribution"
   ]
  },
  {
   "cell_type": "code",
   "execution_count": 6,
   "metadata": {},
   "outputs": [],
   "source": [
    "n_trial = 1000\n",
    "success_probs = [success_prob() for _ in range(n_trial)]"
   ]
  },
  {
   "cell_type": "code",
   "execution_count": 7,
   "metadata": {},
   "outputs": [
    {
     "name": "stdout",
     "output_type": "stream",
     "text": [
      "\n",
      "mean_empirical: 0.101\n",
      "mean_analytical: 0.100\n",
      "se_empirical: 0.030\n",
      "se_analytical: 0.030\n",
      "\n"
     ]
    }
   ],
   "source": [
    "mean_empirical = np.mean(success_probs)\n",
    "mean_analytical = k / N\n",
    "\n",
    "se_empirical = np.std(success_probs)\n",
    "se_analytical = np.sqrt(mean_analytical * (1 - mean_analytical) / N)\n",
    "\n",
    "print(\"\"\"\n",
    "mean_empirical: %.3f\n",
    "mean_analytical: %.3f\n",
    "se_empirical: %.3f\n",
    "se_analytical: %.3f\n",
    "\"\"\"%(mean_empirical, mean_analytical, se_empirical, se_analytical))"
   ]
  },
  {
   "cell_type": "code",
   "execution_count": 8,
   "metadata": {},
   "outputs": [
    {
     "data": {
      "text/plain": [
       "(array([  5.,  14.,  95., 185., 269., 234., 133.,  42.,  17.,   6.]),\n",
       " array([0.   , 0.021, 0.042, 0.063, 0.084, 0.105, 0.126, 0.147, 0.168,\n",
       "        0.189, 0.21 ]),\n",
       " <a list of 10 Patch objects>)"
      ]
     },
     "execution_count": 8,
     "metadata": {},
     "output_type": "execute_result"
    },
    {
     "data": {
      "image/png": "[encoded data removed]",
      "text/plain": [
       "<Figure size 432x288 with 1 Axes>"
      ]
     },
     "metadata": {
      "needs_background": "light"
     },
     "output_type": "display_data"
    }
   ],
   "source": [
    "plt.hist(success_probs)"
   ]
  }
 ],
 "metadata": {
  "kernelspec": {
   "display_name": "Python 3",
   "language": "python",
   "name": "python3"
  },
  "language_info": {
   "codemirror_mode": {
    "name": "ipython",
    "version": 3
   },
   "file_extension": ".py",
   "mimetype": "text/x-python",
   "name": "python",
   "nbconvert_exporter": "python",
   "pygments_lexer": "ipython3",
   "version": "3.5.5"
  }
 },
 "nbformat": 4,
 "nbformat_minor": 2
}
