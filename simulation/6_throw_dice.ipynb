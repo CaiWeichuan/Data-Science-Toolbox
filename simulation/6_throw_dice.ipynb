{
 "cells": [
  {
   "cell_type": "code",
   "execution_count": 1,
   "metadata": {},
   "outputs": [],
   "source": [
    "import numpy as np\n",
    "from collections import Counter\n",
    "import operator"
   ]
  },
  {
   "cell_type": "markdown",
   "metadata": {},
   "source": [
    "__Throw__ a fair dice 6 times, what is the probability we will roll some number exactly 4 times?"
   ]
  },
  {
   "cell_type": "markdown",
   "metadata": {},
   "source": [
    "#### Simulation"
   ]
  },
  {
   "cell_type": "code",
   "execution_count": 2,
   "metadata": {},
   "outputs": [],
   "source": [
    "def row_die(face=6, row=1):\n",
    "    return np.random.choice(list(range(1, 1 + face)), row)"
   ]
  },
  {
   "cell_type": "code",
   "execution_count": 3,
   "metadata": {},
   "outputs": [
    {
     "name": "stdout",
     "output_type": "stream",
     "text": [
      "completed 99.99%\n",
      "prob 4.80%\n"
     ]
    }
   ],
   "source": [
    "success = 0\n",
    "n_trial = 1000000\n",
    "for i in range(n_trial):\n",
    "    counted = dict(Counter(row_die(face=6, row=6)))\n",
    "    if max(counted.items(), key=operator.itemgetter(1))[1] == 4:\n",
    "        success += 1\n",
    "    if i % 100 == 0:\n",
    "        print(\"completed %.2f%%\"%(100 * (i + 100) / n_trial), end=\"\\r\")\n",
    "    \n",
    "print(\"\\nprob %.2f%%\"%(100 * success / n_trial))"
   ]
  },
  {
   "cell_type": "markdown",
   "metadata": {},
   "source": [
    "#### Analytical"
   ]
  },
  {
   "cell_type": "code",
   "execution_count": 4,
   "metadata": {},
   "outputs": [
    {
     "name": "stdout",
     "output_type": "stream",
     "text": [
      "\n",
      "prob 4.82%\n"
     ]
    }
   ],
   "source": [
    "import scipy.stats as ss\n",
    "\n",
    "n = 6\n",
    "p = 1 / 6\n",
    "\n",
    "b = ss.binom(n, p)\n",
    "  \n",
    "print(\"\\nprob %.2f%%\"%(100 * 6 * b.pmf(4)))"
   ]
  }
 ],
 "metadata": {
  "kernelspec": {
   "display_name": "Python 3",
   "language": "python",
   "name": "python3"
  },
  "language_info": {
   "codemirror_mode": {
    "name": "ipython",
    "version": 3
   },
   "file_extension": ".py",
   "mimetype": "text/x-python",
   "name": "python",
   "nbconvert_exporter": "python",
   "pygments_lexer": "ipython3",
   "version": "3.7.3"
  }
 },
 "nbformat": 4,
 "nbformat_minor": 2
}
