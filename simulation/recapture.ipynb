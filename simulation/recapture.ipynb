{
 "cells": [
  {
   "cell_type": "code",
   "execution_count": 1,
   "metadata": {},
   "outputs": [],
   "source": [
    "import operator as op\n",
    "from functools import reduce\n",
    "\n",
    "def nCr(n, r):\n",
    "    r = min(r, n-r)\n",
    "    numer = reduce(op.mul, range(n, n-r, -1), 1)\n",
    "    denom = reduce(op.mul, range(1, r+1), 1)\n",
    "    return numer / denom"
   ]
  },
  {
   "cell_type": "code",
   "execution_count": 2,
   "metadata": {},
   "outputs": [],
   "source": [
    "N = 1000 # population size\n",
    "n = 100 # first capture (tagging)\n",
    "m = 100 # second capture\n",
    "\n",
    "# what's the probability that among m recaptured, k are tagged\n",
    "def binomial(k, n, m, N):\n",
    "    p = n / N\n",
    "    return nCr(m, k) * (p ** k) * ((1 - p) ** (m - k))\n",
    "\n",
    "def naive(k, n, m, N):\n",
    "    return nCr(n, k) * nCr(N - n, m - k) / nCr(N, m)"
   ]
  },
  {
   "cell_type": "code",
   "execution_count": 3,
   "metadata": {},
   "outputs": [],
   "source": [
    "# if label entire population, guaranteed to get m tags out of m recapture\n",
    "assert(binomial(m, N, m, N) == 1)\n",
    "assert(naive(m, N, m, N) == 1)"
   ]
  },
  {
   "cell_type": "code",
   "execution_count": 4,
   "metadata": {},
   "outputs": [],
   "source": [
    "ks = [k for k in range(m)]\n",
    "p_b = [binomial(k, n, m, N) for k in ks]\n",
    "p_n = [naive(k, n, m, N) for k in ks]"
   ]
  },
  {
   "cell_type": "code",
   "execution_count": 6,
   "metadata": {},
   "outputs": [
    {
     "data": {
      "image/png": "[encoded data removed]",
      "text/plain": [
       "<Figure size 432x288 with 1 Axes>"
      ]
     },
     "metadata": {
      "needs_background": "light"
     },
     "output_type": "display_data"
    }
   ],
   "source": [
    "import matplotlib.pyplot as plt\n",
    "\n",
    "plt.plot(ks, p_b)\n",
    "plt.plot(ks, p_n)\n",
    "plt.legend([\"binomial\", \"naive\"])\n",
    "\n",
    "plt.show()"
   ]
  }
 ],
 "metadata": {
  "kernelspec": {
   "display_name": "Python 3",
   "language": "python",
   "name": "python3"
  },
  "language_info": {
   "codemirror_mode": {
    "name": "ipython",
    "version": 3
   },
   "file_extension": ".py",
   "mimetype": "text/x-python",
   "name": "python",
   "nbconvert_exporter": "python",
   "pygments_lexer": "ipython3",
   "version": "3.5.5"
  }
 },
 "nbformat": 4,
 "nbformat_minor": 2
}
