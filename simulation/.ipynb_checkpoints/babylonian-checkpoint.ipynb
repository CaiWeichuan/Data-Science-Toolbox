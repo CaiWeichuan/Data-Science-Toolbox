{
 "cells": [
  {
   "cell_type": "markdown",
   "metadata": {},
   "source": [
    "#### Babylonion method: finding [sqrt(x)](https://www.geeksforgeeks.org/square-root-of-a-perfect-square/)\n",
    "Start with an arbitrary positive start value x (the closer to the root, the better). \n",
    "\n",
    "Initialize y = 1. Do following until desired approximation is achieved.\n",
    "* Get the next approximation for root using average of x and y\n",
    "* Set y = n/x\n",
    "\n",
    "#### [Proof:](https://en.wikipedia.org/wiki/Methods_of_computing_square_roots#Babylonian_method)\n",
    "It can be derived from (but predates by 16 centuries) Newton's method. The basic idea is that if x is an __overestimate__ to the square root of a non-negative real number S then $S/x$\n",
    " will be an underestimate, or vice versa, and so the average of these two numbers may reasonably be expected to provide a better approximation.\n",
    " \n",
    "<img src=\"figs/babylonian.png\" alt=\"Drawing\" style=\"height: 160px;\"/>"
   ]
  },
  {
   "cell_type": "code",
   "execution_count": 1,
   "metadata": {},
   "outputs": [
    {
     "name": "stdout",
     "output_type": "stream",
     "text": [
      "iteration 0: sqrt(123456) = 61728.00000\n",
      "iteration 1: sqrt(123456) = 30865.00000\n",
      "iteration 2: sqrt(123456) = 15434.49994\n",
      "iteration 3: sqrt(123456) = 7721.24932\n",
      "iteration 4: sqrt(123456) = 3868.61922\n",
      "iteration 5: sqrt(123456) = 1950.26569\n",
      "iteration 6: sqrt(123456) = 1006.78392\n",
      "iteration 7: sqrt(123456) = 564.70402\n",
      "iteration 8: sqrt(123456) = 391.66237\n",
      "iteration 9: sqrt(123456) = 353.43632\n",
      "iteration 10: sqrt(123456) = 351.36914\n",
      "iteration 11: sqrt(123456) = 351.36306\n"
     ]
    },
    {
     "data": {
      "text/plain": [
       "351.36306014858235"
      ]
     },
     "execution_count": 1,
     "metadata": {},
     "output_type": "execute_result"
    }
   ],
   "source": [
    "\n",
    "def squareRoot(n, x): \n",
    "    \"\"\"\n",
    "    @param n: radicand\n",
    "    @param x: initial guess\n",
    "    \n",
    "    Returns the square root of n. \n",
    "    \"\"\"\n",
    "    for i in range(1000):\n",
    "        print(\"iteration %i: sqrt(%i) = %.5f\"%(i, n, x))\n",
    "        x_next = (x + n / x) / 2\n",
    "        if x - x_next < 0.0001:\n",
    "            break\n",
    "        x = x_next\n",
    "    return x\n",
    "\n",
    "n = 123456\n",
    "squareRoot(n, n/2)"
   ]
  }
 ],
 "metadata": {
  "kernelspec": {
   "display_name": "Python 3",
   "language": "python",
   "name": "python3"
  },
  "language_info": {
   "codemirror_mode": {
    "name": "ipython",
    "version": 3
   },
   "file_extension": ".py",
   "mimetype": "text/x-python",
   "name": "python",
   "nbconvert_exporter": "python",
   "pygments_lexer": "ipython3",
   "version": "3.5.5"
  }
 },
 "nbformat": 4,
 "nbformat_minor": 2
}
