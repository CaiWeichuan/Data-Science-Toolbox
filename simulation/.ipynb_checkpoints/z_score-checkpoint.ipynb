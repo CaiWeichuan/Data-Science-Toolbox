{
 "cells": [
  {
   "cell_type": "code",
   "execution_count": 1,
   "metadata": {},
   "outputs": [],
   "source": [
    "import numpy as np\n",
    "import scipy.stats as st\n",
    "import matplotlib.pyplot as plt"
   ]
  },
  {
   "cell_type": "code",
   "execution_count": 2,
   "metadata": {},
   "outputs": [
    {
     "name": "stdout",
     "output_type": "stream",
     "text": [
      "sample mean: -0.00; sample var: 1.00\n"
     ]
    },
    {
     "data": {
      "image/png": "[encoded data removed]",
      "text/plain": [
       "<Figure size 432x288 with 1 Axes>"
      ]
     },
     "metadata": {
      "needs_background": "light"
     },
     "output_type": "display_data"
    }
   ],
   "source": [
    "sample = np.random.normal(0, 1, 100000)\n",
    "\n",
    "plt.hist(sample, density=True, bins=100)\n",
    "print(\"sample mean: %.2f; sample var: %.2f\"%(np.mean(sample), np.var(sample)))"
   ]
  },
  {
   "cell_type": "markdown",
   "metadata": {},
   "source": [
    "#### Look-up z-score by p-value"
   ]
  },
  {
   "cell_type": "code",
   "execution_count": 3,
   "metadata": {},
   "outputs": [],
   "source": [
    "def z_score(sample, p):\n",
    "    z = np.percentile(sample, p)\n",
    "    return z"
   ]
  },
  {
   "cell_type": "code",
   "execution_count": 4,
   "metadata": {},
   "outputs": [
    {
     "name": "stdout",
     "output_type": "stream",
     "text": [
      "z-score at 1.0%: -2.33\n",
      "z-score at 2.5%: -1.96\n",
      "z-score at 5.0%: -1.65\n",
      "z-score at 95.0%: 1.64\n",
      "z-score at 97.5%: 1.95\n",
      "z-score at 99.0%: 2.33\n"
     ]
    }
   ],
   "source": [
    "p_vals = [1, 2.5, 5, 95, 97.5, 99]\n",
    "for p in p_vals:\n",
    "    z = z_score(sample, p)\n",
    "    print(\"z-score at %.1f%%: %.2f\"%(p, z))"
   ]
  },
  {
   "cell_type": "markdown",
   "metadata": {},
   "source": [
    "#### Look-up p-valie by z-score"
   ]
  },
  {
   "cell_type": "code",
   "execution_count": 5,
   "metadata": {},
   "outputs": [],
   "source": [
    "def lookup_p(sample, z):\n",
    "    p = sum(sample <= z) / len(sample)\n",
    "    return p"
   ]
  },
  {
   "cell_type": "code",
   "execution_count": 6,
   "metadata": {},
   "outputs": [
    {
     "name": "stdout",
     "output_type": "stream",
     "text": [
      "p(z <= -2.32) = 1.02% (scipy: 1.02%)\n",
      "p(z <= -1.96) = 2.53% (scipy: 2.50%)\n",
      "p(z <= -1.64) = 5.11% (scipy: 5.05%)\n",
      "p(z <= 1.64) = 95.02% (scipy: 94.95%)\n",
      "p(z <= 1.96) = 97.55% (scipy: 97.50%)\n",
      "p(z <= 2.32) = 98.97% (scipy: 98.98%)\n"
     ]
    }
   ],
   "source": [
    "z_scores = [-2.32, -1.96, -1.64, 1.64, 1.96, 2.32]\n",
    "for z in z_scores:\n",
    "    p = lookup_p(sample, z)\n",
    "    \n",
    "    print(\"p(z <= %.2f) = %.2f%% (scipy: %.2f%%)\"\n",
    "          %(z, 100 * p, 100 * st.norm.cdf(z)))"
   ]
  }
 ],
 "metadata": {
  "kernelspec": {
   "display_name": "Python 3",
   "language": "python",
   "name": "python3"
  },
  "language_info": {
   "codemirror_mode": {
    "name": "ipython",
    "version": 3
   },
   "file_extension": ".py",
   "mimetype": "text/x-python",
   "name": "python",
   "nbconvert_exporter": "python",
   "pygments_lexer": "ipython3",
   "version": "3.5.5"
  }
 },
 "nbformat": 4,
 "nbformat_minor": 2
}
