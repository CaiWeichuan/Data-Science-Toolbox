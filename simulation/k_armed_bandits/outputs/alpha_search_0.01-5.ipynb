{
 "cells": [
  {
   "cell_type": "code",
   "execution_count": 7,
   "metadata": {},
   "outputs": [],
   "source": [
    "import numpy as np\n",
    "import pandas as pd\n",
    "import matplotlib.pyplot as plt\n",
    "from time import time\n",
    "from multi_arm import Arm"
   ]
  },
  {
   "cell_type": "code",
   "execution_count": 11,
   "metadata": {},
   "outputs": [
    {
     "data": {
      "text/plain": [
       "array([0.01, 0.02, 0.03, 0.04, 0.05])"
      ]
     },
     "execution_count": 11,
     "metadata": {},
     "output_type": "execute_result"
    }
   ],
   "source": [
    "alphas = np.linspace(0.01, 0.05, 5)\n",
    "alphas"
   ]
  },
  {
   "cell_type": "code",
   "execution_count": 12,
   "metadata": {},
   "outputs": [
    {
     "name": "stdout",
     "output_type": "stream",
     "text": [
      "alpha 0.01, average traffic 10026.75, probability of finding winner: 92.00%\n",
      "alpha 0.02, average traffic 8613.53, probability of finding winner: 98.00%\n",
      "alpha 0.03, average traffic 6283.80, probability of finding winner: 93.00%\n",
      "alpha 0.04, average traffic 4633.27, probability of finding winner: 95.00%\n",
      "alpha 0.05, average traffic 3461.50, probability of finding winner: 88.00%\n",
      "time elapsed: 2540.17s\n"
     ]
    }
   ],
   "source": [
    "start = time()\n",
    "\n",
    "ctrs = [0.04, 0.05]\n",
    "true_winner_idx = np.argmax(ctrs)\n",
    "n_trials = 100\n",
    "\n",
    "avg_traffic = []\n",
    "success_probs = []\n",
    "for alpha in alphas:\n",
    "    cols = [\"winner_idx\", \"wins\", \"traffic\"]\n",
    "    df = pd.DataFrame(columns=cols)\n",
    "\n",
    "    for i in range(n_trials):\n",
    "        winner_idx, _, wins, traffic, _, _, _, _, _, _ = k_arm_bandit(ctrs=ctrs, burn_in=1400, alpha=alpha, draw=1000, silent=True)\n",
    "        df = df.append({key : val for key, val in zip(cols, [winner_idx, sum(wins), sum(traffic)])}, ignore_index=True)\n",
    "\n",
    "        success_rate = 100 * sum(df.winner_idx == true_winner_idx) / len(df)\n",
    "        print(\"alpha %.2f, progress %.2f%%, success rate %.2f%%...\"\n",
    "              %(alpha, 100 * (i + 1) / n_trials, success_rate), end=\"\\r\")\n",
    "    \n",
    "    avg_traffic.append(df.traffic.mean())\n",
    "    success_probs.append(success_rate)\n",
    "    print(\"alpha %.2f, average traffic %.2f, probability of finding winner: %.2f%%\"\n",
    "          %(alpha, df.traffic.mean(), success_rate))\n",
    "    \n",
    "    df[\"conversion\"] = df.wins / df.traffic\n",
    "    df.to_csv(\"outputs/df_bandit_alpha_%.2f.csv\"%alpha)\n",
    "\n",
    "end = time()\n",
    "print(\"time elapsed: %.2fs\"%(end - start))"
   ]
  },
  {
   "cell_type": "code",
   "execution_count": 15,
   "metadata": {},
   "outputs": [],
   "source": [
    "df = pd.DataFrame({\"alpha\" : alphas,\n",
    "                   \"avg_traffic\" : avg_traffic, \n",
    "                   \"success_prob\" : success_probs})\n",
    "df.to_csv(\"outputs/alpha_search_%.2f-%.2f.csv\"%(alphas[0], alphas[-1]), index=None)"
   ]
  },
  {
   "cell_type": "code",
   "execution_count": 16,
   "metadata": {},
   "outputs": [
    {
     "data": {
      "text/plain": [
       "[<matplotlib.lines.Line2D at 0x7fdaf2d334a8>]"
      ]
     },
     "execution_count": 16,
     "metadata": {},
     "output_type": "execute_result"
    },
    {
     "data": {
      "image/png": "[encoded data removed]",
      "text/plain": [
       "<Figure size 432x288 with 1 Axes>"
      ]
     },
     "metadata": {
      "needs_background": "light"
     },
     "output_type": "display_data"
    }
   ],
   "source": [
    "plt.plot(alphas, avg_traffic)\n",
    "plt.plot(alphas, success_probs)"
   ]
  },
  {
   "cell_type": "code",
   "execution_count": null,
   "metadata": {},
   "outputs": [],
   "source": []
  }
 ],
 "metadata": {
  "kernelspec": {
   "display_name": "Python 3",
   "language": "python",
   "name": "python3"
  },
  "language_info": {
   "codemirror_mode": {
    "name": "ipython",
    "version": 3
   },
   "file_extension": ".py",
   "mimetype": "text/x-python",
   "name": "python",
   "nbconvert_exporter": "python",
   "pygments_lexer": "ipython3",
   "version": "3.5.5"
  }
 },
 "nbformat": 4,
 "nbformat_minor": 2
}
