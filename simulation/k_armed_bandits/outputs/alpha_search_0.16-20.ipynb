{
 "cells": [
  {
   "cell_type": "code",
   "execution_count": 1,
   "metadata": {},
   "outputs": [],
   "source": [
    "import numpy as np\n",
    "import pandas as pd\n",
    "import matplotlib.pyplot as plt\n",
    "from time import time\n",
    "from multi_arm import Arm, monte_carlo_simulation, k_arm_bandit_mc, plot_history"
   ]
  },
  {
   "cell_type": "code",
   "execution_count": 5,
   "metadata": {},
   "outputs": [
    {
     "data": {
      "text/plain": [
       "array([0.16, 0.17, 0.18, 0.19, 0.2 ])"
      ]
     },
     "execution_count": 5,
     "metadata": {},
     "output_type": "execute_result"
    }
   ],
   "source": [
    "alphas = np.linspace(0.16, 0.2, 5)\n",
    "alphas"
   ]
  },
  {
   "cell_type": "code",
   "execution_count": 6,
   "metadata": {},
   "outputs": [
    {
     "name": "stdout",
     "output_type": "stream",
     "text": [
      "alpha 0.16, average traffic 1813.35, probability of finding winner: 83.00%\n",
      "alpha 0.17, average traffic 1894.57, probability of finding winner: 81.00%\n",
      "alpha 0.18, average traffic 1804.86, probability of finding winner: 81.00%\n",
      "alpha 0.19, average traffic 1769.25, probability of finding winner: 81.00%\n",
      "alpha 0.20, average traffic 1628.88, probability of finding winner: 78.00%\n",
      "time elapsed: 556.68s\n"
     ]
    }
   ],
   "source": [
    "start = time()\n",
    "\n",
    "ctrs = [0.04, 0.05]\n",
    "true_winner_idx = np.argmax(ctrs)\n",
    "n_trials = 100\n",
    "\n",
    "avg_traffic = []\n",
    "success_probs = []\n",
    "for alpha in alphas:\n",
    "    cols = [\"winner_idx\", \"wins\", \"traffic\"]\n",
    "    df = pd.DataFrame(columns=cols)\n",
    "\n",
    "    for i in range(n_trials):\n",
    "        winner_idx, _, wins, traffic, _, _, _, _, _, _ = k_arm_bandit_mc(ctrs=ctrs, burn_in=1400, draw=1000, alpha=alpha, silent=True)\n",
    "        df = df.append({key : val for key, val in zip(cols, [winner_idx, sum(wins), sum(traffic)])}, ignore_index=True)\n",
    "\n",
    "        success_rate = 100 * sum(df.winner_idx == true_winner_idx) / len(df)\n",
    "        print(\"alpha %.2f, progress %.2f%%, success rate %.2f%%...\"\n",
    "              %(alpha, 100 * (i + 1) / n_trials, success_rate), end=\"\\r\")\n",
    "    \n",
    "    avg_traffic.append(df.traffic.mean())\n",
    "    success_probs.append(success_rate)\n",
    "    print(\"alpha %.2f, average traffic %.2f, probability of finding winner: %.2f%%\"\n",
    "          %(alpha, df.traffic.mean(), success_rate))\n",
    "    \n",
    "    df[\"conversion\"] = df.wins / df.traffic\n",
    "    df.to_csv(\"outputs/df_bandit_alpha_%.2f.csv\"%alpha)\n",
    "\n",
    "end = time()\n",
    "print(\"time elapsed: %.2fs\"%(end - start))"
   ]
  },
  {
   "cell_type": "code",
   "execution_count": 10,
   "metadata": {},
   "outputs": [],
   "source": [
    "df = pd.DataFrame({\"alpha\" : alphas,\n",
    "                   \"avg_traffic\" : avg_traffic, \n",
    "                   \"success_prob\" : success_probs})\n",
    "df.to_csv(\"outputs/alpha_search_%.2f-%.2f.csv\"%(alphas[0], alphas[-1]), index=None)"
   ]
  },
  {
   "cell_type": "code",
   "execution_count": 11,
   "metadata": {},
   "outputs": [
    {
     "data": {
      "image/png": "[encoded data removed]",
      "text/plain": [
       "<Figure size 432x288 with 2 Axes>"
      ]
     },
     "metadata": {
      "needs_background": "light"
     },
     "output_type": "display_data"
    }
   ],
   "source": [
    "fig, ax1 = plt.subplots()\n",
    "\n",
    "color = 'tab:red'\n",
    "ax1.plot(df.alpha, df.avg_traffic, color=color)\n",
    "ax1.set_xlabel('alpha')\n",
    "ax1.set_ylabel('mean_traffic', color=color)\n",
    "ax1.tick_params(axis='y', labelcolor=color)\n",
    "\n",
    "color = 'tab:blue'\n",
    "ax2 = plt.twinx()\n",
    "ax2.plot(df.alpha, df.success_prob, color=color)\n",
    "ax2.set_ylabel('success_prob', color=color)\n",
    "ax2.tick_params(axis='y', labelcolor=color)"
   ]
  },
  {
   "cell_type": "code",
   "execution_count": null,
   "metadata": {},
   "outputs": [],
   "source": []
  }
 ],
 "metadata": {
  "kernelspec": {
   "display_name": "Python 2",
   "language": "python",
   "name": "python2"
  },
  "language_info": {
   "codemirror_mode": {
    "name": "ipython",
    "version": 3
   },
   "file_extension": ".py",
   "mimetype": "text/x-python",
   "name": "python",
   "nbconvert_exporter": "python",
   "pygments_lexer": "ipython3",
   "version": "3.6.8"
  }
 },
 "nbformat": 4,
 "nbformat_minor": 2
}
