{
 "cells": [
  {
   "cell_type": "code",
   "execution_count": 1,
   "metadata": {},
   "outputs": [],
   "source": [
    "import numpy as np\n",
    "from scipy.stats import norm"
   ]
  },
  {
   "cell_type": "code",
   "execution_count": 2,
   "metadata": {},
   "outputs": [],
   "source": [
    "n = 11165\n",
    "ctrs = [0.04, 0.05]\n",
    "alpha = 0.05"
   ]
  },
  {
   "cell_type": "code",
   "execution_count": 1,
   "metadata": {},
   "outputs": [
    {
     "data": {
      "text/plain": [
       "223.3"
      ]
     },
     "execution_count": 1,
     "metadata": {},
     "output_type": "execute_result"
    }
   ],
   "source": [
    "11165 * 2 / 100"
   ]
  },
  {
   "cell_type": "code",
   "execution_count": 3,
   "metadata": {},
   "outputs": [],
   "source": [
    "n_trial = 10000\n",
    "success = 0\n",
    "\n",
    "for _ in range(n_trial):\n",
    "    x0 = np.random.binomial(n=n, p=ctrs[0])\n",
    "    x1 = np.random.binomial(n=n, p=ctrs[1])\n",
    "\n",
    "    p0, p1 = x0 / n, x1 / n\n",
    "    p_pooled = (x0 + x1) / (2 * n)\n",
    "    se = np.sqrt(p_pooled * (1 - p_pooled) * (1 / n + 1 / n))\n",
    "    \n",
    "    z = (p1 - p0) / se\n",
    "    p_val = 2*(1 - norm.cdf(abs(z)))\n",
    "    \n",
    "    if p_val < alpha:\n",
    "        success += 1"
   ]
  },
  {
   "cell_type": "code",
   "execution_count": 4,
   "metadata": {},
   "outputs": [
    {
     "name": "stdout",
     "output_type": "stream",
     "text": [
      "probability of finding winner: 95.04%\n"
     ]
    }
   ],
   "source": [
    "print(\"probability of finding winner: %.2f%%\"%(100 * success / n_trial))"
   ]
  }
 ],
 "metadata": {
  "kernelspec": {
   "display_name": "Python 3",
   "language": "python",
   "name": "python3"
  },
  "language_info": {
   "codemirror_mode": {
    "name": "ipython",
    "version": 3
   },
   "file_extension": ".py",
   "mimetype": "text/x-python",
   "name": "python",
   "nbconvert_exporter": "python",
   "pygments_lexer": "ipython3",
   "version": "3.5.5"
  }
 },
 "nbformat": 4,
 "nbformat_minor": 2
}
