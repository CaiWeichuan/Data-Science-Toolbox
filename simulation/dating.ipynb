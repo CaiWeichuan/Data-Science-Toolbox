{
 "cells": [
  {
   "cell_type": "markdown",
   "metadata": {},
   "source": [
    "#### Use counting\n",
    "We can apply the naive definition of probability, with the numerator being the number of ways that Bob can match Alice on 4 out of 5 adjectives, plus the number of ways that Bob can match Alice on 5 out of 5 adjectives. The denominator is just the number of possible adjective combinations that Bob can recieve. [ref](https://www.quora.com/On-a-dating-site-users-can-select-5-out-of-24-adjectives-to-describe-themselves-A-match-is-declared-between-two-users-if-they-match-on-at-least-4-adjectives-If-Alice-and-Bob-randomly-pick-adjectives-what-is-the-probability-that-they-will-form-a-match)"
   ]
  },
  {
   "cell_type": "code",
   "execution_count": 2,
   "metadata": {},
   "outputs": [
    {
     "data": {
      "text/plain": [
       "3.5487066552944635e-06"
      ]
     },
     "execution_count": 2,
     "metadata": {},
     "output_type": "execute_result"
    }
   ],
   "source": [
    "# binomial: incorrect\n",
    "p = (5 / 24) ** 2\n",
    "p ** 4 * (1 - p) ** 1 + p ** 5"
   ]
  },
  {
   "cell_type": "code",
   "execution_count": 3,
   "metadata": {},
   "outputs": [
    {
     "data": {
      "text/plain": [
       "0.002258610954263128"
      ]
     },
     "execution_count": 3,
     "metadata": {},
     "output_type": "execute_result"
    }
   ],
   "source": [
    "# correct {(5C4 * 19C1) + 5C5} / 24C5\n",
    "4 / 1771"
   ]
  },
  {
   "cell_type": "markdown",
   "metadata": {},
   "source": [
    "#### Simulation"
   ]
  },
  {
   "cell_type": "code",
   "execution_count": 4,
   "metadata": {},
   "outputs": [
    {
     "data": {
      "text/plain": [
       "0.00286"
      ]
     },
     "execution_count": 4,
     "metadata": {},
     "output_type": "execute_result"
    }
   ],
   "source": [
    "import random\n",
    "\n",
    "n_trials = 100000\n",
    "success = 0\n",
    "for _ in range(n_trials):\n",
    "    alice = random.sample(range(1, 24), 5)\n",
    "    bob = random.sample(range(1, 24), 5)\n",
    "\n",
    "    if len(set(alice).intersection(set(bob))) >= 4:\n",
    "        success += 1\n",
    "        \n",
    "success / n_trials"
   ]
  },
  {
   "cell_type": "markdown",
   "metadata": {},
   "source": [
    "#### Why Binomial does not apply\n",
    "Here we are sampling without replacement, with small population (size 24) to choose from. As population gets larger, however, binomial assumption is reasonable."
   ]
  },
  {
   "cell_type": "code",
   "execution_count": 5,
   "metadata": {},
   "outputs": [
    {
     "data": {
      "text/plain": [
       "3.906250000000001e-19"
      ]
     },
     "execution_count": 5,
     "metadata": {},
     "output_type": "execute_result"
    }
   ],
   "source": [
    "# binomial \n",
    "p = (5 / 1000) ** 2\n",
    "p ** 4 * (1 - p) ** 1 + p ** 5"
   ]
  },
  {
   "cell_type": "code",
   "execution_count": 6,
   "metadata": {},
   "outputs": [
    {
     "data": {
      "text/plain": [
       "0.0"
      ]
     },
     "execution_count": 6,
     "metadata": {},
     "output_type": "execute_result"
    }
   ],
   "source": [
    "n_trials = 100000\n",
    "success = 0\n",
    "for _ in range(n_trials):\n",
    "    alice = random.sample(range(1, 1000), 5)\n",
    "    bob = random.sample(range(1, 1000), 5)\n",
    "\n",
    "    if len(set(alice).intersection(set(bob))) >= 4:\n",
    "        success += 1\n",
    "        \n",
    "success / n_trials"
   ]
  }
 ],
 "metadata": {
  "kernelspec": {
   "display_name": "Python 3",
   "language": "python",
   "name": "python3"
  },
  "language_info": {
   "codemirror_mode": {
    "name": "ipython",
    "version": 3
   },
   "file_extension": ".py",
   "mimetype": "text/x-python",
   "name": "python",
   "nbconvert_exporter": "python",
   "pygments_lexer": "ipython3",
   "version": "3.5.5"
  }
 },
 "nbformat": 4,
 "nbformat_minor": 2
}
