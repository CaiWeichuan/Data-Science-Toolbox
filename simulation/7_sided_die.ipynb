{
 "cells": [
  {
   "cell_type": "markdown",
   "metadata": {},
   "source": [
    "#### Problem\n",
    "*Random number generation: Give you a dice with 7 sides, how do you generate random numbers between 1 and 10 with equal probability?*\n",
    "\n",
    "* If get 7, ignore, conditional on getting <= 6, the probability of 1~3 is 50%\n",
    "* Second row, if getting 6, 7, ignore, conditional on <= 5, each number has 20%\n",
    "* If first row get 4~6, add 5 to second row\n",
    "\n",
    "*The answer is not unique. The key concept is conditional probability.*"
   ]
  },
  {
   "cell_type": "code",
   "execution_count": 1,
   "metadata": {},
   "outputs": [],
   "source": [
    "import random as r\n",
    "import matplotlib.pyplot as plt"
   ]
  },
  {
   "cell_type": "code",
   "execution_count": 2,
   "metadata": {},
   "outputs": [],
   "source": [
    "def throw_dice():\n",
    "    \"\"\"\n",
    "    @return number 1 ~ 10 with equal probability.\n",
    "    \"\"\"\n",
    "    faces = [i + 1 for i in range(7)]\n",
    "    \n",
    "    first = r.choice(faces)\n",
    "    while first == 7:\n",
    "        first = r.choice(faces)\n",
    "    \n",
    "    second = r.choice(faces)\n",
    "    while second >= 6:\n",
    "        second = r.choice(faces)\n",
    "        \n",
    "    return second + 5 * (first > 3)"
   ]
  },
  {
   "cell_type": "code",
   "execution_count": 3,
   "metadata": {},
   "outputs": [],
   "source": [
    "sample = [throw_dice() for _ in range(10000)]"
   ]
  },
  {
   "cell_type": "code",
   "execution_count": 4,
   "metadata": {},
   "outputs": [
    {
     "data": {
      "text/plain": [
       "(array([1021., 1005.,  994.,  949.,  999., 1006.,  964., 1048., 1027.,\n",
       "         987.]),\n",
       " array([ 1. ,  1.9,  2.8,  3.7,  4.6,  5.5,  6.4,  7.3,  8.2,  9.1, 10. ]),\n",
       " <a list of 10 Patch objects>)"
      ]
     },
     "execution_count": 4,
     "metadata": {},
     "output_type": "execute_result"
    },
    {
     "data": {
      "image/png": "[encoded data removed]",
      "text/plain": [
       "<Figure size 432x288 with 1 Axes>"
      ]
     },
     "metadata": {
      "needs_background": "light"
     },
     "output_type": "display_data"
    }
   ],
   "source": [
    "# expect uniform distribution\n",
    "plt.hist(sample)"
   ]
  }
 ],
 "metadata": {
  "kernelspec": {
   "display_name": "Python 3",
   "language": "python",
   "name": "python3"
  },
  "language_info": {
   "codemirror_mode": {
    "name": "ipython",
    "version": 3
   },
   "file_extension": ".py",
   "mimetype": "text/x-python",
   "name": "python",
   "nbconvert_exporter": "python",
   "pygments_lexer": "ipython3",
   "version": "3.5.5"
  }
 },
 "nbformat": 4,
 "nbformat_minor": 2
}
