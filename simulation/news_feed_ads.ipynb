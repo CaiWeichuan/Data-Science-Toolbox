{
 "cells": [
  {
   "cell_type": "code",
   "execution_count": 1,
   "metadata": {},
   "outputs": [],
   "source": [
    "import numpy as np\n",
    "from tqdm import tqdm"
   ]
  },
  {
   "cell_type": "markdown",
   "metadata": {},
   "source": [
    "### Quantitative Analysis\n",
    "\n",
    "* __Strategy 1__: Out of every 25 news feeds, randomly choose 1 to be replaced by ad.\n",
    "* __Strategy 2__: With probability 4%, replace every news feed with ad.\n",
    "\n",
    "Answer the following question:\n",
    "1. What is the expected number of ads in both strategy (both are 4).\n",
    "2. What is the variance of number of ads in both strategy (strategy 1 has variance $np(1-p)$, strategy 2 has zero variance).\n",
    "3. What is the expected number of ads collision (where two consecutive news feeds are replaced by ads).\n",
    "\n",
    "This notebook simulates part 3 only, since part 1 and 2 are trivial."
   ]
  },
  {
   "cell_type": "markdown",
   "metadata": {},
   "source": [
    "#### Strategy 1"
   ]
  },
  {
   "cell_type": "code",
   "execution_count": 2,
   "metadata": {},
   "outputs": [],
   "source": [
    "class Block(object):\n",
    "    def __init__(self, length=25):\n",
    "        self.length = length\n",
    "        self.flags = [0] * length\n",
    "        \n",
    "        # note the end index is exclusive\n",
    "        self.flags[np.random.randint(0, self.length)] = 1\n",
    "        \n",
    "    def head(self):\n",
    "        return self.flags[0]\n",
    "    \n",
    "    def tail(self):\n",
    "        return self.flags[-1]"
   ]
  },
  {
   "cell_type": "code",
   "execution_count": 3,
   "metadata": {},
   "outputs": [
    {
     "name": "stderr",
     "output_type": "stream",
     "text": [
      "100%|██████████| 10000000/10000000 [02:49<00:00, 58920.32it/s]\n"
     ]
    }
   ],
   "source": [
    "n_trials = 10000000\n",
    "collision_hist = []\n",
    "\n",
    "for _ in tqdm(range(n_trials)):\n",
    "    blocks = [Block(length=25) for _ in range(4)]\n",
    "    collision = 0\n",
    "    for i in range(len(blocks) - 1):\n",
    "        cur = blocks[i]\n",
    "        nxt = blocks[i + 1]\n",
    "        if cur.tail() == 1 and nxt.head() == 1:\n",
    "            collision += 1\n",
    "        \n",
    "    collision_hist.append(collision)"
   ]
  },
  {
   "cell_type": "code",
   "execution_count": 4,
   "metadata": {},
   "outputs": [
    {
     "data": {
      "text/plain": [
       "0.0048011"
      ]
     },
     "execution_count": 4,
     "metadata": {},
     "output_type": "execute_result"
    }
   ],
   "source": [
    "np.mean(collision_hist)"
   ]
  },
  {
   "cell_type": "markdown",
   "metadata": {},
   "source": [
    "__Analytical solution__: The expectated number of collision in 100 news feed is given by $np$, where $n=3$ and $p=(1 / 25)^2$."
   ]
  },
  {
   "cell_type": "code",
   "execution_count": 5,
   "metadata": {},
   "outputs": [
    {
     "data": {
      "text/plain": [
       "0.0048000000000000004"
      ]
     },
     "execution_count": 5,
     "metadata": {},
     "output_type": "execute_result"
    }
   ],
   "source": [
    "# analytical\n",
    "3 * (1 / 25) ** 2"
   ]
  },
  {
   "cell_type": "markdown",
   "metadata": {},
   "source": [
    "#### Strategy 2"
   ]
  },
  {
   "cell_type": "code",
   "execution_count": 6,
   "metadata": {},
   "outputs": [
    {
     "name": "stderr",
     "output_type": "stream",
     "text": [
      "100%|██████████| 1000000/1000000 [01:40<00:00, 9966.95it/s]\n"
     ]
    }
   ],
   "source": [
    "n_trials = 1000000\n",
    "collision_hist = []\n",
    "\n",
    "for _ in tqdm(range(n_trials)):\n",
    "    draw = np.random.rand(100) < 0.04\n",
    "    collision = 0\n",
    "    for i in range(len(draw) - 1):\n",
    "        if draw[i] == True and draw[i + 1] == True:\n",
    "            collision += 1\n",
    "    collision_hist.append(collision)"
   ]
  },
  {
   "cell_type": "code",
   "execution_count": 7,
   "metadata": {},
   "outputs": [
    {
     "data": {
      "text/plain": [
       "0.159239"
      ]
     },
     "execution_count": 7,
     "metadata": {},
     "output_type": "execute_result"
    }
   ],
   "source": [
    "np.mean(collision_hist)"
   ]
  },
  {
   "cell_type": "markdown",
   "metadata": {},
   "source": [
    "__Analytical solution__: The expectated number of collision in 100 news feed is given by $np$, where $n=99$ and $p=(1 / 25)^2$."
   ]
  },
  {
   "cell_type": "code",
   "execution_count": 8,
   "metadata": {},
   "outputs": [
    {
     "data": {
      "text/plain": [
       "0.1584"
      ]
     },
     "execution_count": 8,
     "metadata": {},
     "output_type": "execute_result"
    }
   ],
   "source": [
    "# analytical\n",
    "99 * (1 / 25) ** 2"
   ]
  }
 ],
 "metadata": {
  "kernelspec": {
   "display_name": "Python 3",
   "language": "python",
   "name": "python3"
  },
  "language_info": {
   "codemirror_mode": {
    "name": "ipython",
    "version": 3
   },
   "file_extension": ".py",
   "mimetype": "text/x-python",
   "name": "python",
   "nbconvert_exporter": "python",
   "pygments_lexer": "ipython3",
   "version": "3.5.5"
  }
 },
 "nbformat": 4,
 "nbformat_minor": 2
}
