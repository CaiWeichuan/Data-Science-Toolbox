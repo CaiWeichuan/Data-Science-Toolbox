{
 "cells": [
  {
   "cell_type": "code",
   "execution_count": 1,
   "metadata": {},
   "outputs": [],
   "source": [
    "import random"
   ]
  },
  {
   "cell_type": "markdown",
   "metadata": {},
   "source": [
    "#### Simulation setup\n",
    "* assign probability bucket 0~1/3 to A, 1/3~2/3 to B, 2/3~1 to C\n",
    "* without loss of generality, player always choose A initially"
   ]
  },
  {
   "cell_type": "code",
   "execution_count": 2,
   "metadata": {},
   "outputs": [
    {
     "name": "stdout",
     "output_type": "stream",
     "text": [
      "probability of winning: 66.62%\n"
     ]
    }
   ],
   "source": [
    "n_trials = 1000000\n",
    "ps = [random.random() for _ in range(n_trials)]\n",
    "\n",
    "choose = 'A'\n",
    "success = 0\n",
    "switch = True\n",
    "\n",
    "for p in ps:\n",
    "    if p < 1 / 3:\n",
    "        # if prize is in A, host opens B or C at random\n",
    "        if random.random() < 1 / 2:\n",
    "            if switch: choose = 'C'\n",
    "        else:\n",
    "            if switch: choose = 'B'\n",
    "    elif p < 2 / 3:\n",
    "        # prize is in B, host open C\n",
    "        if switch: choose = 'B'\n",
    "    else:\n",
    "        # prize is in C, host open B\n",
    "        if switch: choose = 'C'\n",
    "    \n",
    "    if (choose == 'A' and p < 1 / 3) \\\n",
    "    or (choose == 'B' and p > 1 / 3 and p < 2 / 3) \\\n",
    "    or (choose == 'C' and p > 2 / 3):\n",
    "        success += 1\n",
    "        \n",
    "print(\"probability of winning: %.2f%%\"%(100 * success / len(ps)))"
   ]
  }
 ],
 "metadata": {
  "kernelspec": {
   "display_name": "Python 3",
   "language": "python",
   "name": "python3"
  },
  "language_info": {
   "codemirror_mode": {
    "name": "ipython",
    "version": 3
   },
   "file_extension": ".py",
   "mimetype": "text/x-python",
   "name": "python",
   "nbconvert_exporter": "python",
   "pygments_lexer": "ipython3",
   "version": "3.5.5"
  }
 },
 "nbformat": 4,
 "nbformat_minor": 2
}
