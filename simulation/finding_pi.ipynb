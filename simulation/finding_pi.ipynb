{
 "cells": [
  {
   "cell_type": "code",
   "execution_count": 1,
   "metadata": {},
   "outputs": [],
   "source": [
    "import random\n",
    "import numpy as np"
   ]
  },
  {
   "cell_type": "code",
   "execution_count": 2,
   "metadata": {},
   "outputs": [],
   "source": [
    "def throwNeedles(numNeedles):\n",
    "    inCircle = 0\n",
    "    for Needles in range(1, numNeedles + 1, 1):\n",
    "        x = random.random()\n",
    "        y = random.random()\n",
    "        if (x * x + y * y) ** 0.5 <= 1.0:\n",
    "            inCircle += 1\n",
    "    return 4 * inCircle / numNeedles"
   ]
  },
  {
   "cell_type": "code",
   "execution_count": 3,
   "metadata": {},
   "outputs": [],
   "source": [
    "def getEst(numNeedles, numTrials):\n",
    "    estimates = []\n",
    "    for t in range(numTrials):\n",
    "        piGuess = throwNeedles(numNeedles)\n",
    "        estimates.append(piGuess)\n",
    "    sDev = np.std(estimates)\n",
    "    curEst = np.mean(estimates)\n",
    "    print('Est. = ' + str(curEst) +\\\n",
    "          ', Std. dev. = ' + str(round(sDev, 6))\\\n",
    "          + ', Needles = ' + str(numNeedles))\n",
    "    return (curEst, sDev)"
   ]
  },
  {
   "cell_type": "code",
   "execution_count": 4,
   "metadata": {},
   "outputs": [
    {
     "name": "stdout",
     "output_type": "stream",
     "text": [
      "Est. = 3.1484400000000003, Std. dev. = 0.047886, Needles = 1000\n",
      "Est. = 3.13918, Std. dev. = 0.035495, Needles = 2000\n",
      "Est. = 3.14108, Std. dev. = 0.02713, Needles = 4000\n",
      "Est. = 3.141435, Std. dev. = 0.016805, Needles = 8000\n",
      "Est. = 3.1413550000000003, Std. dev. = 0.0137, Needles = 16000\n",
      "Est. = 3.14131375, Std. dev. = 0.008476, Needles = 32000\n",
      "Est. = 3.1411718749999995, Std. dev. = 0.007028, Needles = 64000\n",
      "Est. = 3.1415896875, Std. dev. = 0.004035, Needles = 128000\n",
      "Est. = 3.1417414062499995, Std. dev. = 0.003536, Needles = 256000\n",
      "Est. = 3.14155671875, Std. dev. = 0.002101, Needles = 512000\n"
     ]
    },
    {
     "data": {
      "text/plain": [
       "3.14155671875"
      ]
     },
     "execution_count": 4,
     "metadata": {},
     "output_type": "execute_result"
    }
   ],
   "source": [
    "def estPi(precision, numTrials):\n",
    "    numNeedles = 1000\n",
    "    sDev = precision\n",
    "    while sDev >= precision / 2:\n",
    "        curEst, sDev = getEst(numNeedles, numTrials)\n",
    "        numNeedles *= 2\n",
    "    return curEst\n",
    "\n",
    "random.seed(0)\n",
    "estPi(0.005, 100)"
   ]
  }
 ],
 "metadata": {
  "kernelspec": {
   "display_name": "Python 3",
   "language": "python",
   "name": "python3"
  },
  "language_info": {
   "codemirror_mode": {
    "name": "ipython",
    "version": 3
   },
   "file_extension": ".py",
   "mimetype": "text/x-python",
   "name": "python",
   "nbconvert_exporter": "python",
   "pygments_lexer": "ipython3",
   "version": "3.5.5"
  }
 },
 "nbformat": 4,
 "nbformat_minor": 2
}
