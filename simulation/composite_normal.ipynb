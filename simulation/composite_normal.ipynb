{
 "cells": [
  {
   "cell_type": "code",
   "execution_count": 1,
   "metadata": {},
   "outputs": [],
   "source": [
    "import numpy as np\n",
    "import matplotlib.pyplot as plt"
   ]
  },
  {
   "cell_type": "markdown",
   "metadata": {},
   "source": [
    "#### Combining unit normal"
   ]
  },
  {
   "cell_type": "code",
   "execution_count": 2,
   "metadata": {},
   "outputs": [
    {
     "data": {
      "image/png": "[encoded data removed]",
      "text/plain": [
       "<Figure size 432x288 with 1 Axes>"
      ]
     },
     "metadata": {
      "needs_background": "light"
     },
     "output_type": "display_data"
    },
    {
     "data": {
      "text/plain": [
       "<Figure size 720x288 with 0 Axes>"
      ]
     },
     "metadata": {},
     "output_type": "display_data"
    }
   ],
   "source": [
    "success = 0\n",
    "n_trial = 10000\n",
    "\n",
    "x = np.random.normal(0, 1, n_trial)\n",
    "y = np.random.normal(0, 1, n_trial)\n",
    "\n",
    "plt.hist(x, bins=100, alpha=0.5)\n",
    "plt.hist(y, bins=100, alpha=0.5)\n",
    "plt.legend([\"x\", \"y\"])\n",
    "plt.figure(figsize=(10, 4))\n",
    "\n",
    "plt.show()"
   ]
  },
  {
   "cell_type": "code",
   "execution_count": 3,
   "metadata": {},
   "outputs": [
    {
     "data": {
      "image/png": "[encoded data removed]",
      "text/plain": [
       "<Figure size 1080x288 with 3 Axes>"
      ]
     },
     "metadata": {
      "needs_background": "light"
     },
     "output_type": "display_data"
    }
   ],
   "source": [
    "plt.figure(figsize=(15, 4))\n",
    "\n",
    "ax = plt.subplot(1, 3, 1)\n",
    "x_range = [-7, 7]\n",
    "ax.hist(x, bins=100, alpha=0.1, density=True)\n",
    "ax.hist(y, bins=100, alpha=0.1, density=True)\n",
    "ax.hist(x - y, bins=100, alpha=0.3, density=True)\n",
    "ax.hist(x - 2 * y, bins=100, alpha=0.3, density=True)\n",
    "ax.legend([\"x\", \"y\", \"x - y\", \"x - 2 * y\"])\n",
    "ax.set_xlim(x_range)\n",
    "\n",
    "ax = plt.subplot(1, 3, 2)\n",
    "ax.hist(x, bins=100, alpha=0.1, density=True)\n",
    "ax.hist(y, bins=100, alpha=0.1, density=True)\n",
    "ax.hist(x + 2 * y, bins=100, alpha=0.3, density=True)\n",
    "ax.hist(x - 3 * y, bins=100, alpha=0.3, density=True)\n",
    "ax.legend([\"x\", \"y\", \"x + 2 * y\", \"x - 3 * y\"])\n",
    "ax.set_xlim(x_range)\n",
    "\n",
    "ax = plt.subplot(1, 3, 3)\n",
    "ax.hist(x, bins=100, alpha=0.1, density=True)\n",
    "ax.hist(y, bins=100, alpha=0.1, density=True)\n",
    "ax.hist(x + y, bins=100, alpha=0.3, density=True)\n",
    "ax.hist(x - y, bins=100, alpha=0.3, density=True)\n",
    "ax.legend([\"x\", \"y\", \"x + y\", \"x - y\"])\n",
    "# ax.set_xlim(x_range)\n",
    "plt.show()"
   ]
  },
  {
   "cell_type": "code",
   "execution_count": 4,
   "metadata": {},
   "outputs": [
    {
     "name": "stdout",
     "output_type": "stream",
     "text": [
      "P(x > y) = 49.540%\n",
      "P(x > 2y) = 48.910%\n"
     ]
    }
   ],
   "source": [
    "print(\"P(x > y) = %.3f%%\"%(100 * sum(x > y) / n_trial))\n",
    "print(\"P(x > 2y) = %.3f%%\"%(100 * sum(x > 2 * y) / n_trial))"
   ]
  },
  {
   "cell_type": "code",
   "execution_count": 5,
   "metadata": {},
   "outputs": [
    {
     "name": "stdout",
     "output_type": "stream",
     "text": [
      "P(x < -2y) = 48.250%\n",
      "P(x > 3y) = 49.010%\n"
     ]
    }
   ],
   "source": [
    "print(\"P(x < -2y) = %.3f%%\"%(100 * sum(x < - 2 * y) / n_trial))\n",
    "print(\"P(x > 3y) = %.3f%%\"%(100 * sum(x > 3 * y) / n_trial))"
   ]
  },
  {
   "cell_type": "code",
   "execution_count": 7,
   "metadata": {},
   "outputs": [
    {
     "name": "stdout",
     "output_type": "stream",
     "text": [
      "P(x > |y|) = 24.920%\n",
      "P(x > y) = 49.540%\n",
      "P(x < -y) = 48.880%\n"
     ]
    }
   ],
   "source": [
    "# when y > 0 (50% true), require x > y (50% true)\n",
    "# when y < 0 (50% true), require x > -y (50% true)\n",
    "# so P(x > |y|) = P(x > y and x > -y) = P(x > y | y > 0)P(y > 0) + P(x > -y | y < 0)P(y < 0)\n",
    "print(\"P(x > |y|) = %.3f%%\"%(100 * sum(x > abs(y)) / n_trial))\n",
    "\n",
    "print(\"P(x > y) = %.3f%%\"%(100 * sum(x > y) / n_trial))\n",
    "print(\"P(x < -y) = %.3f%%\"%(100 * sum(x < - y) / n_trial))"
   ]
  },
  {
   "cell_type": "markdown",
   "metadata": {},
   "source": [
    "##### The greater the multiplier before absolute sign, the smaller the probability"
   ]
  },
  {
   "cell_type": "code",
   "execution_count": 7,
   "metadata": {},
   "outputs": [
    {
     "name": "stdout",
     "output_type": "stream",
     "text": [
      "P(x > |2y|) = 14.890%\n",
      "P(x > 2y) = 50.120%\n",
      "P(x < -2y) = 49.930%\n"
     ]
    }
   ],
   "source": [
    "print(\"P(x > |2y|) = %.3f%%\"%(100 * sum(x > abs(2 * y)) / n_trial))\n",
    "\n",
    "print(\"P(x > 2y) = %.3f%%\"%(100 * sum(x > 2 * y) / n_trial))\n",
    "print(\"P(x < -2y) = %.3f%%\"%(100 * sum(x < -2 * y) / n_trial))"
   ]
  },
  {
   "cell_type": "code",
   "execution_count": 8,
   "metadata": {},
   "outputs": [
    {
     "name": "stdout",
     "output_type": "stream",
     "text": [
      "P(x > |3y|) = 10.390%\n",
      "P(x > 3y) = 50.070%\n",
      "P(x < -3y) = 49.880%\n"
     ]
    }
   ],
   "source": [
    "print(\"P(x > |3y|) = %.3f%%\"%(100 * sum(x > abs(3 * y)) / n_trial))\n",
    "\n",
    "print(\"P(x > 3y) = %.3f%%\"%(100 * sum(x > 3 * y) / n_trial))\n",
    "print(\"P(x < -3y) = %.3f%%\"%(100 * sum(x < -3 * y) / n_trial))"
   ]
  },
  {
   "cell_type": "markdown",
   "metadata": {},
   "source": [
    "##### It matters which side absolute sign is placed"
   ]
  },
  {
   "cell_type": "code",
   "execution_count": 9,
   "metadata": {},
   "outputs": [
    {
     "name": "stdout",
     "output_type": "stream",
     "text": [
      "P(x > |2y|) = 14.890%\n",
      "P(|x| < y/2) = 14.370%\n"
     ]
    }
   ],
   "source": [
    "# the two statements are statistically equivalent (x, y are equivalent)\n",
    "print(\"P(x > |2y|) = %.3f%%\"%(100 * sum(x > abs(2 * y)) / n_trial))\n",
    "print(\"P(|x| < y/2) = %.3f%%\"%(100 * sum(abs(x) < y / 2) / n_trial))"
   ]
  },
  {
   "cell_type": "code",
   "execution_count": 10,
   "metadata": {},
   "outputs": [
    {
     "name": "stdout",
     "output_type": "stream",
     "text": [
      "P(|x| > 2y) = 64.820%\n",
      "P(x < |y| / 2) = 64.730%\n"
     ]
    }
   ],
   "source": [
    "# the two statements are statistically equivalent\n",
    "print(\"P(|x| > 2y) = %.3f%%\"%(100 * sum(abs(x) > 2 * y) / n_trial))\n",
    "print(\"P(x < |y| / 2) = %.3f%%\"%(100 * sum(x < abs(y) / 2) / n_trial))"
   ]
  },
  {
   "cell_type": "markdown",
   "metadata": {},
   "source": [
    "#### Combining non-unit normal"
   ]
  },
  {
   "cell_type": "code",
   "execution_count": 11,
   "metadata": {},
   "outputs": [
    {
     "data": {
      "image/png": "[encoded data removed]",
      "text/plain": [
       "<Figure size 432x288 with 1 Axes>"
      ]
     },
     "metadata": {
      "needs_background": "light"
     },
     "output_type": "display_data"
    }
   ],
   "source": [
    "success = 0\n",
    "n_trial = 10000\n",
    "\n",
    "mu_x = 1\n",
    "mu_y = 3\n",
    "\n",
    "sig_x = 2\n",
    "sig_y = 3\n",
    "x = np.random.normal(mu_x, sig_x, n_trial)\n",
    "y = np.random.normal(mu_y, sig_y, n_trial)\n",
    "\n",
    "plt.hist(x, bins=100, alpha=0.5, density=True)\n",
    "plt.hist(y, bins=100, alpha=0.5, density=True)\n",
    "plt.legend([\"x\", \"y\"])\n",
    "plt.show()"
   ]
  },
  {
   "cell_type": "markdown",
   "metadata": {},
   "source": [
    "* Look at some of the empirical results\n",
    "* For each result, visualize the composite distirbution to see if it makes sense."
   ]
  },
  {
   "cell_type": "code",
   "execution_count": 12,
   "metadata": {},
   "outputs": [
    {
     "name": "stdout",
     "output_type": "stream",
     "text": [
      "P(x > y) = 28.830%\n",
      "P(x > 2y) = 21.440%\n",
      "P(x < -2y) = 13.340%\n",
      "P(x > 3y) = 19.180%\n",
      "P(x > |y|) = 21.920%\n",
      "P(x > |2y|) = 11.370%\n",
      "P(x > |3y|) = 7.660%\n"
     ]
    }
   ],
   "source": [
    "print(\"P(x > y) = %.3f%%\"%(100 * sum(x > y) / n_trial))\n",
    "\n",
    "print(\"P(x > 2y) = %.3f%%\"%(100 * sum(x > 2 * y) / n_trial))\n",
    "print(\"P(x < -2y) = %.3f%%\"%(100 * sum(x < - 2 * y) / n_trial))\n",
    "print(\"P(x > 3y) = %.3f%%\"%(100 * sum(x > 3 * y) / n_trial))\n",
    "\n",
    "print(\"P(x > |y|) = %.3f%%\"%(100 * sum(x > abs(y)) / n_trial))\n",
    "print(\"P(x > |2y|) = %.3f%%\"%(100 * sum(x > abs(2 * y)) / n_trial))\n",
    "print(\"P(x > |3y|) = %.3f%%\"%(100 * sum(x > abs(3 * y)) / n_trial))"
   ]
  },
  {
   "cell_type": "code",
   "execution_count": 13,
   "metadata": {},
   "outputs": [
    {
     "name": "stdout",
     "output_type": "stream",
     "text": [
      "\n",
      "w = x - y\n",
      "mean: -1.967 (expected: -2.000)\n",
      "var: 12.790 (expected: 13.000000)\n",
      "P(x > y) = 28.830% (expected: 29.650000%)\n",
      "\n"
     ]
    },
    {
     "data": {
      "image/png": "[encoded data removed]",
      "text/plain": [
       "<Figure size 432x288 with 1 Axes>"
      ]
     },
     "metadata": {
      "needs_background": "light"
     },
     "output_type": "display_data"
    }
   ],
   "source": [
    "w = x - y\n",
    "w_mean = mu_x - mu_y\n",
    "\n",
    "# note: when random vars are added, their variances are added\n",
    "w_var = sig_x ** 2 + sig_y ** 2\n",
    "\n",
    "w_sample = np.random.normal(w_mean, np.sqrt(w_var), n_trial)\n",
    "print(\"\"\"\n",
    "w = x - y\n",
    "mean: %.3f (expected: %.3f)\n",
    "var: %.3f (expected: %3f)\n",
    "P(x > y) = %.3f%% (expected: %3f%%)\n",
    "\"\"\"%(np.mean(w), w_mean,  np.var(w), w_var, \n",
    "    100 * sum(x > y) / n_trial,\n",
    "    100 * sum(w_sample > 0) / n_trial))\n",
    "\n",
    "plt.hist(w, bins=100, alpha=0.5, density=True)\n",
    "plt.hist(x, bins=100, alpha=0.5, density=True)\n",
    "plt.hist(y, bins=100, alpha=0.5, density=True)\n",
    "plt.legend([\"x - y\", \"x\", \"y\"])\n",
    "plt.axvline(0)\n",
    "plt.show()"
   ]
  },
  {
   "cell_type": "code",
   "execution_count": 14,
   "metadata": {},
   "outputs": [
    {
     "name": "stdout",
     "output_type": "stream",
     "text": [
      "\n",
      "w = x - 2y\n",
      "mean: -4.943 (expected: -5.000)\n",
      "var: 39.128 (expected: 40.000000)\n",
      "P(x > 2y) = 21.440% (expected: 21.060000%)\n",
      "\n"
     ]
    },
    {
     "data": {
      "image/png": "[encoded data removed]",
      "text/plain": [
       "<Figure size 432x288 with 1 Axes>"
      ]
     },
     "metadata": {
      "needs_background": "light"
     },
     "output_type": "display_data"
    }
   ],
   "source": [
    "w = x - 2 * y\n",
    "w_mean = mu_x - 2 * mu_y\n",
    "\n",
    "# note: when rv is multipled by a, variance is scaled by a^2\n",
    "w_var = sig_x ** 2 + 4 * sig_y ** 2\n",
    "\n",
    "w_sample = np.random.normal(w_mean, np.sqrt(w_var), n_trial)\n",
    "print(\"\"\"\n",
    "w = x - 2y\n",
    "mean: %.3f (expected: %.3f)\n",
    "var: %.3f (expected: %3f)\n",
    "P(x > 2y) = %.3f%% (expected: %3f%%)\n",
    "\"\"\"%(np.mean(w), w_mean,  np.var(w), w_var, \n",
    "    100 * sum(x > 2 * y) / n_trial,\n",
    "    100 * sum(w_sample > 0) / n_trial))\n",
    "\n",
    "plt.hist(w, bins=100, alpha=0.5, density=True)\n",
    "plt.hist(x, bins=100, alpha=0.5, density=True)\n",
    "plt.hist(y, bins=100, alpha=0.5, density=True)\n",
    "plt.legend([\"x - 2y\", \"x\", \"y\"])\n",
    "plt.axvline(0)\n",
    "plt.show()"
   ]
  },
  {
   "cell_type": "code",
   "execution_count": 15,
   "metadata": {},
   "outputs": [
    {
     "name": "stdout",
     "output_type": "stream",
     "text": [
      "\n",
      "w = x + 2y\n",
      "mean: 6.960 (expected: 7.000)\n",
      "var: 38.943 (expected: 40.000000)\n",
      "P(x < -2y) = 13.340% (expected: 13.800000%)\n",
      "\n"
     ]
    },
    {
     "data": {
      "image/png": "[encoded data removed]",
      "text/plain": [
       "<Figure size 432x288 with 1 Axes>"
      ]
     },
     "metadata": {
      "needs_background": "light"
     },
     "output_type": "display_data"
    }
   ],
   "source": [
    "w = x + 2 * y\n",
    "w_mean = mu_x + 2 * mu_y\n",
    "\n",
    "# note: when rv is multipled by a, variance is scaled by a^2\n",
    "w_var = sig_x ** 2 + 4 * sig_y ** 2\n",
    "\n",
    "w_sample = np.random.normal(w_mean, np.sqrt(w_var), n_trial)\n",
    "print(\"\"\"\n",
    "w = x + 2y\n",
    "mean: %.3f (expected: %.3f)\n",
    "var: %.3f (expected: %3f)\n",
    "P(x < -2y) = %.3f%% (expected: %3f%%)\n",
    "\"\"\"%(np.mean(w), w_mean,  np.var(w), w_var, \n",
    "    100 * sum(x < -2 * y) / n_trial,\n",
    "    100 * sum(w_sample < 0) / n_trial))\n",
    "\n",
    "plt.hist(w, bins=100, alpha=0.5, density=True)\n",
    "plt.hist(x, bins=100, alpha=0.5, density=True)\n",
    "plt.hist(y, bins=100, alpha=0.5, density=True)\n",
    "plt.legend([\"x + 2y\", \"x\", \"y\"])\n",
    "plt.axvline(0)\n",
    "plt.show()"
   ]
  },
  {
   "cell_type": "code",
   "execution_count": 16,
   "metadata": {},
   "outputs": [
    {
     "name": "stdout",
     "output_type": "stream",
     "text": [
      "\n",
      "w = x - 3y\n",
      "mean: -7.918 (expected: -8.000)\n",
      "var: 82.994 (expected: 85.000000)\n",
      "P(x > 3y) = 19.180% (expected: 19.330000%)\n",
      "\n"
     ]
    },
    {
     "data": {
      "image/png": "[encoded data removed]",
      "text/plain": [
       "<Figure size 432x288 with 1 Axes>"
      ]
     },
     "metadata": {
      "needs_background": "light"
     },
     "output_type": "display_data"
    }
   ],
   "source": [
    "w = x - 3 * y\n",
    "w_mean = mu_x - 3 * mu_y\n",
    "\n",
    "# note: when rv is multipled by a, variance is scaled by a^2\n",
    "w_var = sig_x ** 2 + 9 * sig_y ** 2\n",
    "\n",
    "w_sample = np.random.normal(w_mean, np.sqrt(w_var), n_trial)\n",
    "print(\"\"\"\n",
    "w = x - 3y\n",
    "mean: %.3f (expected: %.3f)\n",
    "var: %.3f (expected: %3f)\n",
    "P(x > 3y) = %.3f%% (expected: %3f%%)\n",
    "\"\"\"%(np.mean(w), w_mean,  np.var(w), w_var, \n",
    "    100 * sum(x > 3 * y) / n_trial,\n",
    "    100 * sum(w_sample > 0) / n_trial))\n",
    "\n",
    "plt.hist(w, bins=100, alpha=0.5, density=True)\n",
    "plt.hist(x, bins=100, alpha=0.5, density=True)\n",
    "plt.hist(y, bins=100, alpha=0.5, density=True)\n",
    "plt.legend([\"x - 3y\", \"x\", \"y\"])\n",
    "plt.axvline(0)\n",
    "plt.show()"
   ]
  }
 ],
 "metadata": {
  "kernelspec": {
   "display_name": "Python 3",
   "language": "python",
   "name": "python3"
  },
  "language_info": {
   "codemirror_mode": {
    "name": "ipython",
    "version": 3
   },
   "file_extension": ".py",
   "mimetype": "text/x-python",
   "name": "python",
   "nbconvert_exporter": "python",
   "pygments_lexer": "ipython3",
   "version": "3.5.5"
  }
 },
 "nbformat": 4,
 "nbformat_minor": 2
}
