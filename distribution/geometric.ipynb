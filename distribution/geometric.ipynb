{
 "cells": [
  {
   "cell_type": "code",
   "execution_count": 1,
   "metadata": {},
   "outputs": [],
   "source": [
    "import numpy as np\n",
    "import matplotlib.pyplot as plt"
   ]
  },
  {
   "cell_type": "code",
   "execution_count": 2,
   "metadata": {},
   "outputs": [],
   "source": [
    "def bernoulli(p):\n",
    "    return np.random.rand() < p"
   ]
  },
  {
   "cell_type": "code",
   "execution_count": 3,
   "metadata": {},
   "outputs": [],
   "source": [
    "def geometric(p):\n",
    "    n = 1\n",
    "    flag = bernoulli(p)\n",
    "    while flag is False:\n",
    "        flag = bernoulli(p)\n",
    "        n += 1\n",
    "    return n"
   ]
  },
  {
   "cell_type": "code",
   "execution_count": 4,
   "metadata": {},
   "outputs": [],
   "source": [
    "p = 0.05\n",
    "sample = [geometric(p) for _ in range(10000)]"
   ]
  },
  {
   "cell_type": "code",
   "execution_count": 5,
   "metadata": {},
   "outputs": [
    {
     "data": {
      "image/png": "[encoded data removed]",
      "text/plain": [
       "<Figure size 432x288 with 1 Axes>"
      ]
     },
     "metadata": {
      "needs_background": "light"
     },
     "output_type": "display_data"
    }
   ],
   "source": [
    "plt.hist(sample, bins=50)\n",
    "plt.show()"
   ]
  },
  {
   "cell_type": "code",
   "execution_count": 6,
   "metadata": {},
   "outputs": [
    {
     "name": "stdout",
     "output_type": "stream",
     "text": [
      "\n",
      "mean empirical: 19.63\n",
      "mean analytical: 20.00\n",
      "variance empirical: 359.38\n",
      "variance analytical: 380.00\n",
      "\n"
     ]
    }
   ],
   "source": [
    "print(\"\"\"\n",
    "mean empirical: %.2f\n",
    "mean analytical: %.2f\n",
    "variance empirical: %.2f\n",
    "variance analytical: %.2f\n",
    "\"\"\"%(np.mean(sample), 1 / p, np.var(sample), (1 - p) / p ** 2))"
   ]
  },
  {
   "cell_type": "markdown",
   "metadata": {},
   "source": [
    "#### Using Numpy"
   ]
  },
  {
   "cell_type": "code",
   "execution_count": 7,
   "metadata": {},
   "outputs": [
    {
     "data": {
      "image/png": "[encoded data removed]",
      "text/plain": [
       "<Figure size 432x288 with 1 Axes>"
      ]
     },
     "metadata": {
      "needs_background": "light"
     },
     "output_type": "display_data"
    }
   ],
   "source": [
    "sample = np.random.geometric(p=p, size=10000)\n",
    "\n",
    "plt.hist(sample, bins=50)\n",
    "plt.show()"
   ]
  },
  {
   "cell_type": "code",
   "execution_count": 8,
   "metadata": {},
   "outputs": [
    {
     "name": "stdout",
     "output_type": "stream",
     "text": [
      "\n",
      "mean empirical: 19.99\n",
      "mean analytical: 20.00\n",
      "variance empirical: 378.35\n",
      "variance analytical: 380.00\n",
      "\n"
     ]
    }
   ],
   "source": [
    "print(\"\"\"\n",
    "mean empirical: %.2f\n",
    "mean analytical: %.2f\n",
    "variance empirical: %.2f\n",
    "variance analytical: %.2f\n",
    "\"\"\"%(np.mean(sample), 1 / p, np.var(sample), (1 - p) / p ** 2))"
   ]
  }
 ],
 "metadata": {
  "kernelspec": {
   "display_name": "Python 3",
   "language": "python",
   "name": "python3"
  },
  "language_info": {
   "codemirror_mode": {
    "name": "ipython",
    "version": 3
   },
   "file_extension": ".py",
   "mimetype": "text/x-python",
   "name": "python",
   "nbconvert_exporter": "python",
   "pygments_lexer": "ipython3",
   "version": "3.5.5"
  }
 },
 "nbformat": 4,
 "nbformat_minor": 2
}
