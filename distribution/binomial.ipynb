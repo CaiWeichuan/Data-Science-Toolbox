{
 "cells": [
  {
   "cell_type": "code",
   "execution_count": 1,
   "metadata": {},
   "outputs": [],
   "source": [
    "import numpy as np\n",
    "import matplotlib.pyplot as plt"
   ]
  },
  {
   "cell_type": "code",
   "execution_count": 2,
   "metadata": {},
   "outputs": [],
   "source": [
    "def binomial(n, p):\n",
    "    # Sample from a uniform distribution\n",
    "    u = np.random.rand(n)\n",
    "    \n",
    "    # a draw is successful if probability is less than p\n",
    "    return sum(u < p)"
   ]
  },
  {
   "cell_type": "code",
   "execution_count": 3,
   "metadata": {},
   "outputs": [
    {
     "data": {
      "image/png": "[encoded data removed]",
      "text/plain": [
       "<Figure size 432x288 with 1 Axes>"
      ]
     },
     "metadata": {
      "needs_background": "light"
     },
     "output_type": "display_data"
    }
   ],
   "source": [
    "# number of trials (of binomial)\n",
    "n_trial = 10000\n",
    "\n",
    "# number of draw (in each binomial trial)\n",
    "n = 100\n",
    "\n",
    "# probability of success\n",
    "p = 0.8\n",
    "\n",
    "# when n_trial is large, binomial tends to normal distribution\n",
    "m = [binomial(n, p) for _ in range(n_trial)]\n",
    "plt.hist(m, density=True)\n",
    "plt.show()"
   ]
  }
 ],
 "metadata": {
  "kernelspec": {
   "display_name": "Python 3",
   "language": "python",
   "name": "python3"
  },
  "language_info": {
   "codemirror_mode": {
    "name": "ipython",
    "version": 3
   },
   "file_extension": ".py",
   "mimetype": "text/x-python",
   "name": "python",
   "nbconvert_exporter": "python",
   "pygments_lexer": "ipython3",
   "version": "3.5.5"
  }
 },
 "nbformat": 4,
 "nbformat_minor": 2
}
