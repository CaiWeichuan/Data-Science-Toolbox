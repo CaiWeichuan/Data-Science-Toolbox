{
 "cells": [
  {
   "cell_type": "code",
   "execution_count": 1,
   "metadata": {},
   "outputs": [],
   "source": [
    "import matplotlib.pyplot as plt\n",
    "import numpy as np"
   ]
  },
  {
   "cell_type": "markdown",
   "metadata": {},
   "source": [
    "#### Chi-square ($\\chi^2$) distribution\n",
    "* Sum of squared unit normal distribution.\n",
    "* Degree of freedom is the number of unit normals to be summed."
   ]
  },
  {
   "cell_type": "code",
   "execution_count": 2,
   "metadata": {},
   "outputs": [],
   "source": [
    "dofs = [1, 4, 12]\n",
    "sample_size = 10000"
   ]
  },
  {
   "cell_type": "code",
   "execution_count": 3,
   "metadata": {},
   "outputs": [],
   "source": [
    "def draw_normal(dof, sample_size):\n",
    "    return np.random.normal(0, 1, (dof, sample_size))"
   ]
  },
  {
   "cell_type": "code",
   "execution_count": 4,
   "metadata": {},
   "outputs": [],
   "source": [
    "def draw_chi2(dof, sample_size):\n",
    "    normals2 = np.random.normal(0, 1, (dof, sample_size)) ** 2\n",
    "    return normals2.sum(axis=0)"
   ]
  },
  {
   "cell_type": "code",
   "execution_count": 5,
   "metadata": {},
   "outputs": [
    {
     "name": "stdout",
     "output_type": "stream",
     "text": [
      "\n",
      "    dof = 1\n",
      "    mean_empirical = 0.99 \t mean_analytical = 1.00\n",
      "    std_empirical = 1.39 \t std_analytical = 1.41\n",
      "    \n",
      "\n",
      "    dof = 4\n",
      "    mean_empirical = 4.02 \t mean_analytical = 4.00\n",
      "    std_empirical = 2.83 \t std_analytical = 2.83\n",
      "    \n",
      "\n",
      "    dof = 12\n",
      "    mean_empirical = 12.00 \t mean_analytical = 12.00\n",
      "    std_empirical = 4.91 \t std_analytical = 4.90\n",
      "    \n"
     ]
    },
    {
     "data": {
      "image/png": "[encoded data removed]",
      "text/plain": [
       "<Figure size 1080x288 with 3 Axes>"
      ]
     },
     "metadata": {
      "needs_background": "light"
     },
     "output_type": "display_data"
    }
   ],
   "source": [
    "plt.figure(figsize=(15, 4))\n",
    "\n",
    "for i, dof in enumerate(dofs):\n",
    "    normal = np.random.normal(dof, np.sqrt(2 * dof), sample_size)\n",
    "    chi2 = draw_chi2(dof, sample_size)\n",
    "    \n",
    "    ax = plt.subplot(1, 3, i + 1)\n",
    "    ax.hist(normal, bins=100, density=True, alpha=0.5)\n",
    "    ax.hist(chi2, bins=100, density=True, alpha=0.5)\n",
    "    ax.set_title(\"dof=%i, var=%i\"%(dof, 2 * dof))\n",
    "    \n",
    "    mean_empirical = np.mean(chi2)\n",
    "    mean_analytical = dof\n",
    "    \n",
    "    std_empirical = np.std(chi2)\n",
    "    std_analytical = np.sqrt(2 * dof)\n",
    "    \n",
    "    print(\"\"\"\n",
    "    dof = %i\n",
    "    mean_empirical = %.2f \\t mean_analytical = %.2f\n",
    "    std_empirical = %.2f \\t std_analytical = %.2f\n",
    "    \"\"\"%(dof, mean_empirical, mean_analytical, std_empirical, std_analytical))\n",
    "    \n",
    "plt.tight_layout()"
   ]
  }
 ],
 "metadata": {
  "kernelspec": {
   "display_name": "Python 3",
   "language": "python",
   "name": "python3"
  },
  "language_info": {
   "codemirror_mode": {
    "name": "ipython",
    "version": 3
   },
   "file_extension": ".py",
   "mimetype": "text/x-python",
   "name": "python",
   "nbconvert_exporter": "python",
   "pygments_lexer": "ipython3",
   "version": "3.5.5"
  }
 },
 "nbformat": 4,
 "nbformat_minor": 2
}
