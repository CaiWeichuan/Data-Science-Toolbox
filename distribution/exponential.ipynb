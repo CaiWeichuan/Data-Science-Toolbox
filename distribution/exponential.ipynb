{
 "cells": [
  {
   "cell_type": "code",
   "execution_count": 1,
   "metadata": {},
   "outputs": [],
   "source": [
    "import numpy as np\n",
    "import matplotlib.pyplot as plt"
   ]
  },
  {
   "cell_type": "markdown",
   "metadata": {},
   "source": [
    "#### Sample from a uniform distribution"
   ]
  },
  {
   "cell_type": "code",
   "execution_count": 2,
   "metadata": {},
   "outputs": [
    {
     "data": {
      "image/png": "[encoded data removed]",
      "text/plain": [
       "<Figure size 432x288 with 1 Axes>"
      ]
     },
     "metadata": {
      "needs_background": "light"
     },
     "output_type": "display_data"
    }
   ],
   "source": [
    "uni = np.random.rand(10000)\n",
    "plt.hist(uni, bins = 100, density=True)\n",
    "plt.show()"
   ]
  },
  {
   "cell_type": "markdown",
   "metadata": {},
   "source": [
    "#### Invert to exponential distribution\n",
    "* Step 1: formulate probability density function.\n",
    "* Step 2: integrate to find cumulative density function.\n",
    "* Step 3: find inverse of cumulative density function.\n",
    "* You can take the inverse of the so call survival function or tail CDF.\n",
    "<img src=\"figs/inversion.png\" alt=\"Drawing\" style=\"height: 110px;\"/>"
   ]
  },
  {
   "cell_type": "code",
   "execution_count": 3,
   "metadata": {},
   "outputs": [
    {
     "data": {
      "image/png": "[encoded data removed]",
      "text/plain": [
       "<Figure size 432x288 with 1 Axes>"
      ]
     },
     "metadata": {
      "needs_background": "light"
     },
     "output_type": "display_data"
    }
   ],
   "source": [
    "lamb = 3\n",
    "expo = - 1 / 3 * np.log(1 - uni)\n",
    "plt.hist(expo, bins = 100, density=True)\n",
    "plt.show()"
   ]
  },
  {
   "cell_type": "code",
   "execution_count": 4,
   "metadata": {},
   "outputs": [
    {
     "name": "stdout",
     "output_type": "stream",
     "text": [
      "\n",
      "mean empirical: 0.34\n",
      "mean analytical: 0.33\n",
      "variance empirical: 0.11\n",
      "variance analytical: 0.11\n",
      "\n"
     ]
    }
   ],
   "source": [
    "print(\"\"\"\n",
    "mean empirical: %.2f\n",
    "mean analytical: %.2f\n",
    "variance empirical: %.2f\n",
    "variance analytical: %.2f\n",
    "\"\"\"%(np.mean(expo), 1 / lamb, np.var(expo), 1 / lamb ** 2))"
   ]
  },
  {
   "cell_type": "markdown",
   "metadata": {},
   "source": [
    "#### Using Numpy"
   ]
  },
  {
   "cell_type": "code",
   "execution_count": 5,
   "metadata": {},
   "outputs": [
    {
     "data": {
      "image/png": "[encoded data removed]",
      "text/plain": [
       "<Figure size 432x288 with 1 Axes>"
      ]
     },
     "metadata": {
      "needs_background": "light"
     },
     "output_type": "display_data"
    }
   ],
   "source": [
    "sample = np.random.exponential(scale=1 / lamb, size=10000)\n",
    "plt.hist(expo, bins = 100, density=True)\n",
    "plt.show()"
   ]
  },
  {
   "cell_type": "code",
   "execution_count": 6,
   "metadata": {},
   "outputs": [
    {
     "name": "stdout",
     "output_type": "stream",
     "text": [
      "\n",
      "mean empirical: 0.33\n",
      "mean analytical: 0.33\n",
      "variance empirical: 0.11\n",
      "variance analytical: 0.11\n",
      "\n"
     ]
    }
   ],
   "source": [
    "print(\"\"\"\n",
    "mean empirical: %.2f\n",
    "mean analytical: %.2f\n",
    "variance empirical: %.2f\n",
    "variance analytical: %.2f\n",
    "\"\"\"%(np.mean(sample), 1 / lamb, np.var(sample), 1 / lamb ** 2))"
   ]
  }
 ],
 "metadata": {
  "kernelspec": {
   "display_name": "Python 3",
   "language": "python",
   "name": "python3"
  },
  "language_info": {
   "codemirror_mode": {
    "name": "ipython",
    "version": 3
   },
   "file_extension": ".py",
   "mimetype": "text/x-python",
   "name": "python",
   "nbconvert_exporter": "python",
   "pygments_lexer": "ipython3",
   "version": "3.5.5"
  }
 },
 "nbformat": 4,
 "nbformat_minor": 2
}
