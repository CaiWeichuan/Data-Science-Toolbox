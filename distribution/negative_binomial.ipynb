{
 "cells": [
  {
   "cell_type": "code",
   "execution_count": 1,
   "metadata": {},
   "outputs": [],
   "source": [
    "import numpy as np\n",
    "import matplotlib.pyplot as plt"
   ]
  },
  {
   "cell_type": "code",
   "execution_count": 2,
   "metadata": {},
   "outputs": [],
   "source": [
    "def bernoulli(p):\n",
    "    return np.random.rand() < p"
   ]
  },
  {
   "cell_type": "code",
   "execution_count": 3,
   "metadata": {},
   "outputs": [],
   "source": [
    "def negative_bin(p, r):\n",
    "    N = n = 0\n",
    "    while n != r:\n",
    "        if bernoulli(p):\n",
    "            n += 1\n",
    "        N += 1\n",
    "    return N"
   ]
  },
  {
   "cell_type": "code",
   "execution_count": 4,
   "metadata": {},
   "outputs": [],
   "source": [
    "p = 0.05\n",
    "r = 10\n",
    "sample = [negative_bin(p, r) for _ in range(10000)]"
   ]
  },
  {
   "cell_type": "code",
   "execution_count": 5,
   "metadata": {},
   "outputs": [
    {
     "data": {
      "image/png": "[encoded data removed]",
      "text/plain": [
       "<Figure size 432x288 with 1 Axes>"
      ]
     },
     "metadata": {
      "needs_background": "light"
     },
     "output_type": "display_data"
    }
   ],
   "source": [
    "plt.hist(sample, bins=50)\n",
    "plt.show()"
   ]
  },
  {
   "cell_type": "code",
   "execution_count": 6,
   "metadata": {},
   "outputs": [
    {
     "name": "stdout",
     "output_type": "stream",
     "text": [
      "\n",
      "mean empirical: 199.79\n",
      "mean analytical: 190.00\n",
      "variance empirical: 3896.75\n",
      "variance analytical: 3800.00\n",
      "\n"
     ]
    }
   ],
   "source": [
    "print(\"\"\"\n",
    "mean empirical: %.2f\n",
    "mean analytical: %.2f\n",
    "variance empirical: %.2f\n",
    "variance analytical: %.2f\n",
    "\"\"\"%(np.mean(sample), (r * (1 - p)) / p, np.var(sample), (r * (1 - p)) / p ** 2))"
   ]
  }
 ],
 "metadata": {
  "kernelspec": {
   "display_name": "Python 3",
   "language": "python",
   "name": "python3"
  },
  "language_info": {
   "codemirror_mode": {
    "name": "ipython",
    "version": 3
   },
   "file_extension": ".py",
   "mimetype": "text/x-python",
   "name": "python",
   "nbconvert_exporter": "python",
   "pygments_lexer": "ipython3",
   "version": "3.5.5"
  }
 },
 "nbformat": 4,
 "nbformat_minor": 2
}
