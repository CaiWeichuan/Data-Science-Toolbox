{
 "cells": [
  {
   "cell_type": "code",
   "execution_count": 1,
   "metadata": {},
   "outputs": [],
   "source": [
    "import pandas as pd\n",
    "import matplotlib.pyplot as plt"
   ]
  },
  {
   "cell_type": "code",
   "execution_count": 2,
   "metadata": {},
   "outputs": [
    {
     "data": {
      "text/plain": [
       "['outputs/alpha_search_0.01-0.05.csv',\n",
       " 'outputs/alpha_search_0.06-0.10.csv',\n",
       " 'outputs/alpha_search_0.11-0.15.csv',\n",
       " 'outputs/alpha_search_0.16-0.20.csv',\n",
       " 'outputs/alpha_search_0.21-0.25.csv',\n",
       " 'outputs/alpha_search_0.26-0.30.csv',\n",
       " 'outputs/alpha_search_0.31-0.35.csv']"
      ]
     },
     "execution_count": 2,
     "metadata": {},
     "output_type": "execute_result"
    }
   ],
   "source": [
    "fnames = [\"outputs/alpha_search_%.2f-%.2f.csv\"%(i, i + 0.01 * 4) for i in [0.01, 0.06, 0.11, 0.16, 0.21, 0.26, 0.31]]\n",
    "fnames"
   ]
  },
  {
   "cell_type": "code",
   "execution_count": 3,
   "metadata": {},
   "outputs": [],
   "source": [
    "df = pd.read_csv(fnames[0])\n",
    "for fname in fnames[1:]:\n",
    "    df = df.append(pd.read_csv(fname))"
   ]
  },
  {
   "cell_type": "code",
   "execution_count": 4,
   "metadata": {},
   "outputs": [
    {
     "data": {
      "text/html": [
       "<div>\n",
       "<style scoped>\n",
       "    .dataframe tbody tr th:only-of-type {\n",
       "        vertical-align: middle;\n",
       "    }\n",
       "\n",
       "    .dataframe tbody tr th {\n",
       "        vertical-align: top;\n",
       "    }\n",
       "\n",
       "    .dataframe thead th {\n",
       "        text-align: right;\n",
       "    }\n",
       "</style>\n",
       "<table border=\"1\" class=\"dataframe\">\n",
       "  <thead>\n",
       "    <tr style=\"text-align: right;\">\n",
       "      <th></th>\n",
       "      <th>alpha</th>\n",
       "      <th>avg_traffic</th>\n",
       "      <th>success_prob</th>\n",
       "    </tr>\n",
       "  </thead>\n",
       "  <tbody>\n",
       "    <tr>\n",
       "      <th>0</th>\n",
       "      <td>0.01</td>\n",
       "      <td>10026.75</td>\n",
       "      <td>92.0</td>\n",
       "    </tr>\n",
       "    <tr>\n",
       "      <th>1</th>\n",
       "      <td>0.02</td>\n",
       "      <td>8613.53</td>\n",
       "      <td>98.0</td>\n",
       "    </tr>\n",
       "    <tr>\n",
       "      <th>2</th>\n",
       "      <td>0.03</td>\n",
       "      <td>6283.80</td>\n",
       "      <td>93.0</td>\n",
       "    </tr>\n",
       "    <tr>\n",
       "      <th>3</th>\n",
       "      <td>0.04</td>\n",
       "      <td>4633.27</td>\n",
       "      <td>95.0</td>\n",
       "    </tr>\n",
       "    <tr>\n",
       "      <th>4</th>\n",
       "      <td>0.05</td>\n",
       "      <td>3461.50</td>\n",
       "      <td>88.0</td>\n",
       "    </tr>\n",
       "  </tbody>\n",
       "</table>\n",
       "</div>"
      ],
      "text/plain": [
       "   alpha  avg_traffic  success_prob\n",
       "0   0.01     10026.75          92.0\n",
       "1   0.02      8613.53          98.0\n",
       "2   0.03      6283.80          93.0\n",
       "3   0.04      4633.27          95.0\n",
       "4   0.05      3461.50          88.0"
      ]
     },
     "execution_count": 4,
     "metadata": {},
     "output_type": "execute_result"
    }
   ],
   "source": [
    "df.head()"
   ]
  },
  {
   "cell_type": "code",
   "execution_count": 5,
   "metadata": {},
   "outputs": [
    {
     "data": {
      "image/png": "[encoded data removed]",
      "text/plain": [
       "<Figure size 432x288 with 2 Axes>"
      ]
     },
     "metadata": {
      "needs_background": "light"
     },
     "output_type": "display_data"
    }
   ],
   "source": [
    "fig, ax1 = plt.subplots()\n",
    "\n",
    "color = 'tab:red'\n",
    "ax1.plot(df.alpha, df.avg_traffic, color=color)\n",
    "ax1.set_xlabel('alpha')\n",
    "ax1.set_ylabel('mean_traffic', color=color)\n",
    "ax1.tick_params(axis='y', labelcolor=color)\n",
    "\n",
    "color = 'tab:blue'\n",
    "ax2 = plt.twinx()\n",
    "ax2.axhline(y=90, color='grey', alpha=0.8, linestyle=\":\")\n",
    "ax2.plot(df.alpha, df.success_prob, color=color)\n",
    "ax2.set_ylabel('success_prob', color=color)\n",
    "ax2.legend(['90%_benchmark'], frameon=False)\n",
    "ax2.tick_params(axis='y', labelcolor=color)\n",
    "\n",
    "ax1.spines[\"top\"].set_visible(False)\n",
    "ax1.spines[\"right\"].set_visible(False)\n",
    "ax1.spines[\"left\"].set_visible(False)\n",
    "ax1.spines[\"bottom\"].set_visible(False)\n",
    "\n",
    "plt.tight_layout()\n",
    "plt.savefig('outputs/alpha_search_summary.png')"
   ]
  },
  {
   "cell_type": "code",
   "execution_count": null,
   "metadata": {},
   "outputs": [],
   "source": []
  }
 ],
 "metadata": {
  "kernelspec": {
   "display_name": "Python 3",
   "language": "python",
   "name": "python3"
  },
  "language_info": {
   "codemirror_mode": {
    "name": "ipython",
    "version": 3
   },
   "file_extension": ".py",
   "mimetype": "text/x-python",
   "name": "python",
   "nbconvert_exporter": "python",
   "pygments_lexer": "ipython3",
   "version": "3.7.3"
  }
 },
 "nbformat": 4,
 "nbformat_minor": 2
}
