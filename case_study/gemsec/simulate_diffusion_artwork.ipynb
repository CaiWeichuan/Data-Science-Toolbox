{
 "cells": [
  {
   "cell_type": "code",
   "execution_count": 1,
   "metadata": {},
   "outputs": [],
   "source": [
    "import pandas as pd\n",
    "import numpy as np\n",
    "import matplotlib.pyplot as plt\n",
    "import json\n",
    "from sklearn.decomposition import PCA\n",
    "\n",
    "import warnings\n",
    "warnings.filterwarnings('ignore')"
   ]
  },
  {
   "cell_type": "code",
   "execution_count": 2,
   "metadata": {},
   "outputs": [],
   "source": [
    "dataset = \"athletes\""
   ]
  },
  {
   "cell_type": "code",
   "execution_count": 3,
   "metadata": {},
   "outputs": [
    {
     "data": {
      "text/plain": [
       "(13866, 32)"
      ]
     },
     "execution_count": 3,
     "metadata": {},
     "output_type": "execute_result"
    }
   ],
   "source": [
    "df_means = pd.read_csv(\"master/outputs/cluster_means/%s_means.csv\"%dataset)\n",
    "df_emb = pd.read_csv(\"master/outputs/embeddings/%s_embedding.csv\"%dataset)\n",
    "df_edges = pd.read_csv(\"master/data/%s_edges.csv\"%dataset, index_col=\"node_1\")\n",
    "df_emb.shape"
   ]
  },
  {
   "cell_type": "code",
   "execution_count": 4,
   "metadata": {},
   "outputs": [
    {
     "data": {
      "text/plain": [
       "13866"
      ]
     },
     "execution_count": 4,
     "metadata": {},
     "output_type": "execute_result"
    }
   ],
   "source": [
    "with open('master/outputs/assignments/%s.json'%dataset) as json_file:  \n",
    "    labels = json.load(json_file)\n",
    "len(labels)"
   ]
  },
  {
   "cell_type": "code",
   "execution_count": 5,
   "metadata": {},
   "outputs": [
    {
     "name": "stdout",
     "output_type": "stream",
     "text": [
      "(13866, 1)\n"
     ]
    },
    {
     "data": {
      "text/html": [
       "<div>\n",
       "<style scoped>\n",
       "    .dataframe tbody tr th:only-of-type {\n",
       "        vertical-align: middle;\n",
       "    }\n",
       "\n",
       "    .dataframe tbody tr th {\n",
       "        vertical-align: top;\n",
       "    }\n",
       "\n",
       "    .dataframe thead th {\n",
       "        text-align: right;\n",
       "    }\n",
       "</style>\n",
       "<table border=\"1\" class=\"dataframe\">\n",
       "  <thead>\n",
       "    <tr style=\"text-align: right;\">\n",
       "      <th></th>\n",
       "      <th>label</th>\n",
       "    </tr>\n",
       "    <tr>\n",
       "      <th>index</th>\n",
       "      <th></th>\n",
       "    </tr>\n",
       "  </thead>\n",
       "  <tbody>\n",
       "    <tr>\n",
       "      <th>0</th>\n",
       "      <td>20</td>\n",
       "    </tr>\n",
       "    <tr>\n",
       "      <th>1</th>\n",
       "      <td>10</td>\n",
       "    </tr>\n",
       "    <tr>\n",
       "      <th>2</th>\n",
       "      <td>11</td>\n",
       "    </tr>\n",
       "    <tr>\n",
       "      <th>3</th>\n",
       "      <td>16</td>\n",
       "    </tr>\n",
       "    <tr>\n",
       "      <th>4</th>\n",
       "      <td>22</td>\n",
       "    </tr>\n",
       "  </tbody>\n",
       "</table>\n",
       "</div>"
      ],
      "text/plain": [
       "       label\n",
       "index       \n",
       "0         20\n",
       "1         10\n",
       "2         11\n",
       "3         16\n",
       "4         22"
      ]
     },
     "execution_count": 5,
     "metadata": {},
     "output_type": "execute_result"
    }
   ],
   "source": [
    "df_label = pd.DataFrame({\"index\" : list(labels.keys()), \"label\" : list(labels.values())})\n",
    "df_label[\"index\"] = df_label[\"index\"].astype(int)\n",
    "df_label = df_label.set_index(\"index\")\n",
    "df_label = df_label.sort_index()\n",
    "print(df_label.shape)\n",
    "df_label.head()"
   ]
  },
  {
   "cell_type": "markdown",
   "metadata": {},
   "source": [
    "### Diffusion Modeling"
   ]
  },
  {
   "cell_type": "code",
   "execution_count": 6,
   "metadata": {},
   "outputs": [],
   "source": [
    "from sklearn.metrics.pairwise import cosine_similarity"
   ]
  },
  {
   "cell_type": "code",
   "execution_count": 7,
   "metadata": {},
   "outputs": [
    {
     "data": {
      "text/plain": [
       "-0.5597745770137953"
      ]
     },
     "execution_count": 7,
     "metadata": {},
     "output_type": "execute_result"
    }
   ],
   "source": [
    "def cosine(x, y):\n",
    "    return x.dot(y) / (np.linalg.norm(x) * np.linalg.norm(y))\n",
    "\n",
    "cosine(df_emb.iloc[1], df_emb.iloc[3])"
   ]
  },
  {
   "cell_type": "code",
   "execution_count": 8,
   "metadata": {},
   "outputs": [],
   "source": [
    "def lookup_neighbor(i):\n",
    "    if i in df_edges.index:\n",
    "        if len(df_edges.loc[i]) == 1:\n",
    "            return [df_edges.loc[i].node_2]\n",
    "        return df_edges.loc[i].node_2\n",
    "    return []"
   ]
  },
  {
   "cell_type": "code",
   "execution_count": 9,
   "metadata": {},
   "outputs": [
    {
     "name": "stdout",
     "output_type": "stream",
     "text": [
      "1 4381 0.9985358750958235\n",
      "0.9985358750958238\n"
     ]
    }
   ],
   "source": [
    "seeds = [1]\n",
    "\n",
    "for seed in seeds: \n",
    "    neighbors = lookup_neighbor(seed)\n",
    "    for nei in neighbors:\n",
    "        print(seed, nei, cosine(df_emb.iloc[seed], df_emb.iloc[nei]))\n",
    "        print( cosine_similarity(df_emb.iloc[seed].values.reshape(1, -1), df_emb.iloc[nei].values.reshape(1, -1))[0][0])# "
   ]
  },
  {
   "cell_type": "code",
   "execution_count": 10,
   "metadata": {},
   "outputs": [],
   "source": [
    "def simulate_diffusion(seeds, iteration=10):\n",
    "    df_infected = df_label.copy()\n",
    "    df_infected.index = df_infected.index.astype(int)\n",
    "    df_infected[\"infected\"] = False\n",
    "    df_infected.loc[seeds, 'infected'] = True\n",
    "\n",
    "    df_history = df_label.copy()\n",
    "    df_history.index = df_history.index.astype(int)\n",
    "    prev = len(seeds)\n",
    "    for i in range(iteration):\n",
    "        df_infected_cur = df_infected[df_infected.infected==1].index\n",
    "        for j, source in enumerate(df_infected_cur):\n",
    "            \n",
    "            if j % 1 == 0:\n",
    "                df_history[\"i%i_f%i\"%(i, j)] = df_infected.infected\n",
    "            \n",
    "            neighbors = lookup_neighbor(source)\n",
    "            neighbors = list(filter(lambda x : cosine(df_emb.iloc[source], df_emb.iloc[x]) > np.random.rand(), neighbors))\n",
    "            df_infected.loc[neighbors, 'infected'] = True\n",
    "            \n",
    "            if j % 3 == 0:\n",
    "                print(\"iteration %i, progress %i/%i, infected %i (%.2f%%)     \"\n",
    "                      %(i, j, len(df_infected_cur), sum(df_infected.infected), \n",
    "                        100 * sum(df_infected.infected) / len(np.unique(df_edges.node_2))), end='\\r')\n",
    "                \n",
    "    return df_history, df_infected"
   ]
  },
  {
   "cell_type": "code",
   "execution_count": 11,
   "metadata": {},
   "outputs": [],
   "source": [
    "n_seeds = 70\n",
    "n_classes = len(np.unique(df_label.label))"
   ]
  },
  {
   "cell_type": "markdown",
   "metadata": {},
   "source": [
    "### Cluster Influencer"
   ]
  },
  {
   "cell_type": "code",
   "execution_count": 12,
   "metadata": {},
   "outputs": [],
   "source": [
    "\n",
    "\n",
    "seeds = []\n",
    "for target in range(n_classes):\n",
    "    idxs = df_label[df_label.label == target].index\n",
    "    df_cluster = df_edges.loc[list(map(int, idxs))]\n",
    "    cluster_n_seeds = round(n_seeds * len(np.unique(df_cluster.index)) / len(df_emb))\n",
    "    \n",
    "    df_influencer = df_cluster.groupby(\"node_1\").count()\n",
    "    \n",
    "    cluster_seeds = list(df_influencer.sort_values([\"node_2\"], ascending=False)[:cluster_n_seeds].index.values)\n",
    "    seeds += cluster_seeds"
   ]
  },
  {
   "cell_type": "code",
   "execution_count": 13,
   "metadata": {},
   "outputs": [
    {
     "name": "stdout",
     "output_type": "stream",
     "text": [
      "iteration 1, progress 3354/3355, infected 6802 (58.97%)     \r"
     ]
    }
   ],
   "source": [
    "df_history, df_infected = simulate_diffusion(seeds, iteration=2)"
   ]
  },
  {
   "cell_type": "code",
   "execution_count": 14,
   "metadata": {},
   "outputs": [
    {
     "data": {
      "text/plain": [
       "(13866, 3427)"
      ]
     },
     "execution_count": 14,
     "metadata": {},
     "output_type": "execute_result"
    }
   ],
   "source": [
    "df_history.shape"
   ]
  },
  {
   "cell_type": "code",
   "execution_count": 15,
   "metadata": {},
   "outputs": [
    {
     "data": {
      "text/plain": [
       "[<matplotlib.lines.Line2D at 0x1a1cd63828>]"
      ]
     },
     "execution_count": 15,
     "metadata": {},
     "output_type": "execute_result"
    },
    {
     "data": {
      "image/png": "[encoded data removed]",
      "text/plain": [
       "<Figure size 432x288 with 1 Axes>"
      ]
     },
     "metadata": {
      "needs_background": "light"
     },
     "output_type": "display_data"
    }
   ],
   "source": [
    "df_sum = df_history.drop([\"label\"], axis=1).sum(axis=0)\n",
    "# df_sum.to_csv(\"outputs/%s_sum_cluster_influencer.csv\"%dataset, header=True)\n",
    "plt.plot(df_sum.values)"
   ]
  },
  {
   "cell_type": "code",
   "execution_count": 16,
   "metadata": {},
   "outputs": [],
   "source": [
    "# df_history.iloc[:, :1000].to_csv(\"outputs/%s_cluster_influencer.csv\"%dataset)"
   ]
  }
 ],
 "metadata": {
  "kernelspec": {
   "display_name": "Python 3",
   "language": "python",
   "name": "python3"
  },
  "language_info": {
   "codemirror_mode": {
    "name": "ipython",
    "version": 3
   },
   "file_extension": ".py",
   "mimetype": "text/x-python",
   "name": "python",
   "nbconvert_exporter": "python",
   "pygments_lexer": "ipython3",
   "version": "3.7.3"
  }
 },
 "nbformat": 4,
 "nbformat_minor": 2
}
