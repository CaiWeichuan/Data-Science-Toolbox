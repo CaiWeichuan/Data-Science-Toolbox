{
 "cells": [
  {
   "cell_type": "code",
   "execution_count": 1,
   "metadata": {},
   "outputs": [],
   "source": [
    "import pandas as pd\n",
    "import numpy as np\n",
    "import matplotlib.pyplot as plt\n",
    "import json\n",
    "from sklearn.neighbors import KernelDensity"
   ]
  },
  {
   "cell_type": "code",
   "execution_count": 2,
   "metadata": {},
   "outputs": [],
   "source": [
    "def kde_sklearn(x, x_grid, bandwidth=0.2, **kwargs):\n",
    "    \"\"\"Kernel Density Estimation with Scikit-learn\"\"\"\n",
    "    kde_skl = KernelDensity(bandwidth=bandwidth, **kwargs)\n",
    "    kde_skl.fit(x[:, np.newaxis])\n",
    "    # score_samples() returns the log-likelihood of the samples\n",
    "    log_pdf = kde_skl.score_samples(x_grid[:, np.newaxis])\n",
    "    return np.exp(log_pdf)"
   ]
  },
  {
   "cell_type": "code",
   "execution_count": 3,
   "metadata": {},
   "outputs": [
    {
     "data": {
      "text/plain": [
       "(5908, 16)"
      ]
     },
     "execution_count": 3,
     "metadata": {},
     "output_type": "execute_result"
    }
   ],
   "source": [
    "dataset = \"politician\"\n",
    "\n",
    "df_means = pd.read_csv(\"master/outputs/cluster_means/%s_means.csv\"%dataset)\n",
    "df_emb = pd.read_csv(\"master/outputs/embeddings/%s_embedding.csv\"%dataset)\n",
    "    \n",
    "df_emb.shape"
   ]
  },
  {
   "cell_type": "code",
   "execution_count": 4,
   "metadata": {},
   "outputs": [
    {
     "name": "stdout",
     "output_type": "stream",
     "text": [
      "(5908, 1)\n"
     ]
    }
   ],
   "source": [
    "with open('master/outputs/assignments/%s.json'%dataset) as json_file:  \n",
    "    labels = json.load(json_file)\n",
    "    \n",
    "df_label = pd.DataFrame({\"index\" : list(labels.keys()), \"label\" : list(labels.values())})\n",
    "df_label[\"index\"] = df_label[\"index\"].astype(int)\n",
    "df_label = df_label.set_index(\"index\")\n",
    "df_label = df_label.sort_index()\n",
    "print(df_label.shape)"
   ]
  },
  {
   "cell_type": "code",
   "execution_count": 5,
   "metadata": {},
   "outputs": [],
   "source": [
    "df_edges = pd.read_csv(\"master/data/%s_edges.csv\"%dataset, index_col=\"node_1\")"
   ]
  },
  {
   "cell_type": "code",
   "execution_count": 6,
   "metadata": {},
   "outputs": [
    {
     "data": {
      "text/html": [
       "<div>\n",
       "<style scoped>\n",
       "    .dataframe tbody tr th:only-of-type {\n",
       "        vertical-align: middle;\n",
       "    }\n",
       "\n",
       "    .dataframe tbody tr th {\n",
       "        vertical-align: top;\n",
       "    }\n",
       "\n",
       "    .dataframe thead th {\n",
       "        text-align: right;\n",
       "    }\n",
       "</style>\n",
       "<table border=\"1\" class=\"dataframe\">\n",
       "  <thead>\n",
       "    <tr style=\"text-align: right;\">\n",
       "      <th></th>\n",
       "      <th>node_2</th>\n",
       "      <th>influence</th>\n",
       "    </tr>\n",
       "    <tr>\n",
       "      <th>node_1</th>\n",
       "      <th></th>\n",
       "      <th></th>\n",
       "    </tr>\n",
       "  </thead>\n",
       "  <tbody>\n",
       "    <tr>\n",
       "      <th>1864</th>\n",
       "      <td>215</td>\n",
       "      <td>3.639133</td>\n",
       "    </tr>\n",
       "    <tr>\n",
       "      <th>1595</th>\n",
       "      <td>160</td>\n",
       "      <td>2.708192</td>\n",
       "    </tr>\n",
       "    <tr>\n",
       "      <th>147</th>\n",
       "      <td>152</td>\n",
       "      <td>2.572783</td>\n",
       "    </tr>\n",
       "    <tr>\n",
       "      <th>1474</th>\n",
       "      <td>146</td>\n",
       "      <td>2.471225</td>\n",
       "    </tr>\n",
       "    <tr>\n",
       "      <th>98</th>\n",
       "      <td>142</td>\n",
       "      <td>2.403521</td>\n",
       "    </tr>\n",
       "    <tr>\n",
       "      <th>112</th>\n",
       "      <td>141</td>\n",
       "      <td>2.386594</td>\n",
       "    </tr>\n",
       "    <tr>\n",
       "      <th>726</th>\n",
       "      <td>138</td>\n",
       "      <td>2.335816</td>\n",
       "    </tr>\n",
       "    <tr>\n",
       "      <th>1324</th>\n",
       "      <td>135</td>\n",
       "      <td>2.285037</td>\n",
       "    </tr>\n",
       "    <tr>\n",
       "      <th>1414</th>\n",
       "      <td>122</td>\n",
       "      <td>2.064997</td>\n",
       "    </tr>\n",
       "    <tr>\n",
       "      <th>175</th>\n",
       "      <td>118</td>\n",
       "      <td>1.997292</td>\n",
       "    </tr>\n",
       "  </tbody>\n",
       "</table>\n",
       "</div>"
      ],
      "text/plain": [
       "        node_2  influence\n",
       "node_1                   \n",
       "1864       215   3.639133\n",
       "1595       160   2.708192\n",
       "147        152   2.572783\n",
       "1474       146   2.471225\n",
       "98         142   2.403521\n",
       "112        141   2.386594\n",
       "726        138   2.335816\n",
       "1324       135   2.285037\n",
       "1414       122   2.064997\n",
       "175        118   1.997292"
      ]
     },
     "execution_count": 6,
     "metadata": {},
     "output_type": "execute_result"
    }
   ],
   "source": [
    "df_influencer = df_edges.groupby(\"node_1\").count().sort_values([\"node_2\"], ascending=False)\n",
    "df_influencer[\"influence\"] = 100 * df_influencer.node_2 / len(df_label)\n",
    "df_influencer[:10]"
   ]
  },
  {
   "cell_type": "code",
   "execution_count": 7,
   "metadata": {},
   "outputs": [
    {
     "data": {
      "text/plain": [
       "array([1864, 1595,  147, 1474,   98])"
      ]
     },
     "execution_count": 7,
     "metadata": {},
     "output_type": "execute_result"
    }
   ],
   "source": [
    "influencer_idxs = df_influencer[:5].index.values\n",
    "influencer_idxs"
   ]
  },
  {
   "cell_type": "code",
   "execution_count": 8,
   "metadata": {},
   "outputs": [],
   "source": [
    "from sklearn.metrics.pairwise import cosine_similarity"
   ]
  },
  {
   "cell_type": "code",
   "execution_count": 9,
   "metadata": {},
   "outputs": [
    {
     "data": {
      "image/png": "[encoded data removed]",
      "text/plain": [
       "<Figure size 1008x432 with 1 Axes>"
      ]
     },
     "metadata": {},
     "output_type": "display_data"
    }
   ],
   "source": [
    "plt.figure(figsize=(14, 6))\n",
    "for influencer_idx in influencer_idxs:\n",
    "    sim_arr = cosine_similarity(df_emb.loc[[influencer_idx]], df_emb.loc[df_edges.loc[influencer_idx].node_2.values])[0]\n",
    "    x_grid = np.linspace(0, 1, 1000)\n",
    "    pdf = kde_sklearn(sim_arr, x_grid, bandwidth=0.05)\n",
    "\n",
    "    plt.plot(x_grid, pdf, alpha=0.8, label=\"id_%i, connection_%i\"%(influencer_idx, df_influencer.loc[influencer_idx].node_2))\n",
    "#     plt.hist(sim_arr, density=True)\n",
    "plt.legend(frameon=False)\n",
    "plt.xlabel(\"cosine_similarity\")\n",
    "plt.ylabel(\"density\")\n",
    "\n",
    "plt.savefig(\"outputs/top_influencer_%s.png\"%dataset)"
   ]
  },
  {
   "cell_type": "code",
   "execution_count": null,
   "metadata": {},
   "outputs": [],
   "source": []
  }
 ],
 "metadata": {
  "kernelspec": {
   "display_name": "Python 3",
   "language": "python",
   "name": "python3"
  },
  "language_info": {
   "codemirror_mode": {
    "name": "ipython",
    "version": 3
   },
   "file_extension": ".py",
   "mimetype": "text/x-python",
   "name": "python",
   "nbconvert_exporter": "python",
   "pygments_lexer": "ipython3",
   "version": "3.5.3"
  }
 },
 "nbformat": 4,
 "nbformat_minor": 2
}
