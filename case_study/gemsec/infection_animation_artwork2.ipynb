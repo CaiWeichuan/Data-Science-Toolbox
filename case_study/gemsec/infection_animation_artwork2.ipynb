{
 "cells": [
  {
   "cell_type": "code",
   "execution_count": 1,
   "metadata": {},
   "outputs": [],
   "source": [
    "import pandas as pd\n",
    "import numpy as np\n",
    "import json\n",
    "from sklearn.decomposition import PCA\n",
    "import matplotlib.pyplot as plt\n",
    "from matplotlib.animation import FuncAnimation\n",
    "from mpl_toolkits.mplot3d import Axes3D\n",
    "import matplotlib"
   ]
  },
  {
   "cell_type": "code",
   "execution_count": 2,
   "metadata": {},
   "outputs": [],
   "source": [
    "dataset = \"athletes\"\n",
    "key_idx = -1"
   ]
  },
  {
   "cell_type": "code",
   "execution_count": 3,
   "metadata": {},
   "outputs": [
    {
     "name": "stdout",
     "output_type": "stream",
     "text": [
      "(13866, 999)\n",
      "(13866, 1)\n"
     ]
    }
   ],
   "source": [
    "keys = [\"random\",  \"cluster_random\", \"influencer\",\"cluster_influencer\"]\n",
    "df_name = \"outputs/%s_%s.csv\"%(dataset, keys[key_idx])\n",
    "\n",
    "df = pd.read_csv(df_name, index_col=\"index\")\n",
    "df = df.drop([\"label\"], axis=1)\n",
    "print(df.shape)\n",
    "\n",
    "df_means = pd.read_csv(\"master/outputs/cluster_means/%s_means.csv\"%dataset)\n",
    "df_emb = pd.read_csv(\"master/outputs/embeddings/%s_embedding.csv\"%dataset)\n",
    "df_edges = pd.read_csv(\"master/data/%s_edges.csv\"%dataset, index_col=\"node_1\")\n",
    "with open('master/outputs/assignments/%s.json'%dataset) as json_file:  \n",
    "    labels = json.load(json_file)\n",
    "    \n",
    "df_label = pd.DataFrame({\"index\" : list(labels.keys()), \"label\" : list(labels.values())})\n",
    "df_label[\"index\"] = df_label[\"index\"].astype(int)\n",
    "df_label = df_label.set_index(\"index\")\n",
    "df_label = df_label.sort_index()\n",
    "print(df_label.shape)\n",
    "\n",
    "n_class = len(np.unique(df_label.label))"
   ]
  },
  {
   "cell_type": "code",
   "execution_count": 4,
   "metadata": {},
   "outputs": [
    {
     "name": "stdout",
     "output_type": "stream",
     "text": [
      "explained var 0.91\n"
     ]
    },
    {
     "data": {
      "image/png": "[encoded data removed]",
      "text/plain": [
       "<Figure size 432x288 with 1 Axes>"
      ]
     },
     "metadata": {
      "needs_background": "light"
     },
     "output_type": "display_data"
    }
   ],
   "source": [
    "pca = PCA().fit(df_emb)\n",
    "plt.plot(np.cumsum(pca.explained_variance_ratio_))\n",
    "print(\"explained var %.2f\"%sum(pca.explained_variance_ratio_[:3]))"
   ]
  },
  {
   "cell_type": "code",
   "execution_count": 5,
   "metadata": {},
   "outputs": [],
   "source": [
    "pca = PCA(3)\n",
    "projected = pca.fit_transform(df_emb)"
   ]
  },
  {
   "cell_type": "code",
   "execution_count": 6,
   "metadata": {},
   "outputs": [],
   "source": [
    "df_emb = pd.DataFrame(projected, index=df_emb.index)"
   ]
  },
  {
   "cell_type": "code",
   "execution_count": 7,
   "metadata": {
    "scrolled": true
   },
   "outputs": [
    {
     "data": {
      "text/html": [
       "<div>\n",
       "<style scoped>\n",
       "    .dataframe tbody tr th:only-of-type {\n",
       "        vertical-align: middle;\n",
       "    }\n",
       "\n",
       "    .dataframe tbody tr th {\n",
       "        vertical-align: top;\n",
       "    }\n",
       "\n",
       "    .dataframe thead th {\n",
       "        text-align: right;\n",
       "    }\n",
       "</style>\n",
       "<table border=\"1\" class=\"dataframe\">\n",
       "  <thead>\n",
       "    <tr style=\"text-align: right;\">\n",
       "      <th></th>\n",
       "      <th>0</th>\n",
       "      <th>1</th>\n",
       "      <th>2</th>\n",
       "      <th>norm</th>\n",
       "      <th>label</th>\n",
       "    </tr>\n",
       "  </thead>\n",
       "  <tbody>\n",
       "    <tr>\n",
       "      <th>9965</th>\n",
       "      <td>-2.909158</td>\n",
       "      <td>0.661694</td>\n",
       "      <td>-0.529397</td>\n",
       "      <td>3.030066</td>\n",
       "      <td>9</td>\n",
       "    </tr>\n",
       "    <tr>\n",
       "      <th>10877</th>\n",
       "      <td>-2.065542</td>\n",
       "      <td>-2.397082</td>\n",
       "      <td>-0.898836</td>\n",
       "      <td>3.289434</td>\n",
       "      <td>9</td>\n",
       "    </tr>\n",
       "    <tr>\n",
       "      <th>960</th>\n",
       "      <td>-2.809388</td>\n",
       "      <td>0.887993</td>\n",
       "      <td>-1.768353</td>\n",
       "      <td>3.436316</td>\n",
       "      <td>9</td>\n",
       "    </tr>\n",
       "    <tr>\n",
       "      <th>1510</th>\n",
       "      <td>-3.222963</td>\n",
       "      <td>-1.168141</td>\n",
       "      <td>-0.848923</td>\n",
       "      <td>3.531673</td>\n",
       "      <td>9</td>\n",
       "    </tr>\n",
       "    <tr>\n",
       "      <th>10872</th>\n",
       "      <td>-3.498913</td>\n",
       "      <td>0.670808</td>\n",
       "      <td>-1.217513</td>\n",
       "      <td>3.764932</td>\n",
       "      <td>9</td>\n",
       "    </tr>\n",
       "  </tbody>\n",
       "</table>\n",
       "</div>"
      ],
      "text/plain": [
       "              0         1         2      norm  label\n",
       "9965  -2.909158  0.661694 -0.529397  3.030066      9\n",
       "10877 -2.065542 -2.397082 -0.898836  3.289434      9\n",
       "960   -2.809388  0.887993 -1.768353  3.436316      9\n",
       "1510  -3.222963 -1.168141 -0.848923  3.531673      9\n",
       "10872 -3.498913  0.670808 -1.217513  3.764932      9"
      ]
     },
     "execution_count": 7,
     "metadata": {},
     "output_type": "execute_result"
    }
   ],
   "source": [
    "df_emb[\"norm\"] = np.linalg.norm(df_emb, axis=1)\n",
    "df_emb[\"label\"] = df_label.label\n",
    "df_emb.sort_values(\"norm\", inplace=True)\n",
    "\n",
    "df_emb.head()"
   ]
  },
  {
   "cell_type": "code",
   "execution_count": 8,
   "metadata": {},
   "outputs": [],
   "source": [
    "df_emb = df_emb.reset_index()"
   ]
  },
  {
   "cell_type": "code",
   "execution_count": 9,
   "metadata": {},
   "outputs": [],
   "source": [
    "df_label = df_emb[[\"label\"]]\n",
    "df_emb = df_emb.drop([\"norm\", \"label\"], axis=1)"
   ]
  },
  {
   "cell_type": "code",
   "execution_count": 10,
   "metadata": {},
   "outputs": [],
   "source": [
    "colors_choice = [\"C0\", \"C1\", \"C2\", \"C3\", \"C4\", \"C8\", \"C9\"]\n",
    "colors = [colors_choice[i%len(colors_choice)] for i in range(n_class)]\n",
    "colors.append(\"k\")"
   ]
  },
  {
   "cell_type": "code",
   "execution_count": 11,
   "metadata": {},
   "outputs": [
    {
     "data": {
      "text/html": [
       "<div>\n",
       "<style scoped>\n",
       "    .dataframe tbody tr th:only-of-type {\n",
       "        vertical-align: middle;\n",
       "    }\n",
       "\n",
       "    .dataframe tbody tr th {\n",
       "        vertical-align: top;\n",
       "    }\n",
       "\n",
       "    .dataframe thead th {\n",
       "        text-align: right;\n",
       "    }\n",
       "</style>\n",
       "<table border=\"1\" class=\"dataframe\">\n",
       "  <thead>\n",
       "    <tr style=\"text-align: right;\">\n",
       "      <th></th>\n",
       "      <th>label</th>\n",
       "    </tr>\n",
       "  </thead>\n",
       "  <tbody>\n",
       "    <tr>\n",
       "      <th>0</th>\n",
       "      <td>9</td>\n",
       "    </tr>\n",
       "    <tr>\n",
       "      <th>1</th>\n",
       "      <td>9</td>\n",
       "    </tr>\n",
       "    <tr>\n",
       "      <th>2</th>\n",
       "      <td>9</td>\n",
       "    </tr>\n",
       "    <tr>\n",
       "      <th>3</th>\n",
       "      <td>9</td>\n",
       "    </tr>\n",
       "    <tr>\n",
       "      <th>4</th>\n",
       "      <td>9</td>\n",
       "    </tr>\n",
       "  </tbody>\n",
       "</table>\n",
       "</div>"
      ],
      "text/plain": [
       "   label\n",
       "0      9\n",
       "1      9\n",
       "2      9\n",
       "3      9\n",
       "4      9"
      ]
     },
     "execution_count": 11,
     "metadata": {},
     "output_type": "execute_result"
    }
   ],
   "source": [
    "df_label.head()"
   ]
  },
  {
   "cell_type": "code",
   "execution_count": 12,
   "metadata": {},
   "outputs": [
    {
     "name": "stdout",
     "output_type": "stream",
     "text": [
      "batch 96\n"
     ]
    }
   ],
   "source": [
    "duration = 3\n",
    "fps = 48\n",
    "\n",
    "columns = df.columns\n",
    "end = len(df_emb)\n",
    "# end = duration * fps\n",
    "\n",
    "batch = int(end / (duration * fps))\n",
    "print(\"batch\", batch)\n",
    "\n",
    "frames = []\n",
    "for i in range(end // batch + 1):\n",
    "    idx_end = min(end - 1, (i + 1) * batch)\n",
    "    frames.append(idx_end)\n",
    "    \n",
    "alpha = 0.05"
   ]
  },
  {
   "cell_type": "code",
   "execution_count": 13,
   "metadata": {},
   "outputs": [
    {
     "data": {
      "image/png": "[encoded data removed]",
      "text/plain": [
       "<Figure size 576x360 with 1 Axes>"
      ]
     },
     "metadata": {
      "needs_background": "light"
     },
     "output_type": "display_data"
    }
   ],
   "source": [
    "fig = plt.figure(figsize=(8, 5))\n",
    "ax = Axes3D(fig)\n",
    "\n",
    "i = 0\n",
    "\n",
    "col = df[columns[-1]]\n",
    "labels = df_label.label.values.copy()\n",
    "# labels[col] = len(colors)\n",
    "\n",
    "ax.cla()\n",
    "ax.scatter(df_emb.iloc[:i, 1], df_emb.iloc[:i, 2], df_emb.iloc[:i, 3],\n",
    "           c=labels[:i], cmap=matplotlib.colors.ListedColormap(colors), alpha=alpha)\n",
    "\n",
    "limit = 14\n",
    "ax.set_xlim(-limit + 3, limit)\n",
    "ax.set_ylim(-limit, limit)\n",
    "ax.set_zlim(-limit + 10, limit - 3)\n",
    "\n",
    "ax._axis3don = False\n",
    "ax.w_xaxis.set_pane_color((1.0, 1.0, 1.0, 1.0))"
   ]
  },
  {
   "cell_type": "code",
   "execution_count": 14,
   "metadata": {},
   "outputs": [
    {
     "name": "stdout",
     "output_type": "stream",
     "text": [
      "outputs/athletes_cluster_influencer.csv_3s_48fps_alpha_0.05_end13866.gif\n"
     ]
    }
   ],
   "source": [
    "def update(i):\n",
    "    if i % batch == 0:\n",
    "        print('frame %i'%i, end=\"\\r\")\n",
    "    \n",
    "    ax.cla()\n",
    "    ax.scatter(df_emb.iloc[:i, 1], df_emb.iloc[:i, 2], df_emb.iloc[:i, 3],\n",
    "               c=labels[:i], cmap=matplotlib.colors.ListedColormap(colors), alpha=alpha)\n",
    "    \n",
    "    ax.set_xlim(-limit + 3, limit)\n",
    "    ax.set_ylim(-limit, limit)\n",
    "    ax.set_zlim(-limit + 10, limit - 3)\n",
    "    \n",
    "    ax._axis3don = False\n",
    "    ax.w_xaxis.set_pane_color((1.0, 1.0, 1.0, 1.0))\n",
    "    return ax\n",
    "\n",
    "anim = FuncAnimation(fig, update, frames=frames, interval=1000 / fps)\n",
    "\n",
    "fname = '%s_%is_%ifps_alpha_%.2f_end%i.gif'%(df_name, duration, fps, alpha, end)\n",
    "anim.save(fname, dpi=80, writer='imagemagick')\n",
    "print(fname)\n",
    "\n",
    "plt.close()"
   ]
  },
  {
   "cell_type": "code",
   "execution_count": null,
   "metadata": {},
   "outputs": [],
   "source": []
  }
 ],
 "metadata": {
  "kernelspec": {
   "display_name": "Python 3",
   "language": "python",
   "name": "python3"
  },
  "language_info": {
   "codemirror_mode": {
    "name": "ipython",
    "version": 3
   },
   "file_extension": ".py",
   "mimetype": "text/x-python",
   "name": "python",
   "nbconvert_exporter": "python",
   "pygments_lexer": "ipython3",
   "version": "3.7.3"
  }
 },
 "nbformat": 4,
 "nbformat_minor": 2
}
