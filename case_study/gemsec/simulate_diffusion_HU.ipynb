{
 "cells": [
  {
   "cell_type": "code",
   "execution_count": 1,
   "metadata": {},
   "outputs": [],
   "source": [
    "import pandas as pd\n",
    "import numpy as np\n",
    "import matplotlib.pyplot as plt\n",
    "import json\n",
    "from sklearn.decomposition import PCA"
   ]
  },
  {
   "cell_type": "code",
   "execution_count": 2,
   "metadata": {},
   "outputs": [],
   "source": [
    "dataset = \"HU\""
   ]
  },
  {
   "cell_type": "code",
   "execution_count": 3,
   "metadata": {},
   "outputs": [
    {
     "data": {
      "text/plain": [
       "(47538, 32)"
      ]
     },
     "execution_count": 3,
     "metadata": {},
     "output_type": "execute_result"
    }
   ],
   "source": [
    "df_means = pd.read_csv(\"master/outputs/cluster_means/%s_means.csv\"%dataset)\n",
    "df_emb = pd.read_csv(\"master/outputs/embeddings/%s_embedding.csv\"%dataset)\n",
    "df_edges = pd.read_csv(\"master/data/%s_edges.csv\"%dataset, index_col=\"node_1\")\n",
    "df_emb.shape"
   ]
  },
  {
   "cell_type": "code",
   "execution_count": 4,
   "metadata": {},
   "outputs": [
    {
     "data": {
      "text/plain": [
       "47538"
      ]
     },
     "execution_count": 4,
     "metadata": {},
     "output_type": "execute_result"
    }
   ],
   "source": [
    "with open('master/outputs/assignments/%s.json'%dataset) as json_file:  \n",
    "    labels = json.load(json_file)\n",
    "len(labels)"
   ]
  },
  {
   "cell_type": "code",
   "execution_count": 5,
   "metadata": {},
   "outputs": [
    {
     "name": "stdout",
     "output_type": "stream",
     "text": [
      "(47538, 1)\n"
     ]
    },
    {
     "data": {
      "text/html": [
       "<div>\n",
       "<style scoped>\n",
       "    .dataframe tbody tr th:only-of-type {\n",
       "        vertical-align: middle;\n",
       "    }\n",
       "\n",
       "    .dataframe tbody tr th {\n",
       "        vertical-align: top;\n",
       "    }\n",
       "\n",
       "    .dataframe thead th {\n",
       "        text-align: right;\n",
       "    }\n",
       "</style>\n",
       "<table border=\"1\" class=\"dataframe\">\n",
       "  <thead>\n",
       "    <tr style=\"text-align: right;\">\n",
       "      <th></th>\n",
       "      <th>label</th>\n",
       "    </tr>\n",
       "    <tr>\n",
       "      <th>index</th>\n",
       "      <th></th>\n",
       "    </tr>\n",
       "  </thead>\n",
       "  <tbody>\n",
       "    <tr>\n",
       "      <th>0</th>\n",
       "      <td>19</td>\n",
       "    </tr>\n",
       "    <tr>\n",
       "      <th>1</th>\n",
       "      <td>29</td>\n",
       "    </tr>\n",
       "    <tr>\n",
       "      <th>2</th>\n",
       "      <td>31</td>\n",
       "    </tr>\n",
       "    <tr>\n",
       "      <th>3</th>\n",
       "      <td>3</td>\n",
       "    </tr>\n",
       "    <tr>\n",
       "      <th>4</th>\n",
       "      <td>7</td>\n",
       "    </tr>\n",
       "  </tbody>\n",
       "</table>\n",
       "</div>"
      ],
      "text/plain": [
       "       label\n",
       "index       \n",
       "0         19\n",
       "1         29\n",
       "2         31\n",
       "3          3\n",
       "4          7"
      ]
     },
     "execution_count": 5,
     "metadata": {},
     "output_type": "execute_result"
    }
   ],
   "source": [
    "df_label = pd.DataFrame({\"index\" : list(labels.keys()), \"label\" : list(labels.values())})\n",
    "df_label[\"index\"] = df_label[\"index\"].astype(int)\n",
    "df_label = df_label.set_index(\"index\")\n",
    "df_label = df_label.sort_index()\n",
    "print(df_label.shape)\n",
    "df_label.head()"
   ]
  },
  {
   "cell_type": "markdown",
   "metadata": {},
   "source": [
    "### Diffusion Modeling"
   ]
  },
  {
   "cell_type": "code",
   "execution_count": 6,
   "metadata": {},
   "outputs": [],
   "source": [
    "from sklearn.metrics.pairwise import cosine_similarity"
   ]
  },
  {
   "cell_type": "code",
   "execution_count": 7,
   "metadata": {},
   "outputs": [
    {
     "data": {
      "text/plain": [
       "-0.6559760878970629"
      ]
     },
     "execution_count": 7,
     "metadata": {},
     "output_type": "execute_result"
    }
   ],
   "source": [
    "def cosine(x, y):\n",
    "    return x.dot(y) / (np.linalg.norm(x) * np.linalg.norm(y))\n",
    "\n",
    "cosine(df_emb.iloc[1], df_emb.iloc[3])"
   ]
  },
  {
   "cell_type": "code",
   "execution_count": 8,
   "metadata": {},
   "outputs": [],
   "source": [
    "def lookup_neighbor(i):\n",
    "    if i in df_edges.index:\n",
    "        if len(df_edges.loc[i]) == 1:\n",
    "            return [df_edges.loc[i].node_2]\n",
    "        return df_edges.loc[i].node_2\n",
    "    return []"
   ]
  },
  {
   "cell_type": "code",
   "execution_count": 9,
   "metadata": {},
   "outputs": [
    {
     "name": "stdout",
     "output_type": "stream",
     "text": [
      "1 5463 0.7248175758314623\n",
      "0.7248175758314624\n",
      "1 14232 0.9922557608838273\n",
      "0.9922557608838272\n",
      "1 4833 0.9822202697303879\n",
      "0.9822202697303881\n",
      "1 36852 0.8673080885352024\n",
      "0.8673080885352024\n",
      "1 37620 0.9028622939607568\n",
      "0.9028622939607567\n"
     ]
    }
   ],
   "source": [
    "seeds = [1]\n",
    "\n",
    "for seed in seeds: \n",
    "    neighbors = lookup_neighbor(seed)\n",
    "    for nei in neighbors:\n",
    "        print(seed, nei, cosine(df_emb.iloc[seed], df_emb.iloc[nei]))\n",
    "        print( cosine_similarity(df_emb.iloc[seed].values.reshape(1, -1), df_emb.iloc[nei].values.reshape(1, -1))[0][0])# "
   ]
  },
  {
   "cell_type": "code",
   "execution_count": 10,
   "metadata": {},
   "outputs": [],
   "source": [
    "def simulate_diffusion(seeds, iteration=10):\n",
    "    df_infected = df_label.copy()\n",
    "    df_infected.index = df_infected.index.astype(int)\n",
    "    df_infected[\"infected\"] = False\n",
    "    df_infected.loc[seeds, 'infected'] = True\n",
    "\n",
    "    df_history = df_label.copy()\n",
    "    df_history.index = df_history.index.astype(int)\n",
    "    prev = len(seeds)\n",
    "    for i in range(iteration):\n",
    "        df_infected_cur = df_infected[df_infected.infected==1].index\n",
    "        for j, source in enumerate(df_infected_cur):\n",
    "            \n",
    "            if j % (len(df_emb) // 1000) == 0:\n",
    "                df_history[\"i%i_f%i\"%(i, j)] = df_infected.infected\n",
    "            \n",
    "            neighbors = lookup_neighbor(source)\n",
    "            neighbors = list(filter(lambda x : cosine(df_emb.iloc[source], df_emb.iloc[x]) > np.random.rand(), neighbors))\n",
    "            df_infected.loc[neighbors, 'infected'] = True\n",
    "            \n",
    "            if j % 1000 == 0:\n",
    "                print(\"iteration %i, progress %i/%i, infected %i (%.2f%%)     \"\n",
    "                      %(i, j, len(df_infected_cur), sum(df_infected.infected), \n",
    "                        100 * sum(df_infected.infected) / len(np.unique(df_edges.node_2))))\n",
    "                \n",
    "    return df_history, df_infected"
   ]
  },
  {
   "cell_type": "markdown",
   "metadata": {},
   "source": [
    "### Random Seeds"
   ]
  },
  {
   "cell_type": "code",
   "execution_count": 11,
   "metadata": {},
   "outputs": [],
   "source": [
    "n_seeds = 480"
   ]
  },
  {
   "cell_type": "code",
   "execution_count": 12,
   "metadata": {},
   "outputs": [
    {
     "name": "stdout",
     "output_type": "stream",
     "text": [
      "iteration 0, progress 0/477, infected 501 (1.23%)     \n",
      "iteration 1, progress 0/1900, infected 1903 (4.67%)     \n",
      "iteration 1, progress 1000/1900, infected 4271 (10.48%)     \n",
      "iteration 2, progress 0/5028, infected 5029 (12.34%)     \n",
      "iteration 2, progress 1000/5028, infected 6551 (16.08%)     \n",
      "iteration 2, progress 2000/5028, infected 7813 (19.17%)     \n",
      "iteration 2, progress 3000/5028, infected 8536 (20.95%)     \n",
      "iteration 2, progress 4000/5028, infected 9003 (22.10%)     \n",
      "iteration 2, progress 5000/5028, infected 9203 (22.59%)     \n",
      "iteration 3, progress 0/9203, infected 9205 (22.59%)     \n",
      "iteration 3, progress 1000/9203, infected 9971 (24.47%)     \n",
      "iteration 3, progress 2000/9203, infected 10774 (26.44%)     \n",
      "iteration 3, progress 3000/9203, infected 11479 (28.17%)     \n",
      "iteration 3, progress 4000/9203, infected 11972 (29.38%)     \n",
      "iteration 3, progress 5000/9203, infected 12373 (30.37%)     \n",
      "iteration 3, progress 6000/9203, infected 12645 (31.03%)     \n",
      "iteration 3, progress 7000/9203, infected 12846 (31.53%)     \n",
      "iteration 3, progress 8000/9203, infected 12990 (31.88%)     \n",
      "iteration 3, progress 9000/9203, infected 13078 (32.10%)     \n",
      "iteration 4, progress 0/13087, infected 13087 (32.12%)     \n",
      "iteration 4, progress 1000/13087, infected 13466 (33.05%)     \n",
      "iteration 4, progress 2000/13087, infected 13923 (34.17%)     \n",
      "iteration 4, progress 3000/13087, infected 14316 (35.13%)     \n",
      "iteration 4, progress 4000/13087, infected 14676 (36.02%)     \n",
      "iteration 4, progress 5000/13087, infected 14938 (36.66%)     \n",
      "iteration 4, progress 6000/13087, infected 15134 (37.14%)     \n",
      "iteration 4, progress 7000/13087, infected 15342 (37.65%)     \n",
      "iteration 4, progress 8000/13087, infected 15490 (38.02%)     \n",
      "iteration 4, progress 9000/13087, infected 15611 (38.31%)     \n",
      "iteration 4, progress 10000/13087, infected 15702 (38.54%)     \n",
      "iteration 4, progress 11000/13087, infected 15774 (38.71%)     \n",
      "iteration 4, progress 12000/13087, infected 15825 (38.84%)     \n",
      "iteration 4, progress 13000/13087, infected 15885 (38.99%)     \n"
     ]
    }
   ],
   "source": [
    "seeds = np.random.choice(df_emb.index, n_seeds)\n",
    "\n",
    "df_history, df_infected = simulate_diffusion(seeds, iteration=5)"
   ]
  },
  {
   "cell_type": "code",
   "execution_count": 13,
   "metadata": {},
   "outputs": [
    {
     "data": {
      "text/plain": [
       "[<matplotlib.lines.Line2D at 0x7fa922a2ad68>]"
      ]
     },
     "execution_count": 13,
     "metadata": {},
     "output_type": "execute_result"
    },
    {
     "data": {
      "image/png": "[encoded data removed]",
      "text/plain": [
       "<Figure size 432x288 with 1 Axes>"
      ]
     },
     "metadata": {},
     "output_type": "display_data"
    }
   ],
   "source": [
    "df_sum = df_history.drop([\"label\"], axis=1).sum(axis=0)\n",
    "df_sum.to_csv(\"outputs/%s_sum_random.csv\"%dataset, header=True)\n",
    "plt.plot(df_sum.values)"
   ]
  },
  {
   "cell_type": "code",
   "execution_count": 14,
   "metadata": {},
   "outputs": [],
   "source": [
    "df_history.iloc[:, :].to_csv(\"outputs/%s_random.csv\"%dataset)"
   ]
  },
  {
   "cell_type": "markdown",
   "metadata": {},
   "source": [
    "### Influencers"
   ]
  },
  {
   "cell_type": "code",
   "execution_count": 15,
   "metadata": {},
   "outputs": [
    {
     "name": "stdout",
     "output_type": "stream",
     "text": [
      "iteration 0, progress 0/480, infected 497 (1.22%)     \n",
      "iteration 1, progress 0/6691, infected 6691 (16.42%)     \n",
      "iteration 1, progress 1000/6691, infected 9536 (23.40%)     \n",
      "iteration 1, progress 2000/6691, infected 11758 (28.86%)     \n",
      "iteration 1, progress 3000/6691, infected 13397 (32.88%)     \n",
      "iteration 1, progress 4000/6691, infected 14532 (35.66%)     \n",
      "iteration 1, progress 5000/6691, infected 15260 (37.45%)     \n",
      "iteration 1, progress 6000/6691, infected 15764 (38.69%)     \n",
      "iteration 2, progress 0/15951, infected 15952 (39.15%)     \n",
      "iteration 2, progress 1000/15951, infected 16702 (40.99%)     \n",
      "iteration 2, progress 2000/15951, infected 17537 (43.04%)     \n",
      "iteration 2, progress 3000/15951, infected 18259 (44.81%)     \n",
      "iteration 2, progress 4000/15951, infected 18952 (46.51%)     \n",
      "iteration 2, progress 5000/15951, infected 19495 (47.85%)     \n",
      "iteration 2, progress 6000/15951, infected 19969 (49.01%)     \n",
      "iteration 2, progress 7000/15951, infected 20392 (50.05%)     \n",
      "iteration 2, progress 8000/15951, infected 20740 (50.90%)     \n",
      "iteration 2, progress 9000/15951, infected 21059 (51.68%)     \n",
      "iteration 2, progress 10000/15951, infected 21317 (52.32%)     \n",
      "iteration 2, progress 11000/15951, infected 21514 (52.80%)     \n",
      "iteration 2, progress 12000/15951, infected 21703 (53.26%)     \n",
      "iteration 2, progress 13000/15951, infected 21849 (53.62%)     \n",
      "iteration 2, progress 14000/15951, infected 21970 (53.92%)     \n",
      "iteration 2, progress 15000/15951, infected 22089 (54.21%)     \n",
      "iteration 3, progress 0/22150, infected 22150 (54.36%)     \n",
      "iteration 3, progress 1000/22150, infected 22411 (55.00%)     \n",
      "iteration 3, progress 2000/22150, infected 22740 (55.81%)     \n",
      "iteration 3, progress 3000/22150, infected 23016 (56.49%)     \n",
      "iteration 3, progress 4000/22150, infected 23299 (57.18%)     \n",
      "iteration 3, progress 5000/22150, infected 23525 (57.74%)     \n",
      "iteration 3, progress 6000/22150, infected 23760 (58.31%)     \n",
      "iteration 3, progress 7000/22150, infected 23964 (58.81%)     \n",
      "iteration 3, progress 8000/22150, infected 24161 (59.30%)     \n",
      "iteration 3, progress 9000/22150, infected 24329 (59.71%)     \n",
      "iteration 3, progress 10000/22150, infected 24467 (60.05%)     \n",
      "iteration 3, progress 11000/22150, infected 24597 (60.37%)     \n",
      "iteration 3, progress 12000/22150, infected 24704 (60.63%)     \n",
      "iteration 3, progress 13000/22150, infected 24829 (60.94%)     \n",
      "iteration 3, progress 14000/22150, infected 24923 (61.17%)     \n",
      "iteration 3, progress 15000/22150, infected 25008 (61.38%)     \n",
      "iteration 3, progress 16000/22150, infected 25077 (61.54%)     \n",
      "iteration 3, progress 17000/22150, infected 25139 (61.70%)     \n",
      "iteration 3, progress 18000/22150, infected 25194 (61.83%)     \n",
      "iteration 3, progress 19000/22150, infected 25242 (61.95%)     \n",
      "iteration 3, progress 20000/22150, infected 25279 (62.04%)     \n",
      "iteration 3, progress 21000/22150, infected 25313 (62.12%)     \n",
      "iteration 3, progress 22000/22150, infected 25337 (62.18%)     \n",
      "iteration 4, progress 0/25338, infected 25338 (62.19%)     \n",
      "iteration 4, progress 1000/25338, infected 25450 (62.46%)     \n",
      "iteration 4, progress 2000/25338, infected 25585 (62.79%)     \n",
      "iteration 4, progress 3000/25338, infected 25774 (63.26%)     \n",
      "iteration 4, progress 4000/25338, infected 25907 (63.58%)     \n",
      "iteration 4, progress 5000/25338, infected 26007 (63.83%)     \n",
      "iteration 4, progress 6000/25338, infected 26122 (64.11%)     \n",
      "iteration 4, progress 7000/25338, infected 26219 (64.35%)     \n",
      "iteration 4, progress 8000/25338, infected 26317 (64.59%)     \n",
      "iteration 4, progress 9000/25338, infected 26407 (64.81%)     \n",
      "iteration 4, progress 10000/25338, infected 26501 (65.04%)     \n",
      "iteration 4, progress 11000/25338, infected 26581 (65.24%)     \n",
      "iteration 4, progress 12000/25338, infected 26637 (65.37%)     \n",
      "iteration 4, progress 13000/25338, infected 26684 (65.49%)     \n",
      "iteration 4, progress 14000/25338, infected 26732 (65.61%)     \n",
      "iteration 4, progress 15000/25338, infected 26774 (65.71%)     \n",
      "iteration 4, progress 16000/25338, infected 26823 (65.83%)     \n",
      "iteration 4, progress 17000/25338, infected 26861 (65.92%)     \n",
      "iteration 4, progress 18000/25338, infected 26909 (66.04%)     \n",
      "iteration 4, progress 19000/25338, infected 26930 (66.09%)     \n",
      "iteration 4, progress 20000/25338, infected 26958 (66.16%)     \n",
      "iteration 4, progress 21000/25338, infected 26974 (66.20%)     \n",
      "iteration 4, progress 22000/25338, infected 26993 (66.25%)     \n",
      "iteration 4, progress 23000/25338, infected 27011 (66.29%)     \n",
      "iteration 4, progress 24000/25338, infected 27028 (66.33%)     \n",
      "iteration 4, progress 25000/25338, infected 27047 (66.38%)     \n"
     ]
    }
   ],
   "source": [
    "df_influencer = df_edges.groupby(\"node_1\").count()\n",
    "seeds = df_influencer.sort_values([\"node_2\"], ascending=False)[:n_seeds].index.values\n",
    "\n",
    "df_history, df_infected = simulate_diffusion(seeds, iteration=5)"
   ]
  },
  {
   "cell_type": "code",
   "execution_count": 16,
   "metadata": {},
   "outputs": [
    {
     "data": {
      "text/plain": [
       "[<matplotlib.lines.Line2D at 0x7fa9222bd4e0>]"
      ]
     },
     "execution_count": 16,
     "metadata": {},
     "output_type": "execute_result"
    },
    {
     "data": {
      "image/png": "[encoded data removed]",
      "text/plain": [
       "<Figure size 432x288 with 1 Axes>"
      ]
     },
     "metadata": {},
     "output_type": "display_data"
    }
   ],
   "source": [
    "df_sum = df_history.drop([\"label\"], axis=1).sum(axis=0)\n",
    "df_sum.to_csv(\"outputs/%s_sum_influencer.csv\"%dataset, header=True)\n",
    "plt.plot(df_sum.values)"
   ]
  },
  {
   "cell_type": "code",
   "execution_count": 17,
   "metadata": {},
   "outputs": [],
   "source": [
    "df_history.iloc[:, :].to_csv(\"outputs/%s_influencer.csv\"%dataset)"
   ]
  },
  {
   "cell_type": "markdown",
   "metadata": {},
   "source": [
    "### Cluster Random Seeds"
   ]
  },
  {
   "cell_type": "code",
   "execution_count": 18,
   "metadata": {},
   "outputs": [],
   "source": [
    "n_classes = len(np.unique(df_label.label))"
   ]
  },
  {
   "cell_type": "code",
   "execution_count": 19,
   "metadata": {},
   "outputs": [
    {
     "name": "stdout",
     "output_type": "stream",
     "text": [
      "0 cluster size 1382\n",
      "1 cluster size 1025\n",
      "2 cluster size 1841\n",
      "3 cluster size 1885\n",
      "4 cluster size 1467\n",
      "5 cluster size 1097\n",
      "6 cluster size 1496\n",
      "7 cluster size 2042\n",
      "8 cluster size 1533\n",
      "9 cluster size 1422\n",
      "10 cluster size 1592\n",
      "11 cluster size 1500\n",
      "12 cluster size 826\n",
      "13 cluster size 1382\n",
      "14 cluster size 1184\n",
      "15 cluster size 1411\n",
      "16 cluster size 1951\n",
      "17 cluster size 1003\n",
      "18 cluster size 1801\n",
      "19 cluster size 1554\n",
      "20 cluster size 1268\n",
      "21 cluster size 428\n",
      "22 cluster size 1000\n",
      "23 cluster size 1914\n",
      "24 cluster size 1903\n",
      "25 cluster size 1585\n",
      "26 cluster size 1976\n",
      "27 cluster size 1741\n",
      "28 cluster size 1614\n",
      "29 cluster size 1494\n",
      "30 cluster size 1807\n",
      "31 cluster size 1414\n"
     ]
    }
   ],
   "source": [
    "for target in range(n_classes):\n",
    "    print(target, \"cluster size\", sum(df_label.label==target))"
   ]
  },
  {
   "cell_type": "code",
   "execution_count": 20,
   "metadata": {},
   "outputs": [],
   "source": [
    "seeds = []\n",
    "for target in range(n_classes):\n",
    "    df_cluster = df_label[df_label.label==target]\n",
    "    cluster_n_seeds = round(n_seeds * len(df_cluster) / len(df_emb))\n",
    "    seeds += list(np.random.choice(df_cluster.index, cluster_n_seeds, replace=False))"
   ]
  },
  {
   "cell_type": "code",
   "execution_count": 21,
   "metadata": {},
   "outputs": [
    {
     "data": {
      "text/plain": [
       "478"
      ]
     },
     "execution_count": 21,
     "metadata": {},
     "output_type": "execute_result"
    }
   ],
   "source": [
    "seeds = [int(i) for i in seeds]\n",
    "len(seeds)"
   ]
  },
  {
   "cell_type": "code",
   "execution_count": 22,
   "metadata": {
    "scrolled": true
   },
   "outputs": [
    {
     "name": "stdout",
     "output_type": "stream",
     "text": [
      "iteration 0, progress 0/478, infected 490 (1.20%)     \n",
      "iteration 1, progress 0/1923, infected 1923 (4.72%)     \n",
      "iteration 1, progress 1000/1923, infected 4256 (10.45%)     \n",
      "iteration 2, progress 0/5041, infected 5042 (12.37%)     \n",
      "iteration 2, progress 1000/5041, infected 6478 (15.90%)     \n",
      "iteration 2, progress 2000/5041, infected 7679 (18.85%)     \n",
      "iteration 2, progress 3000/5041, infected 8444 (20.72%)     \n",
      "iteration 2, progress 4000/5041, infected 8932 (21.92%)     \n",
      "iteration 2, progress 5000/5041, infected 9143 (22.44%)     \n",
      "iteration 3, progress 0/9145, infected 9145 (22.44%)     \n",
      "iteration 3, progress 1000/9145, infected 9679 (23.75%)     \n",
      "iteration 3, progress 2000/9145, infected 10526 (25.83%)     \n",
      "iteration 3, progress 3000/9145, infected 11191 (27.47%)     \n",
      "iteration 3, progress 4000/9145, infected 11693 (28.70%)     \n",
      "iteration 3, progress 5000/9145, infected 12027 (29.52%)     \n",
      "iteration 3, progress 6000/9145, infected 12282 (30.14%)     \n",
      "iteration 3, progress 7000/9145, infected 12479 (30.63%)     \n",
      "iteration 3, progress 8000/9145, infected 12636 (31.01%)     \n",
      "iteration 3, progress 9000/9145, infected 12694 (31.15%)     \n",
      "iteration 4, progress 0/12700, infected 12701 (31.17%)     \n",
      "iteration 4, progress 1000/12700, infected 12963 (31.81%)     \n",
      "iteration 4, progress 2000/12700, infected 13334 (32.72%)     \n",
      "iteration 4, progress 3000/12700, infected 13726 (33.69%)     \n",
      "iteration 4, progress 4000/12700, infected 14066 (34.52%)     \n",
      "iteration 4, progress 5000/12700, infected 14316 (35.13%)     \n",
      "iteration 4, progress 6000/12700, infected 14494 (35.57%)     \n",
      "iteration 4, progress 7000/12700, infected 14678 (36.02%)     \n",
      "iteration 4, progress 8000/12700, infected 14831 (36.40%)     \n",
      "iteration 4, progress 9000/12700, infected 14905 (36.58%)     \n",
      "iteration 4, progress 10000/12700, infected 14984 (36.77%)     \n",
      "iteration 4, progress 11000/12700, infected 15054 (36.95%)     \n",
      "iteration 4, progress 12000/12700, infected 15095 (37.05%)     \n"
     ]
    }
   ],
   "source": [
    "df_history, df_infected = simulate_diffusion(seeds, iteration=5)"
   ]
  },
  {
   "cell_type": "code",
   "execution_count": 23,
   "metadata": {},
   "outputs": [
    {
     "data": {
      "text/plain": [
       "[<matplotlib.lines.Line2D at 0x7fa91ad88208>]"
      ]
     },
     "execution_count": 23,
     "metadata": {},
     "output_type": "execute_result"
    },
    {
     "data": {
      "image/png": "[encoded data removed]",
      "text/plain": [
       "<Figure size 432x288 with 1 Axes>"
      ]
     },
     "metadata": {},
     "output_type": "display_data"
    }
   ],
   "source": [
    "df_sum = df_history.drop([\"label\"], axis=1).sum(axis=0)\n",
    "df_sum.to_csv(\"outputs/%s_sum_cluster_random.csv\"%dataset, header=True)\n",
    "plt.plot(df_sum.values)"
   ]
  },
  {
   "cell_type": "code",
   "execution_count": 24,
   "metadata": {},
   "outputs": [],
   "source": [
    "df_history.iloc[:, :].to_csv(\"outputs/%s_cluster_random.csv\"%dataset)"
   ]
  },
  {
   "cell_type": "markdown",
   "metadata": {},
   "source": [
    "#### Cluster Influencer"
   ]
  },
  {
   "cell_type": "code",
   "execution_count": 25,
   "metadata": {},
   "outputs": [
    {
     "name": "stderr",
     "output_type": "stream",
     "text": [
      "/usr/local/lib/python3.5/dist-packages/ipykernel_launcher.py:4: FutureWarning: \n",
      "Passing list-likes to .loc or [] with any missing label will raise\n",
      "KeyError in the future, you can use .reindex() as an alternative.\n",
      "\n",
      "See the documentation here:\n",
      "https://pandas.pydata.org/pandas-docs/stable/indexing.html#deprecate-loc-reindex-listlike\n",
      "  after removing the cwd from sys.path.\n"
     ]
    },
    {
     "data": {
      "text/plain": [
       "480"
      ]
     },
     "execution_count": 25,
     "metadata": {},
     "output_type": "execute_result"
    }
   ],
   "source": [
    "seeds = []\n",
    "for target in range(n_classes):\n",
    "    idxs = df_label[df_label.label == target].index\n",
    "    df_cluster = df_edges.loc[list(map(int, idxs))]\n",
    "    \n",
    "    df_influencer = df_cluster.groupby(\"node_1\").count()\n",
    "    \n",
    "    seeds += list(df_influencer.sort_values([\"node_2\"], ascending=False)[:int(n_seeds / n_classes)].index.values)\n",
    "len(seeds)"
   ]
  },
  {
   "cell_type": "code",
   "execution_count": 26,
   "metadata": {},
   "outputs": [
    {
     "name": "stdout",
     "output_type": "stream",
     "text": [
      "iteration 0, progress 0/480, infected 494 (1.21%)     \n",
      "iteration 1, progress 0/6289, infected 6289 (15.43%)     \n",
      "iteration 1, progress 1000/6289, infected 9169 (22.50%)     \n",
      "iteration 1, progress 2000/6289, infected 11557 (28.36%)     \n",
      "iteration 1, progress 3000/6289, infected 13250 (32.52%)     \n",
      "iteration 1, progress 4000/6289, infected 14273 (35.03%)     \n",
      "iteration 1, progress 5000/6289, infected 15019 (36.86%)     \n",
      "iteration 1, progress 6000/6289, infected 15520 (38.09%)     \n",
      "iteration 2, progress 0/15614, infected 15615 (38.32%)     \n",
      "iteration 2, progress 1000/15614, infected 16364 (40.16%)     \n",
      "iteration 2, progress 2000/15614, infected 17250 (42.34%)     \n",
      "iteration 2, progress 3000/15614, infected 18065 (44.34%)     \n",
      "iteration 2, progress 4000/15614, infected 18768 (46.06%)     \n",
      "iteration 2, progress 5000/15614, infected 19395 (47.60%)     \n",
      "iteration 2, progress 6000/15614, infected 19929 (48.91%)     \n",
      "iteration 2, progress 7000/15614, infected 20383 (50.02%)     \n",
      "iteration 2, progress 8000/15614, infected 20764 (50.96%)     \n",
      "iteration 2, progress 9000/15614, infected 21084 (51.74%)     \n",
      "iteration 2, progress 10000/15614, infected 21343 (52.38%)     \n",
      "iteration 2, progress 11000/15614, infected 21562 (52.92%)     \n",
      "iteration 2, progress 12000/15614, infected 21729 (53.33%)     \n",
      "iteration 2, progress 13000/15614, infected 21894 (53.73%)     \n",
      "iteration 2, progress 14000/15614, infected 22011 (54.02%)     \n",
      "iteration 2, progress 15000/15614, infected 22087 (54.21%)     \n",
      "iteration 3, progress 0/22129, infected 22129 (54.31%)     \n",
      "iteration 3, progress 1000/22129, infected 22412 (55.00%)     \n",
      "iteration 3, progress 2000/22129, infected 22702 (55.72%)     \n",
      "iteration 3, progress 3000/22129, infected 23037 (56.54%)     \n",
      "iteration 3, progress 4000/22129, infected 23317 (57.23%)     \n",
      "iteration 3, progress 5000/22129, infected 23570 (57.85%)     \n",
      "iteration 3, progress 6000/22129, infected 23789 (58.38%)     \n",
      "iteration 3, progress 7000/22129, infected 23971 (58.83%)     \n",
      "iteration 3, progress 8000/22129, infected 24175 (59.33%)     \n",
      "iteration 3, progress 9000/22129, infected 24354 (59.77%)     \n",
      "iteration 3, progress 10000/22129, infected 24516 (60.17%)     \n",
      "iteration 3, progress 11000/22129, infected 24649 (60.49%)     \n",
      "iteration 3, progress 12000/22129, infected 24747 (60.73%)     \n",
      "iteration 3, progress 13000/22129, infected 24866 (61.03%)     \n",
      "iteration 3, progress 14000/22129, infected 24949 (61.23%)     \n",
      "iteration 3, progress 15000/22129, infected 25041 (61.46%)     \n",
      "iteration 3, progress 16000/22129, infected 25116 (61.64%)     \n",
      "iteration 3, progress 17000/22129, infected 25186 (61.81%)     \n",
      "iteration 3, progress 18000/22129, infected 25241 (61.95%)     \n",
      "iteration 3, progress 19000/22129, infected 25295 (62.08%)     \n",
      "iteration 3, progress 20000/22129, infected 25334 (62.18%)     \n",
      "iteration 3, progress 21000/22129, infected 25368 (62.26%)     \n",
      "iteration 3, progress 22000/22129, infected 25397 (62.33%)     \n",
      "iteration 4, progress 0/25401, infected 25401 (62.34%)     \n",
      "iteration 4, progress 1000/25401, infected 25547 (62.70%)     \n",
      "iteration 4, progress 2000/25401, infected 25647 (62.94%)     \n",
      "iteration 4, progress 3000/25401, infected 25803 (63.33%)     \n",
      "iteration 4, progress 4000/25401, infected 25926 (63.63%)     \n",
      "iteration 4, progress 5000/25401, infected 26040 (63.91%)     \n",
      "iteration 4, progress 6000/25401, infected 26151 (64.18%)     \n",
      "iteration 4, progress 7000/25401, infected 26249 (64.42%)     \n",
      "iteration 4, progress 8000/25401, infected 26339 (64.64%)     \n",
      "iteration 4, progress 9000/25401, infected 26427 (64.86%)     \n",
      "iteration 4, progress 10000/25401, infected 26497 (65.03%)     \n",
      "iteration 4, progress 11000/25401, infected 26575 (65.22%)     \n",
      "iteration 4, progress 12000/25401, infected 26653 (65.41%)     \n",
      "iteration 4, progress 13000/25401, infected 26704 (65.54%)     \n",
      "iteration 4, progress 14000/25401, infected 26746 (65.64%)     \n",
      "iteration 4, progress 15000/25401, infected 26799 (65.77%)     \n",
      "iteration 4, progress 16000/25401, infected 26845 (65.88%)     \n",
      "iteration 4, progress 17000/25401, infected 26869 (65.94%)     \n",
      "iteration 4, progress 18000/25401, infected 26899 (66.02%)     \n",
      "iteration 4, progress 19000/25401, infected 26922 (66.07%)     \n",
      "iteration 4, progress 20000/25401, infected 26940 (66.12%)     \n",
      "iteration 4, progress 21000/25401, infected 26960 (66.17%)     \n",
      "iteration 4, progress 22000/25401, infected 26976 (66.21%)     \n",
      "iteration 4, progress 23000/25401, infected 26989 (66.24%)     \n",
      "iteration 4, progress 24000/25401, infected 27005 (66.28%)     \n",
      "iteration 4, progress 25000/25401, infected 27018 (66.31%)     \n"
     ]
    }
   ],
   "source": [
    "df_history, df_infected = simulate_diffusion(seeds, iteration=5)"
   ]
  },
  {
   "cell_type": "code",
   "execution_count": 27,
   "metadata": {},
   "outputs": [
    {
     "data": {
      "text/plain": [
       "[<matplotlib.lines.Line2D at 0x7fa91c0c4128>]"
      ]
     },
     "execution_count": 27,
     "metadata": {},
     "output_type": "execute_result"
    },
    {
     "data": {
      "image/png": "[encoded data removed]",
      "text/plain": [
       "<Figure size 432x288 with 1 Axes>"
      ]
     },
     "metadata": {},
     "output_type": "display_data"
    }
   ],
   "source": [
    "df_sum = df_history.drop([\"label\"], axis=1).sum(axis=0)\n",
    "df_sum.to_csv(\"outputs/%s_sum_cluster_influencer.csv\"%dataset, header=True)\n",
    "plt.plot(df_sum.values)"
   ]
  },
  {
   "cell_type": "code",
   "execution_count": 28,
   "metadata": {},
   "outputs": [],
   "source": [
    "df_history.iloc[:, :].to_csv(\"outputs/%s_cluster_influencer.csv\"%dataset)"
   ]
  },
  {
   "cell_type": "markdown",
   "metadata": {},
   "source": [
    "#### Stratified Sampling by Influence"
   ]
  },
  {
   "cell_type": "code",
   "execution_count": 32,
   "metadata": {},
   "outputs": [],
   "source": [
    "# df_influencer = df_edges.groupby(\"node_1\").count().sort_values([\"node_2\"], ascending=False)\n",
    "# df_influencer[\"influence\"] = 100 * df_influencer.node_2 / len(df_label)\n",
    "# len(df_influencer)"
   ]
  },
  {
   "cell_type": "code",
   "execution_count": 33,
   "metadata": {},
   "outputs": [],
   "source": [
    "# n_strata = 32\n",
    "# _ = plt.hist(df_influencer.node_2, bins=n_strata)\n",
    "# strata_size, strata_bound = _[0], _[1]\n",
    "# # plt.close()"
   ]
  },
  {
   "cell_type": "code",
   "execution_count": 34,
   "metadata": {},
   "outputs": [],
   "source": [
    "# strata_sizes = list(map(round, strata_size))\n",
    "# strata_bounds = list(map(round, strata_bound))"
   ]
  },
  {
   "cell_type": "code",
   "execution_count": 35,
   "metadata": {},
   "outputs": [],
   "source": [
    "# seeds = []\n",
    "# for i in range(n_strata):\n",
    "#     l, r = strata_bounds[i], strata_bounds[i + 1]\n",
    "#     strata_size = int(strata_sizes[i])\n",
    "#     df_strata = df_influencer[(df_influencer.node_2 > l) & (df_influencer.node_2 < r)]\n",
    "#     cluster_n_seeds = round(n_seeds * strata_size / len(df_influencer))\n",
    "#     cluster_seeds = list(df_strata[:cluster_n_seeds].index.values)\n",
    "    \n",
    "#     seeds += cluster_seeds\n",
    "# print(len(seeds))"
   ]
  },
  {
   "cell_type": "code",
   "execution_count": 36,
   "metadata": {},
   "outputs": [],
   "source": [
    "# df_history, df_infected = simulate_diffusion(seeds, iteration=5)"
   ]
  },
  {
   "cell_type": "code",
   "execution_count": 37,
   "metadata": {},
   "outputs": [],
   "source": [
    "# df_sum = df_history.drop([\"label\"], axis=1).sum(axis=0)\n",
    "# df_sum.to_csv(\"outputs/%s_sum_cluster_influencer.csv\"%dataset, header=True)\n",
    "# plt.plot(df_sum.values)"
   ]
  }
 ],
 "metadata": {
  "kernelspec": {
   "display_name": "Python 3",
   "language": "python",
   "name": "python3"
  },
  "language_info": {
   "codemirror_mode": {
    "name": "ipython",
    "version": 3
   },
   "file_extension": ".py",
   "mimetype": "text/x-python",
   "name": "python",
   "nbconvert_exporter": "python",
   "pygments_lexer": "ipython3",
   "version": "3.5.3"
  }
 },
 "nbformat": 4,
 "nbformat_minor": 2
}
