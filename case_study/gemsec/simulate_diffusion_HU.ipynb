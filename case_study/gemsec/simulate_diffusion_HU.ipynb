{
 "cells": [
  {
   "cell_type": "code",
   "execution_count": 1,
   "metadata": {},
   "outputs": [],
   "source": [
    "import pandas as pd\n",
    "import numpy as np\n",
    "import matplotlib.pyplot as plt\n",
    "import json\n",
    "from sklearn.decomposition import PCA"
   ]
  },
  {
   "cell_type": "code",
   "execution_count": 2,
   "metadata": {},
   "outputs": [],
   "source": [
    "dataset = \"HU\""
   ]
  },
  {
   "cell_type": "code",
   "execution_count": 3,
   "metadata": {},
   "outputs": [
    {
     "data": {
      "text/plain": [
       "(47538, 32)"
      ]
     },
     "execution_count": 3,
     "metadata": {},
     "output_type": "execute_result"
    }
   ],
   "source": [
    "df_means = pd.read_csv(\"master/outputs/cluster_means/%s_means.csv\"%dataset)\n",
    "df_emb = pd.read_csv(\"master/outputs/embeddings/%s_embedding.csv\"%dataset)\n",
    "df_edges = pd.read_csv(\"master/data/%s_edges.csv\"%dataset, index_col=\"node_1\")\n",
    "df_emb.shape"
   ]
  },
  {
   "cell_type": "code",
   "execution_count": 4,
   "metadata": {},
   "outputs": [
    {
     "data": {
      "text/plain": [
       "47538"
      ]
     },
     "execution_count": 4,
     "metadata": {},
     "output_type": "execute_result"
    }
   ],
   "source": [
    "with open('master/outputs/assignments/%s.json'%dataset) as json_file:  \n",
    "    labels = json.load(json_file)\n",
    "len(labels)"
   ]
  },
  {
   "cell_type": "code",
   "execution_count": 5,
   "metadata": {},
   "outputs": [
    {
     "name": "stdout",
     "output_type": "stream",
     "text": [
      "(47538, 1)\n"
     ]
    },
    {
     "data": {
      "text/html": [
       "<div>\n",
       "<style scoped>\n",
       "    .dataframe tbody tr th:only-of-type {\n",
       "        vertical-align: middle;\n",
       "    }\n",
       "\n",
       "    .dataframe tbody tr th {\n",
       "        vertical-align: top;\n",
       "    }\n",
       "\n",
       "    .dataframe thead th {\n",
       "        text-align: right;\n",
       "    }\n",
       "</style>\n",
       "<table border=\"1\" class=\"dataframe\">\n",
       "  <thead>\n",
       "    <tr style=\"text-align: right;\">\n",
       "      <th></th>\n",
       "      <th>label</th>\n",
       "    </tr>\n",
       "    <tr>\n",
       "      <th>index</th>\n",
       "      <th></th>\n",
       "    </tr>\n",
       "  </thead>\n",
       "  <tbody>\n",
       "    <tr>\n",
       "      <th>0</th>\n",
       "      <td>19</td>\n",
       "    </tr>\n",
       "    <tr>\n",
       "      <th>1</th>\n",
       "      <td>29</td>\n",
       "    </tr>\n",
       "    <tr>\n",
       "      <th>2</th>\n",
       "      <td>31</td>\n",
       "    </tr>\n",
       "    <tr>\n",
       "      <th>3</th>\n",
       "      <td>3</td>\n",
       "    </tr>\n",
       "    <tr>\n",
       "      <th>4</th>\n",
       "      <td>7</td>\n",
       "    </tr>\n",
       "  </tbody>\n",
       "</table>\n",
       "</div>"
      ],
      "text/plain": [
       "       label\n",
       "index       \n",
       "0         19\n",
       "1         29\n",
       "2         31\n",
       "3          3\n",
       "4          7"
      ]
     },
     "execution_count": 5,
     "metadata": {},
     "output_type": "execute_result"
    }
   ],
   "source": [
    "df_label = pd.DataFrame({\"index\" : list(labels.keys()), \"label\" : list(labels.values())})\n",
    "df_label[\"index\"] = df_label[\"index\"].astype(int)\n",
    "df_label = df_label.set_index(\"index\")\n",
    "df_label = df_label.sort_index()\n",
    "print(df_label.shape)\n",
    "df_label.head()"
   ]
  },
  {
   "cell_type": "markdown",
   "metadata": {},
   "source": [
    "### Diffusion Modeling"
   ]
  },
  {
   "cell_type": "code",
   "execution_count": 9,
   "metadata": {},
   "outputs": [],
   "source": [
    "from sklearn.metrics.pairwise import cosine_similarity"
   ]
  },
  {
   "cell_type": "code",
   "execution_count": 10,
   "metadata": {},
   "outputs": [
    {
     "data": {
      "text/plain": [
       "-0.6559760878970629"
      ]
     },
     "execution_count": 10,
     "metadata": {},
     "output_type": "execute_result"
    }
   ],
   "source": [
    "def cosine(x, y):\n",
    "    return x.dot(y) / (np.linalg.norm(x) * np.linalg.norm(y))\n",
    "\n",
    "cosine(df_emb.iloc[1], df_emb.iloc[3])"
   ]
  },
  {
   "cell_type": "code",
   "execution_count": 11,
   "metadata": {},
   "outputs": [],
   "source": [
    "def lookup_neighbor(i):\n",
    "    if i in df_edges.index:\n",
    "        if len(df_edges.loc[i]) == 1:\n",
    "            return [df_edges.loc[i].node_2]\n",
    "        return df_edges.loc[i].node_2\n",
    "    return []"
   ]
  },
  {
   "cell_type": "code",
   "execution_count": 12,
   "metadata": {},
   "outputs": [
    {
     "name": "stdout",
     "output_type": "stream",
     "text": [
      "1 5463 0.7248175758314623\n",
      "0.7248175758314624\n",
      "1 14232 0.9922557608838273\n",
      "0.9922557608838272\n",
      "1 4833 0.9822202697303879\n",
      "0.9822202697303881\n",
      "1 36852 0.8673080885352024\n",
      "0.8673080885352024\n",
      "1 37620 0.9028622939607568\n",
      "0.9028622939607567\n"
     ]
    }
   ],
   "source": [
    "seeds = [1]\n",
    "\n",
    "for seed in seeds: \n",
    "    neighbors = lookup_neighbor(seed)\n",
    "    for nei in neighbors:\n",
    "        print(seed, nei, cosine(df_emb.iloc[seed], df_emb.iloc[nei]))\n",
    "        print( cosine_similarity(df_emb.iloc[seed].values.reshape(1, -1), df_emb.iloc[nei].values.reshape(1, -1))[0][0])# "
   ]
  },
  {
   "cell_type": "code",
   "execution_count": 13,
   "metadata": {},
   "outputs": [],
   "source": [
    "def simulate_diffusion(seeds, iteration=10):\n",
    "    df_infected = df_label.copy()\n",
    "    df_infected.index = df_infected.index.astype(int)\n",
    "    df_infected[\"infected\"] = False\n",
    "    df_infected.loc[seeds, 'infected'] = True\n",
    "\n",
    "    df_history = df_label.copy()\n",
    "    df_history.index = df_history.index.astype(int)\n",
    "    prev = len(seeds)\n",
    "    for i in range(iteration):\n",
    "        df_infected_cur = df_infected[df_infected.infected==1].index\n",
    "        for j, source in enumerate(df_infected_cur):\n",
    "            \n",
    "            if j % (len(df_emb) // 1000) == 0:\n",
    "                df_history[\"i%i_f%i\"%(i, j)] = df_infected.infected\n",
    "            \n",
    "            neighbors = lookup_neighbor(source)\n",
    "            neighbors = list(filter(lambda x : cosine(df_emb.iloc[source], df_emb.iloc[x]) > np.random.rand(), neighbors))\n",
    "            df_infected.loc[neighbors, 'infected'] = True\n",
    "            \n",
    "            if j % 1000 == 0:\n",
    "                print(\"iteration %i, progress %i/%i, infected %i (%.2f%%)     \"\n",
    "                      %(i, j, len(df_infected_cur), sum(df_infected.infected), \n",
    "                        100 * sum(df_infected.infected) / len(np.unique(df_edges.node_2))))\n",
    "                \n",
    "    return df_history, df_infected"
   ]
  },
  {
   "cell_type": "markdown",
   "metadata": {},
   "source": [
    "### Random Seeds"
   ]
  },
  {
   "cell_type": "code",
   "execution_count": 14,
   "metadata": {},
   "outputs": [],
   "source": [
    "n_seeds = 480"
   ]
  },
  {
   "cell_type": "code",
   "execution_count": 15,
   "metadata": {},
   "outputs": [
    {
     "name": "stdout",
     "output_type": "stream",
     "text": [
      "iteration 0, progress 0/478, infected 482 (1.18%)     \n",
      "iteration 1, progress 0/1786, infected 1787 (4.39%)     \n",
      "iteration 1, progress 1000/1786, infected 3857 (9.47%)     \n",
      "iteration 2, progress 0/4474, infected 4474 (10.98%)     \n",
      "iteration 2, progress 1000/4474, infected 5883 (14.44%)     \n",
      "iteration 2, progress 2000/4474, infected 7022 (17.23%)     \n",
      "iteration 2, progress 3000/4474, infected 7687 (18.87%)     \n",
      "iteration 2, progress 4000/4474, infected 8012 (19.66%)     \n",
      "iteration 3, progress 0/8060, infected 8060 (19.78%)     \n",
      "iteration 3, progress 1000/8060, infected 8703 (21.36%)     \n",
      "iteration 3, progress 2000/8060, infected 9501 (23.32%)     \n",
      "iteration 3, progress 3000/8060, infected 10104 (24.80%)     \n",
      "iteration 3, progress 4000/8060, infected 10557 (25.91%)     \n",
      "iteration 3, progress 5000/8060, infected 10874 (26.69%)     \n",
      "iteration 3, progress 6000/8060, infected 11084 (27.20%)     \n",
      "iteration 3, progress 7000/8060, infected 11219 (27.53%)     \n",
      "iteration 3, progress 8000/8060, infected 11289 (27.71%)     \n",
      "iteration 4, progress 0/11291, infected 11291 (27.71%)     \n",
      "iteration 4, progress 1000/11291, infected 11565 (28.38%)     \n",
      "iteration 4, progress 2000/11291, infected 12011 (29.48%)     \n",
      "iteration 4, progress 3000/11291, infected 12403 (30.44%)     \n",
      "iteration 4, progress 4000/11291, infected 12737 (31.26%)     \n",
      "iteration 4, progress 5000/11291, infected 12985 (31.87%)     \n",
      "iteration 4, progress 6000/11291, infected 13169 (32.32%)     \n",
      "iteration 4, progress 7000/11291, infected 13313 (32.67%)     \n",
      "iteration 4, progress 8000/11291, infected 13419 (32.93%)     \n",
      "iteration 4, progress 9000/11291, infected 13498 (33.13%)     \n",
      "iteration 4, progress 10000/11291, infected 13550 (33.25%)     \n",
      "iteration 4, progress 11000/11291, infected 13590 (33.35%)     \n"
     ]
    }
   ],
   "source": [
    "seeds = np.random.choice(df_emb.index, n_seeds)\n",
    "\n",
    "df_history, df_infected = simulate_diffusion(seeds, iteration=5)"
   ]
  },
  {
   "cell_type": "code",
   "execution_count": 16,
   "metadata": {},
   "outputs": [
    {
     "data": {
      "text/plain": [
       "[<matplotlib.lines.Line2D at 0x7f63cbab34a8>]"
      ]
     },
     "execution_count": 16,
     "metadata": {},
     "output_type": "execute_result"
    },
    {
     "data": {
      "image/png": "[encoded data removed]",
      "text/plain": [
       "<Figure size 432x288 with 1 Axes>"
      ]
     },
     "metadata": {},
     "output_type": "display_data"
    }
   ],
   "source": [
    "df_sum = df_history.drop([\"label\"], axis=1).sum(axis=0)\n",
    "df_sum.to_csv(\"outputs/%s_sum_random.csv\"%dataset, header=True)\n",
    "plt.plot(df_sum.values)"
   ]
  },
  {
   "cell_type": "code",
   "execution_count": 17,
   "metadata": {},
   "outputs": [],
   "source": [
    "df_history.iloc[:, :].to_csv(\"outputs/%s_random.csv\"%dataset)"
   ]
  },
  {
   "cell_type": "markdown",
   "metadata": {},
   "source": [
    "### Influencers"
   ]
  },
  {
   "cell_type": "code",
   "execution_count": 18,
   "metadata": {},
   "outputs": [
    {
     "name": "stdout",
     "output_type": "stream",
     "text": [
      "iteration 0, progress 0/480, infected 495 (1.21%)     \n",
      "iteration 1, progress 0/6739, infected 6739 (16.54%)     \n",
      "iteration 1, progress 1000/6739, infected 9577 (23.50%)     \n",
      "iteration 1, progress 2000/6739, infected 11814 (28.99%)     \n",
      "iteration 1, progress 3000/6739, infected 13478 (33.08%)     \n",
      "iteration 1, progress 4000/6739, infected 14640 (35.93%)     \n",
      "iteration 1, progress 5000/6739, infected 15395 (37.78%)     \n",
      "iteration 1, progress 6000/6739, infected 15906 (39.04%)     \n",
      "iteration 2, progress 0/16132, infected 16132 (39.59%)     \n",
      "iteration 2, progress 1000/16132, infected 16813 (41.26%)     \n",
      "iteration 2, progress 2000/16132, infected 17699 (43.44%)     \n",
      "iteration 2, progress 3000/16132, infected 18430 (45.23%)     \n",
      "iteration 2, progress 4000/16132, infected 19069 (46.80%)     \n",
      "iteration 2, progress 5000/16132, infected 19585 (48.07%)     \n",
      "iteration 2, progress 6000/16132, infected 20049 (49.20%)     \n",
      "iteration 2, progress 7000/16132, infected 20480 (50.26%)     \n",
      "iteration 2, progress 8000/16132, infected 20833 (51.13%)     \n",
      "iteration 2, progress 9000/16132, infected 21137 (51.88%)     \n",
      "iteration 2, progress 10000/16132, infected 21369 (52.44%)     \n",
      "iteration 2, progress 11000/16132, infected 21560 (52.91%)     \n",
      "iteration 2, progress 12000/16132, infected 21720 (53.31%)     \n",
      "iteration 2, progress 13000/16132, infected 21873 (53.68%)     \n",
      "iteration 2, progress 14000/16132, infected 22018 (54.04%)     \n",
      "iteration 2, progress 15000/16132, infected 22132 (54.32%)     \n",
      "iteration 2, progress 16000/16132, infected 22199 (54.48%)     \n",
      "iteration 3, progress 0/22202, infected 22202 (54.49%)     \n",
      "iteration 3, progress 1000/22202, infected 22471 (55.15%)     \n",
      "iteration 3, progress 2000/22202, infected 22781 (55.91%)     \n",
      "iteration 3, progress 3000/22202, infected 23085 (56.66%)     \n",
      "iteration 3, progress 4000/22202, infected 23363 (57.34%)     \n",
      "iteration 3, progress 5000/22202, infected 23610 (57.94%)     \n",
      "iteration 3, progress 6000/22202, infected 23866 (58.57%)     \n",
      "iteration 3, progress 7000/22202, infected 24042 (59.00%)     \n",
      "iteration 3, progress 8000/22202, infected 24220 (59.44%)     \n",
      "iteration 3, progress 9000/22202, infected 24393 (59.87%)     \n",
      "iteration 3, progress 10000/22202, infected 24536 (60.22%)     \n",
      "iteration 3, progress 11000/22202, infected 24652 (60.50%)     \n",
      "iteration 3, progress 12000/22202, infected 24768 (60.79%)     \n",
      "iteration 3, progress 13000/22202, infected 24886 (61.08%)     \n",
      "iteration 3, progress 14000/22202, infected 24974 (61.29%)     \n",
      "iteration 3, progress 15000/22202, infected 25052 (61.48%)     \n",
      "iteration 3, progress 16000/22202, infected 25111 (61.63%)     \n",
      "iteration 3, progress 17000/22202, infected 25164 (61.76%)     \n",
      "iteration 3, progress 18000/22202, infected 25222 (61.90%)     \n",
      "iteration 3, progress 19000/22202, infected 25266 (62.01%)     \n",
      "iteration 3, progress 20000/22202, infected 25319 (62.14%)     \n",
      "iteration 3, progress 21000/22202, infected 25352 (62.22%)     \n",
      "iteration 3, progress 22000/22202, infected 25373 (62.27%)     \n",
      "iteration 4, progress 0/25376, infected 25376 (62.28%)     \n",
      "iteration 4, progress 1000/25376, infected 25500 (62.58%)     \n",
      "iteration 4, progress 2000/25376, infected 25639 (62.92%)     \n",
      "iteration 4, progress 3000/25376, infected 25802 (63.32%)     \n",
      "iteration 4, progress 4000/25376, infected 25939 (63.66%)     \n",
      "iteration 4, progress 5000/25376, infected 26068 (63.98%)     \n",
      "iteration 4, progress 6000/25376, infected 26178 (64.25%)     \n",
      "iteration 4, progress 7000/25376, infected 26266 (64.46%)     \n",
      "iteration 4, progress 8000/25376, infected 26336 (64.63%)     \n",
      "iteration 4, progress 9000/25376, infected 26421 (64.84%)     \n",
      "iteration 4, progress 10000/25376, infected 26524 (65.10%)     \n",
      "iteration 4, progress 11000/25376, infected 26597 (65.28%)     \n",
      "iteration 4, progress 12000/25376, infected 26656 (65.42%)     \n",
      "iteration 4, progress 13000/25376, infected 26691 (65.51%)     \n",
      "iteration 4, progress 14000/25376, infected 26730 (65.60%)     \n",
      "iteration 4, progress 15000/25376, infected 26770 (65.70%)     \n",
      "iteration 4, progress 16000/25376, infected 26813 (65.81%)     \n",
      "iteration 4, progress 17000/25376, infected 26855 (65.91%)     \n",
      "iteration 4, progress 18000/25376, infected 26888 (65.99%)     \n",
      "iteration 4, progress 19000/25376, infected 26920 (66.07%)     \n",
      "iteration 4, progress 20000/25376, infected 26937 (66.11%)     \n",
      "iteration 4, progress 21000/25376, infected 26955 (66.15%)     \n",
      "iteration 4, progress 22000/25376, infected 26969 (66.19%)     \n",
      "iteration 4, progress 23000/25376, infected 26985 (66.23%)     \n",
      "iteration 4, progress 24000/25376, infected 27002 (66.27%)     \n",
      "iteration 4, progress 25000/25376, infected 27017 (66.31%)     \n"
     ]
    }
   ],
   "source": [
    "df_influencer = df_edges.groupby(\"node_1\").count()\n",
    "seeds = df_influencer.sort_values([\"node_2\"], ascending=False)[:n_seeds].index.values\n",
    "\n",
    "df_history, df_infected = simulate_diffusion(seeds, iteration=5)"
   ]
  },
  {
   "cell_type": "code",
   "execution_count": 19,
   "metadata": {},
   "outputs": [
    {
     "data": {
      "text/plain": [
       "[<matplotlib.lines.Line2D at 0x7f63c392e4e0>]"
      ]
     },
     "execution_count": 19,
     "metadata": {},
     "output_type": "execute_result"
    },
    {
     "data": {
      "image/png": "[encoded data removed]",
      "text/plain": [
       "<Figure size 432x288 with 1 Axes>"
      ]
     },
     "metadata": {},
     "output_type": "display_data"
    }
   ],
   "source": [
    "df_sum = df_history.drop([\"label\"], axis=1).sum(axis=0)\n",
    "df_sum.to_csv(\"outputs/%s_sum_influencer.csv\"%dataset, header=True)\n",
    "plt.plot(df_sum.values)"
   ]
  },
  {
   "cell_type": "code",
   "execution_count": 20,
   "metadata": {},
   "outputs": [],
   "source": [
    "df_history.iloc[:, :].to_csv(\"outputs/%s_influencer.csv\"%dataset)"
   ]
  },
  {
   "cell_type": "markdown",
   "metadata": {},
   "source": [
    "### Cluster Random Seeds"
   ]
  },
  {
   "cell_type": "code",
   "execution_count": 21,
   "metadata": {},
   "outputs": [],
   "source": [
    "n_classes = len(np.unique(df_label.label))"
   ]
  },
  {
   "cell_type": "code",
   "execution_count": 22,
   "metadata": {},
   "outputs": [
    {
     "name": "stdout",
     "output_type": "stream",
     "text": [
      "0 cluster size 1382\n",
      "1 cluster size 1025\n",
      "2 cluster size 1841\n",
      "3 cluster size 1885\n",
      "4 cluster size 1467\n",
      "5 cluster size 1097\n",
      "6 cluster size 1496\n",
      "7 cluster size 2042\n",
      "8 cluster size 1533\n",
      "9 cluster size 1422\n",
      "10 cluster size 1592\n",
      "11 cluster size 1500\n",
      "12 cluster size 826\n",
      "13 cluster size 1382\n",
      "14 cluster size 1184\n",
      "15 cluster size 1411\n",
      "16 cluster size 1951\n",
      "17 cluster size 1003\n",
      "18 cluster size 1801\n",
      "19 cluster size 1554\n",
      "20 cluster size 1268\n",
      "21 cluster size 428\n",
      "22 cluster size 1000\n",
      "23 cluster size 1914\n",
      "24 cluster size 1903\n",
      "25 cluster size 1585\n",
      "26 cluster size 1976\n",
      "27 cluster size 1741\n",
      "28 cluster size 1614\n",
      "29 cluster size 1494\n",
      "30 cluster size 1807\n",
      "31 cluster size 1414\n"
     ]
    }
   ],
   "source": [
    "for target in range(n_classes):\n",
    "    print(target, \"cluster size\", sum(df_label.label==target))"
   ]
  },
  {
   "cell_type": "code",
   "execution_count": 23,
   "metadata": {},
   "outputs": [],
   "source": [
    "seeds = []\n",
    "for target in range(n_classes):\n",
    "    df_cluster = df_label[df_label.label==target]\n",
    "    cluster_n_seeds = round(n_seeds * len(df_cluster) / len(df_emb))\n",
    "    seeds += list(np.random.choice(df_cluster.index, cluster_n_seeds, replace=False))"
   ]
  },
  {
   "cell_type": "code",
   "execution_count": 24,
   "metadata": {},
   "outputs": [
    {
     "data": {
      "text/plain": [
       "478"
      ]
     },
     "execution_count": 24,
     "metadata": {},
     "output_type": "execute_result"
    }
   ],
   "source": [
    "seeds = [int(i) for i in seeds]\n",
    "len(seeds)"
   ]
  },
  {
   "cell_type": "code",
   "execution_count": 25,
   "metadata": {
    "scrolled": true
   },
   "outputs": [
    {
     "name": "stdout",
     "output_type": "stream",
     "text": [
      "iteration 0, progress 0/478, infected 483 (1.19%)     \n",
      "iteration 1, progress 0/1959, infected 1959 (4.81%)     \n",
      "iteration 1, progress 1000/1959, infected 4306 (10.57%)     \n",
      "iteration 2, progress 0/5040, infected 5041 (12.37%)     \n",
      "iteration 2, progress 1000/5040, infected 6569 (16.12%)     \n",
      "iteration 2, progress 2000/5040, infected 7834 (19.23%)     \n",
      "iteration 2, progress 3000/5040, infected 8581 (21.06%)     \n",
      "iteration 2, progress 4000/5040, infected 9019 (22.13%)     \n",
      "iteration 2, progress 5000/5040, infected 9210 (22.60%)     \n",
      "iteration 3, progress 0/9212, infected 9212 (22.61%)     \n",
      "iteration 3, progress 1000/9212, infected 9934 (24.38%)     \n",
      "iteration 3, progress 2000/9212, infected 10752 (26.39%)     \n",
      "iteration 3, progress 3000/9212, infected 11413 (28.01%)     \n",
      "iteration 3, progress 4000/9212, infected 11941 (29.31%)     \n",
      "iteration 3, progress 5000/9212, infected 12295 (30.17%)     \n",
      "iteration 3, progress 6000/9212, infected 12537 (30.77%)     \n",
      "iteration 3, progress 7000/9212, infected 12717 (31.21%)     \n",
      "iteration 3, progress 8000/9212, infected 12849 (31.53%)     \n",
      "iteration 3, progress 9000/9212, infected 12926 (31.72%)     \n",
      "iteration 4, progress 0/12930, infected 12930 (31.73%)     \n",
      "iteration 4, progress 1000/12930, infected 13228 (32.46%)     \n",
      "iteration 4, progress 2000/12930, infected 13642 (33.48%)     \n",
      "iteration 4, progress 3000/12930, infected 14013 (34.39%)     \n",
      "iteration 4, progress 4000/12930, infected 14333 (35.18%)     \n",
      "iteration 4, progress 5000/12930, infected 14613 (35.86%)     \n",
      "iteration 4, progress 6000/12930, infected 14805 (36.33%)     \n",
      "iteration 4, progress 7000/12930, infected 15000 (36.81%)     \n",
      "iteration 4, progress 8000/12930, infected 15136 (37.15%)     \n",
      "iteration 4, progress 9000/12930, infected 15242 (37.41%)     \n",
      "iteration 4, progress 10000/12930, infected 15311 (37.58%)     \n",
      "iteration 4, progress 11000/12930, infected 15392 (37.78%)     \n",
      "iteration 4, progress 12000/12930, infected 15424 (37.85%)     \n"
     ]
    }
   ],
   "source": [
    "df_history, df_infected = simulate_diffusion(seeds, iteration=5)"
   ]
  },
  {
   "cell_type": "code",
   "execution_count": 26,
   "metadata": {},
   "outputs": [
    {
     "data": {
      "text/plain": [
       "[<matplotlib.lines.Line2D at 0x7f63c4925160>]"
      ]
     },
     "execution_count": 26,
     "metadata": {},
     "output_type": "execute_result"
    },
    {
     "data": {
      "image/png": "[encoded data removed]",
      "text/plain": [
       "<Figure size 432x288 with 1 Axes>"
      ]
     },
     "metadata": {},
     "output_type": "display_data"
    }
   ],
   "source": [
    "df_sum = df_history.drop([\"label\"], axis=1).sum(axis=0)\n",
    "df_sum.to_csv(\"outputs/%s_sum_cluster_random.csv\"%dataset, header=True)\n",
    "plt.plot(df_sum.values)"
   ]
  },
  {
   "cell_type": "code",
   "execution_count": 27,
   "metadata": {},
   "outputs": [],
   "source": [
    "df_history.iloc[:, :].to_csv(\"outputs/%s_cluster_random.csv\"%dataset)"
   ]
  },
  {
   "cell_type": "markdown",
   "metadata": {},
   "source": [
    "#### Cluster Influencer"
   ]
  },
  {
   "cell_type": "code",
   "execution_count": 28,
   "metadata": {},
   "outputs": [
    {
     "name": "stderr",
     "output_type": "stream",
     "text": [
      "/usr/local/lib/python3.5/dist-packages/ipykernel_launcher.py:4: FutureWarning: \n",
      "Passing list-likes to .loc or [] with any missing label will raise\n",
      "KeyError in the future, you can use .reindex() as an alternative.\n",
      "\n",
      "See the documentation here:\n",
      "https://pandas.pydata.org/pandas-docs/stable/indexing.html#deprecate-loc-reindex-listlike\n",
      "  after removing the cwd from sys.path.\n"
     ]
    },
    {
     "data": {
      "text/plain": [
       "480"
      ]
     },
     "execution_count": 28,
     "metadata": {},
     "output_type": "execute_result"
    }
   ],
   "source": [
    "seeds = []\n",
    "for target in range(n_classes):\n",
    "    idxs = df_label[df_label.label == target].index\n",
    "    df_cluster = df_edges.loc[list(map(int, idxs))]\n",
    "    \n",
    "    df_influencer = df_cluster.groupby(\"node_1\").count()\n",
    "    \n",
    "    seeds += list(df_influencer.sort_values([\"node_2\"], ascending=False)[:int(n_seeds / n_classes)].index.values)\n",
    "len(seeds)"
   ]
  },
  {
   "cell_type": "code",
   "execution_count": 29,
   "metadata": {},
   "outputs": [
    {
     "name": "stdout",
     "output_type": "stream",
     "text": [
      "iteration 0, progress 0/480, infected 494 (1.21%)     \n",
      "iteration 1, progress 0/6278, infected 6278 (15.41%)     \n",
      "iteration 1, progress 1000/6278, infected 9087 (22.30%)     \n",
      "iteration 1, progress 2000/6278, infected 11469 (28.15%)     \n",
      "iteration 1, progress 3000/6278, infected 13197 (32.39%)     \n",
      "iteration 1, progress 4000/6278, infected 14220 (34.90%)     \n",
      "iteration 1, progress 5000/6278, infected 14954 (36.70%)     \n",
      "iteration 1, progress 6000/6278, infected 15467 (37.96%)     \n",
      "iteration 2, progress 0/15550, infected 15550 (38.16%)     \n",
      "iteration 2, progress 1000/15550, infected 16321 (40.06%)     \n",
      "iteration 2, progress 2000/15550, infected 17222 (42.27%)     \n",
      "iteration 2, progress 3000/15550, infected 18025 (44.24%)     \n",
      "iteration 2, progress 4000/15550, infected 18712 (45.92%)     \n",
      "iteration 2, progress 5000/15550, infected 19293 (47.35%)     \n",
      "iteration 2, progress 6000/15550, infected 19815 (48.63%)     \n",
      "iteration 2, progress 7000/15550, infected 20261 (49.73%)     \n",
      "iteration 2, progress 8000/15550, infected 20631 (50.63%)     \n",
      "iteration 2, progress 9000/15550, infected 20942 (51.40%)     \n",
      "iteration 2, progress 10000/15550, infected 21200 (52.03%)     \n",
      "iteration 2, progress 11000/15550, infected 21394 (52.51%)     \n",
      "iteration 2, progress 12000/15550, infected 21564 (52.92%)     \n",
      "iteration 2, progress 13000/15550, infected 21704 (53.27%)     \n",
      "iteration 2, progress 14000/15550, infected 21823 (53.56%)     \n",
      "iteration 2, progress 15000/15550, infected 21931 (53.82%)     \n",
      "iteration 3, progress 0/21966, infected 21966 (53.91%)     \n",
      "iteration 3, progress 1000/21966, infected 22246 (54.60%)     \n",
      "iteration 3, progress 2000/21966, infected 22589 (55.44%)     \n",
      "iteration 3, progress 3000/21966, infected 22911 (56.23%)     \n",
      "iteration 3, progress 4000/21966, infected 23211 (56.97%)     \n",
      "iteration 3, progress 5000/21966, infected 23477 (57.62%)     \n",
      "iteration 3, progress 6000/21966, infected 23712 (58.19%)     \n",
      "iteration 3, progress 7000/21966, infected 23911 (58.68%)     \n",
      "iteration 3, progress 8000/21966, infected 24108 (59.17%)     \n",
      "iteration 3, progress 9000/21966, infected 24287 (59.61%)     \n",
      "iteration 3, progress 10000/21966, infected 24425 (59.94%)     \n",
      "iteration 3, progress 11000/21966, infected 24549 (60.25%)     \n",
      "iteration 3, progress 12000/21966, infected 24680 (60.57%)     \n",
      "iteration 3, progress 13000/21966, infected 24800 (60.86%)     \n",
      "iteration 3, progress 14000/21966, infected 24898 (61.11%)     \n",
      "iteration 3, progress 15000/21966, infected 24983 (61.31%)     \n",
      "iteration 3, progress 16000/21966, infected 25048 (61.47%)     \n",
      "iteration 3, progress 17000/21966, infected 25108 (61.62%)     \n",
      "iteration 3, progress 18000/21966, infected 25165 (61.76%)     \n",
      "iteration 3, progress 19000/21966, infected 25216 (61.89%)     \n",
      "iteration 3, progress 20000/21966, infected 25262 (62.00%)     \n",
      "iteration 3, progress 21000/21966, infected 25289 (62.06%)     \n",
      "iteration 4, progress 0/25312, infected 25312 (62.12%)     \n",
      "iteration 4, progress 1000/25312, infected 25436 (62.43%)     \n",
      "iteration 4, progress 2000/25312, infected 25567 (62.75%)     \n",
      "iteration 4, progress 3000/25312, infected 25744 (63.18%)     \n",
      "iteration 4, progress 4000/25312, infected 25890 (63.54%)     \n",
      "iteration 4, progress 5000/25312, infected 26003 (63.82%)     \n",
      "iteration 4, progress 6000/25312, infected 26104 (64.07%)     \n",
      "iteration 4, progress 7000/25312, infected 26217 (64.34%)     \n",
      "iteration 4, progress 8000/25312, infected 26301 (64.55%)     \n",
      "iteration 4, progress 9000/25312, infected 26386 (64.76%)     \n",
      "iteration 4, progress 10000/25312, infected 26481 (64.99%)     \n",
      "iteration 4, progress 11000/25312, infected 26563 (65.19%)     \n",
      "iteration 4, progress 12000/25312, infected 26615 (65.32%)     \n",
      "iteration 4, progress 13000/25312, infected 26661 (65.43%)     \n",
      "iteration 4, progress 14000/25312, infected 26697 (65.52%)     \n",
      "iteration 4, progress 15000/25312, infected 26738 (65.62%)     \n",
      "iteration 4, progress 16000/25312, infected 26774 (65.71%)     \n",
      "iteration 4, progress 17000/25312, infected 26805 (65.79%)     \n",
      "iteration 4, progress 18000/25312, infected 26842 (65.88%)     \n",
      "iteration 4, progress 19000/25312, infected 26869 (65.94%)     \n",
      "iteration 4, progress 20000/25312, infected 26896 (66.01%)     \n",
      "iteration 4, progress 21000/25312, infected 26927 (66.09%)     \n",
      "iteration 4, progress 22000/25312, infected 26947 (66.13%)     \n",
      "iteration 4, progress 23000/25312, infected 26967 (66.18%)     \n",
      "iteration 4, progress 24000/25312, infected 26975 (66.20%)     \n",
      "iteration 4, progress 25000/25312, infected 26988 (66.23%)     \n"
     ]
    }
   ],
   "source": [
    "df_history, df_infected = simulate_diffusion(seeds, iteration=5)"
   ]
  },
  {
   "cell_type": "code",
   "execution_count": 30,
   "metadata": {},
   "outputs": [
    {
     "data": {
      "text/plain": [
       "[<matplotlib.lines.Line2D at 0x7f63c5aac588>]"
      ]
     },
     "execution_count": 30,
     "metadata": {},
     "output_type": "execute_result"
    },
    {
     "data": {
      "image/png": "[encoded data removed]",
      "text/plain": [
       "<Figure size 432x288 with 1 Axes>"
      ]
     },
     "metadata": {},
     "output_type": "display_data"
    }
   ],
   "source": [
    "df_sum = df_history.drop([\"label\"], axis=1).sum(axis=0)\n",
    "df_sum.to_csv(\"outputs/%s_sum_cluster_influencer.csv\"%dataset, header=True)\n",
    "plt.plot(df_sum.values)"
   ]
  },
  {
   "cell_type": "code",
   "execution_count": 31,
   "metadata": {},
   "outputs": [],
   "source": [
    "df_history.iloc[:, :].to_csv(\"outputs/%s_cluster_influencer.csv\"%dataset)"
   ]
  },
  {
   "cell_type": "markdown",
   "metadata": {},
   "source": [
    "#### Stratified Sampling by Influence"
   ]
  },
  {
   "cell_type": "code",
   "execution_count": 32,
   "metadata": {},
   "outputs": [],
   "source": [
    "# df_influencer = df_edges.groupby(\"node_1\").count().sort_values([\"node_2\"], ascending=False)\n",
    "# df_influencer[\"influence\"] = 100 * df_influencer.node_2 / len(df_label)\n",
    "# len(df_influencer)"
   ]
  },
  {
   "cell_type": "code",
   "execution_count": 33,
   "metadata": {},
   "outputs": [],
   "source": [
    "# n_strata = 32\n",
    "# _ = plt.hist(df_influencer.node_2, bins=n_strata)\n",
    "# strata_size, strata_bound = _[0], _[1]\n",
    "# # plt.close()"
   ]
  },
  {
   "cell_type": "code",
   "execution_count": 34,
   "metadata": {},
   "outputs": [],
   "source": [
    "# strata_sizes = list(map(round, strata_size))\n",
    "# strata_bounds = list(map(round, strata_bound))"
   ]
  },
  {
   "cell_type": "code",
   "execution_count": 35,
   "metadata": {},
   "outputs": [],
   "source": [
    "# seeds = []\n",
    "# for i in range(n_strata):\n",
    "#     l, r = strata_bounds[i], strata_bounds[i + 1]\n",
    "#     strata_size = int(strata_sizes[i])\n",
    "#     df_strata = df_influencer[(df_influencer.node_2 > l) & (df_influencer.node_2 < r)]\n",
    "#     cluster_n_seeds = round(n_seeds * strata_size / len(df_influencer))\n",
    "#     cluster_seeds = list(df_strata[:cluster_n_seeds].index.values)\n",
    "    \n",
    "#     seeds += cluster_seeds\n",
    "# print(len(seeds))"
   ]
  },
  {
   "cell_type": "code",
   "execution_count": 36,
   "metadata": {},
   "outputs": [],
   "source": [
    "# df_history, df_infected = simulate_diffusion(seeds, iteration=5)"
   ]
  },
  {
   "cell_type": "code",
   "execution_count": 37,
   "metadata": {},
   "outputs": [],
   "source": [
    "# df_sum = df_history.drop([\"label\"], axis=1).sum(axis=0)\n",
    "# df_sum.to_csv(\"outputs/%s_sum_cluster_influencer.csv\"%dataset, header=True)\n",
    "# plt.plot(df_sum.values)"
   ]
  },
  {
   "cell_type": "code",
   "execution_count": null,
   "metadata": {},
   "outputs": [],
   "source": []
  }
 ],
 "metadata": {
  "kernelspec": {
   "display_name": "Python 3",
   "language": "python",
   "name": "python3"
  },
  "language_info": {
   "codemirror_mode": {
    "name": "ipython",
    "version": 3
   },
   "file_extension": ".py",
   "mimetype": "text/x-python",
   "name": "python",
   "nbconvert_exporter": "python",
   "pygments_lexer": "ipython3",
   "version": "3.5.3"
  }
 },
 "nbformat": 4,
 "nbformat_minor": 2
}
