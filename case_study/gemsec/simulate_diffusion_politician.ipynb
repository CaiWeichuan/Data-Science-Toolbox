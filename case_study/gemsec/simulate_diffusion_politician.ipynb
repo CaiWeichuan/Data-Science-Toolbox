{
 "cells": [
  {
   "cell_type": "code",
   "execution_count": 1,
   "metadata": {},
   "outputs": [],
   "source": [
    "import pandas as pd\n",
    "import numpy as np\n",
    "import matplotlib.pyplot as plt\n",
    "import json\n",
    "from sklearn.decomposition import PCA"
   ]
  },
  {
   "cell_type": "code",
   "execution_count": 2,
   "metadata": {},
   "outputs": [],
   "source": [
    "dataset = \"politician\""
   ]
  },
  {
   "cell_type": "code",
   "execution_count": 3,
   "metadata": {},
   "outputs": [
    {
     "data": {
      "text/plain": [
       "(5908, 16)"
      ]
     },
     "execution_count": 3,
     "metadata": {},
     "output_type": "execute_result"
    }
   ],
   "source": [
    "df_means = pd.read_csv(\"master/outputs/cluster_means/%s_means.csv\"%dataset)\n",
    "df_emb = pd.read_csv(\"master/outputs/embeddings/%s_embedding.csv\"%dataset)\n",
    "df_edges = pd.read_csv(\"master/data/%s_edges.csv\"%dataset, index_col=\"node_1\")\n",
    "df_emb.shape"
   ]
  },
  {
   "cell_type": "code",
   "execution_count": 4,
   "metadata": {},
   "outputs": [
    {
     "data": {
      "text/plain": [
       "5908"
      ]
     },
     "execution_count": 4,
     "metadata": {},
     "output_type": "execute_result"
    }
   ],
   "source": [
    "with open('master/outputs/assignments/%s.json'%dataset) as json_file:  \n",
    "    labels = json.load(json_file)\n",
    "len(labels)"
   ]
  },
  {
   "cell_type": "code",
   "execution_count": 5,
   "metadata": {},
   "outputs": [
    {
     "name": "stdout",
     "output_type": "stream",
     "text": [
      "(5908, 1)\n"
     ]
    },
    {
     "data": {
      "text/html": [
       "<div>\n",
       "<style scoped>\n",
       "    .dataframe tbody tr th:only-of-type {\n",
       "        vertical-align: middle;\n",
       "    }\n",
       "\n",
       "    .dataframe tbody tr th {\n",
       "        vertical-align: top;\n",
       "    }\n",
       "\n",
       "    .dataframe thead th {\n",
       "        text-align: right;\n",
       "    }\n",
       "</style>\n",
       "<table border=\"1\" class=\"dataframe\">\n",
       "  <thead>\n",
       "    <tr style=\"text-align: right;\">\n",
       "      <th></th>\n",
       "      <th>label</th>\n",
       "    </tr>\n",
       "    <tr>\n",
       "      <th>index</th>\n",
       "      <th></th>\n",
       "    </tr>\n",
       "  </thead>\n",
       "  <tbody>\n",
       "    <tr>\n",
       "      <th>0</th>\n",
       "      <td>1</td>\n",
       "    </tr>\n",
       "    <tr>\n",
       "      <th>1</th>\n",
       "      <td>5</td>\n",
       "    </tr>\n",
       "    <tr>\n",
       "      <th>2</th>\n",
       "      <td>7</td>\n",
       "    </tr>\n",
       "    <tr>\n",
       "      <th>3</th>\n",
       "      <td>12</td>\n",
       "    </tr>\n",
       "    <tr>\n",
       "      <th>4</th>\n",
       "      <td>10</td>\n",
       "    </tr>\n",
       "  </tbody>\n",
       "</table>\n",
       "</div>"
      ],
      "text/plain": [
       "       label\n",
       "index       \n",
       "0          1\n",
       "1          5\n",
       "2          7\n",
       "3         12\n",
       "4         10"
      ]
     },
     "execution_count": 5,
     "metadata": {},
     "output_type": "execute_result"
    }
   ],
   "source": [
    "df_label = pd.DataFrame({\"index\" : list(labels.keys()), \"label\" : list(labels.values())})\n",
    "df_label[\"index\"] = df_label[\"index\"].astype(int)\n",
    "df_label = df_label.set_index(\"index\")\n",
    "df_label = df_label.sort_index()\n",
    "print(df_label.shape)\n",
    "df_label.head()"
   ]
  },
  {
   "cell_type": "markdown",
   "metadata": {},
   "source": [
    "### Diffusion Modeling"
   ]
  },
  {
   "cell_type": "code",
   "execution_count": 9,
   "metadata": {},
   "outputs": [],
   "source": [
    "from sklearn.metrics.pairwise import cosine_similarity"
   ]
  },
  {
   "cell_type": "code",
   "execution_count": 12,
   "metadata": {},
   "outputs": [
    {
     "data": {
      "text/plain": [
       "-0.30574478510952025"
      ]
     },
     "execution_count": 12,
     "metadata": {},
     "output_type": "execute_result"
    }
   ],
   "source": [
    "def cosine(x, y):\n",
    "    return x.dot(y) / (np.linalg.norm(x) * np.linalg.norm(y))\n",
    "\n",
    "cosine(df_emb.iloc[1], df_emb.iloc[3])"
   ]
  },
  {
   "cell_type": "code",
   "execution_count": 13,
   "metadata": {},
   "outputs": [],
   "source": [
    "def lookup_neighbor(i):\n",
    "    if i in df_edges.index:\n",
    "        if len(df_edges.loc[i]) == 1:\n",
    "            return [df_edges.loc[i].node_2]\n",
    "        return df_edges.loc[i].node_2\n",
    "    return []"
   ]
  },
  {
   "cell_type": "code",
   "execution_count": 14,
   "metadata": {},
   "outputs": [
    {
     "name": "stdout",
     "output_type": "stream",
     "text": [
      "1 4413 0.9974884723008519\n",
      "0.9974884723008519\n",
      "1 4896 0.9984128515538626\n",
      "0.9984128515538627\n",
      "1 5471 0.9945242422861698\n",
      "0.9945242422861698\n",
      "1 3531 0.9946260411006532\n",
      "0.9946260411006532\n",
      "1 1965 0.9831698357962538\n",
      "0.9831698357962537\n",
      "1 2565 0.9861203336882424\n",
      "0.9861203336882423\n",
      "1 3317 0.997821762432456\n",
      "0.9978217624324561\n",
      "1 5565 0.9956677304241629\n",
      "0.995667730424163\n",
      "1 2448 0.9949684810476138\n",
      "0.9949684810476139\n",
      "1 955 0.9823198512929074\n",
      "0.9823198512929076\n",
      "1 3699 0.9965423514695567\n",
      "0.9965423514695568\n",
      "1 519 0.981452697271177\n",
      "0.981452697271177\n",
      "1 3849 0.9947623023575536\n",
      "0.9947623023575536\n",
      "1 5557 0.9827299777093296\n",
      "0.9827299777093297\n",
      "1 1618 0.9945322452970689\n",
      "0.9945322452970689\n",
      "1 3779 0.3871626684839132\n",
      "0.3871626684839131\n",
      "1 3550 0.9951758002351397\n",
      "0.9951758002351399\n",
      "1 3866 0.9831429459777503\n",
      "0.9831429459777503\n",
      "1 5729 0.9844633610423364\n",
      "0.9844633610423364\n"
     ]
    }
   ],
   "source": [
    "seeds = [1]\n",
    "\n",
    "for seed in seeds: \n",
    "    neighbors = lookup_neighbor(seed)\n",
    "    for nei in neighbors:\n",
    "        print(seed, nei, cosine(df_emb.iloc[seed], df_emb.iloc[nei]))\n",
    "        print( cosine_similarity(df_emb.iloc[seed].values.reshape(1, -1), df_emb.iloc[nei].values.reshape(1, -1))[0][0])# "
   ]
  },
  {
   "cell_type": "code",
   "execution_count": 15,
   "metadata": {},
   "outputs": [],
   "source": [
    "def simulate_diffusion(seeds, iteration=10):\n",
    "    df_infected = df_label.copy()\n",
    "    df_infected.index = df_infected.index.astype(int)\n",
    "    df_infected[\"infected\"] = False\n",
    "    df_infected.loc[seeds, 'infected'] = True\n",
    "\n",
    "    df_history = df_label.copy()\n",
    "    df_history.index = df_history.index.astype(int)\n",
    "    prev = len(seeds)\n",
    "    for i in range(iteration):\n",
    "        df_infected_cur = df_infected[df_infected.infected==1].index\n",
    "        for j, source in enumerate(df_infected_cur):\n",
    "            \n",
    "            if j % (len(df_emb) // 1000) == 0:\n",
    "                df_history[\"i%i_f%i\"%(i, j)] = df_infected.infected\n",
    "            \n",
    "            neighbors = lookup_neighbor(source)\n",
    "            neighbors = list(filter(lambda x : cosine(df_emb.iloc[source], df_emb.iloc[x]) > np.random.rand(), neighbors))\n",
    "            df_infected.loc[neighbors, 'infected'] = True\n",
    "            \n",
    "            if j % 1000 == 0:\n",
    "                print(\"iteration %i, progress %i/%i, infected %i (%.2f%%)     \"\n",
    "                      %(i, j, len(df_infected_cur), sum(df_infected.infected), \n",
    "                        100 * sum(df_infected.infected) / len(np.unique(df_edges.node_2))))\n",
    "                \n",
    "    return df_history, df_infected"
   ]
  },
  {
   "cell_type": "markdown",
   "metadata": {},
   "source": [
    "### Random Seeds"
   ]
  },
  {
   "cell_type": "code",
   "execution_count": 16,
   "metadata": {},
   "outputs": [],
   "source": [
    "n_seeds = 60"
   ]
  },
  {
   "cell_type": "code",
   "execution_count": 17,
   "metadata": {},
   "outputs": [
    {
     "name": "stdout",
     "output_type": "stream",
     "text": [
      "iteration 0, progress 0/60, infected 67 (1.37%)     \n",
      "iteration 1, progress 0/455, infected 455 (9.29%)     \n",
      "iteration 2, progress 0/1259, infected 1261 (25.75%)     \n",
      "iteration 2, progress 1000/1259, infected 1632 (33.33%)     \n",
      "iteration 3, progress 0/1646, infected 1646 (33.61%)     \n",
      "iteration 3, progress 1000/1646, infected 1924 (39.29%)     \n",
      "iteration 4, progress 0/1950, infected 1950 (39.82%)     \n",
      "iteration 4, progress 1000/1950, infected 2122 (43.33%)     \n",
      "iteration 5, progress 0/2184, infected 2184 (44.60%)     \n",
      "iteration 5, progress 1000/2184, infected 2330 (47.58%)     \n",
      "iteration 5, progress 2000/2184, infected 2349 (47.97%)     \n",
      "iteration 6, progress 0/2349, infected 2349 (47.97%)     \n",
      "iteration 6, progress 1000/2349, infected 2418 (49.38%)     \n",
      "iteration 6, progress 2000/2349, infected 2434 (49.70%)     \n",
      "iteration 7, progress 0/2435, infected 2435 (49.72%)     \n",
      "iteration 7, progress 1000/2435, infected 2454 (50.11%)     \n",
      "iteration 7, progress 2000/2435, infected 2459 (50.21%)     \n",
      "iteration 8, progress 0/2462, infected 2462 (50.28%)     \n",
      "iteration 8, progress 1000/2462, infected 2479 (50.62%)     \n",
      "iteration 8, progress 2000/2462, infected 2481 (50.66%)     \n",
      "iteration 9, progress 0/2483, infected 2483 (50.70%)     \n",
      "iteration 9, progress 1000/2483, infected 2486 (50.77%)     \n",
      "iteration 9, progress 2000/2483, infected 2487 (50.79%)     \n"
     ]
    }
   ],
   "source": [
    "seeds = np.random.choice(df_emb.index, n_seeds)\n",
    "\n",
    "df_history, df_infected = simulate_diffusion(seeds)"
   ]
  },
  {
   "cell_type": "code",
   "execution_count": 18,
   "metadata": {},
   "outputs": [
    {
     "data": {
      "text/plain": [
       "[<matplotlib.lines.Line2D at 0x7f929ae50208>]"
      ]
     },
     "execution_count": 18,
     "metadata": {},
     "output_type": "execute_result"
    },
    {
     "data": {
      "image/png": "[encoded data removed]",
      "text/plain": [
       "<Figure size 432x288 with 1 Axes>"
      ]
     },
     "metadata": {},
     "output_type": "display_data"
    }
   ],
   "source": [
    "df_sum = df_history.drop([\"label\"], axis=1).sum(axis=0)\n",
    "df_sum.to_csv(\"outputs/%s_sum_random.csv\"%dataset, header=True)\n",
    "plt.plot(df_sum.values)"
   ]
  },
  {
   "cell_type": "code",
   "execution_count": 19,
   "metadata": {},
   "outputs": [],
   "source": [
    "df_history.iloc[:, :].to_csv(\"outputs/%s_random.csv\"%dataset)"
   ]
  },
  {
   "cell_type": "markdown",
   "metadata": {},
   "source": [
    "### Influencers"
   ]
  },
  {
   "cell_type": "code",
   "execution_count": 20,
   "metadata": {},
   "outputs": [
    {
     "name": "stdout",
     "output_type": "stream",
     "text": [
      "iteration 0, progress 0/60, infected 110 (2.25%)     \n",
      "iteration 1, progress 0/1691, infected 1691 (34.53%)     \n",
      "iteration 1, progress 1000/1691, infected 2463 (50.30%)     \n",
      "iteration 2, progress 0/2532, infected 2532 (51.71%)     \n",
      "iteration 2, progress 1000/2532, infected 2823 (57.65%)     \n",
      "iteration 2, progress 2000/2532, infected 2983 (60.91%)     \n",
      "iteration 3, progress 0/3003, infected 3003 (61.32%)     \n",
      "iteration 3, progress 1000/3003, infected 3110 (63.51%)     \n",
      "iteration 3, progress 2000/3003, infected 3214 (65.63%)     \n",
      "iteration 3, progress 3000/3003, infected 3255 (66.47%)     \n",
      "iteration 4, progress 0/3255, infected 3255 (66.47%)     \n",
      "iteration 4, progress 1000/3255, infected 3308 (67.55%)     \n",
      "iteration 4, progress 2000/3255, infected 3366 (68.74%)     \n",
      "iteration 4, progress 3000/3255, infected 3385 (69.12%)     \n",
      "iteration 5, progress 0/3386, infected 3386 (69.14%)     \n",
      "iteration 5, progress 1000/3386, infected 3422 (69.88%)     \n",
      "iteration 5, progress 2000/3386, infected 3434 (70.12%)     \n",
      "iteration 5, progress 3000/3386, infected 3445 (70.35%)     \n",
      "iteration 6, progress 0/3445, infected 3445 (70.35%)     \n",
      "iteration 6, progress 1000/3445, infected 3468 (70.82%)     \n",
      "iteration 6, progress 2000/3445, infected 3475 (70.96%)     \n",
      "iteration 6, progress 3000/3445, infected 3479 (71.04%)     \n",
      "iteration 7, progress 0/3479, infected 3479 (71.04%)     \n",
      "iteration 7, progress 1000/3479, infected 3488 (71.23%)     \n",
      "iteration 7, progress 2000/3479, infected 3501 (71.49%)     \n",
      "iteration 7, progress 3000/3479, infected 3503 (71.53%)     \n",
      "iteration 8, progress 0/3503, infected 3503 (71.53%)     \n",
      "iteration 8, progress 1000/3503, infected 3511 (71.70%)     \n",
      "iteration 8, progress 2000/3503, infected 3511 (71.70%)     \n",
      "iteration 8, progress 3000/3503, infected 3512 (71.72%)     \n",
      "iteration 9, progress 0/3512, infected 3512 (71.72%)     \n",
      "iteration 9, progress 1000/3512, infected 3521 (71.90%)     \n",
      "iteration 9, progress 2000/3512, infected 3526 (72.00%)     \n",
      "iteration 9, progress 3000/3512, infected 3527 (72.02%)     \n"
     ]
    }
   ],
   "source": [
    "df_influencer = df_edges.groupby(\"node_1\").count()\n",
    "seeds = df_influencer.sort_values([\"node_2\"], ascending=False)[:n_seeds].index.values\n",
    "\n",
    "df_history, df_infected = simulate_diffusion(seeds)"
   ]
  },
  {
   "cell_type": "code",
   "execution_count": 21,
   "metadata": {},
   "outputs": [
    {
     "data": {
      "text/plain": [
       "[<matplotlib.lines.Line2D at 0x7f929acbabe0>]"
      ]
     },
     "execution_count": 21,
     "metadata": {},
     "output_type": "execute_result"
    },
    {
     "data": {
      "image/png": "[encoded data removed]",
      "text/plain": [
       "<Figure size 432x288 with 1 Axes>"
      ]
     },
     "metadata": {},
     "output_type": "display_data"
    }
   ],
   "source": [
    "df_sum = df_history.drop([\"label\"], axis=1).sum(axis=0)\n",
    "df_sum.to_csv(\"outputs/%s_sum_influencer.csv\"%dataset, header=True)\n",
    "plt.plot(df_sum.values)"
   ]
  },
  {
   "cell_type": "code",
   "execution_count": 22,
   "metadata": {},
   "outputs": [],
   "source": [
    "df_history.iloc[:, :].to_csv(\"outputs/%s_influencer.csv\"%dataset)"
   ]
  },
  {
   "cell_type": "markdown",
   "metadata": {},
   "source": [
    "### Cluster Random Seeds"
   ]
  },
  {
   "cell_type": "code",
   "execution_count": 23,
   "metadata": {},
   "outputs": [],
   "source": [
    "n_classes = len(np.unique(df_label.label))"
   ]
  },
  {
   "cell_type": "code",
   "execution_count": 24,
   "metadata": {},
   "outputs": [
    {
     "name": "stdout",
     "output_type": "stream",
     "text": [
      "0 cluster size 184\n",
      "1 cluster size 319\n",
      "2 cluster size 359\n",
      "3 cluster size 154\n",
      "4 cluster size 357\n",
      "5 cluster size 238\n",
      "6 cluster size 284\n",
      "7 cluster size 205\n",
      "8 cluster size 377\n",
      "9 cluster size 203\n",
      "10 cluster size 375\n",
      "11 cluster size 330\n",
      "12 cluster size 537\n",
      "13 cluster size 552\n",
      "14 cluster size 217\n",
      "15 cluster size 163\n",
      "16 cluster size 253\n",
      "17 cluster size 249\n",
      "18 cluster size 115\n",
      "19 cluster size 437\n"
     ]
    }
   ],
   "source": [
    "for target in range(n_classes):\n",
    "    print(target, \"cluster size\", sum(df_label.label==target))"
   ]
  },
  {
   "cell_type": "code",
   "execution_count": 25,
   "metadata": {},
   "outputs": [],
   "source": [
    "seeds = []\n",
    "for target in range(n_classes):\n",
    "    df_cluster = df_label[df_label.label==target]\n",
    "    cluster_n_seeds = round(n_seeds * len(df_cluster) / len(df_emb))\n",
    "    seeds += list(np.random.choice(df_cluster.index, cluster_n_seeds, replace=False))"
   ]
  },
  {
   "cell_type": "code",
   "execution_count": 26,
   "metadata": {},
   "outputs": [
    {
     "data": {
      "text/plain": [
       "61"
      ]
     },
     "execution_count": 26,
     "metadata": {},
     "output_type": "execute_result"
    }
   ],
   "source": [
    "seeds = [int(i) for i in seeds]\n",
    "len(seeds)"
   ]
  },
  {
   "cell_type": "code",
   "execution_count": 27,
   "metadata": {
    "scrolled": true
   },
   "outputs": [
    {
     "name": "stdout",
     "output_type": "stream",
     "text": [
      "iteration 0, progress 0/61, infected 67 (1.37%)     \n",
      "iteration 1, progress 0/378, infected 378 (7.72%)     \n",
      "iteration 2, progress 0/1320, infected 1320 (26.96%)     \n",
      "iteration 2, progress 1000/1320, infected 1813 (37.02%)     \n",
      "iteration 3, progress 0/1827, infected 1827 (37.31%)     \n",
      "iteration 3, progress 1000/1827, infected 2057 (42.01%)     \n",
      "iteration 4, progress 0/2084, infected 2084 (42.56%)     \n",
      "iteration 4, progress 1000/2084, infected 2203 (44.99%)     \n",
      "iteration 4, progress 2000/2084, infected 2227 (45.48%)     \n",
      "iteration 5, progress 0/2228, infected 2228 (45.50%)     \n",
      "iteration 5, progress 1000/2228, infected 2304 (47.05%)     \n",
      "iteration 5, progress 2000/2228, infected 2320 (47.38%)     \n",
      "iteration 6, progress 0/2320, infected 2320 (47.38%)     \n",
      "iteration 6, progress 1000/2320, infected 2384 (48.68%)     \n",
      "iteration 6, progress 2000/2320, infected 2393 (48.87%)     \n",
      "iteration 7, progress 0/2393, infected 2393 (48.87%)     \n",
      "iteration 7, progress 1000/2393, infected 2422 (49.46%)     \n",
      "iteration 7, progress 2000/2393, infected 2423 (49.48%)     \n",
      "iteration 8, progress 0/2424, infected 2424 (49.50%)     \n",
      "iteration 8, progress 1000/2424, infected 2436 (49.74%)     \n",
      "iteration 8, progress 2000/2424, infected 2438 (49.79%)     \n",
      "iteration 9, progress 0/2438, infected 2438 (49.79%)     \n",
      "iteration 9, progress 1000/2438, infected 2455 (50.13%)     \n",
      "iteration 9, progress 2000/2438, infected 2455 (50.13%)     \n"
     ]
    }
   ],
   "source": [
    "df_history, df_infected = simulate_diffusion(seeds)"
   ]
  },
  {
   "cell_type": "code",
   "execution_count": 28,
   "metadata": {},
   "outputs": [
    {
     "data": {
      "text/plain": [
       "[<matplotlib.lines.Line2D at 0x7f929aa2abe0>]"
      ]
     },
     "execution_count": 28,
     "metadata": {},
     "output_type": "execute_result"
    },
    {
     "data": {
      "image/png": "[encoded data removed]",
      "text/plain": [
       "<Figure size 432x288 with 1 Axes>"
      ]
     },
     "metadata": {},
     "output_type": "display_data"
    }
   ],
   "source": [
    "df_sum = df_history.drop([\"label\"], axis=1).sum(axis=0)\n",
    "df_sum.to_csv(\"outputs/%s_sum_cluster_random.csv\"%dataset, header=True)\n",
    "plt.plot(df_sum.values)"
   ]
  },
  {
   "cell_type": "code",
   "execution_count": 29,
   "metadata": {},
   "outputs": [],
   "source": [
    "df_history.iloc[:, :].to_csv(\"outputs/%s_cluster_random.csv\"%dataset)"
   ]
  },
  {
   "cell_type": "markdown",
   "metadata": {},
   "source": [
    "### Cluster Influencer"
   ]
  },
  {
   "cell_type": "code",
   "execution_count": 30,
   "metadata": {},
   "outputs": [
    {
     "name": "stderr",
     "output_type": "stream",
     "text": [
      "/usr/local/lib/python3.5/dist-packages/ipykernel_launcher.py:4: FutureWarning: \n",
      "Passing list-likes to .loc or [] with any missing label will raise\n",
      "KeyError in the future, you can use .reindex() as an alternative.\n",
      "\n",
      "See the documentation here:\n",
      "https://pandas.pydata.org/pandas-docs/stable/indexing.html#deprecate-loc-reindex-listlike\n",
      "  after removing the cwd from sys.path.\n"
     ]
    },
    {
     "data": {
      "text/plain": [
       "60"
      ]
     },
     "execution_count": 30,
     "metadata": {},
     "output_type": "execute_result"
    }
   ],
   "source": [
    "seeds = []\n",
    "for target in range(n_classes):\n",
    "    idxs = df_label[df_label.label == target].index\n",
    "    df_cluster = df_edges.loc[list(map(int, idxs))]\n",
    "    \n",
    "    df_influencer = df_cluster.groupby(\"node_1\").count()\n",
    "    \n",
    "    seeds += list(df_influencer.sort_values([\"node_2\"], ascending=False)[:int(n_seeds / n_classes)].index.values)\n",
    "len(seeds)"
   ]
  },
  {
   "cell_type": "code",
   "execution_count": 31,
   "metadata": {},
   "outputs": [
    {
     "name": "stdout",
     "output_type": "stream",
     "text": [
      "iteration 0, progress 0/60, infected 93 (1.90%)     \n",
      "iteration 1, progress 0/2262, infected 2262 (46.19%)     \n",
      "iteration 1, progress 1000/2262, infected 3161 (64.55%)     \n",
      "iteration 1, progress 2000/2262, infected 3355 (68.51%)     \n",
      "iteration 2, progress 0/3369, infected 3369 (68.80%)     \n",
      "iteration 2, progress 1000/3369, infected 3550 (72.49%)     \n",
      "iteration 2, progress 2000/3369, infected 3661 (74.76%)     \n",
      "iteration 2, progress 3000/3369, infected 3694 (75.43%)     \n",
      "iteration 3, progress 0/3701, infected 3701 (75.58%)     \n",
      "iteration 3, progress 1000/3701, infected 3754 (76.66%)     \n",
      "iteration 3, progress 2000/3701, infected 3781 (77.21%)     \n",
      "iteration 3, progress 3000/3701, infected 3801 (77.62%)     \n",
      "iteration 4, progress 0/3803, infected 3803 (77.66%)     \n",
      "iteration 4, progress 1000/3803, infected 3812 (77.84%)     \n",
      "iteration 4, progress 2000/3803, infected 3824 (78.09%)     \n",
      "iteration 4, progress 3000/3803, infected 3829 (78.19%)     \n",
      "iteration 5, progress 0/3832, infected 3832 (78.25%)     \n",
      "iteration 5, progress 1000/3832, infected 3845 (78.52%)     \n",
      "iteration 5, progress 2000/3832, infected 3853 (78.68%)     \n",
      "iteration 5, progress 3000/3832, infected 3854 (78.70%)     \n",
      "iteration 6, progress 0/3854, infected 3854 (78.70%)     \n",
      "iteration 6, progress 1000/3854, infected 3859 (78.80%)     \n",
      "iteration 6, progress 2000/3854, infected 3860 (78.82%)     \n",
      "iteration 6, progress 3000/3854, infected 3860 (78.82%)     \n",
      "iteration 7, progress 0/3861, infected 3861 (78.84%)     \n",
      "iteration 7, progress 1000/3861, infected 3862 (78.86%)     \n",
      "iteration 7, progress 2000/3861, infected 3866 (78.95%)     \n",
      "iteration 7, progress 3000/3861, infected 3866 (78.95%)     \n",
      "iteration 8, progress 0/3866, infected 3866 (78.95%)     \n",
      "iteration 8, progress 1000/3866, infected 3866 (78.95%)     \n",
      "iteration 8, progress 2000/3866, infected 3868 (78.99%)     \n",
      "iteration 8, progress 3000/3866, infected 3869 (79.01%)     \n",
      "iteration 9, progress 0/3869, infected 3869 (79.01%)     \n",
      "iteration 9, progress 1000/3869, infected 3869 (79.01%)     \n",
      "iteration 9, progress 2000/3869, infected 3870 (79.03%)     \n",
      "iteration 9, progress 3000/3869, infected 3872 (79.07%)     \n"
     ]
    }
   ],
   "source": [
    "df_history, df_infected = simulate_diffusion(seeds)"
   ]
  },
  {
   "cell_type": "code",
   "execution_count": 32,
   "metadata": {},
   "outputs": [
    {
     "data": {
      "text/plain": [
       "[<matplotlib.lines.Line2D at 0x7f929ace6f98>]"
      ]
     },
     "execution_count": 32,
     "metadata": {},
     "output_type": "execute_result"
    },
    {
     "data": {
      "image/png": "[encoded data removed]",
      "text/plain": [
       "<Figure size 432x288 with 1 Axes>"
      ]
     },
     "metadata": {},
     "output_type": "display_data"
    }
   ],
   "source": [
    "df_sum = df_history.drop([\"label\"], axis=1).sum(axis=0)\n",
    "df_sum.to_csv(\"outputs/%s_sum_cluster_influencer.csv\"%dataset, header=True)\n",
    "plt.plot(df_sum.values)"
   ]
  },
  {
   "cell_type": "code",
   "execution_count": 33,
   "metadata": {},
   "outputs": [],
   "source": [
    "df_history.iloc[:, :].to_csv(\"outputs/%s_cluster_influencer.csv\"%dataset)"
   ]
  },
  {
   "cell_type": "markdown",
   "metadata": {},
   "source": [
    "### Stratified Sampling by Influence"
   ]
  },
  {
   "cell_type": "code",
   "execution_count": 34,
   "metadata": {},
   "outputs": [],
   "source": [
    "# df_influencer = df_edges.groupby(\"node_1\").count().sort_values([\"node_2\"], ascending=False)\n",
    "# df_influencer[\"influence\"] = 100 * df_influencer.node_2 / len(df_label)\n",
    "# len(df_influencer)"
   ]
  },
  {
   "cell_type": "code",
   "execution_count": 35,
   "metadata": {},
   "outputs": [],
   "source": [
    "# n_strata = 32\n",
    "# _ = plt.hist(df_influencer.node_2, bins=n_strata)\n",
    "# strata_size, strata_bound = _[0], _[1]\n",
    "# # plt.close()"
   ]
  },
  {
   "cell_type": "code",
   "execution_count": 36,
   "metadata": {},
   "outputs": [],
   "source": [
    "# strata_sizes = list(map(round, strata_size))\n",
    "# strata_bounds = list(map(round, strata_bound))"
   ]
  },
  {
   "cell_type": "code",
   "execution_count": 37,
   "metadata": {},
   "outputs": [],
   "source": [
    "# seeds = []\n",
    "# for i in range(n_strata):\n",
    "#     l, r = strata_bounds[i], strata_bounds[i + 1]\n",
    "#     strata_size = int(strata_sizes[i])\n",
    "#     df_strata = df_influencer[(df_influencer.node_2 > l) & (df_influencer.node_2 < r)]\n",
    "#     cluster_n_seeds = round(n_seeds * strata_size / len(df_influencer))\n",
    "#     cluster_seeds = list(df_strata[:cluster_n_seeds].index.values)\n",
    "    \n",
    "#     seeds += cluster_seeds\n",
    "# print(len(seeds))"
   ]
  },
  {
   "cell_type": "code",
   "execution_count": 38,
   "metadata": {},
   "outputs": [],
   "source": [
    "# df_history, df_infected = simulate_diffusion(seeds, iteration=5)"
   ]
  },
  {
   "cell_type": "code",
   "execution_count": 39,
   "metadata": {},
   "outputs": [],
   "source": [
    "# df_sum = df_history.drop([\"label\"], axis=1).sum(axis=0)\n",
    "# df_sum.to_csv(\"outputs/%s_sum_cluster_influencer.csv\"%dataset, header=True)\n",
    "# plt.plot(df_sum.values)"
   ]
  },
  {
   "cell_type": "code",
   "execution_count": null,
   "metadata": {},
   "outputs": [],
   "source": []
  }
 ],
 "metadata": {
  "kernelspec": {
   "display_name": "Python 3",
   "language": "python",
   "name": "python3"
  },
  "language_info": {
   "codemirror_mode": {
    "name": "ipython",
    "version": 3
   },
   "file_extension": ".py",
   "mimetype": "text/x-python",
   "name": "python",
   "nbconvert_exporter": "python",
   "pygments_lexer": "ipython3",
   "version": "3.5.3"
  }
 },
 "nbformat": 4,
 "nbformat_minor": 2
}
