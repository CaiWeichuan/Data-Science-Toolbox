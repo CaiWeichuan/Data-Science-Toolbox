{
 "cells": [
  {
   "cell_type": "code",
   "execution_count": 1,
   "metadata": {},
   "outputs": [],
   "source": [
    "import pandas as pd\n",
    "import numpy as np\n",
    "import matplotlib.pyplot as plt\n",
    "import json\n",
    "from sklearn.decomposition import PCA"
   ]
  },
  {
   "cell_type": "code",
   "execution_count": 2,
   "metadata": {},
   "outputs": [],
   "source": [
    "dataset = \"politician\""
   ]
  },
  {
   "cell_type": "code",
   "execution_count": 3,
   "metadata": {},
   "outputs": [
    {
     "data": {
      "text/plain": [
       "(5908, 16)"
      ]
     },
     "execution_count": 3,
     "metadata": {},
     "output_type": "execute_result"
    }
   ],
   "source": [
    "df_means = pd.read_csv(\"master/outputs/cluster_means/%s_means.csv\"%dataset)\n",
    "df_emb = pd.read_csv(\"master/outputs/embeddings/%s_embedding.csv\"%dataset)\n",
    "df_edges = pd.read_csv(\"master/data/%s_edges.csv\"%dataset, index_col=\"node_1\")\n",
    "df_emb.shape"
   ]
  },
  {
   "cell_type": "code",
   "execution_count": 4,
   "metadata": {},
   "outputs": [
    {
     "data": {
      "text/plain": [
       "5908"
      ]
     },
     "execution_count": 4,
     "metadata": {},
     "output_type": "execute_result"
    }
   ],
   "source": [
    "with open('master/outputs/assignments/%s.json'%dataset) as json_file:  \n",
    "    labels = json.load(json_file)\n",
    "len(labels)"
   ]
  },
  {
   "cell_type": "code",
   "execution_count": 5,
   "metadata": {},
   "outputs": [
    {
     "name": "stdout",
     "output_type": "stream",
     "text": [
      "(5908, 1)\n"
     ]
    },
    {
     "data": {
      "text/html": [
       "<div>\n",
       "<style scoped>\n",
       "    .dataframe tbody tr th:only-of-type {\n",
       "        vertical-align: middle;\n",
       "    }\n",
       "\n",
       "    .dataframe tbody tr th {\n",
       "        vertical-align: top;\n",
       "    }\n",
       "\n",
       "    .dataframe thead th {\n",
       "        text-align: right;\n",
       "    }\n",
       "</style>\n",
       "<table border=\"1\" class=\"dataframe\">\n",
       "  <thead>\n",
       "    <tr style=\"text-align: right;\">\n",
       "      <th></th>\n",
       "      <th>label</th>\n",
       "    </tr>\n",
       "    <tr>\n",
       "      <th>index</th>\n",
       "      <th></th>\n",
       "    </tr>\n",
       "  </thead>\n",
       "  <tbody>\n",
       "    <tr>\n",
       "      <th>0</th>\n",
       "      <td>1</td>\n",
       "    </tr>\n",
       "    <tr>\n",
       "      <th>1</th>\n",
       "      <td>5</td>\n",
       "    </tr>\n",
       "    <tr>\n",
       "      <th>2</th>\n",
       "      <td>7</td>\n",
       "    </tr>\n",
       "    <tr>\n",
       "      <th>3</th>\n",
       "      <td>12</td>\n",
       "    </tr>\n",
       "    <tr>\n",
       "      <th>4</th>\n",
       "      <td>10</td>\n",
       "    </tr>\n",
       "  </tbody>\n",
       "</table>\n",
       "</div>"
      ],
      "text/plain": [
       "       label\n",
       "index       \n",
       "0          1\n",
       "1          5\n",
       "2          7\n",
       "3         12\n",
       "4         10"
      ]
     },
     "execution_count": 5,
     "metadata": {},
     "output_type": "execute_result"
    }
   ],
   "source": [
    "df_label = pd.DataFrame({\"index\" : list(labels.keys()), \"label\" : list(labels.values())})\n",
    "df_label[\"index\"] = df_label[\"index\"].astype(int)\n",
    "df_label = df_label.set_index(\"index\")\n",
    "df_label = df_label.sort_index()\n",
    "print(df_label.shape)\n",
    "df_label.head()"
   ]
  },
  {
   "cell_type": "markdown",
   "metadata": {},
   "source": [
    "### Diffusion Modeling"
   ]
  },
  {
   "cell_type": "code",
   "execution_count": 6,
   "metadata": {},
   "outputs": [],
   "source": [
    "from sklearn.metrics.pairwise import cosine_similarity"
   ]
  },
  {
   "cell_type": "code",
   "execution_count": 7,
   "metadata": {},
   "outputs": [
    {
     "data": {
      "text/plain": [
       "-0.30574478510952025"
      ]
     },
     "execution_count": 7,
     "metadata": {},
     "output_type": "execute_result"
    }
   ],
   "source": [
    "def cosine(x, y):\n",
    "    return x.dot(y) / (np.linalg.norm(x) * np.linalg.norm(y))\n",
    "\n",
    "cosine(df_emb.iloc[1], df_emb.iloc[3])"
   ]
  },
  {
   "cell_type": "code",
   "execution_count": 8,
   "metadata": {},
   "outputs": [],
   "source": [
    "def lookup_neighbor(i):\n",
    "    if i in df_edges.index:\n",
    "        if len(df_edges.loc[i]) == 1:\n",
    "            return [df_edges.loc[i].node_2]\n",
    "        return df_edges.loc[i].node_2\n",
    "    return []"
   ]
  },
  {
   "cell_type": "code",
   "execution_count": 9,
   "metadata": {},
   "outputs": [
    {
     "name": "stdout",
     "output_type": "stream",
     "text": [
      "1 4413 0.9974884723008519\n",
      "0.9974884723008519\n",
      "1 4896 0.9984128515538626\n",
      "0.9984128515538627\n",
      "1 5471 0.9945242422861698\n",
      "0.9945242422861698\n",
      "1 3531 0.9946260411006532\n",
      "0.9946260411006532\n",
      "1 1965 0.9831698357962538\n",
      "0.9831698357962537\n",
      "1 2565 0.9861203336882424\n",
      "0.9861203336882423\n",
      "1 3317 0.997821762432456\n",
      "0.9978217624324561\n",
      "1 5565 0.9956677304241629\n",
      "0.995667730424163\n",
      "1 2448 0.9949684810476138\n",
      "0.9949684810476139\n",
      "1 955 0.9823198512929074\n",
      "0.9823198512929076\n",
      "1 3699 0.9965423514695567\n",
      "0.9965423514695568\n",
      "1 519 0.981452697271177\n",
      "0.981452697271177\n",
      "1 3849 0.9947623023575536\n",
      "0.9947623023575536\n",
      "1 5557 0.9827299777093296\n",
      "0.9827299777093297\n",
      "1 1618 0.9945322452970689\n",
      "0.9945322452970689\n",
      "1 3779 0.3871626684839132\n",
      "0.3871626684839131\n",
      "1 3550 0.9951758002351397\n",
      "0.9951758002351399\n",
      "1 3866 0.9831429459777503\n",
      "0.9831429459777503\n",
      "1 5729 0.9844633610423364\n",
      "0.9844633610423364\n"
     ]
    }
   ],
   "source": [
    "seeds = [1]\n",
    "\n",
    "for seed in seeds: \n",
    "    neighbors = lookup_neighbor(seed)\n",
    "    for nei in neighbors:\n",
    "        print(seed, nei, cosine(df_emb.iloc[seed], df_emb.iloc[nei]))\n",
    "        print( cosine_similarity(df_emb.iloc[seed].values.reshape(1, -1), df_emb.iloc[nei].values.reshape(1, -1))[0][0])# "
   ]
  },
  {
   "cell_type": "code",
   "execution_count": 10,
   "metadata": {},
   "outputs": [],
   "source": [
    "def simulate_diffusion(seeds, iteration=10):\n",
    "    df_infected = df_label.copy()\n",
    "    df_infected.index = df_infected.index.astype(int)\n",
    "    df_infected[\"infected\"] = False\n",
    "    df_infected.loc[seeds, 'infected'] = True\n",
    "\n",
    "    df_history = df_label.copy()\n",
    "    df_history.index = df_history.index.astype(int)\n",
    "    prev = len(seeds)\n",
    "    for i in range(iteration):\n",
    "        df_infected_cur = df_infected[df_infected.infected==1].index\n",
    "        for j, source in enumerate(df_infected_cur):\n",
    "            \n",
    "            if j % (len(df_emb) // 1000) == 0:\n",
    "                df_history[\"i%i_f%i\"%(i, j)] = df_infected.infected\n",
    "            \n",
    "            neighbors = lookup_neighbor(source)\n",
    "            neighbors = list(filter(lambda x : cosine(df_emb.iloc[source], df_emb.iloc[x]) > np.random.rand(), neighbors))\n",
    "            df_infected.loc[neighbors, 'infected'] = True\n",
    "            \n",
    "            if j % 1000 == 0:\n",
    "                print(\"iteration %i, progress %i/%i, infected %i (%.2f%%)     \"\n",
    "                      %(i, j, len(df_infected_cur), sum(df_infected.infected), \n",
    "                        100 * sum(df_infected.infected) / len(np.unique(df_edges.node_2))))\n",
    "                \n",
    "    return df_history, df_infected"
   ]
  },
  {
   "cell_type": "markdown",
   "metadata": {},
   "source": [
    "### Random Seeds"
   ]
  },
  {
   "cell_type": "code",
   "execution_count": 11,
   "metadata": {},
   "outputs": [],
   "source": [
    "n_seeds = 60"
   ]
  },
  {
   "cell_type": "code",
   "execution_count": 12,
   "metadata": {},
   "outputs": [
    {
     "name": "stdout",
     "output_type": "stream",
     "text": [
      "iteration 0, progress 0/60, infected 60 (1.23%)     \n",
      "iteration 1, progress 0/299, infected 319 (6.51%)     \n",
      "iteration 2, progress 0/913, infected 914 (18.66%)     \n",
      "iteration 3, progress 0/1396, infected 1396 (28.51%)     \n",
      "iteration 3, progress 1000/1396, infected 1769 (36.12%)     \n",
      "iteration 4, progress 0/1778, infected 1778 (36.31%)     \n",
      "iteration 4, progress 1000/1778, infected 1923 (39.27%)     \n",
      "iteration 5, progress 0/1943, infected 1943 (39.68%)     \n",
      "iteration 5, progress 1000/1943, infected 2044 (41.74%)     \n",
      "iteration 6, progress 0/2060, infected 2060 (42.07%)     \n",
      "iteration 6, progress 1000/2060, infected 2094 (42.76%)     \n",
      "iteration 6, progress 2000/2060, infected 2104 (42.97%)     \n",
      "iteration 7, progress 0/2104, infected 2104 (42.97%)     \n",
      "iteration 7, progress 1000/2104, infected 2126 (43.41%)     \n",
      "iteration 7, progress 2000/2104, infected 2130 (43.50%)     \n",
      "iteration 8, progress 0/2130, infected 2130 (43.50%)     \n",
      "iteration 8, progress 1000/2130, infected 2139 (43.68%)     \n",
      "iteration 8, progress 2000/2130, infected 2142 (43.74%)     \n",
      "iteration 9, progress 0/2142, infected 2142 (43.74%)     \n",
      "iteration 9, progress 1000/2142, infected 2147 (43.84%)     \n",
      "iteration 9, progress 2000/2142, infected 2148 (43.86%)     \n"
     ]
    }
   ],
   "source": [
    "seeds = np.random.choice(df_emb.index, n_seeds)\n",
    "\n",
    "df_history, df_infected = simulate_diffusion(seeds)"
   ]
  },
  {
   "cell_type": "code",
   "execution_count": 14,
   "metadata": {},
   "outputs": [
    {
     "data": {
      "text/plain": [
       "[<matplotlib.lines.Line2D at 0x7f5fd587b518>]"
      ]
     },
     "execution_count": 14,
     "metadata": {},
     "output_type": "execute_result"
    },
    {
     "data": {
      "image/png": "[encoded data removed]",
      "text/plain": [
       "<Figure size 432x288 with 1 Axes>"
      ]
     },
     "metadata": {},
     "output_type": "display_data"
    }
   ],
   "source": [
    "df_sum = df_history.drop([\"label\"], axis=1).sum(axis=0)\n",
    "df_sum.to_csv(\"outputs/%s_sum_random.csv\"%dataset, header=True)\n",
    "plt.plot(df_sum.values)"
   ]
  },
  {
   "cell_type": "code",
   "execution_count": 16,
   "metadata": {},
   "outputs": [],
   "source": [
    "df_history.iloc[:, :].to_csv(\"outputs/%s_random.csv\"%dataset)"
   ]
  },
  {
   "cell_type": "markdown",
   "metadata": {},
   "source": [
    "### Influencers"
   ]
  },
  {
   "cell_type": "code",
   "execution_count": 17,
   "metadata": {},
   "outputs": [
    {
     "name": "stdout",
     "output_type": "stream",
     "text": [
      "iteration 0, progress 0/60, infected 110 (2.25%)     \n",
      "iteration 1, progress 0/1680, infected 1680 (34.31%)     \n",
      "iteration 1, progress 1000/1680, infected 2432 (49.66%)     \n",
      "iteration 2, progress 0/2502, infected 2502 (51.09%)     \n",
      "iteration 2, progress 1000/2502, infected 2767 (56.50%)     \n",
      "iteration 2, progress 2000/2502, infected 2881 (58.83%)     \n",
      "iteration 3, progress 0/2898, infected 2898 (59.18%)     \n",
      "iteration 3, progress 1000/2898, infected 3070 (62.69%)     \n",
      "iteration 3, progress 2000/2898, infected 3157 (64.47%)     \n",
      "iteration 4, progress 0/3186, infected 3186 (65.06%)     \n",
      "iteration 4, progress 1000/3186, infected 3273 (66.84%)     \n",
      "iteration 4, progress 2000/3186, infected 3331 (68.02%)     \n",
      "iteration 4, progress 3000/3186, infected 3351 (68.43%)     \n",
      "iteration 5, progress 0/3353, infected 3353 (68.47%)     \n",
      "iteration 5, progress 1000/3353, infected 3381 (69.04%)     \n",
      "iteration 5, progress 2000/3353, infected 3427 (69.98%)     \n",
      "iteration 5, progress 3000/3353, infected 3433 (70.10%)     \n",
      "iteration 6, progress 0/3433, infected 3433 (70.10%)     \n",
      "iteration 6, progress 1000/3433, infected 3452 (70.49%)     \n",
      "iteration 6, progress 2000/3433, infected 3473 (70.92%)     \n",
      "iteration 6, progress 3000/3433, infected 3483 (71.13%)     \n",
      "iteration 7, progress 0/3483, infected 3483 (71.13%)     \n",
      "iteration 7, progress 1000/3483, infected 3490 (71.27%)     \n",
      "iteration 7, progress 2000/3483, infected 3495 (71.37%)     \n",
      "iteration 7, progress 3000/3483, infected 3498 (71.43%)     \n",
      "iteration 8, progress 0/3498, infected 3498 (71.43%)     \n",
      "iteration 8, progress 1000/3498, infected 3506 (71.59%)     \n",
      "iteration 8, progress 2000/3498, infected 3508 (71.64%)     \n",
      "iteration 8, progress 3000/3498, infected 3508 (71.64%)     \n",
      "iteration 9, progress 0/3508, infected 3508 (71.64%)     \n",
      "iteration 9, progress 1000/3508, infected 3520 (71.88%)     \n",
      "iteration 9, progress 2000/3508, infected 3521 (71.90%)     \n",
      "iteration 9, progress 3000/3508, infected 3521 (71.90%)     \n"
     ]
    }
   ],
   "source": [
    "df_influencer = df_edges.groupby(\"node_1\").count()\n",
    "seeds = df_influencer.sort_values([\"node_2\"], ascending=False)[:n_seeds].index.values\n",
    "\n",
    "df_history, df_infected = simulate_diffusion(seeds)"
   ]
  },
  {
   "cell_type": "code",
   "execution_count": 18,
   "metadata": {},
   "outputs": [
    {
     "data": {
      "text/plain": [
       "[<matplotlib.lines.Line2D at 0x7f5fd62c7668>]"
      ]
     },
     "execution_count": 18,
     "metadata": {},
     "output_type": "execute_result"
    },
    {
     "data": {
      "image/png": "[encoded data removed]",
      "text/plain": [
       "<Figure size 432x288 with 1 Axes>"
      ]
     },
     "metadata": {},
     "output_type": "display_data"
    }
   ],
   "source": [
    "df_sum = df_history.drop([\"label\"], axis=1).sum(axis=0)\n",
    "df_sum.to_csv(\"outputs/%s_sum_influencer.csv\"%dataset, header=True)\n",
    "plt.plot(df_sum.values)"
   ]
  },
  {
   "cell_type": "code",
   "execution_count": 19,
   "metadata": {},
   "outputs": [],
   "source": [
    "df_history.iloc[:, :].to_csv(\"outputs/%s_influencer.csv\"%dataset)"
   ]
  },
  {
   "cell_type": "markdown",
   "metadata": {},
   "source": [
    "### Cluster Random Seeds"
   ]
  },
  {
   "cell_type": "code",
   "execution_count": 20,
   "metadata": {},
   "outputs": [],
   "source": [
    "n_classes = len(np.unique(df_label.label))"
   ]
  },
  {
   "cell_type": "code",
   "execution_count": 21,
   "metadata": {},
   "outputs": [
    {
     "name": "stdout",
     "output_type": "stream",
     "text": [
      "0 cluster size 184\n",
      "1 cluster size 319\n",
      "2 cluster size 359\n",
      "3 cluster size 154\n",
      "4 cluster size 357\n",
      "5 cluster size 238\n",
      "6 cluster size 284\n",
      "7 cluster size 205\n",
      "8 cluster size 377\n",
      "9 cluster size 203\n",
      "10 cluster size 375\n",
      "11 cluster size 330\n",
      "12 cluster size 537\n",
      "13 cluster size 552\n",
      "14 cluster size 217\n",
      "15 cluster size 163\n",
      "16 cluster size 253\n",
      "17 cluster size 249\n",
      "18 cluster size 115\n",
      "19 cluster size 437\n"
     ]
    }
   ],
   "source": [
    "for target in range(n_classes):\n",
    "    print(target, \"cluster size\", sum(df_label.label==target))"
   ]
  },
  {
   "cell_type": "code",
   "execution_count": 22,
   "metadata": {},
   "outputs": [],
   "source": [
    "seeds = []\n",
    "for target in range(n_classes):\n",
    "    df_cluster = df_label[df_label.label==target]\n",
    "    cluster_n_seeds = round(n_seeds * len(df_cluster) / len(df_emb))\n",
    "    seeds += list(np.random.choice(df_cluster.index, cluster_n_seeds, replace=False))"
   ]
  },
  {
   "cell_type": "code",
   "execution_count": 23,
   "metadata": {},
   "outputs": [
    {
     "data": {
      "text/plain": [
       "61"
      ]
     },
     "execution_count": 23,
     "metadata": {},
     "output_type": "execute_result"
    }
   ],
   "source": [
    "seeds = [int(i) for i in seeds]\n",
    "len(seeds)"
   ]
  },
  {
   "cell_type": "code",
   "execution_count": 24,
   "metadata": {
    "scrolled": true
   },
   "outputs": [
    {
     "name": "stdout",
     "output_type": "stream",
     "text": [
      "iteration 0, progress 0/61, infected 61 (1.25%)     \n",
      "iteration 1, progress 0/500, infected 500 (10.21%)     \n",
      "iteration 2, progress 0/1456, infected 1456 (29.73%)     \n",
      "iteration 2, progress 1000/1456, infected 1880 (38.39%)     \n",
      "iteration 3, progress 0/1921, infected 1921 (39.23%)     \n",
      "iteration 3, progress 1000/1921, infected 2105 (42.99%)     \n",
      "iteration 4, progress 0/2151, infected 2151 (43.92%)     \n",
      "iteration 4, progress 1000/2151, infected 2267 (46.29%)     \n",
      "iteration 4, progress 2000/2151, infected 2305 (47.07%)     \n",
      "iteration 5, progress 0/2305, infected 2305 (47.07%)     \n",
      "iteration 5, progress 1000/2305, infected 2372 (48.44%)     \n",
      "iteration 5, progress 2000/2305, infected 2392 (48.85%)     \n",
      "iteration 6, progress 0/2393, infected 2393 (48.87%)     \n",
      "iteration 6, progress 1000/2393, infected 2409 (49.19%)     \n",
      "iteration 6, progress 2000/2393, infected 2416 (49.34%)     \n",
      "iteration 7, progress 0/2418, infected 2418 (49.38%)     \n",
      "iteration 7, progress 1000/2418, infected 2424 (49.50%)     \n",
      "iteration 7, progress 2000/2418, infected 2428 (49.58%)     \n",
      "iteration 8, progress 0/2429, infected 2429 (49.60%)     \n",
      "iteration 8, progress 1000/2429, infected 2432 (49.66%)     \n",
      "iteration 8, progress 2000/2429, infected 2437 (49.77%)     \n",
      "iteration 9, progress 0/2437, infected 2437 (49.77%)     \n",
      "iteration 9, progress 1000/2437, infected 2438 (49.79%)     \n",
      "iteration 9, progress 2000/2437, infected 2438 (49.79%)     \n"
     ]
    }
   ],
   "source": [
    "df_history, df_infected = simulate_diffusion(seeds)"
   ]
  },
  {
   "cell_type": "code",
   "execution_count": 25,
   "metadata": {},
   "outputs": [
    {
     "data": {
      "text/plain": [
       "[<matplotlib.lines.Line2D at 0x7f5fd63a2a58>]"
      ]
     },
     "execution_count": 25,
     "metadata": {},
     "output_type": "execute_result"
    },
    {
     "data": {
      "image/png": "[encoded data removed]",
      "text/plain": [
       "<Figure size 432x288 with 1 Axes>"
      ]
     },
     "metadata": {},
     "output_type": "display_data"
    }
   ],
   "source": [
    "df_sum = df_history.drop([\"label\"], axis=1).sum(axis=0)\n",
    "df_sum.to_csv(\"outputs/%s_sum_cluster_random.csv\"%dataset, header=True)\n",
    "plt.plot(df_sum.values)"
   ]
  },
  {
   "cell_type": "code",
   "execution_count": 26,
   "metadata": {},
   "outputs": [],
   "source": [
    "df_history.iloc[:, :].to_csv(\"outputs/%s_cluster_random.csv\"%dataset)"
   ]
  },
  {
   "cell_type": "markdown",
   "metadata": {},
   "source": [
    "### Cluster Influencer"
   ]
  },
  {
   "cell_type": "code",
   "execution_count": 27,
   "metadata": {},
   "outputs": [
    {
     "name": "stderr",
     "output_type": "stream",
     "text": [
      "/usr/local/lib/python3.5/dist-packages/ipykernel_launcher.py:4: FutureWarning: \n",
      "Passing list-likes to .loc or [] with any missing label will raise\n",
      "KeyError in the future, you can use .reindex() as an alternative.\n",
      "\n",
      "See the documentation here:\n",
      "https://pandas.pydata.org/pandas-docs/stable/indexing.html#deprecate-loc-reindex-listlike\n",
      "  after removing the cwd from sys.path.\n"
     ]
    }
   ],
   "source": [
    "seeds = []\n",
    "for target in range(n_classes):\n",
    "    idxs = df_label[df_label.label == target].index\n",
    "    df_cluster = df_edges.loc[list(map(int, idxs))]\n",
    "    cluster_n_seeds = round(n_seeds * len(np.unique(df_cluster.index)) / len(df_emb))\n",
    "    \n",
    "    df_influencer = df_cluster.groupby(\"node_1\").count()\n",
    "    \n",
    "    cluster_seeds = list(df_influencer.sort_values([\"node_2\"], ascending=False)[:cluster_n_seeds].index.values)\n",
    "    seeds += cluster_seeds"
   ]
  },
  {
   "cell_type": "code",
   "execution_count": 28,
   "metadata": {},
   "outputs": [
    {
     "name": "stdout",
     "output_type": "stream",
     "text": [
      "iteration 0, progress 0/61, infected 95 (1.94%)     \n",
      "iteration 1, progress 0/2355, infected 2355 (48.09%)     \n",
      "iteration 1, progress 1000/2355, infected 3264 (66.65%)     \n",
      "iteration 1, progress 2000/2355, infected 3450 (70.45%)     \n",
      "iteration 2, progress 0/3466, infected 3466 (70.78%)     \n",
      "iteration 2, progress 1000/3466, infected 3626 (74.05%)     \n",
      "iteration 2, progress 2000/3466, infected 3732 (76.21%)     \n",
      "iteration 2, progress 3000/3466, infected 3770 (76.99%)     \n",
      "iteration 3, progress 0/3776, infected 3776 (77.11%)     \n",
      "iteration 3, progress 1000/3776, infected 3823 (78.07%)     \n",
      "iteration 3, progress 2000/3776, infected 3846 (78.54%)     \n",
      "iteration 3, progress 3000/3776, infected 3857 (78.76%)     \n",
      "iteration 4, progress 0/3861, infected 3861 (78.84%)     \n",
      "iteration 4, progress 1000/3861, infected 3874 (79.11%)     \n",
      "iteration 4, progress 2000/3861, infected 3888 (79.40%)     \n",
      "iteration 4, progress 3000/3861, infected 3895 (79.54%)     \n",
      "iteration 5, progress 0/3895, infected 3895 (79.54%)     \n",
      "iteration 5, progress 1000/3895, infected 3901 (79.66%)     \n",
      "iteration 5, progress 2000/3895, infected 3905 (79.74%)     \n",
      "iteration 5, progress 3000/3895, infected 3906 (79.76%)     \n",
      "iteration 6, progress 0/3908, infected 3908 (79.80%)     \n",
      "iteration 6, progress 1000/3908, infected 3909 (79.82%)     \n",
      "iteration 6, progress 2000/3908, infected 3911 (79.87%)     \n",
      "iteration 6, progress 3000/3908, infected 3911 (79.87%)     \n",
      "iteration 7, progress 0/3911, infected 3911 (79.87%)     \n",
      "iteration 7, progress 1000/3911, infected 3913 (79.91%)     \n",
      "iteration 7, progress 2000/3911, infected 3913 (79.91%)     \n",
      "iteration 7, progress 3000/3911, infected 3914 (79.93%)     \n",
      "iteration 8, progress 0/3914, infected 3914 (79.93%)     \n",
      "iteration 8, progress 1000/3914, infected 3922 (80.09%)     \n",
      "iteration 8, progress 2000/3914, infected 3922 (80.09%)     \n",
      "iteration 8, progress 3000/3914, infected 3922 (80.09%)     \n",
      "iteration 9, progress 0/3923, infected 3923 (80.11%)     \n",
      "iteration 9, progress 1000/3923, infected 3926 (80.17%)     \n",
      "iteration 9, progress 2000/3923, infected 3926 (80.17%)     \n",
      "iteration 9, progress 3000/3923, infected 3926 (80.17%)     \n"
     ]
    }
   ],
   "source": [
    "df_history, df_infected = simulate_diffusion(seeds)"
   ]
  },
  {
   "cell_type": "code",
   "execution_count": 29,
   "metadata": {},
   "outputs": [
    {
     "data": {
      "text/plain": [
       "[<matplotlib.lines.Line2D at 0x7f5fd5340e10>]"
      ]
     },
     "execution_count": 29,
     "metadata": {},
     "output_type": "execute_result"
    },
    {
     "data": {
      "image/png": "[encoded data removed]",
      "text/plain": [
       "<Figure size 432x288 with 1 Axes>"
      ]
     },
     "metadata": {},
     "output_type": "display_data"
    }
   ],
   "source": [
    "df_sum = df_history.drop([\"label\"], axis=1).sum(axis=0)\n",
    "df_sum.to_csv(\"outputs/%s_sum_cluster_influencer.csv\"%dataset, header=True)\n",
    "plt.plot(df_sum.values)"
   ]
  },
  {
   "cell_type": "code",
   "execution_count": 30,
   "metadata": {},
   "outputs": [],
   "source": [
    "df_history.iloc[:, :].to_csv(\"outputs/%s_cluster_influencer.csv\"%dataset)"
   ]
  },
  {
   "cell_type": "markdown",
   "metadata": {},
   "source": [
    "### Stratified Sampling by Influence"
   ]
  },
  {
   "cell_type": "code",
   "execution_count": null,
   "metadata": {},
   "outputs": [],
   "source": [
    "# df_influencer = df_edges.groupby(\"node_1\").count().sort_values([\"node_2\"], ascending=False)\n",
    "# df_influencer[\"influence\"] = 100 * df_influencer.node_2 / len(df_label)\n",
    "# len(df_influencer)"
   ]
  },
  {
   "cell_type": "code",
   "execution_count": null,
   "metadata": {},
   "outputs": [],
   "source": [
    "# n_strata = 32\n",
    "# _ = plt.hist(df_influencer.node_2, bins=n_strata)\n",
    "# strata_size, strata_bound = _[0], _[1]\n",
    "# # plt.close()"
   ]
  },
  {
   "cell_type": "code",
   "execution_count": null,
   "metadata": {},
   "outputs": [],
   "source": [
    "# strata_sizes = list(map(round, strata_size))\n",
    "# strata_bounds = list(map(round, strata_bound))"
   ]
  },
  {
   "cell_type": "code",
   "execution_count": null,
   "metadata": {},
   "outputs": [],
   "source": [
    "# seeds = []\n",
    "# for i in range(n_strata):\n",
    "#     l, r = strata_bounds[i], strata_bounds[i + 1]\n",
    "#     strata_size = int(strata_sizes[i])\n",
    "#     df_strata = df_influencer[(df_influencer.node_2 > l) & (df_influencer.node_2 < r)]\n",
    "#     cluster_n_seeds = round(n_seeds * strata_size / len(df_influencer))\n",
    "#     cluster_seeds = list(df_strata[:cluster_n_seeds].index.values)\n",
    "    \n",
    "#     seeds += cluster_seeds\n",
    "# print(len(seeds))"
   ]
  },
  {
   "cell_type": "code",
   "execution_count": null,
   "metadata": {},
   "outputs": [],
   "source": [
    "# df_history, df_infected = simulate_diffusion(seeds, iteration=5)"
   ]
  },
  {
   "cell_type": "code",
   "execution_count": null,
   "metadata": {},
   "outputs": [],
   "source": [
    "# df_sum = df_history.drop([\"label\"], axis=1).sum(axis=0)\n",
    "# df_sum.to_csv(\"outputs/%s_sum_cluster_influencer.csv\"%dataset, header=True)\n",
    "# plt.plot(df_sum.values)"
   ]
  }
 ],
 "metadata": {
  "kernelspec": {
   "display_name": "Python 3",
   "language": "python",
   "name": "python3"
  },
  "language_info": {
   "codemirror_mode": {
    "name": "ipython",
    "version": 3
   },
   "file_extension": ".py",
   "mimetype": "text/x-python",
   "name": "python",
   "nbconvert_exporter": "python",
   "pygments_lexer": "ipython3",
   "version": "3.5.3"
  }
 },
 "nbformat": 4,
 "nbformat_minor": 2
}
