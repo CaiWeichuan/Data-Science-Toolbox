{
 "cells": [
  {
   "cell_type": "code",
   "execution_count": 1,
   "metadata": {},
   "outputs": [],
   "source": [
    "import numpy as np\n",
    "import pandas as pd\n",
    "import matplotlib.pyplot as plt\n",
    "from twilio_sms import send_message\n",
    "import warnings\n",
    "warnings.filterwarnings('ignore')"
   ]
  },
  {
   "cell_type": "code",
   "execution_count": 2,
   "metadata": {},
   "outputs": [],
   "source": [
    "# load files\n",
    "X_train = pd.read_csv(\"datasets/X_train_f5.csv\", index_col=\"index\")\n",
    "X_test = pd.read_csv(\"datasets/X_test_f5.csv\", index_col=\"index\")\n",
    "\n",
    "y_train = pd.read_csv(\"datasets/y_train_f5.csv\", index_col=\"index\")\n",
    "y_test = pd.read_csv(\"datasets/y_test_f5.csv\", index_col=\"index\")"
   ]
  },
  {
   "cell_type": "code",
   "execution_count": 3,
   "metadata": {},
   "outputs": [],
   "source": [
    "def print_results(gsearch):\n",
    "    print(\"wall-time: %.2f min\"%(sum(gsearch.cv_results_[\"mean_fit_time\"]) / 60))\n",
    "    for params, score in zip(gsearch.cv_results_[\"params\"], gsearch.cv_results_[\"mean_test_score\"]):\n",
    "        print(params, - score)\n",
    "    print(\"best:\", gsearch.best_params_, - gsearch.best_score_)"
   ]
  },
  {
   "cell_type": "markdown",
   "metadata": {},
   "source": [
    "### Replicate Results from Local Machine"
   ]
  },
  {
   "cell_type": "code",
   "execution_count": 4,
   "metadata": {},
   "outputs": [
    {
     "data": {
      "text/plain": [
       "XGBRegressor(base_score=0.5, booster='gbtree', colsample_bylevel=1,\n",
       "       colsample_bytree=1, gamma=0, importance_type='gain',\n",
       "       learning_rate=0.1, max_delta_step=0, max_depth=5,\n",
       "       min_child_weight=1, missing=None, n_estimators=200, n_jobs=1,\n",
       "       nthread=None, objective='reg:linear', random_state=42, reg_alpha=0,\n",
       "       reg_lambda=1, scale_pos_weight=1, seed=None, silent=True,\n",
       "       subsample=1)"
      ]
     },
     "execution_count": 4,
     "metadata": {},
     "output_type": "execute_result"
    }
   ],
   "source": [
    "import xgboost as xgb\n",
    "xgr = xgb.XGBRegressor(n_estimators=200, max_depth=5, base_score=0.5,\n",
    "                        objective='reg:linear', random_state=42)\n",
    "xgr.fit(X_train, y_train)"
   ]
  },
  {
   "cell_type": "code",
   "execution_count": 5,
   "metadata": {},
   "outputs": [
    {
     "name": "stdout",
     "output_type": "stream",
     "text": [
      "avg mean_absolute_error: 13491.91\n",
      "r2_score: 0.654\n"
     ]
    }
   ],
   "source": [
    "from sklearn.metrics import mean_absolute_error, r2_score\n",
    "y_test_pred = xgr.predict(X_test)\n",
    "mae = mean_absolute_error(y_test, y_test_pred)\n",
    "\n",
    "print(\"avg mean_absolute_error: %.2f\"%mae)\n",
    "print(\"r2_score: %.3f\"%r2_score(y_test, y_test_pred))"
   ]
  },
  {
   "cell_type": "markdown",
   "metadata": {},
   "source": [
    "### Hyperparameter Tuning\n",
    "Use __cross validation__ error to tune parameters. Apply __test set__ in the end."
   ]
  },
  {
   "cell_type": "code",
   "execution_count": 5,
   "metadata": {},
   "outputs": [],
   "source": [
    "from sklearn.model_selection import GridSearchCV"
   ]
  },
  {
   "cell_type": "code",
   "execution_count": 6,
   "metadata": {},
   "outputs": [
    {
     "data": {
      "text/plain": [
       "{'max_depth': [3, 5, 7], 'min_child_weight': [1, 4, 7]}"
      ]
     },
     "execution_count": 6,
     "metadata": {},
     "output_type": "execute_result"
    }
   ],
   "source": [
    "param_test1 = {\n",
    " 'max_depth': list(range(3, 9, 2)),\n",
    " 'min_child_weight': list(range(1, 10, 3))\n",
    "}\n",
    "\n",
    "param_test1"
   ]
  },
  {
   "cell_type": "code",
   "execution_count": 8,
   "metadata": {},
   "outputs": [
    {
     "name": "stdout",
     "output_type": "stream",
     "text": [
      "wall-time: 22.97 min\n",
      "{'max_depth': 3, 'min_child_weight': 1} 15387.434002313963\n",
      "{'max_depth': 3, 'min_child_weight': 4} 15240.775977722962\n",
      "{'max_depth': 3, 'min_child_weight': 7} 15236.380889588134\n",
      "{'max_depth': 5, 'min_child_weight': 1} 14627.949400639647\n",
      "{'max_depth': 5, 'min_child_weight': 4} 14634.520900086183\n",
      "{'max_depth': 5, 'min_child_weight': 7} 14668.530760296755\n",
      "{'max_depth': 7, 'min_child_weight': 1} 14366.845154738407\n",
      "{'max_depth': 7, 'min_child_weight': 4} 14429.456026231064\n",
      "{'max_depth': 7, 'min_child_weight': 7} 14462.610975154419\n",
      "best: {'max_depth': 7, 'min_child_weight': 1} 14366.845154738407\n"
     ]
    }
   ],
   "source": [
    "gsearch1 = GridSearchCV(\n",
    "    estimator=xgb.XGBRegressor(learning_rate=0.1, n_estimators=140, max_depth=5, \n",
    "                               min_child_weight=1, gamma=0, subsample=0.8, colsample_bytree=0.8,\n",
    "                               objective='reg:linear', nthread=4, scale_pos_weight=1, seed=0), \n",
    "    param_grid=param_test1, \n",
    "    scoring='neg_mean_absolute_error',\n",
    "    n_jobs=4, iid=False, cv=5)\n",
    "\n",
    "gsearch1.fit(X_train, y_train)\n",
    "\n",
    "print(\"wall-time: %.2f min\"%(sum(gsearch1.cv_results_[\"mean_fit_time\"]) / 60))\n",
    "for params, score in zip(gsearch1.cv_results_[\"params\"], gsearch1.cv_results_[\"mean_test_score\"]):\n",
    "    print(params, - score)\n",
    "print(\"best:\", gsearch1.best_params_, - gsearch1.best_score_)"
   ]
  },
  {
   "cell_type": "markdown",
   "metadata": {},
   "source": [
    "__Observation__: min_child_weight is best set to 1; search max_depth for smaller granularity."
   ]
  },
  {
   "cell_type": "code",
   "execution_count": 17,
   "metadata": {},
   "outputs": [
    {
     "data": {
      "text/plain": [
       "{'max_depth': [6, 7, 8]}"
      ]
     },
     "execution_count": 17,
     "metadata": {},
     "output_type": "execute_result"
    }
   ],
   "source": [
    "param_test2 = {\n",
    " 'max_depth': list(range(6, 9, 1)),\n",
    "}\n",
    "\n",
    "param_test2"
   ]
  },
  {
   "cell_type": "code",
   "execution_count": 18,
   "metadata": {},
   "outputs": [
    {
     "name": "stdout",
     "output_type": "stream",
     "text": [
      "wall-time: 11.62 min\n",
      "{'max_depth': 6} 14490.723691292387\n",
      "{'max_depth': 7} 14366.845154738407\n",
      "{'max_depth': 8} 14298.482048833923\n",
      "best: {'max_depth': 8} 14298.482048833923\n"
     ]
    }
   ],
   "source": [
    "gsearch2 = GridSearchCV(\n",
    "    estimator=xgb.XGBRegressor(learning_rate=0.1, n_estimators=140, max_depth=5,\n",
    "                               min_child_weight=1, gamma=0, subsample=0.8, colsample_bytree=0.8,\n",
    "                               objective='reg:linear', nthread=4, scale_pos_weight=1, seed=0),\n",
    "    param_grid=param_test2,\n",
    "    scoring='neg_mean_absolute_error',\n",
    "    n_jobs=4, iid=False, cv=5)\n",
    "\n",
    "gsearch2.fit(X_train, y_train)\n",
    "\n",
    "print(\"wall-time: %.2f min\"%(sum(gsearch2.cv_results_[\"mean_fit_time\"]) / 60))\n",
    "for params, score in zip(gsearch2.cv_results_[\"params\"], gsearch2.cv_results_[\"mean_test_score\"]):\n",
    "    print(params, - score)\n",
    "print(\"best:\", gsearch2.best_params_, - gsearch2.best_score_)"
   ]
  },
  {
   "cell_type": "markdown",
   "metadata": {},
   "source": [
    "__Observation__: Depth 8 is still not overfitting, try deeper tree"
   ]
  },
  {
   "cell_type": "code",
   "execution_count": 39,
   "metadata": {},
   "outputs": [
    {
     "data": {
      "text/plain": [
       "{'max_depth': [8, 10, 12, 14, 16]}"
      ]
     },
     "execution_count": 39,
     "metadata": {},
     "output_type": "execute_result"
    }
   ],
   "source": [
    "param_test3 = {\n",
    " 'max_depth': list(range(8, 18, 2)),\n",
    "}\n",
    "param_test3"
   ]
  },
  {
   "cell_type": "code",
   "execution_count": 43,
   "metadata": {},
   "outputs": [
    {
     "name": "stdout",
     "output_type": "stream",
     "text": [
      "wall-time: 44.43 min\n",
      "{'max_depth': 8} 14298.482048833923\n",
      "{'max_depth': 10} 14265.829552426148\n",
      "{'max_depth': 12} 14308.254388208743\n",
      "{'max_depth': 14} 14475.683507333937\n",
      "{'max_depth': 16} 14621.671539762605\n",
      "best: {'max_depth': 10} 14265.829552426148\n",
      "message body Finished gsearch, \n",
      "    wall-time: 44.43 min, \n",
      "    best params {'max_depth': 10}, \n",
      "    mae 14265.82955\n",
      "message sent SMdc7080be6a794b6a91059a5196e90de5\n"
     ]
    }
   ],
   "source": [
    "gsearch3 = GridSearchCV(\n",
    "    estimator=xgb.XGBRegressor(learning_rate=0.1, n_estimators=140, max_depth=7,\n",
    "                               min_child_weight=1, gamma=0, subsample=0.8, colsample_bytree=0.8,\n",
    "                               objective='reg:linear', nthread=4, scale_pos_weight=1, seed=0),\n",
    "    param_grid=param_test3,\n",
    "    scoring='neg_mean_absolute_error',\n",
    "    n_jobs=4, iid=False, cv=5)\n",
    "\n",
    "gsearch3.fit(X_train, y_train)\n",
    "\n",
    "print(\"wall-time: %.2f min\"%(sum(gsearch3.cv_results_[\"mean_fit_time\"]) / 60))\n",
    "for params, score in zip(gsearch3.cv_results_[\"params\"], gsearch3.cv_results_[\"mean_test_score\"]):\n",
    "    print(params, - score)\n",
    "# print(\"best:\", gsearch3.best_params_, - gsearch3.best_score_)\n",
    "send_message(gsearch3)"
   ]
  },
  {
   "cell_type": "markdown",
   "metadata": {},
   "source": [
    "__Observation__: Max depth 10 is optimal."
   ]
  },
  {
   "cell_type": "code",
   "execution_count": 44,
   "metadata": {},
   "outputs": [
    {
     "data": {
      "text/plain": [
       "{'gamma': [0.0, 0.1, 0.2, 0.3, 0.4, 0.5, 0.6, 0.7, 0.8, 0.9]}"
      ]
     },
     "execution_count": 44,
     "metadata": {},
     "output_type": "execute_result"
    }
   ],
   "source": [
    "param_test4 = {\n",
    " 'gamma': [i / 10.0 for i in range(0, 10)]\n",
    "}\n",
    "param_test4"
   ]
  },
  {
   "cell_type": "code",
   "execution_count": 45,
   "metadata": {},
   "outputs": [
    {
     "name": "stdout",
     "output_type": "stream",
     "text": [
      "wall-time: 40.72 min\n",
      "{'gamma': 0.0} 14366.845154738407\n",
      "{'gamma': 0.1} 14366.845154738407\n",
      "{'gamma': 0.2} 14366.845154738407\n",
      "{'gamma': 0.3} 14366.845154738407\n",
      "{'gamma': 0.4} 14366.845154738407\n",
      "{'gamma': 0.5} 14366.845154738407\n",
      "{'gamma': 0.6} 14366.845154738407\n",
      "{'gamma': 0.7} 14366.845154738407\n",
      "{'gamma': 0.8} 14366.845154738407\n",
      "{'gamma': 0.9} 14366.845154738407\n",
      "message body Finished gsearch, \n",
      "    wall-time: 40.72 min, \n",
      "    best params {'gamma': 0.0}, \n",
      "    mae 14366.84515\n",
      "message sent SM1a1d0aed0cf14b4fb52b5fe876a37438\n"
     ]
    }
   ],
   "source": [
    "gsearch4 = GridSearchCV(\n",
    "    estimator=xgb.XGBRegressor(learning_rate=0.1, n_estimators=140, max_depth=10,\n",
    "                               min_child_weight=1, gamma=0, subsample=0.8, colsample_bytree=0.8,\n",
    "                               objective='reg:linear', nthread=4, scale_pos_weight=1, seed=0),\n",
    "    param_grid=param_test4,\n",
    "    scoring='neg_mean_absolute_error',\n",
    "    n_jobs=4, iid=False, cv=5)\n",
    "\n",
    "gsearch4.fit(X_train, y_train)\n",
    "\n",
    "print(\"wall-time: %.2f min\"%(sum(gsearch4.cv_results_[\"mean_fit_time\"]) / 60))\n",
    "for params, score in zip(gsearch4.cv_results_[\"params\"], gsearch4.cv_results_[\"mean_test_score\"]):\n",
    "    print(params, - score)\n",
    "send_message(gsearch4)"
   ]
  },
  {
   "cell_type": "markdown",
   "metadata": {},
   "source": [
    "__Observation__: gamma 0 is optimal."
   ]
  },
  {
   "cell_type": "code",
   "execution_count": 46,
   "metadata": {},
   "outputs": [
    {
     "data": {
      "text/plain": [
       "{'colsample_bytree': [0.6, 0.7, 0.8, 0.9], 'subsample': [0.6, 0.7, 0.8, 0.9]}"
      ]
     },
     "execution_count": 46,
     "metadata": {},
     "output_type": "execute_result"
    }
   ],
   "source": [
    "param_test5 = {\n",
    " 'subsample': [i / 10 for i in range(6,10)],\n",
    " 'colsample_bytree': [i / 10 for i in range(6,10)]\n",
    "}\n",
    "param_test5"
   ]
  },
  {
   "cell_type": "code",
   "execution_count": null,
   "metadata": {},
   "outputs": [],
   "source": [
    "gsearch5 = GridSearchCV(\n",
    "    estimator=xgb.XGBRegressor(learning_rate=0.1, n_estimators=140, max_depth=10,\n",
    "                               min_child_weight=1, gamma=0, subsample=0.8, colsample_bytree=0.8,\n",
    "                               objective='reg:linear', nthread=4, scale_pos_weight=1, seed=0),\n",
    "    param_grid=param_test5,\n",
    "    scoring='neg_mean_absolute_error',\n",
    "    n_jobs=4, iid=False, cv=5)\n",
    "\n",
    "gsearch5.fit(X_train, y_train)"
   ]
  },
  {
   "cell_type": "code",
   "execution_count": 48,
   "metadata": {},
   "outputs": [
    {
     "name": "stdout",
     "output_type": "stream",
     "text": [
      "wall-time: 109.95 min\n",
      "{'colsample_bytree': 0.6, 'subsample': 0.6} 14297.416682924988\n",
      "{'colsample_bytree': 0.6, 'subsample': 0.7} 14197.824454082885\n",
      "{'colsample_bytree': 0.6, 'subsample': 0.8} 14151.900348332823\n",
      "{'colsample_bytree': 0.6, 'subsample': 0.9} 14180.547296141298\n",
      "{'colsample_bytree': 0.7, 'subsample': 0.6} 14294.527731534059\n",
      "{'colsample_bytree': 0.7, 'subsample': 0.7} 14261.763590499633\n",
      "{'colsample_bytree': 0.7, 'subsample': 0.8} 14190.671222262452\n",
      "{'colsample_bytree': 0.7, 'subsample': 0.9} 14141.545293378726\n",
      "{'colsample_bytree': 0.8, 'subsample': 0.6} 14350.902895609619\n",
      "{'colsample_bytree': 0.8, 'subsample': 0.7} 14278.39242803467\n",
      "{'colsample_bytree': 0.8, 'subsample': 0.8} 14265.829552426148\n",
      "{'colsample_bytree': 0.8, 'subsample': 0.9} 14146.855755669525\n",
      "{'colsample_bytree': 0.9, 'subsample': 0.6} 14304.437102858996\n",
      "{'colsample_bytree': 0.9, 'subsample': 0.7} 14211.96640664618\n",
      "{'colsample_bytree': 0.9, 'subsample': 0.8} 14224.785304292416\n",
      "{'colsample_bytree': 0.9, 'subsample': 0.9} 14200.255567046202\n"
     ]
    }
   ],
   "source": [
    "print(\"wall-time: %.2f min\"%(sum(gsearch5.cv_results_[\"mean_fit_time\"]) / 60))\n",
    "for params, score in zip(gsearch5.cv_results_[\"params\"], gsearch5.cv_results_[\"mean_test_score\"]):\n",
    "    print(params, - score)\n",
    "send_message(gsearch5)"
   ]
  },
  {
   "cell_type": "markdown",
   "metadata": {},
   "source": [
    "__Observation__: need to try finer resoluton for colsample_bytree, subsample"
   ]
  },
  {
   "cell_type": "code",
   "execution_count": 52,
   "metadata": {},
   "outputs": [
    {
     "data": {
      "text/plain": [
       "{'colsample_bytree': [0.65, 0.7, 0.75], 'subsample': [0.85, 0.9, 0.95]}"
      ]
     },
     "execution_count": 52,
     "metadata": {},
     "output_type": "execute_result"
    }
   ],
   "source": [
    "param_test6 = {\n",
    " 'subsample': [i / 100 for i in range(85, 96, 5)],\n",
    " 'colsample_bytree': [i / 100 for i in range(65, 76, 5)]\n",
    "}\n",
    "param_test6"
   ]
  },
  {
   "cell_type": "code",
   "execution_count": null,
   "metadata": {},
   "outputs": [],
   "source": [
    "gsearch6 = GridSearchCV(\n",
    "    estimator=xgb.XGBRegressor(learning_rate=0.1, n_estimators=140, max_depth=10,\n",
    "                               min_child_weight=1, gamma=0, subsample=0.8, colsample_bytree=0.8,\n",
    "                               objective='reg:linear', nthread=4, scale_pos_weight=1, seed=0),\n",
    "    param_grid=param_test6,\n",
    "    scoring='neg_mean_absolute_error',\n",
    "    n_jobs=4, iid=False, cv=5)\n",
    "\n",
    "gsearch6.fit(X_train, y_train)\n",
    "send_message(gsearch6)"
   ]
  },
  {
   "cell_type": "code",
   "execution_count": 55,
   "metadata": {},
   "outputs": [
    {
     "name": "stdout",
     "output_type": "stream",
     "text": [
      "wall-time: 59.83 min\n",
      "{'colsample_bytree': 0.65, 'subsample': 0.85} 14194.016213601746\n",
      "{'colsample_bytree': 0.65, 'subsample': 0.9} 14233.138986253174\n",
      "{'colsample_bytree': 0.65, 'subsample': 0.95} 14169.474725975491\n",
      "{'colsample_bytree': 0.7, 'subsample': 0.85} 14150.934154231567\n",
      "{'colsample_bytree': 0.7, 'subsample': 0.9} 14141.545293378726\n",
      "{'colsample_bytree': 0.7, 'subsample': 0.95} 14154.664346210542\n",
      "{'colsample_bytree': 0.75, 'subsample': 0.85} 14169.782717311677\n",
      "{'colsample_bytree': 0.75, 'subsample': 0.9} 14221.981842573607\n",
      "{'colsample_bytree': 0.75, 'subsample': 0.95} 14140.736857633437\n",
      "best: {'colsample_bytree': 0.75, 'subsample': 0.95} 14140.736857633437\n"
     ]
    }
   ],
   "source": [
    "print(\"wall-time: %.2f min\"%(sum(gsearch6.cv_results_[\"mean_fit_time\"]) / 60))\n",
    "for params, score in zip(gsearch6.cv_results_[\"params\"], gsearch6.cv_results_[\"mean_test_score\"]):\n",
    "    print(params, - score)\n",
    "print(\"best:\", gsearch6.best_params_, - gsearch6.best_score_)"
   ]
  },
  {
   "cell_type": "markdown",
   "metadata": {},
   "source": [
    "__Observation__: subsample at 0.85 and 0.95 give similar performance given fixed colsample_bytree. To avoid overfitting, choose 0.85 for subsample, 0.7 for colsample_bytree. The difference is only around ~10."
   ]
  },
  {
   "cell_type": "code",
   "execution_count": null,
   "metadata": {},
   "outputs": [],
   "source": [
    "param_test7 = {\n",
    " 'reg_alpha': [1e-4, 1e-3, 1e-2, 0.1, 1, 10, 100]\n",
    "}\n",
    "\n",
    "gsearch7 = GridSearchCV(\n",
    "    estimator=xgb.XGBRegressor(learning_rate=0.1, n_estimators=140, max_depth=10,\n",
    "                               min_child_weight=1, gamma=0, subsample=0.85, colsample_bytree=0.7,\n",
    "                               objective='reg:linear', nthread=4, scale_pos_weight=1, seed=0),\n",
    "    param_grid=param_test7,\n",
    "    scoring='neg_mean_absolute_error',\n",
    "    n_jobs=4, iid=False, cv=5)\n",
    "\n",
    "gsearch7.fit(X_train, y_train)\n",
    "send_message(gsearch7)"
   ]
  },
  {
   "cell_type": "code",
   "execution_count": 58,
   "metadata": {},
   "outputs": [
    {
     "name": "stdout",
     "output_type": "stream",
     "text": [
      "wall-time: 43.90 min\n",
      "{'reg_alpha': 0.0001} 14150.93416957733\n",
      "{'reg_alpha': 0.001} 14150.934202255554\n",
      "{'reg_alpha': 0.01} 14150.934238186954\n",
      "{'reg_alpha': 0.1} 14147.684856400989\n",
      "{'reg_alpha': 1} 14147.63814258606\n",
      "{'reg_alpha': 10} 14196.656291939085\n",
      "{'reg_alpha': 100} 14162.209224667724\n",
      "best: {'reg_alpha': 1} 14147.63814258606\n"
     ]
    }
   ],
   "source": [
    "def print_results(gsearch):\n",
    "    print(\"wall-time: %.2f min\"%(sum(gsearch.cv_results_[\"mean_fit_time\"]) / 60))\n",
    "    for params, score in zip(gsearch.cv_results_[\"params\"], gsearch.cv_results_[\"mean_test_score\"]):\n",
    "        print(params, - score)\n",
    "    print(\"best:\", gsearch.best_params_, - gsearch.best_score_)\n",
    "print_results(gsearch7)"
   ]
  },
  {
   "cell_type": "markdown",
   "metadata": {},
   "source": [
    "#### Final Model"
   ]
  },
  {
   "cell_type": "code",
   "execution_count": 65,
   "metadata": {},
   "outputs": [
    {
     "data": {
      "text/plain": [
       "XGBRegressor(base_score=0.5, booster='gbtree', colsample_bylevel=1,\n",
       "       colsample_bytree=0.7, gamma=0, importance_type='gain',\n",
       "       learning_rate=0.1, max_delta_step=0, max_depth=10,\n",
       "       min_child_weight=1, missing=None, n_estimators=140, n_jobs=1,\n",
       "       nthread=4, objective='reg:linear', random_state=0, reg_alpha=1,\n",
       "       reg_lambda=1, scale_pos_weight=1, seed=0, silent=True,\n",
       "       subsample=0.85)"
      ]
     },
     "execution_count": 65,
     "metadata": {},
     "output_type": "execute_result"
    }
   ],
   "source": [
    "xgr = xgb.XGBRegressor(learning_rate=0.1, n_estimators=140, max_depth=10, reg_alpha=1,\n",
    "                       min_child_weight=1, gamma=0, subsample=0.85, colsample_bytree=0.7,\n",
    "                       objective='reg:linear', nthread=4, scale_pos_weight=1, seed=0)\n",
    "xgr.fit(X_train, y_train)"
   ]
  },
  {
   "cell_type": "markdown",
   "metadata": {},
   "source": [
    "##### Test Set Performance"
   ]
  },
  {
   "cell_type": "code",
   "execution_count": 83,
   "metadata": {},
   "outputs": [
    {
     "name": "stdout",
     "output_type": "stream",
     "text": [
      "avg mean_absolute_error: 12848.090\n",
      "r2_score: 0.672\n"
     ]
    }
   ],
   "source": [
    "from sklearn.metrics import mean_absolute_error, r2_score\n",
    "y_test_pred = xgr.predict(X_test)\n",
    "mae = mean_absolute_error(y_test, y_test_pred)\n",
    "\n",
    "print(\"avg mean_absolute_error: %.3f\"%mae)\n",
    "print(\"r2_score: %.3f\"%r2_score(y_test, y_test_pred))"
   ]
  }
 ],
 "metadata": {
  "kernelspec": {
   "display_name": "Python 3",
   "language": "python",
   "name": "python3"
  },
  "language_info": {
   "codemirror_mode": {
    "name": "ipython",
    "version": 3
   },
   "file_extension": ".py",
   "mimetype": "text/x-python",
   "name": "python",
   "nbconvert_exporter": "python",
   "pygments_lexer": "ipython3",
   "version": "3.7.3"
  }
 },
 "nbformat": 4,
 "nbformat_minor": 2
}
