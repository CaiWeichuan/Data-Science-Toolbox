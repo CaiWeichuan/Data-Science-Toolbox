{
 "cells": [
  {
   "cell_type": "code",
   "execution_count": 1,
   "metadata": {},
   "outputs": [],
   "source": [
    "import numpy as np\n",
    "import pandas as pd\n",
    "import matplotlib.pyplot as plt\n",
    "from datetime import datetime\n",
    "import seaborn as sns"
   ]
  },
  {
   "cell_type": "markdown",
   "metadata": {},
   "source": [
    "#### Load Dataset"
   ]
  },
  {
   "cell_type": "code",
   "execution_count": 2,
   "metadata": {},
   "outputs": [],
   "source": [
    "df = pd.read_csv(\"datasets/data_perm_take_home.csv\", encoding=\"ISO-8859-1\")"
   ]
  },
  {
   "cell_type": "code",
   "execution_count": 3,
   "metadata": {},
   "outputs": [],
   "source": [
    "def map_date(date_str):\n",
    "    if type(date_str) != str:\n",
    "        return None\n",
    "    return datetime.strptime(date_str, \"%m/%d/%y\").date()\n",
    "\n",
    "df.case_received_date = df.case_received_date.apply(map_date)\n",
    "df.decision_date = df.decision_date.apply(map_date)"
   ]
  },
  {
   "cell_type": "code",
   "execution_count": 4,
   "metadata": {},
   "outputs": [
    {
     "data": {
      "text/html": [
       "<div>\n",
       "<style scoped>\n",
       "    .dataframe tbody tr th:only-of-type {\n",
       "        vertical-align: middle;\n",
       "    }\n",
       "\n",
       "    .dataframe tbody tr th {\n",
       "        vertical-align: top;\n",
       "    }\n",
       "\n",
       "    .dataframe thead th {\n",
       "        text-align: right;\n",
       "    }\n",
       "</style>\n",
       "<table border=\"1\" class=\"dataframe\">\n",
       "  <thead>\n",
       "    <tr style=\"text-align: right;\">\n",
       "      <th></th>\n",
       "      <th>case_number</th>\n",
       "      <th>case_received_date</th>\n",
       "      <th>decision_date</th>\n",
       "      <th>case_status</th>\n",
       "      <th>employer_name</th>\n",
       "      <th>employer_num_employees</th>\n",
       "      <th>employer_yr_established</th>\n",
       "      <th>job_education</th>\n",
       "      <th>job_experience_num_months</th>\n",
       "      <th>job_state</th>\n",
       "      <th>job_foreign_lang_req</th>\n",
       "      <th>job_level</th>\n",
       "      <th>employee_citizenship</th>\n",
       "      <th>wage_offer</th>\n",
       "      <th>wage_unit</th>\n",
       "    </tr>\n",
       "  </thead>\n",
       "  <tbody>\n",
       "    <tr>\n",
       "      <th>0</th>\n",
       "      <td>A-06191-36805</td>\n",
       "      <td>2014-12-22</td>\n",
       "      <td>2015-06-19</td>\n",
       "      <td>Certified</td>\n",
       "      <td>BRENTWOOD BIOMEDICAL RESEARCH INSTITUTE</td>\n",
       "      <td>149.0</td>\n",
       "      <td>1988.0</td>\n",
       "      <td>Bachelor's</td>\n",
       "      <td>NaN</td>\n",
       "      <td>CALIFORNIA</td>\n",
       "      <td>N</td>\n",
       "      <td>1.0</td>\n",
       "      <td>RUSSIA</td>\n",
       "      <td>30285.0</td>\n",
       "      <td>Year</td>\n",
       "    </tr>\n",
       "    <tr>\n",
       "      <th>1</th>\n",
       "      <td>A-07194-56311</td>\n",
       "      <td>2014-12-19</td>\n",
       "      <td>2015-06-19</td>\n",
       "      <td>Denied</td>\n",
       "      <td>WASHINGTON STATE UNIVERSITY</td>\n",
       "      <td>5600.0</td>\n",
       "      <td>1890.0</td>\n",
       "      <td>Doctorate</td>\n",
       "      <td>NaN</td>\n",
       "      <td>WASHINGTON</td>\n",
       "      <td>N</td>\n",
       "      <td>2.0</td>\n",
       "      <td>RUSSIA</td>\n",
       "      <td>150000.0</td>\n",
       "      <td>Year</td>\n",
       "    </tr>\n",
       "    <tr>\n",
       "      <th>2</th>\n",
       "      <td>A-07194-56513</td>\n",
       "      <td>2014-12-17</td>\n",
       "      <td>2015-06-19</td>\n",
       "      <td>Certified</td>\n",
       "      <td>WASHINGTON STATE UNIVERSITY</td>\n",
       "      <td>5600.0</td>\n",
       "      <td>1890.0</td>\n",
       "      <td>Doctorate</td>\n",
       "      <td>NaN</td>\n",
       "      <td>WASHINGTON</td>\n",
       "      <td>N</td>\n",
       "      <td>2.0</td>\n",
       "      <td>INDIA</td>\n",
       "      <td>125000.0</td>\n",
       "      <td>Year</td>\n",
       "    </tr>\n",
       "    <tr>\n",
       "      <th>3</th>\n",
       "      <td>A-07194-56514</td>\n",
       "      <td>2014-10-09</td>\n",
       "      <td>2015-03-03</td>\n",
       "      <td>Certified</td>\n",
       "      <td>WASHINGTON STATE UNIVERSITY</td>\n",
       "      <td>5600.0</td>\n",
       "      <td>1890.0</td>\n",
       "      <td>Doctorate</td>\n",
       "      <td>84.0</td>\n",
       "      <td>WASHINGTON</td>\n",
       "      <td>N</td>\n",
       "      <td>3.0</td>\n",
       "      <td>CANADA</td>\n",
       "      <td>105300.0</td>\n",
       "      <td>Year</td>\n",
       "    </tr>\n",
       "    <tr>\n",
       "      <th>4</th>\n",
       "      <td>A-07197-57029</td>\n",
       "      <td>2014-10-06</td>\n",
       "      <td>2015-03-03</td>\n",
       "      <td>Certified</td>\n",
       "      <td>WASHINGTON STATE UNIVERSITY</td>\n",
       "      <td>5600.0</td>\n",
       "      <td>1890.0</td>\n",
       "      <td>Doctorate</td>\n",
       "      <td>NaN</td>\n",
       "      <td>WASHINGTON</td>\n",
       "      <td>N</td>\n",
       "      <td>1.0</td>\n",
       "      <td>ARGENTINA</td>\n",
       "      <td>114285.0</td>\n",
       "      <td>Year</td>\n",
       "    </tr>\n",
       "  </tbody>\n",
       "</table>\n",
       "</div>"
      ],
      "text/plain": [
       "     case_number case_received_date decision_date case_status  \\\n",
       "0  A-06191-36805         2014-12-22    2015-06-19   Certified   \n",
       "1  A-07194-56311         2014-12-19    2015-06-19      Denied   \n",
       "2  A-07194-56513         2014-12-17    2015-06-19   Certified   \n",
       "3  A-07194-56514         2014-10-09    2015-03-03   Certified   \n",
       "4  A-07197-57029         2014-10-06    2015-03-03   Certified   \n",
       "\n",
       "                             employer_name  employer_num_employees  \\\n",
       "0  BRENTWOOD BIOMEDICAL RESEARCH INSTITUTE                   149.0   \n",
       "1              WASHINGTON STATE UNIVERSITY                  5600.0   \n",
       "2              WASHINGTON STATE UNIVERSITY                  5600.0   \n",
       "3              WASHINGTON STATE UNIVERSITY                  5600.0   \n",
       "4              WASHINGTON STATE UNIVERSITY                  5600.0   \n",
       "\n",
       "   employer_yr_established job_education  job_experience_num_months  \\\n",
       "0                   1988.0    Bachelor's                        NaN   \n",
       "1                   1890.0     Doctorate                        NaN   \n",
       "2                   1890.0     Doctorate                        NaN   \n",
       "3                   1890.0     Doctorate                       84.0   \n",
       "4                   1890.0     Doctorate                        NaN   \n",
       "\n",
       "    job_state job_foreign_lang_req  job_level employee_citizenship  \\\n",
       "0  CALIFORNIA                    N        1.0               RUSSIA   \n",
       "1  WASHINGTON                    N        2.0               RUSSIA   \n",
       "2  WASHINGTON                    N        2.0                INDIA   \n",
       "3  WASHINGTON                    N        3.0               CANADA   \n",
       "4  WASHINGTON                    N        1.0            ARGENTINA   \n",
       "\n",
       "   wage_offer wage_unit  \n",
       "0     30285.0      Year  \n",
       "1    150000.0      Year  \n",
       "2    125000.0      Year  \n",
       "3    105300.0      Year  \n",
       "4    114285.0      Year  "
      ]
     },
     "execution_count": 4,
     "metadata": {},
     "output_type": "execute_result"
    }
   ],
   "source": [
    "df.head()"
   ]
  },
  {
   "cell_type": "markdown",
   "metadata": {},
   "source": [
    "#### Load Database into MySQL Server"
   ]
  },
  {
   "cell_type": "code",
   "execution_count": 5,
   "metadata": {},
   "outputs": [],
   "source": [
    "from sqlalchemy import create_engine"
   ]
  },
  {
   "cell_type": "code",
   "execution_count": 6,
   "metadata": {},
   "outputs": [],
   "source": [
    "username = \"shaw\"\n",
    "password = \"1234\"\n",
    "port = 8888\n",
    "database = \"Case\"\n",
    "\n",
    "engine = create_engine('mysql+mysqldb://%s:%s@localhost:%i/%s'\n",
    "                       %(username, password, port, database))"
   ]
  },
  {
   "cell_type": "code",
   "execution_count": 7,
   "metadata": {},
   "outputs": [],
   "source": [
    "df.to_sql('Perm', engine, if_exists='replace')"
   ]
  },
  {
   "cell_type": "markdown",
   "metadata": {},
   "source": [
    "### Part I: Short Question\n",
    "__Q1__: Which employer has the most entries in the dataset?\n",
    "\n",
    "__Ans__: COGNIZANT TECHNOLOGY SOLUTIONS US CORPORATION"
   ]
  },
  {
   "cell_type": "code",
   "execution_count": 8,
   "metadata": {},
   "outputs": [
    {
     "data": {
      "text/html": [
       "<div>\n",
       "<style scoped>\n",
       "    .dataframe tbody tr th:only-of-type {\n",
       "        vertical-align: middle;\n",
       "    }\n",
       "\n",
       "    .dataframe tbody tr th {\n",
       "        vertical-align: top;\n",
       "    }\n",
       "\n",
       "    .dataframe thead th {\n",
       "        text-align: right;\n",
       "    }\n",
       "</style>\n",
       "<table border=\"1\" class=\"dataframe\">\n",
       "  <thead>\n",
       "    <tr style=\"text-align: right;\">\n",
       "      <th></th>\n",
       "      <th>employer_name</th>\n",
       "      <th>entry_count</th>\n",
       "    </tr>\n",
       "  </thead>\n",
       "  <tbody>\n",
       "    <tr>\n",
       "      <th>0</th>\n",
       "      <td>COGNIZANT TECHNOLOGY SOLUTIONS US CORPORATION</td>\n",
       "      <td>5441</td>\n",
       "    </tr>\n",
       "    <tr>\n",
       "      <th>1</th>\n",
       "      <td>INTEL CORPORATION</td>\n",
       "      <td>1611</td>\n",
       "    </tr>\n",
       "    <tr>\n",
       "      <th>2</th>\n",
       "      <td>CISCO SYSTEMS, INC.</td>\n",
       "      <td>1028</td>\n",
       "    </tr>\n",
       "    <tr>\n",
       "      <th>3</th>\n",
       "      <td>GOOGLE INC.</td>\n",
       "      <td>914</td>\n",
       "    </tr>\n",
       "    <tr>\n",
       "      <th>4</th>\n",
       "      <td>QUALCOMM TECHNOLOGIES INC.</td>\n",
       "      <td>862</td>\n",
       "    </tr>\n",
       "  </tbody>\n",
       "</table>\n",
       "</div>"
      ],
      "text/plain": [
       "                                   employer_name  entry_count\n",
       "0  COGNIZANT TECHNOLOGY SOLUTIONS US CORPORATION         5441\n",
       "1                              INTEL CORPORATION         1611\n",
       "2                            CISCO SYSTEMS, INC.         1028\n",
       "3                                    GOOGLE INC.          914\n",
       "4                     QUALCOMM TECHNOLOGIES INC.          862"
      ]
     },
     "execution_count": 8,
     "metadata": {},
     "output_type": "execute_result"
    }
   ],
   "source": [
    "sql = \"\"\"\n",
    "SELECT employer_name, COUNT(*) entry_count \n",
    "FROM Perm \n",
    "GROUP BY employer_name \n",
    "ORDER BY entry_count \n",
    "DESC LIMIT 5;\n",
    "\"\"\"\n",
    "pd.read_sql_query(sql.replace('\\n', \" \").replace(\"\\t\", \" \"), engine)"
   ]
  },
  {
   "cell_type": "markdown",
   "metadata": {},
   "source": [
    "__Q2__: Which employer has the most “Certified-Expired” cases?\n",
    "\n",
    "__Ans__: MICROSOFT CORPORATION"
   ]
  },
  {
   "cell_type": "code",
   "execution_count": 9,
   "metadata": {},
   "outputs": [
    {
     "data": {
      "text/html": [
       "<div>\n",
       "<style scoped>\n",
       "    .dataframe tbody tr th:only-of-type {\n",
       "        vertical-align: middle;\n",
       "    }\n",
       "\n",
       "    .dataframe tbody tr th {\n",
       "        vertical-align: top;\n",
       "    }\n",
       "\n",
       "    .dataframe thead th {\n",
       "        text-align: right;\n",
       "    }\n",
       "</style>\n",
       "<table border=\"1\" class=\"dataframe\">\n",
       "  <thead>\n",
       "    <tr style=\"text-align: right;\">\n",
       "      <th></th>\n",
       "      <th>employer_name</th>\n",
       "      <th>cert_expired_count</th>\n",
       "    </tr>\n",
       "  </thead>\n",
       "  <tbody>\n",
       "    <tr>\n",
       "      <th>0</th>\n",
       "      <td>MICROSOFT CORPORATION</td>\n",
       "      <td>521</td>\n",
       "    </tr>\n",
       "    <tr>\n",
       "      <th>1</th>\n",
       "      <td>CISCO SYSTEMS, INC.</td>\n",
       "      <td>398</td>\n",
       "    </tr>\n",
       "    <tr>\n",
       "      <th>2</th>\n",
       "      <td>QUALCOMM TECHNOLOGIES INC.</td>\n",
       "      <td>269</td>\n",
       "    </tr>\n",
       "    <tr>\n",
       "      <th>3</th>\n",
       "      <td>GOOGLE INC.</td>\n",
       "      <td>253</td>\n",
       "    </tr>\n",
       "    <tr>\n",
       "      <th>4</th>\n",
       "      <td>AMAZON CORPORATE LLC</td>\n",
       "      <td>231</td>\n",
       "    </tr>\n",
       "  </tbody>\n",
       "</table>\n",
       "</div>"
      ],
      "text/plain": [
       "                employer_name  cert_expired_count\n",
       "0       MICROSOFT CORPORATION                 521\n",
       "1         CISCO SYSTEMS, INC.                 398\n",
       "2  QUALCOMM TECHNOLOGIES INC.                 269\n",
       "3                 GOOGLE INC.                 253\n",
       "4        AMAZON CORPORATE LLC                 231"
      ]
     },
     "execution_count": 9,
     "metadata": {},
     "output_type": "execute_result"
    }
   ],
   "source": [
    "sql = \"\"\"\n",
    "SELECT employer_name, COUNT(*) AS cert_expired_count \n",
    "FROM Perm \n",
    "WHERE case_status = \"Certified-Expired\"\n",
    "GROUP BY employer_name \n",
    "ORDER BY cert_expired_count \n",
    "DESC LIMIT 5;\n",
    "\"\"\"\n",
    "pd.read_sql_query(sql.replace('\\n', \" \").replace(\"\\t\", \" \"), engine)"
   ]
  },
  {
   "cell_type": "markdown",
   "metadata": {},
   "source": [
    "__Q3__: How many unique employers contain the character string \"APPLE\" that is not \"APPLE INC.\"?\n",
    "\n",
    "__Ans__: 7"
   ]
  },
  {
   "cell_type": "code",
   "execution_count": 10,
   "metadata": {},
   "outputs": [
    {
     "name": "stdout",
     "output_type": "stream",
     "text": [
      "Number of unique employers contain the character string APPLE that is not APPLE INC: 7\n"
     ]
    },
    {
     "data": {
      "text/html": [
       "<div>\n",
       "<style scoped>\n",
       "    .dataframe tbody tr th:only-of-type {\n",
       "        vertical-align: middle;\n",
       "    }\n",
       "\n",
       "    .dataframe tbody tr th {\n",
       "        vertical-align: top;\n",
       "    }\n",
       "\n",
       "    .dataframe thead th {\n",
       "        text-align: right;\n",
       "    }\n",
       "</style>\n",
       "<table border=\"1\" class=\"dataframe\">\n",
       "  <thead>\n",
       "    <tr style=\"text-align: right;\">\n",
       "      <th></th>\n",
       "      <th>employer_name</th>\n",
       "    </tr>\n",
       "  </thead>\n",
       "  <tbody>\n",
       "    <tr>\n",
       "      <th>0</th>\n",
       "      <td>APPLETREE EARLY LEARNING PUBLIC CHARTER SCHOOLS</td>\n",
       "    </tr>\n",
       "    <tr>\n",
       "      <th>1</th>\n",
       "      <td>APPLEXUS TECHNOLOGIES LLC</td>\n",
       "    </tr>\n",
       "    <tr>\n",
       "      <th>2</th>\n",
       "      <td>APPLETON GRP LLC</td>\n",
       "    </tr>\n",
       "    <tr>\n",
       "      <th>3</th>\n",
       "      <td>APPLE EDUCATIONAL SERVICES</td>\n",
       "    </tr>\n",
       "    <tr>\n",
       "      <th>4</th>\n",
       "      <td>BIG APPLE EDUCATION CENTER INC.</td>\n",
       "    </tr>\n",
       "    <tr>\n",
       "      <th>5</th>\n",
       "      <td>APPLE FEDERAL CREDIT UNION</td>\n",
       "    </tr>\n",
       "    <tr>\n",
       "      <th>6</th>\n",
       "      <td>apple seeds LLC</td>\n",
       "    </tr>\n",
       "  </tbody>\n",
       "</table>\n",
       "</div>"
      ],
      "text/plain": [
       "                                     employer_name\n",
       "0  APPLETREE EARLY LEARNING PUBLIC CHARTER SCHOOLS\n",
       "1                        APPLEXUS TECHNOLOGIES LLC\n",
       "2                                 APPLETON GRP LLC\n",
       "3                       APPLE EDUCATIONAL SERVICES\n",
       "4                  BIG APPLE EDUCATION CENTER INC.\n",
       "5                       APPLE FEDERAL CREDIT UNION\n",
       "6                                  apple seeds LLC"
      ]
     },
     "execution_count": 10,
     "metadata": {},
     "output_type": "execute_result"
    }
   ],
   "source": [
    "sql = \"\"\"\n",
    "SELECT DISTINCT employer_name\n",
    "FROM Perm\n",
    "WHERE employer_name LIKE \"%%APPLE%%\" \n",
    "  AND employer_name != \"APPLE INC.\";\n",
    "\"\"\"\n",
    "df_q3 = pd.read_sql_query(sql.replace('\\n', \" \").replace(\"\\t\", \" \"), engine)\n",
    "print(\"Number of unique employers contain the character string APPLE that is not APPLE INC: %i\"%len(df_q3))\n",
    "df_q3"
   ]
  },
  {
   "cell_type": "markdown",
   "metadata": {},
   "source": [
    "__Q4__: Write a function that plots a histogram with 50 bins of the duration between from case_received_date\n",
    "to decision_date for any given employeer_name. Use the function to plot for \"APPLE INC.\" and \"GOOGLE INC.\""
   ]
  },
  {
   "cell_type": "code",
   "execution_count": 11,
   "metadata": {},
   "outputs": [],
   "source": [
    "def plot_processing_time_for_company(employer_name):\n",
    "    sql = \"\"\"\n",
    "    SELECT \n",
    "      decision_date\n",
    "      ,case_received_date\n",
    "      ,DATEDIFF(decision_date, case_received_date) AS duration\n",
    "    FROM Perm \n",
    "    WHERE employer_name = \"%s\";\n",
    "    \"\"\"%employer_name\n",
    "    \n",
    "    df_duration = pd.read_sql_query(sql.replace('\\n', \" \").replace(\"\\t\", \" \"), engine)\n",
    "    \n",
    "    plt.hist(df_duration.duration, bins=50)\n",
    "    plt.xlabel(\"days between received and decision\")\n",
    "    plt.ylabel(\"frequency\")\n",
    "    plt.title(employer_name)\n",
    "    plt.show()"
   ]
  },
  {
   "cell_type": "code",
   "execution_count": 12,
   "metadata": {},
   "outputs": [
    {
     "data": {
      "image/png": "[encoded data removed]",
      "text/plain": [
       "<Figure size 432x288 with 1 Axes>"
      ]
     },
     "metadata": {
      "needs_background": "light"
     },
     "output_type": "display_data"
    }
   ],
   "source": [
    "plot_processing_time_for_company(\"APPLE INC.\")"
   ]
  },
  {
   "cell_type": "code",
   "execution_count": 13,
   "metadata": {},
   "outputs": [
    {
     "data": {
      "image/png": "[encoded data removed]",
      "text/plain": [
       "<Figure size 432x288 with 1 Axes>"
      ]
     },
     "metadata": {
      "needs_background": "light"
     },
     "output_type": "display_data"
    }
   ],
   "source": [
    "plot_processing_time_for_company(\"GOOGLE INC.\")"
   ]
  }
 ],
 "metadata": {
  "kernelspec": {
   "display_name": "Python 3",
   "language": "python",
   "name": "python3"
  },
  "language_info": {
   "codemirror_mode": {
    "name": "ipython",
    "version": 3
   },
   "file_extension": ".py",
   "mimetype": "text/x-python",
   "name": "python",
   "nbconvert_exporter": "python",
   "pygments_lexer": "ipython3",
   "version": "3.7.3"
  }
 },
 "nbformat": 4,
 "nbformat_minor": 2
}
