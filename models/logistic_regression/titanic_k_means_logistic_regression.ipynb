{
 "cells": [
  {
   "cell_type": "code",
   "execution_count": 1,
   "metadata": {},
   "outputs": [],
   "source": [
    "# -*- coding: utf-8 -*-\n",
    "\"\"\"\n",
    "Created on Mon Sep 19 11:45:20 2016\n",
    "\n",
    "@author: johnguttag\n",
    "\"\"\"\n",
    "import pylab, random\n",
    "import warnings\n",
    "warnings.filterwarnings(\"ignore\")"
   ]
  },
  {
   "cell_type": "markdown",
   "metadata": {},
   "source": [
    "### Load Data"
   ]
  },
  {
   "cell_type": "code",
   "execution_count": 2,
   "metadata": {},
   "outputs": [],
   "source": [
    "class Passenger(object):\n",
    "    featureNames = ('C1', 'C2', 'C3', 'age', 'male gender')\n",
    "    def __init__(self, pClass, age, gender, survived, name):\n",
    "        self.name = name\n",
    "        self.featureVec = [0, 0, 0, age, gender]\n",
    "        self.featureVec[pClass - 1] = 1\n",
    "        self.label = survived\n",
    "        self.cabinClass = pClass\n",
    "    def distance(self, other):\n",
    "        return minkowskiDist(self.featureVec, other.featureVec, 2)\n",
    "    def getClass(self):\n",
    "        return self.cabinClass\n",
    "    def getAge(self):\n",
    "        return self.featureVec[3]\n",
    "    def getGender(self):\n",
    "        return self.featureVec[4]\n",
    "    def getName(self):\n",
    "        return self.name\n",
    "    def getFeatures(self):\n",
    "        return self.featureVec[:]\n",
    "    def getLabel(self):\n",
    "        return self.label"
   ]
  },
  {
   "cell_type": "code",
   "execution_count": 3,
   "metadata": {},
   "outputs": [],
   "source": [
    "def getTitanicData(fname):\n",
    "    data = {}\n",
    "    data['class'], data['survived'], data['age'] = [], [], []\n",
    "    data['gender'], data['name'] = [], []\n",
    "    f = open(fname)\n",
    "    line = f.readline()\n",
    "    while line != '':\n",
    "        split = line.split(',')\n",
    "        data['class'].append(int(split[0]))\n",
    "        data['age'].append(float(split[1]))\n",
    "        if split[2] == 'M':\n",
    "            data['gender'].append(1)\n",
    "        else:\n",
    "            data['gender'].append(0)\n",
    "        if split[3] == '1':\n",
    "            data['survived'].append('Survived')\n",
    "        else:\n",
    "            data['survived'].append('Died')\n",
    "        data['name'].append(split[4:])\n",
    "        line = f.readline()\n",
    "    return data"
   ]
  },
  {
   "cell_type": "code",
   "execution_count": 4,
   "metadata": {},
   "outputs": [
    {
     "name": "stdout",
     "output_type": "stream",
     "text": [
      "Finishe processing 1046 passengers\n",
      "\n"
     ]
    }
   ],
   "source": [
    "def buildTitanicExamples(fileName):\n",
    "    data = getTitanicData(fileName)\n",
    "    examples = []\n",
    "    for i in range(len(data['class'])):\n",
    "        p = Passenger(data['class'][i], data['age'][i],\n",
    "                      data['gender'][i], data['survived'][i],\n",
    "                      data['name'][i])\n",
    "        examples.append(p)\n",
    "    print('Finishe processing', len(examples), 'passengers\\n')    \n",
    "    return examples\n",
    "    \n",
    "examples = buildTitanicExamples('TitanicPassengers.txt')"
   ]
  },
  {
   "cell_type": "markdown",
   "metadata": {},
   "source": [
    "### K-means"
   ]
  },
  {
   "cell_type": "code",
   "execution_count": 5,
   "metadata": {},
   "outputs": [],
   "source": [
    "def minkowskiDist(v1, v2, p):\n",
    "    \"\"\"Assumes v1 and v2 are equal-length arrays of numbers\n",
    "       Returns Minkowski distance of order p between v1 and v2\"\"\"\n",
    "    dist = 0.0\n",
    "    for i in range(len(v1)):\n",
    "        dist += abs(v1[i] - v2[i])**p\n",
    "    return dist**(1/p)"
   ]
  },
  {
   "cell_type": "code",
   "execution_count": 6,
   "metadata": {},
   "outputs": [],
   "source": [
    "def findNearest(name, exampleSet, metric):\n",
    "    for e in exampleSet:\n",
    "        if e.getName() == name:\n",
    "            example = e\n",
    "            break\n",
    "    curDist = None\n",
    "    for e in exampleSet:\n",
    "        if e.getName() != name:\n",
    "            if curDist == None or\\\n",
    "               metric(example, e) < curDist:\n",
    "                nearest = e\n",
    "                curDist = metric(example, nearest)\n",
    "    return nearest"
   ]
  },
  {
   "cell_type": "code",
   "execution_count": 7,
   "metadata": {},
   "outputs": [],
   "source": [
    "def accuracy(truePos, falsePos, trueNeg, falseNeg):\n",
    "    numerator = truePos + trueNeg\n",
    "    denominator = truePos + trueNeg + falsePos + falseNeg\n",
    "    return numerator/denominator\n",
    "\n",
    "def sensitivity(truePos, falseNeg):\n",
    "    try:\n",
    "        return truePos/(truePos + falseNeg)\n",
    "    except ZeroDivisionError:\n",
    "        return float('nan')\n",
    "    \n",
    "def specificity(trueNeg, falsePos):\n",
    "    try:\n",
    "        return trueNeg/(trueNeg + falsePos)\n",
    "    except ZeroDivisionError:\n",
    "        return float('nan')\n",
    "    \n",
    "def posPredVal(truePos, falsePos):\n",
    "    try:\n",
    "        return truePos/(truePos + falsePos)\n",
    "    except ZeroDivisionError:\n",
    "        return float('nan')\n",
    "    \n",
    "def negPredVal(trueNeg, falseNeg):\n",
    "    try:\n",
    "        return trueNeg/(trueNeg + falseNeg)\n",
    "    except ZeroDivisionError:\n",
    "        return float('nan')"
   ]
  },
  {
   "cell_type": "code",
   "execution_count": 8,
   "metadata": {},
   "outputs": [],
   "source": [
    "def getStats(truePos, falsePos, trueNeg, falseNeg, toPrint = True):\n",
    "    accur = accuracy(truePos, falsePos, trueNeg, falseNeg)\n",
    "    sens = sensitivity(truePos, falseNeg)\n",
    "    spec = specificity(trueNeg, falsePos)\n",
    "    ppv = posPredVal(truePos, falsePos)\n",
    "    if toPrint:\n",
    "        print(' Accuracy =', round(accur, 3))\n",
    "        print(' Sensitivity =', round(sens, 3))\n",
    "        print(' Specificity =', round(spec, 3))\n",
    "        print(' Pos. Pred. Val. =', round(ppv, 3))\n",
    "    return (accur, sens, spec, ppv)"
   ]
  },
  {
   "cell_type": "code",
   "execution_count": 9,
   "metadata": {},
   "outputs": [],
   "source": [
    "def findKNearest(example, exampleSet, k):\n",
    "    kNearest, distances = [], []\n",
    "    #Build lists containing first k examples and their distances\n",
    "    for i in range(k):\n",
    "        kNearest.append(exampleSet[i])\n",
    "        distances.append(example.distance(exampleSet[i]))\n",
    "    maxDist = max(distances) #Get maximum distance\n",
    "    #Look at examples not yet considered\n",
    "    for e in exampleSet[k:]:\n",
    "        dist = example.distance(e)\n",
    "        if dist < maxDist:\n",
    "            #replace farther neighbor by this one\n",
    "            maxIndex = distances.index(maxDist)\n",
    "            kNearest[maxIndex] = e\n",
    "            distances[maxIndex] = dist\n",
    "            maxDist = max(distances)      \n",
    "    return kNearest, distances"
   ]
  },
  {
   "cell_type": "code",
   "execution_count": 10,
   "metadata": {},
   "outputs": [],
   "source": [
    "def KNearestClassify(training, testSet, label, k):\n",
    "    \"\"\"Assumes training & testSet lists of examples, k an int\n",
    "       Predicts whether each example in testSet has label\n",
    "       Returns number of true positives, false positives,\n",
    "          true negatives, and false negatives\"\"\"\n",
    "    truePos, falsePos, trueNeg, falseNeg = 0, 0, 0, 0\n",
    "    for testCase in testSet:\n",
    "        nearest, distances = findKNearest(testCase, training, k)\n",
    "        #conduct vote\n",
    "        numMatch = 0\n",
    "        for i in range(len(nearest)):\n",
    "            if nearest[i].getLabel() == label:\n",
    "                numMatch += 1\n",
    "        if numMatch > k//2: #guess label\n",
    "            if testCase.getLabel() == label:\n",
    "                truePos += 1\n",
    "            else:\n",
    "                falsePos += 1\n",
    "        else: #guess not label\n",
    "            if testCase.getLabel() != label:\n",
    "                trueNeg += 1\n",
    "            else:\n",
    "                falseNeg += 1\n",
    "    return truePos, falsePos, trueNeg, falseNeg"
   ]
  },
  {
   "cell_type": "code",
   "execution_count": 11,
   "metadata": {},
   "outputs": [],
   "source": [
    "def leaveOneOut(examples, method, toPrint = True):\n",
    "    truePos, falsePos, trueNeg, falseNeg = 0, 0, 0, 0\n",
    "    for i in range(len(examples)):\n",
    "        testCase = examples[i]\n",
    "        trainingData = examples[0:i] + examples[i+1:]\n",
    "        results = method(trainingData, [testCase])\n",
    "        truePos += results[0]\n",
    "        falsePos += results[1]\n",
    "        trueNeg += results[2]\n",
    "        falseNeg += results[3]\n",
    "    if toPrint:\n",
    "        getStats(truePos, falsePos, trueNeg, falseNeg)\n",
    "    return truePos, falsePos, trueNeg, falseNeg"
   ]
  },
  {
   "cell_type": "code",
   "execution_count": 12,
   "metadata": {},
   "outputs": [],
   "source": [
    "def split80_20(examples):\n",
    "    sampleIndices = random.sample(range(len(examples)),\n",
    "                                  len(examples)//5)\n",
    "    trainingSet, testSet = [], []\n",
    "    for i in range(len(examples)):\n",
    "        if i in sampleIndices:\n",
    "            testSet.append(examples[i])\n",
    "        else:\n",
    "            trainingSet.append(examples[i])\n",
    "    return trainingSet, testSet"
   ]
  },
  {
   "cell_type": "code",
   "execution_count": 13,
   "metadata": {},
   "outputs": [],
   "source": [
    "def randomSplits(examples, method, numSplits, toPrint = True):\n",
    "    truePos, falsePos, trueNeg, falseNeg = 0, 0, 0, 0\n",
    "    random.seed(0)\n",
    "    for t in range(numSplits):\n",
    "        trainingSet, testSet = split80_20(examples)\n",
    "        results = method(trainingSet, testSet)\n",
    "        truePos += results[0]\n",
    "        falsePos += results[1]\n",
    "        trueNeg += results[2]\n",
    "        falseNeg += results[3]\n",
    "    getStats(truePos/numSplits, falsePos/numSplits,\n",
    "             trueNeg/numSplits, falseNeg/numSplits, toPrint)\n",
    "    return truePos/numSplits, falsePos/numSplits,\\\n",
    "             trueNeg/numSplits, falseNeg/numSplits"
   ]
  },
  {
   "cell_type": "code",
   "execution_count": 14,
   "metadata": {},
   "outputs": [],
   "source": [
    "knn = lambda training, testSet:\\\n",
    "             KNearestClassify(training, testSet,\n",
    "                              'Survived', 3)"
   ]
  },
  {
   "cell_type": "code",
   "execution_count": 15,
   "metadata": {},
   "outputs": [
    {
     "name": "stdout",
     "output_type": "stream",
     "text": [
      "Average of 10 80/20 splits using KNN (k=3)\n",
      " Accuracy = 0.766\n",
      " Sensitivity = 0.67\n",
      " Specificity = 0.836\n",
      " Pos. Pred. Val. = 0.747\n",
      "Average of LOO testing using KNN (k=3)\n",
      " Accuracy = 0.769\n",
      " Sensitivity = 0.663\n",
      " Specificity = 0.842\n",
      " Pos. Pred. Val. = 0.743\n"
     ]
    }
   ],
   "source": [
    "numSplits = 10\n",
    "print('Average of', numSplits,\n",
    "     '80/20 splits using KNN (k=3)')\n",
    "truePos, falsePos, trueNeg, falseNeg =\\\n",
    "     randomSplits(examples, knn, numSplits)\n",
    "\n",
    "print('Average of LOO testing using KNN (k=3)')\n",
    "truePos, falsePos, trueNeg, falseNeg =\\\n",
    "     leaveOneOut(examples, knn)"
   ]
  },
  {
   "cell_type": "markdown",
   "metadata": {},
   "source": [
    "### Logistic Regression"
   ]
  },
  {
   "cell_type": "code",
   "execution_count": 16,
   "metadata": {},
   "outputs": [],
   "source": [
    "import sklearn.linear_model\n",
    "\n",
    "def buildModel(examples, toPrint = True):\n",
    "    featureVecs, labels = [],[]\n",
    "    for e in examples:\n",
    "        featureVecs.append(e.getFeatures())\n",
    "        labels.append(e.getLabel())\n",
    "    LogisticRegression = sklearn.linear_model.LogisticRegression\n",
    "    model = LogisticRegression().fit(featureVecs, labels)\n",
    "    if toPrint:\n",
    "        print('model.classes_ =', model.classes_)\n",
    "        for i in range(len(model.coef_)):\n",
    "            print('For label', model.classes_[1])\n",
    "            for j in range(len(model.coef_[0])):\n",
    "                print('   ', Passenger.featureNames[j], '=',\n",
    "                      model.coef_[0][j])\n",
    "    return model"
   ]
  },
  {
   "cell_type": "code",
   "execution_count": 17,
   "metadata": {},
   "outputs": [],
   "source": [
    "def applyModel(model, testSet, label, prob = 0.5):\n",
    "    testFeatureVecs = [e.getFeatures() for e in testSet]\n",
    "    probs = model.predict_proba(testFeatureVecs)\n",
    "    truePos, falsePos, trueNeg, falseNeg = 0, 0, 0, 0\n",
    "    for i in range(len(probs)):\n",
    "        if probs[i][1] > prob:\n",
    "            if testSet[i].getLabel() == label:\n",
    "                truePos += 1\n",
    "            else:\n",
    "                falsePos += 1\n",
    "        else:\n",
    "            if testSet[i].getLabel() != label:\n",
    "                trueNeg += 1\n",
    "            else:\n",
    "                falseNeg += 1\n",
    "    return truePos, falsePos, trueNeg, falseNeg"
   ]
  },
  {
   "cell_type": "code",
   "execution_count": 18,
   "metadata": {},
   "outputs": [],
   "source": [
    "def lr(trainingData, testData, prob = 0.5):\n",
    "    model = buildModel(trainingData, False)\n",
    "    results = applyModel(model, testData, 'Survived', prob)\n",
    "    return results"
   ]
  },
  {
   "cell_type": "markdown",
   "metadata": {},
   "source": [
    "### Compare Models"
   ]
  },
  {
   "cell_type": "code",
   "execution_count": 19,
   "metadata": {},
   "outputs": [
    {
     "name": "stdout",
     "output_type": "stream",
     "text": [
      "Average of 10 80/20 splits LR\n",
      " Accuracy = 0.771\n",
      " Sensitivity = 0.697\n",
      " Specificity = 0.824\n",
      " Pos. Pred. Val. = 0.742\n"
     ]
    }
   ],
   "source": [
    "random.seed(0)\n",
    "numSplits = 10\n",
    "print('Average of', numSplits, '80/20 splits LR')\n",
    "truePos, falsePos, trueNeg, falseNeg =\\\n",
    "     randomSplits(examples, lr, numSplits)"
   ]
  },
  {
   "cell_type": "code",
   "execution_count": 20,
   "metadata": {},
   "outputs": [
    {
     "name": "stdout",
     "output_type": "stream",
     "text": [
      "Average of LOO testing using LR\n",
      " Accuracy = 0.786\n",
      " Sensitivity = 0.705\n",
      " Specificity = 0.842\n",
      " Pos. Pred. Val. = 0.754\n"
     ]
    }
   ],
   "source": [
    "print('Average of LOO testing using LR')\n",
    "truePos, falsePos, trueNeg, falseNeg =\\\n",
    "     leaveOneOut(examples, lr)"
   ]
  },
  {
   "cell_type": "code",
   "execution_count": 21,
   "metadata": {},
   "outputs": [
    {
     "name": "stdout",
     "output_type": "stream",
     "text": [
      "model.classes_ = ['Died' 'Survived']\n",
      "For label Survived\n",
      "    C1 = 1.6321672452905749\n",
      "    C2 = 0.45044590123694506\n",
      "    C3 = -0.5247679152533428\n",
      "    age = -0.03218073708252884\n",
      "    male gender = -2.2993057694738526\n"
     ]
    }
   ],
   "source": [
    "#Look at weights\n",
    "trainingSet, testSet = split80_20(examples)\n",
    "model = buildModel(trainingSet, True)"
   ]
  },
  {
   "cell_type": "code",
   "execution_count": 22,
   "metadata": {},
   "outputs": [
    {
     "name": "stdout",
     "output_type": "stream",
     "text": [
      "Try p = 0.1\n",
      " Accuracy = 0.493\n",
      " Sensitivity = 0.976\n",
      " Specificity = 0.161\n",
      " Pos. Pred. Val. = 0.444\n",
      "Try p = 0.9\n",
      " Accuracy = 0.656\n",
      " Sensitivity = 0.176\n",
      " Specificity = 0.984\n",
      " Pos. Pred. Val. = 0.882\n"
     ]
    },
    {
     "data": {
      "text/plain": [
       "(0.6555023923444976,\n",
       " 0.17647058823529413,\n",
       " 0.9838709677419355,\n",
       " 0.8823529411764706)"
      ]
     },
     "execution_count": 22,
     "metadata": {},
     "output_type": "execute_result"
    }
   ],
   "source": [
    "#Look at changing prob\n",
    "random.seed(0)\n",
    "trainingSet, testSet = split80_20(examples)\n",
    "model = buildModel(trainingSet, False)\n",
    "print('Try p = 0.1')\n",
    "truePos, falsePos, trueNeg, falseNeg =\\\n",
    "                  applyModel(model, testSet, 'Survived', 0.1)\n",
    "getStats(truePos, falsePos, trueNeg, falseNeg)\n",
    "print('Try p = 0.9')\n",
    "truePos, falsePos, trueNeg, falseNeg =\\\n",
    "                  applyModel(model, testSet, 'Survived', 0.9)\n",
    "getStats(truePos, falsePos, trueNeg, falseNeg)"
   ]
  },
  {
   "cell_type": "code",
   "execution_count": 23,
   "metadata": {},
   "outputs": [],
   "source": [
    "def buildROC(trainingSet, testSet, title, plot = True):\n",
    "    model = buildModel(trainingSet, True)\n",
    "    xVals, yVals = [], []\n",
    "    p = 0.0\n",
    "    while p <= 1.0:\n",
    "        truePos, falsePos, trueNeg, falseNeg =\\\n",
    "                               applyModel(model, testSet,\n",
    "                               'Survived', p)\n",
    "        xVals.append(1.0 - specificity(trueNeg, falsePos))\n",
    "        yVals.append(sensitivity(truePos, falseNeg))\n",
    "        p += 0.01\n",
    "    auroc = sklearn.metrics.auc(xVals, yVals, True)\n",
    "    if plot:\n",
    "        pylab.plot(xVals, yVals)\n",
    "        pylab.plot([0,1], [0,1])\n",
    "        title = title + '\\nAUROC = ' + str(round(auroc,3))\n",
    "        pylab.title(title)\n",
    "        pylab.xlabel('1 - specificity')\n",
    "        pylab.ylabel('Sensitivity')\n",
    "    return auroc"
   ]
  },
  {
   "cell_type": "code",
   "execution_count": 24,
   "metadata": {},
   "outputs": [
    {
     "name": "stdout",
     "output_type": "stream",
     "text": [
      "model.classes_ = ['Died' 'Survived']\n",
      "For label Survived\n",
      "    C1 = 1.8185100010800737\n",
      "    C2 = 0.3663871305443352\n",
      "    C3 = -0.4817747830201896\n",
      "    age = -0.036673848200313414\n",
      "    male gender = -2.2656449739008497\n"
     ]
    },
    {
     "name": "stderr",
     "output_type": "stream",
     "text": [
      "/Users/shawlu/anaconda3/envs/fb/lib/python3.7/site-packages/sklearn/metrics/ranking.py:104: DeprecationWarning: The 'reorder' parameter has been deprecated in version 0.20 and will be removed in 0.22. It is recommended not to set 'reorder' and ensure that x is monotonic increasing or monotonic decreasing.\n",
      "  DeprecationWarning)\n"
     ]
    },
    {
     "data": {
      "text/plain": [
       "0.8611480075901328"
      ]
     },
     "execution_count": 24,
     "metadata": {},
     "output_type": "execute_result"
    },
    {
     "data": {
      "image/png": "[encoded data removed]",
      "text/plain": [
       "<Figure size 432x288 with 1 Axes>"
      ]
     },
     "metadata": {
      "needs_background": "light"
     },
     "output_type": "display_data"
    }
   ],
   "source": [
    "random.seed(0)\n",
    "trainingSet, testSet = split80_20(examples)\n",
    "buildROC(trainingSet, testSet, 'ROC for Predicting Survival, 1 Split')"
   ]
  }
 ],
 "metadata": {
  "kernelspec": {
   "display_name": "Python 3",
   "language": "python",
   "name": "python3"
  },
  "language_info": {
   "codemirror_mode": {
    "name": "ipython",
    "version": 3
   },
   "file_extension": ".py",
   "mimetype": "text/x-python",
   "name": "python",
   "nbconvert_exporter": "python",
   "pygments_lexer": "ipython3",
   "version": "3.7.3"
  }
 },
 "nbformat": 4,
 "nbformat_minor": 2
}
